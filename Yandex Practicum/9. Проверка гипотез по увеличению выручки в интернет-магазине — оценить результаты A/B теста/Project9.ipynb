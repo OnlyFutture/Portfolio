{
 "cells": [
  {
   "cell_type": "markdown",
   "metadata": {},
   "source": [
    "<div style=\"border:solid Chocolate 2px; padding: 40px\">\n",
    "\n",
    "<b> Павел, привет!👋</b>\n",
    "\n",
    "Меня зовут Алексей Гриб, и я буду ревьюером твоего проекта. \n",
    "\n",
    "Сразу хочу предложить в дальнейшем общаться на \"ты\" - надеюсь, так будет комфортнее:) Но если это неудобно, обязательно дай знать, и мы придумаем что-нибудь ещё!\n",
    "    \n",
    "Цель ревью - не искать ошибки в твоём проекте, а помочь тебе сделать твою работу ещё лучше, устранив недочёты и приблизив её к реальным задачам аналитика. Поэтому не расстраивайся, если что-то не получилось с первого раза - это нормально, и это поможет тебе вырасти!\n",
    "    \n",
    "Ты можешь найти мои комментарии, обозначенные <font color='green'>зеленым</font>, <font color='gold'>желтым</font> и <font color='red'>красным</font> цветами, например:\n",
    "\n",
    "<br/>\n",
    "\n",
    "<div class=\"alert alert-success\">\n",
    "<h2> Комментарий ревьюера <a class=\"tocSkip\"> </h2>\n",
    "\n",
    "<b>Все отлично!👍:</b> похвала, рекомендации «со звёздочкой», полезные лайфхаки, которые сделают и без того красивое решение ещё более элегантным.\n",
    "</div>\n",
    "\n",
    "<br/>\n",
    "\n",
    "<div class=\"alert alert-warning\">\n",
    "    <h2> Комментарий ревьюера <a class=\"tocSkip\"> </h2>\n",
    "    \n",
    "<b>Некоторые замечания и рекомендации⚠️:</b> некритичные ошибки или развивающие рекомендации на будущее. \n",
    "</div>\n",
    "\n",
    "\n",
    "<br/>\n",
    "<div class=\"alert alert-block alert-danger\">\n",
    "<h2> Комментарий ревьюера <a class=\"tocSkip\"></h2>\n",
    "\n",
    "    \n",
    "<b>На доработку❌:</b>\n",
    "Критичные ошибки, которые обязательно нужно исправить.\n",
    "</div>\n",
    "\n",
    "Я не смогу принять проект, если в нём будет хотя бы одна критичная ошибка или несколько некритичных ошибок - тогда проект нужно будет немного доработать. Но это нестрашно - я обязательно дам тебе подсказку или укажу верное направление.\n",
    "    \n",
    "Пожалуйста, не удаляй мои комментарии, они будут особенно полезны для нашей работы в случае повторной проверки проекта. \n",
    "    \n",
    "Ты также можешь задавать свои вопросы, реагировать на мои комментарии, делать пометки и пояснения - полная творческая свобода! Но маленькая просьба - пускай они будут отличаться от моих комментариев, это поможет избежать путаницы в нашем общении:)\n",
    "Например, вот так:\n",
    "    \n",
    "<div class=\"alert alert-info\">\n",
    "<h2> Комментарий студента <a class=\"tocSkip\"> </h2>\n",
    "\n",
    "*твой текст*\n",
    "</div>\n",
    "    \n",
    "Давай посмотрим на твой проект!"
   ]
  },
  {
   "cell_type": "markdown",
   "metadata": {},
   "source": [
    "# Анализ крупного интернет-магазина. Запуск A/B-теста и анализ результатов. "
   ]
  },
  {
   "cell_type": "markdown",
   "metadata": {},
   "source": [
    "## Описание проекта\n",
    "\n",
    "### Контекст\n",
    "Я — аналитик крупного интернет-магазина. Вместе с отделом маркетинга мы подготовили список гипотез для увеличения выручки.\n",
    "\n",
    "Приоритизируем гипотезы, запустите A/B-тест и проанализируем результаты. \n",
    "\n",
    "### Исследование.\n",
    "\n",
    "#### Цель исследования.\n",
    "\n",
    "**Часть 1. Приоритизация гипотез.**\n",
    "\n",
    "В файле /datasets/hypothesis.csv 9 гипотез по увеличению выручки интернет-магазина с указанными параметрами Reach, Impact, Confidence, Effort.\n",
    "\n",
    "Задача:\n",
    "\n",
    "- Применить фреймворк ICE для приоритизации гипотез. Отсортировать их по убыванию приоритета.\n",
    "- Применить фреймворк RICE для приоритизации гипотез. Отсортировать их по убыванию приоритета.\n",
    "- Указать, как изменилась приоритизация гипотез при применении RICE вместо ICE. Объяснить, почему так произошло.\n",
    "\n",
    "**Часть 2. Анализ A/B-теста.**\n",
    "\n",
    "Провести A/B-тест и получили результаты, которые описаны в файлах /datasets/orders.csv и /datasets/visitors.csv.\n",
    "\n",
    "Задача.\n",
    "\n",
    " Проанализировать A/B-тест:\n",
    "- Построить график кумулятивной выручки по группам. Сделайть выводы и предположения.\n",
    "- Построить график кумулятивного среднего чека по группам. Сделать выводы и предположения.\n",
    "- Построить график относительного изменения кумулятивного среднего чека группы B к группе A. Сделать выводы и предположения.\n",
    "- Построить график кумулятивного среднего количества заказов на посетителя по группам. Сделать выводы и предположения.\n",
    "- Построить график относительного изменения кумулятивного среднего количества заказов на посетителя группы B к группе A. Сделать выводы и предположения.\n",
    "- Построить точечный график количества заказов по пользователям. Сделать выводы и предположения.\n",
    "- Посчитать 95-й и 99-й перцентили количества заказов на пользователя. Выбрать границу для определения аномальных пользователей.\n",
    "- Построить точечный график стоимостей заказов. Сделать выводы и предположения.\n",
    "- Посчитать 95-й и 99-й перцентили стоимости заказов. Выбрать границу для определения аномальных заказов.\n",
    "- Посчитать статистическую значимость различий в среднем количестве заказов на посетителя между группами по «сырым» данным. Сделать выводы и предположения.\n",
    "- Посчитать статистическую значимость различий в среднем чеке заказа между группами по «сырым» данным. Сделать выводы и предположения.\n",
    "- Посчитать статистическую значимость различий в среднем количестве заказов на посетителя между группами по «очищенным» данным. Сделать выводы и предположения.\n",
    "- Посчитать статистическую значимость различий в среднем чеке заказа между группами по «очищенным» данным. Сделать выводы и предположения.\n",
    "\n",
    "Примить решение по результатам теста и объяснить его. Варианты решений:\n",
    "\n",
    "1. Остановить тест, зафиксировать победу одной из групп.\n",
    "2. Остановить тест, зафиксировать отсутствие различий между группами.\n",
    "3. Продолжить тест.\n",
    "\n",
    "#### Ход исследования\n",
    "\n",
    "1. Загрузка данных и подготовка их к анализу.\n",
    "2. Предобработка таблицы.\n",
    "3. Приоритизация гипотез.\n",
    "4. Анализ A/B-теста.\n",
    "5. Решение по результатам теста."
   ]
  },
  {
   "cell_type": "markdown",
   "metadata": {},
   "source": [
    "### Обзор данных\n",
    "\n",
    "Загрузка данные о визитах, заказах и рекламных расходах из CSV-файлов в переменные.\n",
    "\n",
    "Пути к файлам:\n",
    "\n",
    "Гипотизы: **/datasets/hypothesis.csv**.\n",
    "\n",
    "Заказы: **/datasets/orders.csv**.\n",
    "\n",
    "Журнал посетителей: **/datasets/visitors.csv**. \n",
    "\n",
    "\n",
    "### Описание данных\n",
    "\n",
    "**Данные для первой части.**\n",
    "\n",
    "Файл **/datasets/hypothesis.csv**.\n",
    "- Hypothesis — краткое описание гипотезы;\n",
    "- Reach — охват пользователей по 10-балльной шкале;\n",
    "- Impact — влияние на пользователей по 10-балльной шкале;\n",
    "- Confidence — уверенность в гипотезе по 10-балльной шкале;\n",
    "- Efforts — затраты ресурсов на проверку гипотезы по 10-балльной шкале. Чем больше значение Efforts, тем дороже проверка гипотезы.\n",
    "\n",
    "**Данные для второй части.**\n",
    "\n",
    "Файл **/datasets/orders.csv**. \n",
    "- transactionId — идентификатор заказа;\n",
    "- visitorId — идентификатор пользователя, совершившего заказ;\n",
    "- date — дата, когда был совершён заказ;\n",
    "- revenue — выручка заказа;\n",
    "- group — группа A/B-теста, в которую попал заказ.\n",
    "\n",
    "\n",
    "Файл **/datasets/visitors.csv**. \n",
    "- date — дата;\n",
    "- group — группа A/B-теста;\n",
    "- visitors — количество пользователей в указанную дату в указанной группе A/B-теста"
   ]
  },
  {
   "cell_type": "markdown",
   "metadata": {},
   "source": [
    "<div class=\"alert alert-success\">\n",
    "<h2> Комментарий ревьюера <a class=\"tocSkip\"> </h2>\n",
    "\n",
    "<b>Все отлично!👍:</b> Есть небольшое вступление - хороший старт.\n",
    "    \n",
    "Спасибо, что есть оглавление в плагине toc - по проекту удобно перемещаться:)"
   ]
  },
  {
   "cell_type": "markdown",
   "metadata": {},
   "source": [
    "## Загрузка данных и подготовка к анализу"
   ]
  },
  {
   "cell_type": "markdown",
   "metadata": {},
   "source": [
    "### Обзор данных"
   ]
  },
  {
   "cell_type": "markdown",
   "metadata": {},
   "source": [
    "**Подключим библиотеки необходимые для работы**"
   ]
  },
  {
   "cell_type": "code",
   "execution_count": 1,
   "metadata": {},
   "outputs": [],
   "source": [
    "import pandas as pd\n",
    "import numpy as np\n",
    "from matplotlib import pyplot as plt\n",
    "import math\n",
    "import datetime as dt\n",
    "import scipy.stats as stats\n",
    "import os\n",
    "import warnings\n",
    "warnings.filterwarnings(\"ignore\")"
   ]
  },
  {
   "cell_type": "markdown",
   "metadata": {},
   "source": [
    "<div class=\"alert alert-success\">\n",
    "<h2> Комментарий ревьюера <a class=\"tocSkip\"> </h2>\n",
    "\n",
    "<b>Все отлично!👍:</b> Библиотеки импортировали - отлично! Спасибо, что перезапускаешь проект перед отправкой на ревью - это важный шаг, который поможет избежать простых и досадных ошибок при воспроизведении решнеия:)\n",
    "</div>"
   ]
  },
  {
   "cell_type": "markdown",
   "metadata": {},
   "source": [
    "**Установим опции по выводу в датафрейме**"
   ]
  },
  {
   "cell_type": "code",
   "execution_count": 2,
   "metadata": {},
   "outputs": [],
   "source": [
    "pd.set_option('display.max_colwidth', None) # для полноформатного отборажения таблиц\n",
    "pd.set_option('display.float_format', '{:.1f}'.format) #все числа отражаются с двумя знаками после запятой"
   ]
  },
  {
   "cell_type": "markdown",
   "metadata": {},
   "source": [
    "**Откроем файлы**"
   ]
  },
  {
   "cell_type": "code",
   "execution_count": 3,
   "metadata": {},
   "outputs": [],
   "source": [
    "try: \n",
    "    hypothesis, orders, visitors = (\n",
    "    pd.read_csv('/datasets/hypothesis.csv'),  \n",
    "    pd.read_csv('/datasets/orders.csv'),  \n",
    "    pd.read_csv('/datasets/visitors.csv')  \n",
    "    )\n",
    "except:\n",
    "     print('Некорректно задан путь к файлу')  \n",
    "\n"
   ]
  },
  {
   "cell_type": "markdown",
   "metadata": {},
   "source": [
    "<div class=\"alert alert-success\">\n",
    "<h2> Комментарий ревьюера <a class=\"tocSkip\"> </h2>\n",
    "\n",
    "<b>Все отлично!👍:</b>\n",
    " \n",
    "Данные загрузили - отлично!\n",
    "    \n",
    "Здорово, что ты используешь конструкцию ``try-except`` для путей файлов. Но еще лучше использовать библиотеку `os` - её использование позволит тебе проверять существование указанных директорий (что может быть актуально при одновременной работа на локальном и сетевом окружении) и загружать данные из существующей директории, избегая ошибок. Как пример:\n",
    "    \n",
    "    import os\n",
    "\n",
    "    pth1 = '/folder_1/data.csv'\n",
    "    pth2 = '/folder_2/data.csv'\n",
    "    \n",
    "    if os.path.exists(pth1):\n",
    "        query_1 = pd.read_csv(pth1)\n",
    "    elif os.path.exists(pth2):\n",
    "        query_1 = pd.read_csv(pth2)\n",
    "    else:\n",
    "        print('Something is wrong')\n",
    "    \n",
    "Ещё на этапе считывания данных можно спарсить дату: за это действие отвечает параметр `parse_dates` метода `read_csv()`, в него нужно передать список с названием полей-дат, и в большинстве случаев дата будет корректно преобразована в нужный формат сразу:)\n",
    "Также на этапе считывания данных задать индекс-столбец- за это действие отвечает параметр `index_col`."
   ]
  },
  {
   "cell_type": "markdown",
   "metadata": {},
   "source": [
    "<div class=\"alert alert-info\">\n",
    "<h2> Комментарий студента <a class=\"tocSkip\"> </h2>\n",
    "\n",
    "Спасибо. Я загуглю эту конструкцию и буду пробовать её применять.\n",
    "\n",
    "</div>"
   ]
  },
  {
   "cell_type": "markdown",
   "metadata": {},
   "source": [
    "**Посмотрим первые 5 строк таблиц с данными**"
   ]
  },
  {
   "cell_type": "code",
   "execution_count": 4,
   "metadata": {},
   "outputs": [
    {
     "data": {
      "text/html": [
       "<div>\n",
       "<style scoped>\n",
       "    .dataframe tbody tr th:only-of-type {\n",
       "        vertical-align: middle;\n",
       "    }\n",
       "\n",
       "    .dataframe tbody tr th {\n",
       "        vertical-align: top;\n",
       "    }\n",
       "\n",
       "    .dataframe thead th {\n",
       "        text-align: right;\n",
       "    }\n",
       "</style>\n",
       "<table border=\"1\" class=\"dataframe\">\n",
       "  <thead>\n",
       "    <tr style=\"text-align: right;\">\n",
       "      <th></th>\n",
       "      <th>Hypothesis</th>\n",
       "      <th>Reach</th>\n",
       "      <th>Impact</th>\n",
       "      <th>Confidence</th>\n",
       "      <th>Efforts</th>\n",
       "    </tr>\n",
       "  </thead>\n",
       "  <tbody>\n",
       "    <tr>\n",
       "      <th>0</th>\n",
       "      <td>Добавить два новых канала привлечения трафика, что позволит привлекать на 30% больше пользователей</td>\n",
       "      <td>3</td>\n",
       "      <td>10</td>\n",
       "      <td>8</td>\n",
       "      <td>6</td>\n",
       "    </tr>\n",
       "    <tr>\n",
       "      <th>1</th>\n",
       "      <td>Запустить собственную службу доставки, что сократит срок доставки заказов</td>\n",
       "      <td>2</td>\n",
       "      <td>5</td>\n",
       "      <td>4</td>\n",
       "      <td>10</td>\n",
       "    </tr>\n",
       "    <tr>\n",
       "      <th>2</th>\n",
       "      <td>Добавить блоки рекомендаций товаров на сайт интернет магазина, чтобы повысить конверсию и средний чек заказа</td>\n",
       "      <td>8</td>\n",
       "      <td>3</td>\n",
       "      <td>7</td>\n",
       "      <td>3</td>\n",
       "    </tr>\n",
       "    <tr>\n",
       "      <th>3</th>\n",
       "      <td>Изменить структура категорий, что увеличит конверсию, т.к. пользователи быстрее найдут нужный товар</td>\n",
       "      <td>8</td>\n",
       "      <td>3</td>\n",
       "      <td>3</td>\n",
       "      <td>8</td>\n",
       "    </tr>\n",
       "    <tr>\n",
       "      <th>4</th>\n",
       "      <td>Изменить цвет фона главной страницы, чтобы увеличить вовлеченность пользователей</td>\n",
       "      <td>3</td>\n",
       "      <td>1</td>\n",
       "      <td>1</td>\n",
       "      <td>1</td>\n",
       "    </tr>\n",
       "    <tr>\n",
       "      <th>5</th>\n",
       "      <td>Добавить страницу отзывов клиентов о магазине, что позволит увеличить количество заказов</td>\n",
       "      <td>3</td>\n",
       "      <td>2</td>\n",
       "      <td>2</td>\n",
       "      <td>3</td>\n",
       "    </tr>\n",
       "    <tr>\n",
       "      <th>6</th>\n",
       "      <td>Показать на главной странице баннеры с актуальными акциями и распродажами, чтобы увеличить конверсию</td>\n",
       "      <td>5</td>\n",
       "      <td>3</td>\n",
       "      <td>8</td>\n",
       "      <td>3</td>\n",
       "    </tr>\n",
       "    <tr>\n",
       "      <th>7</th>\n",
       "      <td>Добавить форму подписки на все основные страницы, чтобы собрать базу клиентов для email-рассылок</td>\n",
       "      <td>10</td>\n",
       "      <td>7</td>\n",
       "      <td>8</td>\n",
       "      <td>5</td>\n",
       "    </tr>\n",
       "    <tr>\n",
       "      <th>8</th>\n",
       "      <td>Запустить акцию, дающую скидку на товар в день рождения</td>\n",
       "      <td>1</td>\n",
       "      <td>9</td>\n",
       "      <td>9</td>\n",
       "      <td>5</td>\n",
       "    </tr>\n",
       "  </tbody>\n",
       "</table>\n",
       "</div>"
      ],
      "text/plain": [
       "                                                                                                     Hypothesis  \\\n",
       "0            Добавить два новых канала привлечения трафика, что позволит привлекать на 30% больше пользователей   \n",
       "1                                     Запустить собственную службу доставки, что сократит срок доставки заказов   \n",
       "2  Добавить блоки рекомендаций товаров на сайт интернет магазина, чтобы повысить конверсию и средний чек заказа   \n",
       "3           Изменить структура категорий, что увеличит конверсию, т.к. пользователи быстрее найдут нужный товар   \n",
       "4                              Изменить цвет фона главной страницы, чтобы увеличить вовлеченность пользователей   \n",
       "5                      Добавить страницу отзывов клиентов о магазине, что позволит увеличить количество заказов   \n",
       "6          Показать на главной странице баннеры с актуальными акциями и распродажами, чтобы увеличить конверсию   \n",
       "7              Добавить форму подписки на все основные страницы, чтобы собрать базу клиентов для email-рассылок   \n",
       "8                                                       Запустить акцию, дающую скидку на товар в день рождения   \n",
       "\n",
       "   Reach  Impact  Confidence  Efforts  \n",
       "0      3      10           8        6  \n",
       "1      2       5           4       10  \n",
       "2      8       3           7        3  \n",
       "3      8       3           3        8  \n",
       "4      3       1           1        1  \n",
       "5      3       2           2        3  \n",
       "6      5       3           8        3  \n",
       "7     10       7           8        5  \n",
       "8      1       9           9        5  "
      ]
     },
     "execution_count": 4,
     "metadata": {},
     "output_type": "execute_result"
    }
   ],
   "source": [
    "hypothesis"
   ]
  },
  {
   "cell_type": "code",
   "execution_count": 5,
   "metadata": {},
   "outputs": [
    {
     "data": {
      "text/html": [
       "<div>\n",
       "<style scoped>\n",
       "    .dataframe tbody tr th:only-of-type {\n",
       "        vertical-align: middle;\n",
       "    }\n",
       "\n",
       "    .dataframe tbody tr th {\n",
       "        vertical-align: top;\n",
       "    }\n",
       "\n",
       "    .dataframe thead th {\n",
       "        text-align: right;\n",
       "    }\n",
       "</style>\n",
       "<table border=\"1\" class=\"dataframe\">\n",
       "  <thead>\n",
       "    <tr style=\"text-align: right;\">\n",
       "      <th></th>\n",
       "      <th>transactionId</th>\n",
       "      <th>visitorId</th>\n",
       "      <th>date</th>\n",
       "      <th>revenue</th>\n",
       "      <th>group</th>\n",
       "    </tr>\n",
       "  </thead>\n",
       "  <tbody>\n",
       "    <tr>\n",
       "      <th>0</th>\n",
       "      <td>3667963787</td>\n",
       "      <td>3312258926</td>\n",
       "      <td>2019-08-15</td>\n",
       "      <td>1650</td>\n",
       "      <td>B</td>\n",
       "    </tr>\n",
       "    <tr>\n",
       "      <th>1</th>\n",
       "      <td>2804400009</td>\n",
       "      <td>3642806036</td>\n",
       "      <td>2019-08-15</td>\n",
       "      <td>730</td>\n",
       "      <td>B</td>\n",
       "    </tr>\n",
       "    <tr>\n",
       "      <th>2</th>\n",
       "      <td>2961555356</td>\n",
       "      <td>4069496402</td>\n",
       "      <td>2019-08-15</td>\n",
       "      <td>400</td>\n",
       "      <td>A</td>\n",
       "    </tr>\n",
       "    <tr>\n",
       "      <th>3</th>\n",
       "      <td>3797467345</td>\n",
       "      <td>1196621759</td>\n",
       "      <td>2019-08-15</td>\n",
       "      <td>9759</td>\n",
       "      <td>B</td>\n",
       "    </tr>\n",
       "    <tr>\n",
       "      <th>4</th>\n",
       "      <td>2282983706</td>\n",
       "      <td>2322279887</td>\n",
       "      <td>2019-08-15</td>\n",
       "      <td>2308</td>\n",
       "      <td>B</td>\n",
       "    </tr>\n",
       "  </tbody>\n",
       "</table>\n",
       "</div>"
      ],
      "text/plain": [
       "   transactionId   visitorId        date  revenue group\n",
       "0     3667963787  3312258926  2019-08-15     1650     B\n",
       "1     2804400009  3642806036  2019-08-15      730     B\n",
       "2     2961555356  4069496402  2019-08-15      400     A\n",
       "3     3797467345  1196621759  2019-08-15     9759     B\n",
       "4     2282983706  2322279887  2019-08-15     2308     B"
      ]
     },
     "execution_count": 5,
     "metadata": {},
     "output_type": "execute_result"
    }
   ],
   "source": [
    "orders.head()"
   ]
  },
  {
   "cell_type": "code",
   "execution_count": 6,
   "metadata": {},
   "outputs": [
    {
     "data": {
      "text/html": [
       "<div>\n",
       "<style scoped>\n",
       "    .dataframe tbody tr th:only-of-type {\n",
       "        vertical-align: middle;\n",
       "    }\n",
       "\n",
       "    .dataframe tbody tr th {\n",
       "        vertical-align: top;\n",
       "    }\n",
       "\n",
       "    .dataframe thead th {\n",
       "        text-align: right;\n",
       "    }\n",
       "</style>\n",
       "<table border=\"1\" class=\"dataframe\">\n",
       "  <thead>\n",
       "    <tr style=\"text-align: right;\">\n",
       "      <th></th>\n",
       "      <th>date</th>\n",
       "      <th>group</th>\n",
       "      <th>visitors</th>\n",
       "    </tr>\n",
       "  </thead>\n",
       "  <tbody>\n",
       "    <tr>\n",
       "      <th>0</th>\n",
       "      <td>2019-08-01</td>\n",
       "      <td>A</td>\n",
       "      <td>719</td>\n",
       "    </tr>\n",
       "    <tr>\n",
       "      <th>1</th>\n",
       "      <td>2019-08-02</td>\n",
       "      <td>A</td>\n",
       "      <td>619</td>\n",
       "    </tr>\n",
       "    <tr>\n",
       "      <th>2</th>\n",
       "      <td>2019-08-03</td>\n",
       "      <td>A</td>\n",
       "      <td>507</td>\n",
       "    </tr>\n",
       "    <tr>\n",
       "      <th>3</th>\n",
       "      <td>2019-08-04</td>\n",
       "      <td>A</td>\n",
       "      <td>717</td>\n",
       "    </tr>\n",
       "    <tr>\n",
       "      <th>4</th>\n",
       "      <td>2019-08-05</td>\n",
       "      <td>A</td>\n",
       "      <td>756</td>\n",
       "    </tr>\n",
       "  </tbody>\n",
       "</table>\n",
       "</div>"
      ],
      "text/plain": [
       "         date group  visitors\n",
       "0  2019-08-01     A       719\n",
       "1  2019-08-02     A       619\n",
       "2  2019-08-03     A       507\n",
       "3  2019-08-04     A       717\n",
       "4  2019-08-05     A       756"
      ]
     },
     "execution_count": 6,
     "metadata": {},
     "output_type": "execute_result"
    }
   ],
   "source": [
    "visitors.head()"
   ]
  },
  {
   "cell_type": "markdown",
   "metadata": {},
   "source": [
    "### Ознакомимся с типом данных и общей информацией по датафреймам"
   ]
  },
  {
   "cell_type": "markdown",
   "metadata": {},
   "source": [
    "#### Общая информация по датафреймам"
   ]
  },
  {
   "cell_type": "code",
   "execution_count": 7,
   "metadata": {
    "scrolled": false
   },
   "outputs": [
    {
     "name": "stdout",
     "output_type": "stream",
     "text": [
      "<class 'pandas.core.frame.DataFrame'>\n",
      "RangeIndex: 9 entries, 0 to 8\n",
      "Data columns (total 5 columns):\n",
      " #   Column      Non-Null Count  Dtype \n",
      "---  ------      --------------  ----- \n",
      " 0   Hypothesis  9 non-null      object\n",
      " 1   Reach       9 non-null      int64 \n",
      " 2   Impact      9 non-null      int64 \n",
      " 3   Confidence  9 non-null      int64 \n",
      " 4   Efforts     9 non-null      int64 \n",
      "dtypes: int64(4), object(1)\n",
      "memory usage: 488.0+ bytes\n",
      "None\n",
      "<class 'pandas.core.frame.DataFrame'>\n",
      "RangeIndex: 1197 entries, 0 to 1196\n",
      "Data columns (total 5 columns):\n",
      " #   Column         Non-Null Count  Dtype \n",
      "---  ------         --------------  ----- \n",
      " 0   transactionId  1197 non-null   int64 \n",
      " 1   visitorId      1197 non-null   int64 \n",
      " 2   date           1197 non-null   object\n",
      " 3   revenue        1197 non-null   int64 \n",
      " 4   group          1197 non-null   object\n",
      "dtypes: int64(3), object(2)\n",
      "memory usage: 46.9+ KB\n",
      "None\n",
      "<class 'pandas.core.frame.DataFrame'>\n",
      "RangeIndex: 62 entries, 0 to 61\n",
      "Data columns (total 3 columns):\n",
      " #   Column    Non-Null Count  Dtype \n",
      "---  ------    --------------  ----- \n",
      " 0   date      62 non-null     object\n",
      " 1   group     62 non-null     object\n",
      " 2   visitors  62 non-null     int64 \n",
      "dtypes: int64(1), object(2)\n",
      "memory usage: 1.6+ KB\n"
     ]
    }
   ],
   "source": [
    "print(hypothesis.info())\n",
    "print(orders.info())\n",
    "visitors.info()"
   ]
  },
  {
   "cell_type": "markdown",
   "metadata": {},
   "source": [
    "**Вывод**"
   ]
  },
  {
   "cell_type": "markdown",
   "metadata": {},
   "source": [
    "Необходимо изменить тип данных у дат. \n",
    "\n",
    "С object на datatime."
   ]
  },
  {
   "cell_type": "markdown",
   "metadata": {},
   "source": [
    "#### Информация о пропусках"
   ]
  },
  {
   "cell_type": "markdown",
   "metadata": {},
   "source": [
    "**Таблица заказов**"
   ]
  },
  {
   "cell_type": "code",
   "execution_count": 8,
   "metadata": {},
   "outputs": [
    {
     "data": {
      "text/html": [
       "<style  type=\"text/css\" >\n",
       "#T_d339b_row0_col1,#T_d339b_row1_col1,#T_d339b_row2_col1,#T_d339b_row3_col1,#T_d339b_row4_col1{\n",
       "            background-color:  #3b4cc0;\n",
       "            color:  #f1f1f1;\n",
       "        }</style><table id=\"T_d339b_\" ><thead>    <tr>        <th class=\"blank level0\" ></th>        <th class=\"col_heading level0 col0\" >index</th>        <th class=\"col_heading level0 col1\" >mean, %</th>    </tr></thead><tbody>\n",
       "                <tr>\n",
       "                        <th id=\"T_d339b_level0_row0\" class=\"row_heading level0 row0\" >0</th>\n",
       "                        <td id=\"T_d339b_row0_col0\" class=\"data row0 col0\" >transactionId</td>\n",
       "                        <td id=\"T_d339b_row0_col1\" class=\"data row0 col1\" >0.000000</td>\n",
       "            </tr>\n",
       "            <tr>\n",
       "                        <th id=\"T_d339b_level0_row1\" class=\"row_heading level0 row1\" >1</th>\n",
       "                        <td id=\"T_d339b_row1_col0\" class=\"data row1 col0\" >visitorId</td>\n",
       "                        <td id=\"T_d339b_row1_col1\" class=\"data row1 col1\" >0.000000</td>\n",
       "            </tr>\n",
       "            <tr>\n",
       "                        <th id=\"T_d339b_level0_row2\" class=\"row_heading level0 row2\" >2</th>\n",
       "                        <td id=\"T_d339b_row2_col0\" class=\"data row2 col0\" >date</td>\n",
       "                        <td id=\"T_d339b_row2_col1\" class=\"data row2 col1\" >0.000000</td>\n",
       "            </tr>\n",
       "            <tr>\n",
       "                        <th id=\"T_d339b_level0_row3\" class=\"row_heading level0 row3\" >3</th>\n",
       "                        <td id=\"T_d339b_row3_col0\" class=\"data row3 col0\" >revenue</td>\n",
       "                        <td id=\"T_d339b_row3_col1\" class=\"data row3 col1\" >0.000000</td>\n",
       "            </tr>\n",
       "            <tr>\n",
       "                        <th id=\"T_d339b_level0_row4\" class=\"row_heading level0 row4\" >4</th>\n",
       "                        <td id=\"T_d339b_row4_col0\" class=\"data row4 col0\" >group</td>\n",
       "                        <td id=\"T_d339b_row4_col1\" class=\"data row4 col1\" >0.000000</td>\n",
       "            </tr>\n",
       "    </tbody></table>"
      ],
      "text/plain": [
       "<pandas.io.formats.style.Styler at 0x7f33eb42dc70>"
      ]
     },
     "execution_count": 8,
     "metadata": {},
     "output_type": "execute_result"
    }
   ],
   "source": [
    "pd.DataFrame(round(orders.isna().mean()*100), columns = ['mean, %']).reset_index().style.background_gradient('coolwarm')"
   ]
  },
  {
   "cell_type": "markdown",
   "metadata": {},
   "source": [
    "**Таблица журнала посетителей**"
   ]
  },
  {
   "cell_type": "code",
   "execution_count": 9,
   "metadata": {},
   "outputs": [
    {
     "data": {
      "text/html": [
       "<style  type=\"text/css\" >\n",
       "#T_6657a_row0_col1,#T_6657a_row1_col1,#T_6657a_row2_col1{\n",
       "            background-color:  #3b4cc0;\n",
       "            color:  #f1f1f1;\n",
       "        }</style><table id=\"T_6657a_\" ><thead>    <tr>        <th class=\"blank level0\" ></th>        <th class=\"col_heading level0 col0\" >index</th>        <th class=\"col_heading level0 col1\" >mean, %</th>    </tr></thead><tbody>\n",
       "                <tr>\n",
       "                        <th id=\"T_6657a_level0_row0\" class=\"row_heading level0 row0\" >0</th>\n",
       "                        <td id=\"T_6657a_row0_col0\" class=\"data row0 col0\" >date</td>\n",
       "                        <td id=\"T_6657a_row0_col1\" class=\"data row0 col1\" >0.000000</td>\n",
       "            </tr>\n",
       "            <tr>\n",
       "                        <th id=\"T_6657a_level0_row1\" class=\"row_heading level0 row1\" >1</th>\n",
       "                        <td id=\"T_6657a_row1_col0\" class=\"data row1 col0\" >group</td>\n",
       "                        <td id=\"T_6657a_row1_col1\" class=\"data row1 col1\" >0.000000</td>\n",
       "            </tr>\n",
       "            <tr>\n",
       "                        <th id=\"T_6657a_level0_row2\" class=\"row_heading level0 row2\" >2</th>\n",
       "                        <td id=\"T_6657a_row2_col0\" class=\"data row2 col0\" >visitors</td>\n",
       "                        <td id=\"T_6657a_row2_col1\" class=\"data row2 col1\" >0.000000</td>\n",
       "            </tr>\n",
       "    </tbody></table>"
      ],
      "text/plain": [
       "<pandas.io.formats.style.Styler at 0x7f33eb237970>"
      ]
     },
     "execution_count": 9,
     "metadata": {},
     "output_type": "execute_result"
    }
   ],
   "source": [
    "pd.DataFrame(round(visitors.isna().mean()*100), columns = ['mean, %']).reset_index().style.background_gradient('coolwarm')"
   ]
  },
  {
   "cell_type": "markdown",
   "metadata": {},
   "source": [
    "**Вывод**"
   ]
  },
  {
   "cell_type": "markdown",
   "metadata": {},
   "source": [
    "Пропусков в датафреймах нет. Все данные в одном количестве. Среднее процент пропусков нулевой во всех таблицах."
   ]
  },
  {
   "cell_type": "markdown",
   "metadata": {},
   "source": [
    "#### Проверяем значения в датафрейме"
   ]
  },
  {
   "cell_type": "code",
   "execution_count": 10,
   "metadata": {},
   "outputs": [
    {
     "data": {
      "text/html": [
       "<div>\n",
       "<style scoped>\n",
       "    .dataframe tbody tr th:only-of-type {\n",
       "        vertical-align: middle;\n",
       "    }\n",
       "\n",
       "    .dataframe tbody tr th {\n",
       "        vertical-align: top;\n",
       "    }\n",
       "\n",
       "    .dataframe thead th {\n",
       "        text-align: right;\n",
       "    }\n",
       "</style>\n",
       "<table border=\"1\" class=\"dataframe\">\n",
       "  <thead>\n",
       "    <tr style=\"text-align: right;\">\n",
       "      <th></th>\n",
       "      <th>transactionId</th>\n",
       "      <th>visitorId</th>\n",
       "      <th>date</th>\n",
       "      <th>revenue</th>\n",
       "      <th>group</th>\n",
       "    </tr>\n",
       "  </thead>\n",
       "  <tbody>\n",
       "    <tr>\n",
       "      <th>count</th>\n",
       "      <td>1197.0</td>\n",
       "      <td>1197.0</td>\n",
       "      <td>1197</td>\n",
       "      <td>1197.0</td>\n",
       "      <td>1197</td>\n",
       "    </tr>\n",
       "    <tr>\n",
       "      <th>unique</th>\n",
       "      <td>NaN</td>\n",
       "      <td>NaN</td>\n",
       "      <td>31</td>\n",
       "      <td>NaN</td>\n",
       "      <td>2</td>\n",
       "    </tr>\n",
       "    <tr>\n",
       "      <th>top</th>\n",
       "      <td>NaN</td>\n",
       "      <td>NaN</td>\n",
       "      <td>2019-08-05</td>\n",
       "      <td>NaN</td>\n",
       "      <td>B</td>\n",
       "    </tr>\n",
       "    <tr>\n",
       "      <th>freq</th>\n",
       "      <td>NaN</td>\n",
       "      <td>NaN</td>\n",
       "      <td>48</td>\n",
       "      <td>NaN</td>\n",
       "      <td>640</td>\n",
       "    </tr>\n",
       "    <tr>\n",
       "      <th>mean</th>\n",
       "      <td>2155621385.5</td>\n",
       "      <td>2165960143.1</td>\n",
       "      <td>NaN</td>\n",
       "      <td>8348.0</td>\n",
       "      <td>NaN</td>\n",
       "    </tr>\n",
       "    <tr>\n",
       "      <th>std</th>\n",
       "      <td>1229084904.8</td>\n",
       "      <td>1236014192.1</td>\n",
       "      <td>NaN</td>\n",
       "      <td>39191.1</td>\n",
       "      <td>NaN</td>\n",
       "    </tr>\n",
       "    <tr>\n",
       "      <th>min</th>\n",
       "      <td>1062393.0</td>\n",
       "      <td>5114589.0</td>\n",
       "      <td>NaN</td>\n",
       "      <td>50.0</td>\n",
       "      <td>NaN</td>\n",
       "    </tr>\n",
       "    <tr>\n",
       "      <th>25%</th>\n",
       "      <td>1166775572.0</td>\n",
       "      <td>1111826046.0</td>\n",
       "      <td>NaN</td>\n",
       "      <td>1220.0</td>\n",
       "      <td>NaN</td>\n",
       "    </tr>\n",
       "    <tr>\n",
       "      <th>50%</th>\n",
       "      <td>2145193898.0</td>\n",
       "      <td>2217984702.0</td>\n",
       "      <td>NaN</td>\n",
       "      <td>2978.0</td>\n",
       "      <td>NaN</td>\n",
       "    </tr>\n",
       "    <tr>\n",
       "      <th>75%</th>\n",
       "      <td>3237740112.0</td>\n",
       "      <td>3177606451.0</td>\n",
       "      <td>NaN</td>\n",
       "      <td>8290.0</td>\n",
       "      <td>NaN</td>\n",
       "    </tr>\n",
       "    <tr>\n",
       "      <th>max</th>\n",
       "      <td>4293855558.0</td>\n",
       "      <td>4283872382.0</td>\n",
       "      <td>NaN</td>\n",
       "      <td>1294500.0</td>\n",
       "      <td>NaN</td>\n",
       "    </tr>\n",
       "  </tbody>\n",
       "</table>\n",
       "</div>"
      ],
      "text/plain": [
       "        transactionId    visitorId        date   revenue group\n",
       "count          1197.0       1197.0        1197    1197.0  1197\n",
       "unique            NaN          NaN          31       NaN     2\n",
       "top               NaN          NaN  2019-08-05       NaN     B\n",
       "freq              NaN          NaN          48       NaN   640\n",
       "mean     2155621385.5 2165960143.1         NaN    8348.0   NaN\n",
       "std      1229084904.8 1236014192.1         NaN   39191.1   NaN\n",
       "min         1062393.0    5114589.0         NaN      50.0   NaN\n",
       "25%      1166775572.0 1111826046.0         NaN    1220.0   NaN\n",
       "50%      2145193898.0 2217984702.0         NaN    2978.0   NaN\n",
       "75%      3237740112.0 3177606451.0         NaN    8290.0   NaN\n",
       "max      4293855558.0 4283872382.0         NaN 1294500.0   NaN"
      ]
     },
     "execution_count": 10,
     "metadata": {},
     "output_type": "execute_result"
    }
   ],
   "source": [
    "orders.describe(include='all')"
   ]
  },
  {
   "cell_type": "code",
   "execution_count": 11,
   "metadata": {},
   "outputs": [
    {
     "data": {
      "text/html": [
       "<div>\n",
       "<style scoped>\n",
       "    .dataframe tbody tr th:only-of-type {\n",
       "        vertical-align: middle;\n",
       "    }\n",
       "\n",
       "    .dataframe tbody tr th {\n",
       "        vertical-align: top;\n",
       "    }\n",
       "\n",
       "    .dataframe thead th {\n",
       "        text-align: right;\n",
       "    }\n",
       "</style>\n",
       "<table border=\"1\" class=\"dataframe\">\n",
       "  <thead>\n",
       "    <tr style=\"text-align: right;\">\n",
       "      <th></th>\n",
       "      <th>date</th>\n",
       "      <th>group</th>\n",
       "      <th>visitors</th>\n",
       "    </tr>\n",
       "  </thead>\n",
       "  <tbody>\n",
       "    <tr>\n",
       "      <th>count</th>\n",
       "      <td>62</td>\n",
       "      <td>62</td>\n",
       "      <td>62.0</td>\n",
       "    </tr>\n",
       "    <tr>\n",
       "      <th>unique</th>\n",
       "      <td>31</td>\n",
       "      <td>2</td>\n",
       "      <td>NaN</td>\n",
       "    </tr>\n",
       "    <tr>\n",
       "      <th>top</th>\n",
       "      <td>2019-08-28</td>\n",
       "      <td>B</td>\n",
       "      <td>NaN</td>\n",
       "    </tr>\n",
       "    <tr>\n",
       "      <th>freq</th>\n",
       "      <td>2</td>\n",
       "      <td>31</td>\n",
       "      <td>NaN</td>\n",
       "    </tr>\n",
       "    <tr>\n",
       "      <th>mean</th>\n",
       "      <td>NaN</td>\n",
       "      <td>NaN</td>\n",
       "      <td>607.3</td>\n",
       "    </tr>\n",
       "    <tr>\n",
       "      <th>std</th>\n",
       "      <td>NaN</td>\n",
       "      <td>NaN</td>\n",
       "      <td>114.4</td>\n",
       "    </tr>\n",
       "    <tr>\n",
       "      <th>min</th>\n",
       "      <td>NaN</td>\n",
       "      <td>NaN</td>\n",
       "      <td>361.0</td>\n",
       "    </tr>\n",
       "    <tr>\n",
       "      <th>25%</th>\n",
       "      <td>NaN</td>\n",
       "      <td>NaN</td>\n",
       "      <td>534.0</td>\n",
       "    </tr>\n",
       "    <tr>\n",
       "      <th>50%</th>\n",
       "      <td>NaN</td>\n",
       "      <td>NaN</td>\n",
       "      <td>624.5</td>\n",
       "    </tr>\n",
       "    <tr>\n",
       "      <th>75%</th>\n",
       "      <td>NaN</td>\n",
       "      <td>NaN</td>\n",
       "      <td>710.5</td>\n",
       "    </tr>\n",
       "    <tr>\n",
       "      <th>max</th>\n",
       "      <td>NaN</td>\n",
       "      <td>NaN</td>\n",
       "      <td>770.0</td>\n",
       "    </tr>\n",
       "  </tbody>\n",
       "</table>\n",
       "</div>"
      ],
      "text/plain": [
       "              date group  visitors\n",
       "count           62    62      62.0\n",
       "unique          31     2       NaN\n",
       "top     2019-08-28     B       NaN\n",
       "freq             2    31       NaN\n",
       "mean           NaN   NaN     607.3\n",
       "std            NaN   NaN     114.4\n",
       "min            NaN   NaN     361.0\n",
       "25%            NaN   NaN     534.0\n",
       "50%            NaN   NaN     624.5\n",
       "75%            NaN   NaN     710.5\n",
       "max            NaN   NaN     770.0"
      ]
     },
     "execution_count": 11,
     "metadata": {},
     "output_type": "execute_result"
    }
   ],
   "source": [
    "visitors.describe(include='all')"
   ]
  },
  {
   "cell_type": "markdown",
   "metadata": {},
   "source": [
    "### Предобработка данных"
   ]
  },
  {
   "cell_type": "markdown",
   "metadata": {},
   "source": [
    "#### Стиль заголовков"
   ]
  },
  {
   "cell_type": "markdown",
   "metadata": {},
   "source": [
    "**Приведем названия столбцов к нижнему регистру**"
   ]
  },
  {
   "cell_type": "code",
   "execution_count": 12,
   "metadata": {},
   "outputs": [],
   "source": [
    "hypothesis.columns = hypothesis.columns.str.lower()\n",
    "orders.columns = orders.columns.str.lower()\n",
    "visitors.columns = visitors.columns.str.lower()"
   ]
  },
  {
   "cell_type": "markdown",
   "metadata": {},
   "source": [
    "**Посмотрим наименование столбцов**"
   ]
  },
  {
   "cell_type": "code",
   "execution_count": 13,
   "metadata": {
    "scrolled": true
   },
   "outputs": [
    {
     "name": "stdout",
     "output_type": "stream",
     "text": [
      "Index(['hypothesis', 'reach', 'impact', 'confidence', 'efforts'], dtype='object')\n",
      "Index(['transactionid', 'visitorid', 'date', 'revenue', 'group'], dtype='object')\n"
     ]
    },
    {
     "data": {
      "text/plain": [
       "Index(['date', 'group', 'visitors'], dtype='object')"
      ]
     },
     "execution_count": 13,
     "metadata": {},
     "output_type": "execute_result"
    }
   ],
   "source": [
    "print(hypothesis.columns)\n",
    "print(orders.columns)\n",
    "visitors.columns "
   ]
  },
  {
   "cell_type": "markdown",
   "metadata": {},
   "source": [
    "**Приведём наименование столбцов в однотипный формат**"
   ]
  },
  {
   "cell_type": "markdown",
   "metadata": {},
   "source": [
    "Нужно перевести названия в соответствие с хорошим стилем.\n",
    "\n",
    "Переименовать стобцы:\n",
    "\n",
    "'transactionid' → 'transaction_id' из таблицы orders;\n",
    "\n",
    "'visitorid' → 'visitor_id' из таблицы orders;"
   ]
  },
  {
   "cell_type": "code",
   "execution_count": 14,
   "metadata": {},
   "outputs": [],
   "source": [
    "orders.rename(columns = {'transactionid':'transaction_id', 'visitorid':'visitor_id'}, inplace=True)"
   ]
  },
  {
   "cell_type": "markdown",
   "metadata": {},
   "source": [
    "**Проверяем результат**"
   ]
  },
  {
   "cell_type": "code",
   "execution_count": 15,
   "metadata": {},
   "outputs": [
    {
     "data": {
      "text/plain": [
       "Index(['transaction_id', 'visitor_id', 'date', 'revenue', 'group'], dtype='object')"
      ]
     },
     "execution_count": 15,
     "metadata": {},
     "output_type": "execute_result"
    }
   ],
   "source": [
    "orders.columns"
   ]
  },
  {
   "cell_type": "code",
   "execution_count": 16,
   "metadata": {},
   "outputs": [
    {
     "name": "stdout",
     "output_type": "stream",
     "text": [
      "<class 'pandas.core.frame.DataFrame'>\n",
      "RangeIndex: 1197 entries, 0 to 1196\n",
      "Data columns (total 5 columns):\n",
      " #   Column          Non-Null Count  Dtype \n",
      "---  ------          --------------  ----- \n",
      " 0   transaction_id  1197 non-null   int64 \n",
      " 1   visitor_id      1197 non-null   int64 \n",
      " 2   date            1197 non-null   object\n",
      " 3   revenue         1197 non-null   int64 \n",
      " 4   group           1197 non-null   object\n",
      "dtypes: int64(3), object(2)\n",
      "memory usage: 46.9+ KB\n"
     ]
    }
   ],
   "source": [
    "orders.info()"
   ]
  },
  {
   "cell_type": "markdown",
   "metadata": {},
   "source": [
    "#### Изменение типа данных"
   ]
  },
  {
   "cell_type": "code",
   "execution_count": 17,
   "metadata": {},
   "outputs": [],
   "source": [
    "orders[\"date\"] = orders[\"date\"].map(lambda x: dt.datetime.strptime(x, '%Y-%m-%d'))\n",
    "visitors[\"date\"] = visitors[\"date\"].map(lambda x: dt.datetime.strptime(x, '%Y-%m-%d'))"
   ]
  },
  {
   "cell_type": "markdown",
   "metadata": {},
   "source": [
    "**Проверяем результат**"
   ]
  },
  {
   "cell_type": "code",
   "execution_count": 18,
   "metadata": {},
   "outputs": [
    {
     "name": "stdout",
     "output_type": "stream",
     "text": [
      "<class 'pandas.core.frame.DataFrame'>\n",
      "RangeIndex: 1197 entries, 0 to 1196\n",
      "Data columns (total 5 columns):\n",
      " #   Column          Non-Null Count  Dtype         \n",
      "---  ------          --------------  -----         \n",
      " 0   transaction_id  1197 non-null   int64         \n",
      " 1   visitor_id      1197 non-null   int64         \n",
      " 2   date            1197 non-null   datetime64[ns]\n",
      " 3   revenue         1197 non-null   int64         \n",
      " 4   group           1197 non-null   object        \n",
      "dtypes: datetime64[ns](1), int64(3), object(1)\n",
      "memory usage: 46.9+ KB\n",
      "None\n",
      "<class 'pandas.core.frame.DataFrame'>\n",
      "RangeIndex: 62 entries, 0 to 61\n",
      "Data columns (total 3 columns):\n",
      " #   Column    Non-Null Count  Dtype         \n",
      "---  ------    --------------  -----         \n",
      " 0   date      62 non-null     datetime64[ns]\n",
      " 1   group     62 non-null     object        \n",
      " 2   visitors  62 non-null     int64         \n",
      "dtypes: datetime64[ns](1), int64(1), object(1)\n",
      "memory usage: 1.6+ KB\n"
     ]
    }
   ],
   "source": [
    "print(orders.info())\n",
    "visitors.info()"
   ]
  },
  {
   "cell_type": "markdown",
   "metadata": {},
   "source": [
    "#### Информация о явных дубликатах"
   ]
  },
  {
   "cell_type": "code",
   "execution_count": 19,
   "metadata": {},
   "outputs": [
    {
     "data": {
      "text/html": [
       "<div>\n",
       "<style scoped>\n",
       "    .dataframe tbody tr th:only-of-type {\n",
       "        vertical-align: middle;\n",
       "    }\n",
       "\n",
       "    .dataframe tbody tr th {\n",
       "        vertical-align: top;\n",
       "    }\n",
       "\n",
       "    .dataframe thead th {\n",
       "        text-align: right;\n",
       "    }\n",
       "</style>\n",
       "<table border=\"1\" class=\"dataframe\">\n",
       "  <thead>\n",
       "    <tr style=\"text-align: right;\">\n",
       "      <th></th>\n",
       "      <th>transaction_id</th>\n",
       "      <th>visitor_id</th>\n",
       "      <th>date</th>\n",
       "      <th>revenue</th>\n",
       "      <th>group</th>\n",
       "    </tr>\n",
       "  </thead>\n",
       "  <tbody>\n",
       "  </tbody>\n",
       "</table>\n",
       "</div>"
      ],
      "text/plain": [
       "Empty DataFrame\n",
       "Columns: [transaction_id, visitor_id, date, revenue, group]\n",
       "Index: []"
      ]
     },
     "execution_count": 19,
     "metadata": {},
     "output_type": "execute_result"
    }
   ],
   "source": [
    "orders[orders.duplicated()]"
   ]
  },
  {
   "cell_type": "code",
   "execution_count": 20,
   "metadata": {},
   "outputs": [
    {
     "data": {
      "text/html": [
       "<div>\n",
       "<style scoped>\n",
       "    .dataframe tbody tr th:only-of-type {\n",
       "        vertical-align: middle;\n",
       "    }\n",
       "\n",
       "    .dataframe tbody tr th {\n",
       "        vertical-align: top;\n",
       "    }\n",
       "\n",
       "    .dataframe thead th {\n",
       "        text-align: right;\n",
       "    }\n",
       "</style>\n",
       "<table border=\"1\" class=\"dataframe\">\n",
       "  <thead>\n",
       "    <tr style=\"text-align: right;\">\n",
       "      <th></th>\n",
       "      <th>date</th>\n",
       "      <th>group</th>\n",
       "      <th>visitors</th>\n",
       "    </tr>\n",
       "  </thead>\n",
       "  <tbody>\n",
       "  </tbody>\n",
       "</table>\n",
       "</div>"
      ],
      "text/plain": [
       "Empty DataFrame\n",
       "Columns: [date, group, visitors]\n",
       "Index: []"
      ]
     },
     "execution_count": 20,
     "metadata": {},
     "output_type": "execute_result"
    }
   ],
   "source": [
    "visitors[visitors.duplicated()]"
   ]
  },
  {
   "cell_type": "markdown",
   "metadata": {},
   "source": [
    "**Вывод**"
   ]
  },
  {
   "cell_type": "markdown",
   "metadata": {},
   "source": [
    "Дубликатов нет ни в одной таблице."
   ]
  },
  {
   "cell_type": "markdown",
   "metadata": {},
   "source": [
    "#### Проверим корректность данных"
   ]
  },
  {
   "cell_type": "code",
   "execution_count": 21,
   "metadata": {},
   "outputs": [
    {
     "data": {
      "text/plain": [
       "1658608862    1\n",
       "2211880073    1\n",
       "3913205113    1\n",
       "437656952     1\n",
       "3592105335    1\n",
       "             ..\n",
       "2872509092    1\n",
       "2013919907    1\n",
       "3154167297    1\n",
       "2960804513    1\n",
       "4281129020    1\n",
       "Name: transaction_id, Length: 1197, dtype: int64"
      ]
     },
     "execution_count": 21,
     "metadata": {},
     "output_type": "execute_result"
    }
   ],
   "source": [
    "orders['transaction_id'].value_counts()"
   ]
  },
  {
   "cell_type": "markdown",
   "metadata": {},
   "source": [
    "Уникальных значений - 1197."
   ]
  },
  {
   "cell_type": "code",
   "execution_count": 22,
   "metadata": {},
   "outputs": [
    {
     "data": {
      "text/plain": [
       "4256040402    11\n",
       "2458001652    11\n",
       "2378935119     9\n",
       "2038680547     8\n",
       "199603092      5\n",
       "              ..\n",
       "2406916810     1\n",
       "1255412427     1\n",
       "3866069709     1\n",
       "54447517       1\n",
       "3013339133     1\n",
       "Name: visitor_id, Length: 1031, dtype: int64"
      ]
     },
     "execution_count": 22,
     "metadata": {},
     "output_type": "execute_result"
    }
   ],
   "source": [
    "orders['visitor_id'].value_counts()"
   ]
  },
  {
   "cell_type": "markdown",
   "metadata": {},
   "source": [
    "Среди данных об пользователях всё корректно."
   ]
  },
  {
   "cell_type": "code",
   "execution_count": 23,
   "metadata": {
    "scrolled": true
   },
   "outputs": [
    {
     "data": {
      "text/plain": [
       "array([   1650,     730,     400,    9759,    2308,    2210,    1860,\n",
       "          1044,   13710,    1855,    4008,    4499,    7370,   11985,\n",
       "         10980,   15277,    1060,     990,   16490,    1190,     300,\n",
       "          1050,     632,   15185,    7555,    3488,    7620,    5280,\n",
       "           700,     190,     383,    1680,   22785,    2355,    2470,\n",
       "          6250,   19260,     610,    2986,    1090,    9290,    2480,\n",
       "          3000,    2140,    3590,    6990,    1250,    2970,   18100,\n",
       "           100,    2750,     570,    2978,    1440,    7860,   56650,\n",
       "           790,    1350,    2540,    1710,    2350,   14610,    8999,\n",
       "         10510,   29499,     780,     890,    4400,   32350,   40740,\n",
       "          2490,    2080,    5400,    5100,    4020,     690,   12350,\n",
       "          1290,     382,    2110,    1490,   17868,    1940,   26550,\n",
       "          5970,     987,    9024,    5555,    7129,    3240,    2995,\n",
       "          2550,   17600,     850,    5365,    8390,    5870,    5020,\n",
       "         14489,    8470,    1630,    5800,     172,    6230,     760,\n",
       "          3390,    4480,    1139,   12336,    1450,    7990,    5099,\n",
       "          9400,    6441,    3070,    6145,   53904,    6922,    5190,\n",
       "          6976,    7690,     426,   28490,     390,     299,    6329,\n",
       "          8800,    2990,    9448,    2920,    9980,    1790,    4970,\n",
       "          3760,    8090,   11990,   18900,    6420,    1990,     650,\n",
       "           436,    1038,    1780,    3564,    3340,    5480,   38160,\n",
       "          2800,    3040,     995,    3210,     310,    2090,    3468,\n",
       "           778,    5740,    4580,    1840,    1550,   17990,     290,\n",
       "          6940,    1690,    5369,   11115,     165,    2646,    2220,\n",
       "          2190,    2845,    1799,    1498,    9850,    6700,     500,\n",
       "          2640,    4717,   30649,    5640,    2820,   17422,   14155,\n",
       "          4185,   10960,    1140,    1310,    1380,   10791,    9310,\n",
       "          3470,    2955,   15850,   27550,   15485,    6201,    2320,\n",
       "           599,     660,    6149,    2938,   10590,     110,   12810,\n",
       "          9880,     920,   15417,     950,    2339,    3190,    2360,\n",
       "         16950,   34340,    1620,   14271,    1920,     380,    8240,\n",
       "           282,   10970,     170,    1922,   14400,   19538,   10450,\n",
       "          2290,    1830,   33970,    1100,    4877,   12680,     860,\n",
       "          3354,    1000,    6890,    4299,   12562,     420,   23750,\n",
       "          6350,     490,   22040,    2950,    2342,    5622,    7485,\n",
       "          1200,    2057,      76,    1900,    2690,   20219,    4195,\n",
       "           830,    2330,    2526,    1435,    1460,     250,    6194,\n",
       "          3460,    5070,    8850,    1410,    1758,    1220,    8000,\n",
       "         15072,   41450,    1530,    1390,    4370,    6000,    2580,\n",
       "          5160,    6536,    5000,   14970,    9080,     910,   16770,\n",
       "          2500,    1590,    3990,   20026,   12470,    4980,   16680,\n",
       "         16480,    4780,    3450,    5415,   16279,    2385,     120,\n",
       "          1398,   20990,    5539,     270,   21220,    1253,   12550,\n",
       "           880,    9990,    3890,   19240,    3080,     460,      70,\n",
       "           870,   26980,   13990,   24744,    4500,    8870,     600,\n",
       "           440,     750,    1950,   37550,   31680,    9490,   11249,\n",
       "           470, 1294500,    2630,    4930,    3150,   17650,    5450,\n",
       "          5770,    1575,   20450,   11050,    2000,    2255,    1999,\n",
       "          7300,   18464,    6677,    2890,    6248,    5270,    4485,\n",
       "          7349,    3030,      50,    9232,    9934,    2840,    8990,\n",
       "          8780,    4410,     350,   19280,   13769,    6681,    6260,\n",
       "          1130,   11135,   20100,    2722,    8885,    8585,    1980,\n",
       "         10195,   30990,    2359,     320,    2590,    8250,     580,\n",
       "          5350,    3140,    1910,   17379,    4840,    6930,    5690,\n",
       "          6090,     740,   10440,    4880,    6590,   21550,   33405,\n",
       "          3525,   43990,   13390,     697,    4495,    8401,    6382,\n",
       "          2285,   10485,    6288,   11711,    3950,   25080,    1580,\n",
       "         35485,    9750,   27490,    1510,    1850,    4990,    3650,\n",
       "         33050,    5530,   27600,    1893,   31350,     360,    5249,\n",
       "          6716,    3559,    5790,     604,    3550,     240,    2235,\n",
       "         10550,    4690,   12888,    7995,    3220,     495,     265,\n",
       "          4790,     480,    1721,    2830,     340,    1870,    2670,\n",
       "          2420,    3261,    1634,   39800,   12990,   25890,   18990,\n",
       "          3826,   18010,   10250,   17030,    5119,    9870,   13860,\n",
       "          8877,    4620,   43690,    1846,      90,    4190,   34550,\n",
       "         10765,    7024,    4698,    2030,   78990,   10850,     550,\n",
       "         16990,     620,     654,    6613,   10160,    6400,    6440,\n",
       "         27390,    2050,     540,   42740,    9680,    5150,     410,\n",
       "          3680,    5227,     590,    5776,    2390,   14495,    2070,\n",
       "          2555,   19520,   11688,    4180,    1399,   45880,    3050,\n",
       "           295,   17792,   24381,    1805,   28350,    6170,    3270,\n",
       "          2960,    1020,   10137,   14490,   67990,   86620,    4900,\n",
       "         49495,    3170,   37150,   19660,   45780,   24860,    1737,\n",
       "          1040,    9690,    1149,    5490,    1640,     840,   12490,\n",
       "          4740,    3480,     785,    7890,    2600,    3739,     900,\n",
       "          3888,    1993,   13770,   20290,    2578,    5330,    5719,\n",
       "          2436,    5030,    4210,    2400,    8099,    1540,    6242,\n",
       "         18560,     150,    4600,   13740,    2790,   19990,     980,\n",
       "          1120,   15416,    3410,    5840,    4170,   10170,     985,\n",
       "         22950,    1180,    1188,    2674,    4710,   18270,     770,\n",
       "         93940,    7110,   12642,    4920,    3290,   35890,    4363,\n",
       "          6445,   58220,    3740,    3500,    1600,    1420,    1729,\n",
       "          3250,     450,   11440,    4188,     530,   13354,   17300,\n",
       "          2180,     160,    1960,     359,     510,   19386,      75,\n",
       "          1885,    4040,   25790,   13203,    2250,   34990,    3430,\n",
       "         19490,     720,      60,    7390,    3910,   58550,     800,\n",
       "          7240,   18350,   18463,    3330,    6660,    4283,   60450,\n",
       "         24350,    9050,    5170,   28750,   11250,    1730,    5900,\n",
       "          2348,    3600,    1320,    3806,    2907,     971,   14990,\n",
       "           640,    8290,    5430,     820,    4685,    2610,   14250,\n",
       "           130,   52900,    3490,    4390,    9800,   13070,   15500,\n",
       "          6674,    3404,   18557,    8439,    8340,   27985,    6645,\n",
       "          8640,    6060,    1720,   15450,    1800,    8950,    8280,\n",
       "          1825,    5688,    4240,    2061,   12150,    1280,    8777,\n",
       "          9300,    8590,    6015,    1170,    4650,   39500,    6585,\n",
       "          5050,   14000,   32610,   16920,   65710,     725,    6438,\n",
       "         66350,    3320,   11490,    7500,    7550,   11565,    2752,\n",
       "         28060,    1707,    6780,    5390,    3260,   17940,   24990,\n",
       "          3980,    8529,    5440,    2510,   18893,   92550,   52480,\n",
       "          4140,    3520,    3180,    4120,     370,    6385,    9368,\n",
       "          3780,    1329,    3020,    6180,   25250,    4940,   10380,\n",
       "         15380,     112,   31550,    8600,    6490,  202740])"
      ]
     },
     "execution_count": 23,
     "metadata": {},
     "output_type": "execute_result"
    }
   ],
   "source": [
    "orders['revenue'].unique()"
   ]
  },
  {
   "cell_type": "markdown",
   "metadata": {},
   "source": [
    "Аномальных значений нет."
   ]
  },
  {
   "cell_type": "code",
   "execution_count": 24,
   "metadata": {
    "scrolled": false
   },
   "outputs": [
    {
     "data": {
      "text/plain": [
       "array(['B', 'A'], dtype=object)"
      ]
     },
     "execution_count": 24,
     "metadata": {},
     "output_type": "execute_result"
    }
   ],
   "source": [
    "orders['group'].unique()"
   ]
  },
  {
   "cell_type": "markdown",
   "metadata": {},
   "source": [
    "Имеются группы: А и В. Всё корректно."
   ]
  },
  {
   "cell_type": "code",
   "execution_count": 25,
   "metadata": {},
   "outputs": [
    {
     "data": {
      "text/plain": [
       "count                    1197\n",
       "unique                     31\n",
       "top       2019-08-05 00:00:00\n",
       "freq                       48\n",
       "first     2019-08-01 00:00:00\n",
       "last      2019-08-31 00:00:00\n",
       "Name: date, dtype: object"
      ]
     },
     "execution_count": 25,
     "metadata": {},
     "output_type": "execute_result"
    }
   ],
   "source": [
    "orders['date'].describe()"
   ]
  },
  {
   "cell_type": "markdown",
   "metadata": {},
   "source": [
    "Даты за один период. Аномальных значений нет."
   ]
  },
  {
   "cell_type": "code",
   "execution_count": 26,
   "metadata": {
    "scrolled": true
   },
   "outputs": [
    {
     "data": {
      "text/plain": [
       "array(['A', 'B'], dtype=object)"
      ]
     },
     "execution_count": 26,
     "metadata": {},
     "output_type": "execute_result"
    }
   ],
   "source": [
    "visitors['group'].unique()"
   ]
  },
  {
   "cell_type": "markdown",
   "metadata": {},
   "source": [
    "Имеются группы: А и В. Всё корректно."
   ]
  },
  {
   "cell_type": "code",
   "execution_count": 27,
   "metadata": {
    "scrolled": true
   },
   "outputs": [
    {
     "data": {
      "text/plain": [
       "count                      62\n",
       "unique                     31\n",
       "top       2019-08-27 00:00:00\n",
       "freq                        2\n",
       "first     2019-08-01 00:00:00\n",
       "last      2019-08-31 00:00:00\n",
       "Name: date, dtype: object"
      ]
     },
     "execution_count": 27,
     "metadata": {},
     "output_type": "execute_result"
    }
   ],
   "source": [
    "visitors['date'].describe()"
   ]
  },
  {
   "cell_type": "markdown",
   "metadata": {},
   "source": [
    "Даты за один период. Аномальных значений нет."
   ]
  },
  {
   "cell_type": "code",
   "execution_count": 28,
   "metadata": {
    "scrolled": true
   },
   "outputs": [
    {
     "data": {
      "text/plain": [
       "array([719, 619, 507, 717, 756, 667, 644, 610, 617, 406, 718, 595, 748,\n",
       "       735, 628, 361, 412, 668, 502, 575, 646, 609, 468, 395, 621, 722,\n",
       "       711, 594, 577, 490, 699, 713, 581, 509, 770, 707, 655, 709, 654,\n",
       "       369, 721, 543, 769, 746, 544, 413, 421, 737, 487, 560, 656, 650,\n",
       "       546, 378, 679, 676, 720, 531])"
      ]
     },
     "execution_count": 28,
     "metadata": {},
     "output_type": "execute_result"
    }
   ],
   "source": [
    "visitors['visitors'].unique()"
   ]
  },
  {
   "cell_type": "markdown",
   "metadata": {},
   "source": [
    "Аномальных значений нет."
   ]
  },
  {
   "cell_type": "markdown",
   "metadata": {},
   "source": [
    "**Вывод**"
   ]
  },
  {
   "cell_type": "markdown",
   "metadata": {},
   "source": [
    "На данном этапе мы положили данные о визитах, заказах и рекламных тратах в переменные и подготовили данные к анализу. Изменили типы данных во всех колонках, как пологается, соответствуют нужным значениям. Явных дубликатов не обнаружено.\n"
   ]
  },
  {
   "cell_type": "markdown",
   "metadata": {},
   "source": [
    "<div class=\"alert alert-success\">\n",
    "<h2> Комментарий ревьюера <a class=\"tocSkip\"> </h2>\n",
    "\n",
    "<b>Все отлично!👍:</b> Данные осмотрели, проверили пропуски и дубликаты, преобразовали дату и столбцы - отлично!"
   ]
  },
  {
   "cell_type": "markdown",
   "metadata": {},
   "source": [
    "## Приоритизация гипотез"
   ]
  },
  {
   "cell_type": "markdown",
   "metadata": {},
   "source": [
    "Задача:\n",
    "\n",
    "- Применить фреймворк ICE для приоритизации гипотез. Отсортировать их по убыванию приоритета.\n",
    "- Применить фреймворк RICE для приоритизации гипотез. Отсортировать их по убыванию приоритета.\n",
    "- Указать, как изменилась приоритизация гипотез при применении RICE вместо ICE. Объяснить, почему так произошло."
   ]
  },
  {
   "cell_type": "code",
   "execution_count": 29,
   "metadata": {},
   "outputs": [
    {
     "data": {
      "text/html": [
       "<div>\n",
       "<style scoped>\n",
       "    .dataframe tbody tr th:only-of-type {\n",
       "        vertical-align: middle;\n",
       "    }\n",
       "\n",
       "    .dataframe tbody tr th {\n",
       "        vertical-align: top;\n",
       "    }\n",
       "\n",
       "    .dataframe thead th {\n",
       "        text-align: right;\n",
       "    }\n",
       "</style>\n",
       "<table border=\"1\" class=\"dataframe\">\n",
       "  <thead>\n",
       "    <tr style=\"text-align: right;\">\n",
       "      <th></th>\n",
       "      <th>hypothesis</th>\n",
       "      <th>reach</th>\n",
       "      <th>impact</th>\n",
       "      <th>confidence</th>\n",
       "      <th>efforts</th>\n",
       "    </tr>\n",
       "  </thead>\n",
       "  <tbody>\n",
       "    <tr>\n",
       "      <th>0</th>\n",
       "      <td>Добавить два новых канала привлечения трафика, что позволит привлекать на 30% больше пользователей</td>\n",
       "      <td>3</td>\n",
       "      <td>10</td>\n",
       "      <td>8</td>\n",
       "      <td>6</td>\n",
       "    </tr>\n",
       "    <tr>\n",
       "      <th>1</th>\n",
       "      <td>Запустить собственную службу доставки, что сократит срок доставки заказов</td>\n",
       "      <td>2</td>\n",
       "      <td>5</td>\n",
       "      <td>4</td>\n",
       "      <td>10</td>\n",
       "    </tr>\n",
       "    <tr>\n",
       "      <th>2</th>\n",
       "      <td>Добавить блоки рекомендаций товаров на сайт интернет магазина, чтобы повысить конверсию и средний чек заказа</td>\n",
       "      <td>8</td>\n",
       "      <td>3</td>\n",
       "      <td>7</td>\n",
       "      <td>3</td>\n",
       "    </tr>\n",
       "    <tr>\n",
       "      <th>3</th>\n",
       "      <td>Изменить структура категорий, что увеличит конверсию, т.к. пользователи быстрее найдут нужный товар</td>\n",
       "      <td>8</td>\n",
       "      <td>3</td>\n",
       "      <td>3</td>\n",
       "      <td>8</td>\n",
       "    </tr>\n",
       "    <tr>\n",
       "      <th>4</th>\n",
       "      <td>Изменить цвет фона главной страницы, чтобы увеличить вовлеченность пользователей</td>\n",
       "      <td>3</td>\n",
       "      <td>1</td>\n",
       "      <td>1</td>\n",
       "      <td>1</td>\n",
       "    </tr>\n",
       "    <tr>\n",
       "      <th>5</th>\n",
       "      <td>Добавить страницу отзывов клиентов о магазине, что позволит увеличить количество заказов</td>\n",
       "      <td>3</td>\n",
       "      <td>2</td>\n",
       "      <td>2</td>\n",
       "      <td>3</td>\n",
       "    </tr>\n",
       "    <tr>\n",
       "      <th>6</th>\n",
       "      <td>Показать на главной странице баннеры с актуальными акциями и распродажами, чтобы увеличить конверсию</td>\n",
       "      <td>5</td>\n",
       "      <td>3</td>\n",
       "      <td>8</td>\n",
       "      <td>3</td>\n",
       "    </tr>\n",
       "    <tr>\n",
       "      <th>7</th>\n",
       "      <td>Добавить форму подписки на все основные страницы, чтобы собрать базу клиентов для email-рассылок</td>\n",
       "      <td>10</td>\n",
       "      <td>7</td>\n",
       "      <td>8</td>\n",
       "      <td>5</td>\n",
       "    </tr>\n",
       "    <tr>\n",
       "      <th>8</th>\n",
       "      <td>Запустить акцию, дающую скидку на товар в день рождения</td>\n",
       "      <td>1</td>\n",
       "      <td>9</td>\n",
       "      <td>9</td>\n",
       "      <td>5</td>\n",
       "    </tr>\n",
       "  </tbody>\n",
       "</table>\n",
       "</div>"
      ],
      "text/plain": [
       "                                                                                                     hypothesis  \\\n",
       "0            Добавить два новых канала привлечения трафика, что позволит привлекать на 30% больше пользователей   \n",
       "1                                     Запустить собственную службу доставки, что сократит срок доставки заказов   \n",
       "2  Добавить блоки рекомендаций товаров на сайт интернет магазина, чтобы повысить конверсию и средний чек заказа   \n",
       "3           Изменить структура категорий, что увеличит конверсию, т.к. пользователи быстрее найдут нужный товар   \n",
       "4                              Изменить цвет фона главной страницы, чтобы увеличить вовлеченность пользователей   \n",
       "5                      Добавить страницу отзывов клиентов о магазине, что позволит увеличить количество заказов   \n",
       "6          Показать на главной странице баннеры с актуальными акциями и распродажами, чтобы увеличить конверсию   \n",
       "7              Добавить форму подписки на все основные страницы, чтобы собрать базу клиентов для email-рассылок   \n",
       "8                                                       Запустить акцию, дающую скидку на товар в день рождения   \n",
       "\n",
       "   reach  impact  confidence  efforts  \n",
       "0      3      10           8        6  \n",
       "1      2       5           4       10  \n",
       "2      8       3           7        3  \n",
       "3      8       3           3        8  \n",
       "4      3       1           1        1  \n",
       "5      3       2           2        3  \n",
       "6      5       3           8        3  \n",
       "7     10       7           8        5  \n",
       "8      1       9           9        5  "
      ]
     },
     "execution_count": 29,
     "metadata": {},
     "output_type": "execute_result"
    }
   ],
   "source": [
    "hypothesis"
   ]
  },
  {
   "cell_type": "markdown",
   "metadata": {},
   "source": [
    "### Примение фреймворк ICE для приоритизации гипотез."
   ]
  },
  {
   "cell_type": "code",
   "execution_count": 30,
   "metadata": {},
   "outputs": [],
   "source": [
    "hypothesis['ICE'] = (hypothesis['impact']*hypothesis['confidence'])/hypothesis['efforts']"
   ]
  },
  {
   "cell_type": "code",
   "execution_count": 31,
   "metadata": {},
   "outputs": [
    {
     "data": {
      "text/html": [
       "<div>\n",
       "<style scoped>\n",
       "    .dataframe tbody tr th:only-of-type {\n",
       "        vertical-align: middle;\n",
       "    }\n",
       "\n",
       "    .dataframe tbody tr th {\n",
       "        vertical-align: top;\n",
       "    }\n",
       "\n",
       "    .dataframe thead th {\n",
       "        text-align: right;\n",
       "    }\n",
       "</style>\n",
       "<table border=\"1\" class=\"dataframe\">\n",
       "  <thead>\n",
       "    <tr style=\"text-align: right;\">\n",
       "      <th></th>\n",
       "      <th>hypothesis</th>\n",
       "      <th>ICE</th>\n",
       "    </tr>\n",
       "  </thead>\n",
       "  <tbody>\n",
       "    <tr>\n",
       "      <th>8</th>\n",
       "      <td>Запустить акцию, дающую скидку на товар в день рождения</td>\n",
       "      <td>16.2</td>\n",
       "    </tr>\n",
       "    <tr>\n",
       "      <th>0</th>\n",
       "      <td>Добавить два новых канала привлечения трафика, что позволит привлекать на 30% больше пользователей</td>\n",
       "      <td>13.3</td>\n",
       "    </tr>\n",
       "    <tr>\n",
       "      <th>7</th>\n",
       "      <td>Добавить форму подписки на все основные страницы, чтобы собрать базу клиентов для email-рассылок</td>\n",
       "      <td>11.2</td>\n",
       "    </tr>\n",
       "    <tr>\n",
       "      <th>6</th>\n",
       "      <td>Показать на главной странице баннеры с актуальными акциями и распродажами, чтобы увеличить конверсию</td>\n",
       "      <td>8.0</td>\n",
       "    </tr>\n",
       "    <tr>\n",
       "      <th>2</th>\n",
       "      <td>Добавить блоки рекомендаций товаров на сайт интернет магазина, чтобы повысить конверсию и средний чек заказа</td>\n",
       "      <td>7.0</td>\n",
       "    </tr>\n",
       "    <tr>\n",
       "      <th>1</th>\n",
       "      <td>Запустить собственную службу доставки, что сократит срок доставки заказов</td>\n",
       "      <td>2.0</td>\n",
       "    </tr>\n",
       "    <tr>\n",
       "      <th>5</th>\n",
       "      <td>Добавить страницу отзывов клиентов о магазине, что позволит увеличить количество заказов</td>\n",
       "      <td>1.3</td>\n",
       "    </tr>\n",
       "    <tr>\n",
       "      <th>3</th>\n",
       "      <td>Изменить структура категорий, что увеличит конверсию, т.к. пользователи быстрее найдут нужный товар</td>\n",
       "      <td>1.1</td>\n",
       "    </tr>\n",
       "    <tr>\n",
       "      <th>4</th>\n",
       "      <td>Изменить цвет фона главной страницы, чтобы увеличить вовлеченность пользователей</td>\n",
       "      <td>1.0</td>\n",
       "    </tr>\n",
       "  </tbody>\n",
       "</table>\n",
       "</div>"
      ],
      "text/plain": [
       "                                                                                                     hypothesis  \\\n",
       "8                                                       Запустить акцию, дающую скидку на товар в день рождения   \n",
       "0            Добавить два новых канала привлечения трафика, что позволит привлекать на 30% больше пользователей   \n",
       "7              Добавить форму подписки на все основные страницы, чтобы собрать базу клиентов для email-рассылок   \n",
       "6          Показать на главной странице баннеры с актуальными акциями и распродажами, чтобы увеличить конверсию   \n",
       "2  Добавить блоки рекомендаций товаров на сайт интернет магазина, чтобы повысить конверсию и средний чек заказа   \n",
       "1                                     Запустить собственную службу доставки, что сократит срок доставки заказов   \n",
       "5                      Добавить страницу отзывов клиентов о магазине, что позволит увеличить количество заказов   \n",
       "3           Изменить структура категорий, что увеличит конверсию, т.к. пользователи быстрее найдут нужный товар   \n",
       "4                              Изменить цвет фона главной страницы, чтобы увеличить вовлеченность пользователей   \n",
       "\n",
       "   ICE  \n",
       "8 16.2  \n",
       "0 13.3  \n",
       "7 11.2  \n",
       "6  8.0  \n",
       "2  7.0  \n",
       "1  2.0  \n",
       "5  1.3  \n",
       "3  1.1  \n",
       "4  1.0  "
      ]
     },
     "execution_count": 31,
     "metadata": {},
     "output_type": "execute_result"
    }
   ],
   "source": [
    "hypothesis[['hypothesis','ICE' ]].sort_values(by='ICE', ascending=False)"
   ]
  },
  {
   "cell_type": "markdown",
   "metadata": {},
   "source": [
    "<div class=\"alert alert-success\">\n",
    "<h2> Комментарий ревьюера <a class=\"tocSkip\"> </h2>\n",
    "\n",
    "<b>Все отлично!👍:</b> Приоритизация по ICE в порядке!"
   ]
  },
  {
   "cell_type": "markdown",
   "metadata": {},
   "source": [
    "### Примение фреймворк RICE для приоритизации гипотез."
   ]
  },
  {
   "cell_type": "code",
   "execution_count": 32,
   "metadata": {},
   "outputs": [],
   "source": [
    "hypothesis['RICE'] = (hypothesis['reach']*hypothesis['impact']*hypothesis['confidence'])/hypothesis['efforts']"
   ]
  },
  {
   "cell_type": "code",
   "execution_count": 33,
   "metadata": {},
   "outputs": [
    {
     "data": {
      "text/html": [
       "<div>\n",
       "<style scoped>\n",
       "    .dataframe tbody tr th:only-of-type {\n",
       "        vertical-align: middle;\n",
       "    }\n",
       "\n",
       "    .dataframe tbody tr th {\n",
       "        vertical-align: top;\n",
       "    }\n",
       "\n",
       "    .dataframe thead th {\n",
       "        text-align: right;\n",
       "    }\n",
       "</style>\n",
       "<table border=\"1\" class=\"dataframe\">\n",
       "  <thead>\n",
       "    <tr style=\"text-align: right;\">\n",
       "      <th></th>\n",
       "      <th>hypothesis</th>\n",
       "      <th>RICE</th>\n",
       "    </tr>\n",
       "  </thead>\n",
       "  <tbody>\n",
       "    <tr>\n",
       "      <th>7</th>\n",
       "      <td>Добавить форму подписки на все основные страницы, чтобы собрать базу клиентов для email-рассылок</td>\n",
       "      <td>112.0</td>\n",
       "    </tr>\n",
       "    <tr>\n",
       "      <th>2</th>\n",
       "      <td>Добавить блоки рекомендаций товаров на сайт интернет магазина, чтобы повысить конверсию и средний чек заказа</td>\n",
       "      <td>56.0</td>\n",
       "    </tr>\n",
       "    <tr>\n",
       "      <th>0</th>\n",
       "      <td>Добавить два новых канала привлечения трафика, что позволит привлекать на 30% больше пользователей</td>\n",
       "      <td>40.0</td>\n",
       "    </tr>\n",
       "    <tr>\n",
       "      <th>6</th>\n",
       "      <td>Показать на главной странице баннеры с актуальными акциями и распродажами, чтобы увеличить конверсию</td>\n",
       "      <td>40.0</td>\n",
       "    </tr>\n",
       "    <tr>\n",
       "      <th>8</th>\n",
       "      <td>Запустить акцию, дающую скидку на товар в день рождения</td>\n",
       "      <td>16.2</td>\n",
       "    </tr>\n",
       "    <tr>\n",
       "      <th>3</th>\n",
       "      <td>Изменить структура категорий, что увеличит конверсию, т.к. пользователи быстрее найдут нужный товар</td>\n",
       "      <td>9.0</td>\n",
       "    </tr>\n",
       "    <tr>\n",
       "      <th>1</th>\n",
       "      <td>Запустить собственную службу доставки, что сократит срок доставки заказов</td>\n",
       "      <td>4.0</td>\n",
       "    </tr>\n",
       "    <tr>\n",
       "      <th>5</th>\n",
       "      <td>Добавить страницу отзывов клиентов о магазине, что позволит увеличить количество заказов</td>\n",
       "      <td>4.0</td>\n",
       "    </tr>\n",
       "    <tr>\n",
       "      <th>4</th>\n",
       "      <td>Изменить цвет фона главной страницы, чтобы увеличить вовлеченность пользователей</td>\n",
       "      <td>3.0</td>\n",
       "    </tr>\n",
       "  </tbody>\n",
       "</table>\n",
       "</div>"
      ],
      "text/plain": [
       "                                                                                                     hypothesis  \\\n",
       "7              Добавить форму подписки на все основные страницы, чтобы собрать базу клиентов для email-рассылок   \n",
       "2  Добавить блоки рекомендаций товаров на сайт интернет магазина, чтобы повысить конверсию и средний чек заказа   \n",
       "0            Добавить два новых канала привлечения трафика, что позволит привлекать на 30% больше пользователей   \n",
       "6          Показать на главной странице баннеры с актуальными акциями и распродажами, чтобы увеличить конверсию   \n",
       "8                                                       Запустить акцию, дающую скидку на товар в день рождения   \n",
       "3           Изменить структура категорий, что увеличит конверсию, т.к. пользователи быстрее найдут нужный товар   \n",
       "1                                     Запустить собственную службу доставки, что сократит срок доставки заказов   \n",
       "5                      Добавить страницу отзывов клиентов о магазине, что позволит увеличить количество заказов   \n",
       "4                              Изменить цвет фона главной страницы, чтобы увеличить вовлеченность пользователей   \n",
       "\n",
       "   RICE  \n",
       "7 112.0  \n",
       "2  56.0  \n",
       "0  40.0  \n",
       "6  40.0  \n",
       "8  16.2  \n",
       "3   9.0  \n",
       "1   4.0  \n",
       "5   4.0  \n",
       "4   3.0  "
      ]
     },
     "execution_count": 33,
     "metadata": {},
     "output_type": "execute_result"
    }
   ],
   "source": [
    "hypothesis[['hypothesis','RICE' ]].sort_values(by='RICE', ascending=False)"
   ]
  },
  {
   "cell_type": "markdown",
   "metadata": {},
   "source": [
    "<div class=\"alert alert-success\">\n",
    "<h2> Комментарий ревьюера <a class=\"tocSkip\"> </h2>\n",
    "\n",
    "<b>Все отлично!👍:</b> Приоритизация по RICE выполнена."
   ]
  },
  {
   "cell_type": "markdown",
   "metadata": {},
   "source": [
    "**Вывод**"
   ]
  },
  {
   "cell_type": "markdown",
   "metadata": {},
   "source": [
    "Видно различие в обеих таблицах. \n",
    "\n",
    "Главное меняется лидеры: При применении ICE наиболее перспективные гипотезы 8, 0, 7 и 6, а RICE показывает, что на первом месте уже гипотеза 7, потом 2,0 и 6. Лидер таблицы ICE - 8 сместился аж на пятыю позицыию, в то время как 2 перешел на второе место с пятого. Такое отличие продиктовано, тем что в фреймворке RICE мы учитываем важный параметр - Reach (скольких пользователей затронет изменение, которое мы хотим внести), и в гипотезах 7 и 2 он очень высок. В 7 он 10, а в 2 он 8, тоже высокий. Лидере ICE - в 8 он минимальный - 1."
   ]
  },
  {
   "cell_type": "markdown",
   "metadata": {},
   "source": [
    "<div class=\"alert alert-success\">\n",
    "<h2> Комментарий ревьюера <a class=\"tocSkip\"> </h2>\n",
    "\n",
    "<b>Все отлично!👍:</b> Пояснили различия фреймворков, а также интерпретировали различия в приоритетах гипотез - отлично!"
   ]
  },
  {
   "cell_type": "markdown",
   "metadata": {},
   "source": [
    "## Анализ A/B-теста"
   ]
  },
  {
   "cell_type": "markdown",
   "metadata": {},
   "source": [
    " Проанализировать A/B-тест:\n",
    " \n",
    "- Построить график кумулятивной выручки по группам. Сделайть выводы и предположения.\n",
    "- Построить график кумулятивного среднего чека по группам. Сделать выводы и предположения.\n",
    "- Построить график относительного изменения кумулятивного среднего чека группы B к группе A. Сделать выводы и предположения.\n",
    "- Построить график кумулятивного среднего количества заказов на посетителя по группам. Сделать выводы и предположения.\n",
    "- Построить график относительного изменения кумулятивного среднего количества заказов на посетителя группы B к группе A. Сделать выводы и предположения.\n",
    "- Построить точечный график количества заказов по пользователям. Сделать выводы и предположения.\n",
    "- Посчитать 95-й и 99-й перцентили количества заказов на пользователя. Выбрать границу для определения аномальных пользователей.\n",
    "- Построить точечный график стоимостей заказов. Сделать выводы и предположения.\n",
    "- Посчитать 95-й и 99-й перцентили стоимости заказов. Выбрать границу для определения аномальных заказов.\n",
    "- Посчитать статистическую значимость различий в среднем количестве заказов на посетителя между группами по «сырым» данным. Сделать выводы и предположения.\n",
    "- Посчитать статистическую значимость различий в среднем чеке заказа между группами по «сырым» данным. Сделать выводы и предположения.\n",
    "- Посчитать статистическую значимость различий в среднем количестве заказов на посетителя между группами по «очищенным» данным. Сделать выводы и предположения.\n",
    "- Посчитать статистическую значимость различий в среднем чеке заказа между группами по «очищенным» данным. Сделать выводы и предположения."
   ]
  },
  {
   "cell_type": "markdown",
   "metadata": {},
   "source": [
    "Результаты A/B-теста описаны в файлах /datasets/orders.csv и /datasets/visitors.csv. Мы положили данные о визитах, заказах переменные и подготовили данные к анализу. "
   ]
  },
  {
   "cell_type": "markdown",
   "metadata": {},
   "source": [
    "<div class=\"alert alert-warning\">\n",
    "    <h2> Комментарий ревьюера <a class=\"tocSkip\"> </h2>\n",
    "    \n",
    "<b>Некоторые замечания и рекомендации⚠️:</b> \n",
    "\n",
    "При анализе А/В тестов очень важно отвтетить на следующие вопросы:\n",
    "- сколько у нас групп в А/В тесте - важно понять, парный он или множественный;\n",
    "- даты начала и окончания теста - не помешает в целом понимание временных рамок теста, а также в случае, если у нас есть информация о том, как тест был запроектирован, важно сравнить даты его фактического проведения с запланированными;\n",
    "- сколько пользователей в каждой группе (по таблице с заказами) - поможет сделать вывод о сбалансированности групп по числу пользователей.\n",
    "         \n",
    "</div>"
   ]
  },
  {
   "cell_type": "markdown",
   "metadata": {},
   "source": [
    "<div class=\"alert alert-info\">\n",
    "<h2> Комментарий студента <a class=\"tocSkip\"> </h2>\n",
    "\n",
    "Добавил.\n",
    "\n",
    "</div>"
   ]
  },
  {
   "cell_type": "markdown",
   "metadata": {},
   "source": [
    "<div class=\"alert alert-success\">\n",
    "<h2> Комментарий ревьюера v.2 <a class=\"tocSkip\"> </h2>\n",
    "\n",
    "<b>Все отлично!👍:</b> Учтено."
   ]
  },
  {
   "cell_type": "markdown",
   "metadata": {},
   "source": [
    "<div class=\"alert alert-block alert-danger\">\n",
    "<h2> Комментарий ревьюера <a class=\"tocSkip\"></h2>\n",
    "\n",
    "    \n",
    "<b>На доработку❌:</b>\n",
    "\n",
    "Очень важно также проверить, нет ли в данных пользователей, участвовавших в нескольких группах теста одновременно - это иногда случается в реальных А/В тестах из-за технических ошибок в распределяющей системе, и такие моменты важно отлавливать, потому что пользователи, участвующие в нескольких группах, не позволят проверсти корректное сравнение среднего количества заказов на посетителя между группами: если, например, пользователь, участвующий в обоих группах, совершил целевое событие, мы не сможем оценить, повлияло на это нововведение в системе, или это стандартное повдение пользователя.\n",
    "    \n",
    "Если такие пользователи найдутся, тебе, как аналитику, важно сделать вывод и принять решение о том, как дальше работать с такими пользователями - удалить из данных или продолжить работать с данными с учётом таких пользователей."
   ]
  },
  {
   "cell_type": "markdown",
   "metadata": {},
   "source": [
    "<div class=\"alert alert-info\">\n",
    "<h2> Комментарий студента <a class=\"tocSkip\"> </h2>\n",
    "\n",
    "Добавил проверку.\n",
    "\n",
    "</div>"
   ]
  },
  {
   "cell_type": "markdown",
   "metadata": {},
   "source": [
    "<div class=\"alert alert-success\">\n",
    "<h2> Комментарий ревьюера v.2 <a class=\"tocSkip\"> </h2>\n",
    "\n",
    "<b>Все отлично!👍:</b> Учтено."
   ]
  },
  {
   "cell_type": "markdown",
   "metadata": {},
   "source": [
    "### Соберем данные"
   ]
  },
  {
   "cell_type": "markdown",
   "metadata": {},
   "source": [
    "1. Создайте датафрейм datesGroups с уникальными парами значений 'date' и 'group', таблицы orders. Избавьтесь от дубликатов методом drop_duplicates().\n",
    "2. Объявите переменную ordersAggregated, содержащую:\n",
    "- дату;\n",
    "- группу A/B-теста;\n",
    "- число уникальных заказов в группе теста по указанную дату включительно;\n",
    "- число уникальных пользователей, совершивших хотя бы 1 заказ в группе теста по указанную дату включительно;\n",
    "- суммарную выручку заказов в группе теста по указанную дату включительно.\n",
    "3. Объявите переменную visitorsAggregated, содержащую:\n",
    "дату;\n",
    "группу A/B-теста;\n",
    "количество уникальных посетителей в группе теста по указанную дату включительно.\n",
    "4. ordersAggregated и visitorsAggregated отсортируйте по столбцам 'date', 'group' в указанном порядке.\n",
    "5. Определите переменную cumulativeData, объединив ordersAggregated и visitorsAggregated по колонкам 'date', 'group' методом merge()\n",
    "6. Присвойте столбцам cumulativeData названия ['date', 'group', 'orders', 'buyers', 'revenue', 'visitors']\n",
    "7. Выведите первые 5 строк переменной cumulativeData"
   ]
  },
  {
   "cell_type": "markdown",
   "metadata": {},
   "source": [
    "**Проверим группы на совпадения пользователей**"
   ]
  },
  {
   "cell_type": "code",
   "execution_count": 34,
   "metadata": {},
   "outputs": [
    {
     "name": "stdout",
     "output_type": "stream",
     "text": [
      "Количество пользователей в двух группах: 58\n",
      "Всего пользователей в тесте: 1031\n"
     ]
    }
   ],
   "source": [
    "group_a = orders[orders['group'] == 'A']['visitor_id']\n",
    "group_b = orders[orders['group'] == 'B']['visitor_id']\n",
    "orders_ab = orders.query('visitor_id in @group_a and visitor_id in @group_b')\n",
    "print('Количество пользователей в двух группах:', orders_ab['visitor_id'].nunique())\n",
    "print('Всего пользователей в тесте:', orders['visitor_id'].nunique())"
   ]
  },
  {
   "cell_type": "markdown",
   "metadata": {},
   "source": [
    "Имеем 58 пользователей который одновременно присутствуют в двух группах. \n",
    "\n",
    "Всего в таблице 1031 пользоватей. Наши пользователи из 2 групп составляют 5,6% от общего числа.\n",
    "\n",
    "Так как их процент от общего числа небольшой, очистим таблицу от этих пользователей, для корретного А/В теста."
   ]
  },
  {
   "cell_type": "code",
   "execution_count": 35,
   "metadata": {},
   "outputs": [
    {
     "name": "stdout",
     "output_type": "stream",
     "text": [
      "Всего пользователей в тесте осталось: 973\n"
     ]
    }
   ],
   "source": [
    "orders = orders.query('visitor_id not in @orders_ab[\"visitor_id\"]')\n",
    "print('Всего пользователей в тесте осталось:', orders['visitor_id'].nunique())"
   ]
  },
  {
   "cell_type": "markdown",
   "metadata": {},
   "source": [
    "**Посмотрим количество групп**"
   ]
  },
  {
   "cell_type": "code",
   "execution_count": 36,
   "metadata": {},
   "outputs": [
    {
     "data": {
      "text/plain": [
       "B    548\n",
       "A    468\n",
       "Name: group, dtype: int64"
      ]
     },
     "execution_count": 36,
     "metadata": {},
     "output_type": "execute_result"
    }
   ],
   "source": [
    "orders['group'].value_counts()"
   ]
  },
  {
   "cell_type": "markdown",
   "metadata": {},
   "source": [
    "Групп в А/В тесте у нас две, A и B.\n",
    "\n",
    "Количество пользователей в каждой группе:\n",
    "\n",
    "- A - 468;\n",
    "- B - 548."
   ]
  },
  {
   "cell_type": "markdown",
   "metadata": {},
   "source": [
    "**Посмотрим временные рамки теста**"
   ]
  },
  {
   "cell_type": "code",
   "execution_count": 37,
   "metadata": {},
   "outputs": [
    {
     "data": {
      "text/plain": [
       "count                    1016\n",
       "unique                     31\n",
       "top       2019-08-05 00:00:00\n",
       "freq                       43\n",
       "first     2019-08-01 00:00:00\n",
       "last      2019-08-31 00:00:00\n",
       "Name: date, dtype: object"
      ]
     },
     "execution_count": 37,
     "metadata": {},
     "output_type": "execute_result"
    }
   ],
   "source": [
    "orders['date'].describe()"
   ]
  },
  {
   "cell_type": "markdown",
   "metadata": {},
   "source": [
    "- дата начала - 2019-08-01;\n",
    "- даты окончания теста - 2019-08-31."
   ]
  },
  {
   "cell_type": "markdown",
   "metadata": {},
   "source": [
    "**Cоздадим массив уникальных пар значений дат и групп теста**"
   ]
  },
  {
   "cell_type": "code",
   "execution_count": 38,
   "metadata": {},
   "outputs": [
    {
     "data": {
      "text/html": [
       "<div>\n",
       "<style scoped>\n",
       "    .dataframe tbody tr th:only-of-type {\n",
       "        vertical-align: middle;\n",
       "    }\n",
       "\n",
       "    .dataframe tbody tr th {\n",
       "        vertical-align: top;\n",
       "    }\n",
       "\n",
       "    .dataframe thead th {\n",
       "        text-align: right;\n",
       "    }\n",
       "</style>\n",
       "<table border=\"1\" class=\"dataframe\">\n",
       "  <thead>\n",
       "    <tr style=\"text-align: right;\">\n",
       "      <th></th>\n",
       "      <th>date</th>\n",
       "      <th>group</th>\n",
       "      <th>orders</th>\n",
       "      <th>buyers</th>\n",
       "      <th>revenue</th>\n",
       "      <th>visitors</th>\n",
       "    </tr>\n",
       "  </thead>\n",
       "  <tbody>\n",
       "    <tr>\n",
       "      <th>0</th>\n",
       "      <td>2019-08-01</td>\n",
       "      <td>A</td>\n",
       "      <td>23</td>\n",
       "      <td>19</td>\n",
       "      <td>142779</td>\n",
       "      <td>719</td>\n",
       "    </tr>\n",
       "    <tr>\n",
       "      <th>1</th>\n",
       "      <td>2019-08-01</td>\n",
       "      <td>B</td>\n",
       "      <td>17</td>\n",
       "      <td>17</td>\n",
       "      <td>59758</td>\n",
       "      <td>713</td>\n",
       "    </tr>\n",
       "    <tr>\n",
       "      <th>2</th>\n",
       "      <td>2019-08-02</td>\n",
       "      <td>A</td>\n",
       "      <td>42</td>\n",
       "      <td>36</td>\n",
       "      <td>234381</td>\n",
       "      <td>1338</td>\n",
       "    </tr>\n",
       "    <tr>\n",
       "      <th>3</th>\n",
       "      <td>2019-08-02</td>\n",
       "      <td>B</td>\n",
       "      <td>40</td>\n",
       "      <td>39</td>\n",
       "      <td>221801</td>\n",
       "      <td>1294</td>\n",
       "    </tr>\n",
       "    <tr>\n",
       "      <th>4</th>\n",
       "      <td>2019-08-03</td>\n",
       "      <td>A</td>\n",
       "      <td>66</td>\n",
       "      <td>60</td>\n",
       "      <td>346854</td>\n",
       "      <td>1845</td>\n",
       "    </tr>\n",
       "  </tbody>\n",
       "</table>\n",
       "</div>"
      ],
      "text/plain": [
       "        date group  orders  buyers  revenue  visitors\n",
       "0 2019-08-01     A      23      19   142779       719\n",
       "1 2019-08-01     B      17      17    59758       713\n",
       "2 2019-08-02     A      42      36   234381      1338\n",
       "3 2019-08-02     B      40      39   221801      1294\n",
       "4 2019-08-03     A      66      60   346854      1845"
      ]
     },
     "execution_count": 38,
     "metadata": {},
     "output_type": "execute_result"
    }
   ],
   "source": [
    "# создаем массив уникальных пар значений дат и групп теста\n",
    "datesGroups = orders[['date','group']].drop_duplicates()\n",
    "\n",
    "# получаем агрегированные кумулятивные по дням данные о заказах \n",
    "ordersAggregated = datesGroups.apply(lambda x: orders[np.logical_and(orders['date'] <= x['date'], orders['group'] == x['group'])].agg({\n",
    "'date' : 'max', \n",
    "'group' : 'max', \n",
    "'transaction_id' : 'nunique',\n",
    "'visitor_id' : 'nunique',\n",
    "'revenue' : 'sum'}), axis=1).sort_values(by=['date','group'])\n",
    "\n",
    "# получаем агрегированные кумулятивные по дням данные о посетителях интернет-магазина \n",
    "visitorsAggregated = datesGroups.apply(lambda x: visitors[np.logical_and(visitors['date'] <= x['date'], visitors['group'] == x['group'])].agg({'date' : 'max', 'group' : 'max', 'visitors' : 'sum'}), axis=1).sort_values(by=['date','group'])\n",
    "\n",
    "# объединяем кумулятивные данные в одной таблице и присваиваем ее столбцам понятные названия\n",
    "cumulativeData = ordersAggregated.merge(visitorsAggregated, left_on=['date', 'group'], right_on=['date', 'group'])\n",
    "cumulativeData.columns = ['date', 'group', 'orders', 'buyers', 'revenue', 'visitors']\n",
    "\n",
    "cumulativeData.head(5)"
   ]
  },
  {
   "cell_type": "markdown",
   "metadata": {},
   "source": [
    "<div class=\"alert alert-success\">\n",
    "<h2> Комментарий ревьюера <a class=\"tocSkip\"> </h2>\n",
    "\n",
    "<b>Все отлично!👍:</b> Кумулятивные данные собрали - отлично!"
   ]
  },
  {
   "cell_type": "markdown",
   "metadata": {},
   "source": [
    "**Вывод**"
   ]
  },
  {
   "cell_type": "markdown",
   "metadata": {},
   "source": [
    "Были обнаружены пользователи, которые присутствуют в обоих группах. Очистили таблицу от этих пользователей.\n",
    "\n",
    "Групп в А/В тесте у нас две, A и B.Количество пользователей в каждой группе:\n",
    "- A - 468;\n",
    "- B - 548.\n",
    "\n",
    "Временные рамки теста:\n",
    "\n",
    "- дата начала - 2019-08-01;\n",
    "- даты окончания теста - 2019-08-31.\n"
   ]
  },
  {
   "cell_type": "markdown",
   "metadata": {},
   "source": [
    "### График кумулятивной выручки по группам"
   ]
  },
  {
   "cell_type": "code",
   "execution_count": 39,
   "metadata": {},
   "outputs": [
    {
     "data": {
      "image/png": "[encoded data removed]",
      "text/plain": [
       "<Figure size 1080x576 with 1 Axes>"
      ]
     },
     "metadata": {
      "needs_background": "light"
     },
     "output_type": "display_data"
    }
   ],
   "source": [
    "# датафрейм с кумулятивным количеством заказов и кумулятивной выручкой по дням в группе А\n",
    "cumulativeRevenueA = cumulativeData[cumulativeData['group']=='A'][['date','revenue', 'orders']]\n",
    "\n",
    "# датафрейм с кумулятивным количеством заказов и кумулятивной выручкой по дням в группе B\n",
    "cumulativeRevenueB = cumulativeData[cumulativeData['group']=='B'][['date','revenue', 'orders']]\n",
    "\n",
    "plt.figure(figsize=(15,8))\n",
    "\n",
    "# Строим график выручки группы А\n",
    "plt.plot(cumulativeRevenueA['date'], cumulativeRevenueA['revenue'], label='A')\n",
    "\n",
    "# Строим график выручки группы B\n",
    "plt.plot(cumulativeRevenueB['date'], cumulativeRevenueB['revenue'], label='B')\n",
    "\n",
    "\n",
    "plt.title('График кумулятивной выручки по группам', fontsize = 16)\n",
    "plt.ylabel('Выручка', fontsize = 14)\n",
    "plt.xlabel('Даты теста', fontsize = 14)\n",
    "plt.tick_params(axis='x', labelsize=12)\n",
    "plt.tick_params(axis='y', labelsize=12)\n",
    "plt.xticks(rotation=0)\n",
    "plt.legend()\n",
    "plt.grid()\n",
    "plt.show()"
   ]
  },
  {
   "cell_type": "markdown",
   "metadata": {},
   "source": [
    "<div class=\"alert alert-block alert-danger\">\n",
    "<h2> Комментарий ревьюера <a class=\"tocSkip\"></h2>\n",
    "\n",
    "    \n",
    "<b>На доработку❌:</b>\n",
    "\n",
    "Убедись, пожалуйста, что на графиках проекта подписаны оси Х и Y - не везде всего хватает."
   ]
  },
  {
   "cell_type": "markdown",
   "metadata": {},
   "source": [
    "<div class=\"alert alert-info\">\n",
    "<h2> Комментарий студента <a class=\"tocSkip\"> </h2>\n",
    "\n",
    "Добавил.\n",
    "\n",
    "</div>"
   ]
  },
  {
   "cell_type": "markdown",
   "metadata": {},
   "source": [
    "<div class=\"alert alert-success\">\n",
    "<h2> Комментарий ревьюера v.2 <a class=\"tocSkip\"> </h2>\n",
    "\n",
    "<b>Все отлично!👍:</b> Учтено."
   ]
  },
  {
   "cell_type": "markdown",
   "metadata": {},
   "source": [
    "**Вывод**"
   ]
  },
  {
   "cell_type": "markdown",
   "metadata": {},
   "source": [
    "В первой половине месяца мы видим, что выручка в двух групп растёт стабильно и примерно одинаково. 13 августа они сравниваются.\n",
    "\n",
    "Во второй половине месяца мы видим у группы \"В\" резкий скачек в районе 17-18 числа, что может говорить о выбросах. Далее хорошо видно, что её выручка значительно больше.\n",
    "Скорее всего сильный всплеск выручки в группе \"B\" 18 августа может быть связан с крупными заказами. Если отбросить его, то по графикам можно предположить, что выручки росли примерно одинаково, но у группы \"В\" она все равно выше."
   ]
  },
  {
   "cell_type": "markdown",
   "metadata": {},
   "source": [
    "### График кумулятивного среднего чека по группам"
   ]
  },
  {
   "cell_type": "code",
   "execution_count": 40,
   "metadata": {
    "scrolled": false
   },
   "outputs": [
    {
     "data": {
      "image/png": "[encoded data removed]",
      "text/plain": [
       "<Figure size 1080x576 with 1 Axes>"
      ]
     },
     "metadata": {
      "needs_background": "light"
     },
     "output_type": "display_data"
    }
   ],
   "source": [
    "plt.figure(figsize=(15,8))\n",
    "plt.plot(cumulativeRevenueA['date'], cumulativeRevenueA['revenue']/cumulativeRevenueA['orders'], label='A')\n",
    "plt.plot(cumulativeRevenueB['date'], cumulativeRevenueB['revenue']/cumulativeRevenueB['orders'], label='B')\n",
    "\n",
    "\n",
    "plt.title('График кумулятивного среднего чека по группам', fontsize = 16)\n",
    "plt.ylabel('Выручка', fontsize = 14)\n",
    "plt.xlabel('Даты теста', fontsize = 14)\n",
    "plt.yticks(np.arange(4500, 11500, 1000))\n",
    "plt.tick_params(axis='x', labelsize=12)\n",
    "plt.tick_params(axis='y', labelsize=12)\n",
    "plt.xticks(rotation=0)\n",
    "plt.legend()\n",
    "plt.grid()\n",
    "plt.show()"
   ]
  },
  {
   "cell_type": "markdown",
   "metadata": {},
   "source": [
    "**Вывод**"
   ]
  },
  {
   "cell_type": "markdown",
   "metadata": {},
   "source": [
    "Кумулятивное значение среднего чека по группам колеблется. Заметен резкий скачок у группы В. Принимать решения по данной метрике рано и требуется анализ выбросов.\n",
    "\n",
    "На графике видим, что лидирует группа \"В\" до середины месяца, изредка чек группы \"А\" выше. В районе 18.08 происходит резкий рост группы \"В\" который доводит отрыв от группы \"А\" почти до 50%, далее начинается нисходящий тренд. В следствии которого отрыв у группы \"В\" уменьшается примерно до 25%.\n",
    "Причиной резкого роста среднего чека может быть та же, что и у кумулятивной выручк - это крупные заказы.\n",
    "Средний чек группы \"В\" еще не стабилизировался и в следствии этого можно ожидать дальнейшее падение."
   ]
  },
  {
   "cell_type": "markdown",
   "metadata": {},
   "source": [
    "### График относительного изменения кумулятивного среднего чека группы B к группе A."
   ]
  },
  {
   "cell_type": "markdown",
   "metadata": {},
   "source": [
    "Объединим таблицы cumulativeRevenueA и cumulativeRevenueB. \n",
    "\n",
    "Построим график относительно различия кумулятивного среднего чека группы B к группе A."
   ]
  },
  {
   "cell_type": "code",
   "execution_count": 41,
   "metadata": {
    "scrolled": false
   },
   "outputs": [
    {
     "data": {
      "image/png": "[encoded data removed]",
      "text/plain": [
       "<Figure size 1080x576 with 1 Axes>"
      ]
     },
     "metadata": {
      "needs_background": "light"
     },
     "output_type": "display_data"
    }
   ],
   "source": [
    "# собираем данные в одном датафрейме\n",
    "mergedCumulativeRevenue = cumulativeRevenueA.merge(cumulativeRevenueB, \n",
    "                                                   left_on='date', \n",
    "                                                   right_on='date', \n",
    "                                                   how='left', \n",
    "                                                   suffixes=['A', 'B'])\n",
    "\n",
    "# cтроим отношение средних чеков\n",
    "plt.figure(figsize=(15,8))\n",
    "plt.plot(mergedCumulativeRevenue['date'], \n",
    "         (mergedCumulativeRevenue['revenueB']/mergedCumulativeRevenue['ordersB'])/(mergedCumulativeRevenue['revenueA']/mergedCumulativeRevenue['ordersA'])-1,\n",
    "        label='Относительное  изменения кумулятивного среднего чека группы B к группе A')\n",
    "\n",
    "# добавляем ось X\n",
    "plt.axhline(y=0, color='red', linestyle='--') \n",
    "plt.title('График относительного изменения кумулятивного среднего чека группы B к группе A', fontsize = 16)\n",
    "plt.ylabel('Относительное изменение', fontsize = 14)\n",
    "plt.xlabel('Даты теста', fontsize = 14)\n",
    "#plt.axis(['2019-07-31', '2019-09-02', -0.3, 0.6])\n",
    "plt.xticks(rotation=0)\n",
    "plt.legend()\n",
    "plt.tick_params(axis='x', labelsize=12)\n",
    "plt.tick_params(axis='y', labelsize=12)\n",
    "plt.grid()\n",
    "plt.show()"
   ]
  },
  {
   "cell_type": "markdown",
   "metadata": {},
   "source": [
    "**Вывод**"
   ]
  },
  {
   "cell_type": "markdown",
   "metadata": {},
   "source": [
    "Результаты теста значительно и резко меняются в несколько дат. Видимо, именно тогда были совершены аномальные заказы."
   ]
  },
  {
   "cell_type": "markdown",
   "metadata": {},
   "source": [
    "### График кумулятивного среднего количества заказов на посетителя по группам"
   ]
  },
  {
   "cell_type": "markdown",
   "metadata": {},
   "source": [
    "Добавим в **cumulativeData** столбец **'conversion'** c отношением числа заказов к количеству пользователей в указанной группе в указанный день.\n",
    "\n",
    "Объявим переменные cumulativeDataA и cumulativeDataB, в которых сохраните данные о заказах в сегментах A и B соответственно. Построим график кумулятивного среднего количества заказов на посетителя по группам."
   ]
  },
  {
   "cell_type": "code",
   "execution_count": 42,
   "metadata": {
    "scrolled": true
   },
   "outputs": [
    {
     "data": {
      "image/png": "[encoded data removed]",
      "text/plain": [
       "<Figure size 1080x288 with 1 Axes>"
      ]
     },
     "metadata": {
      "needs_background": "light"
     },
     "output_type": "display_data"
    }
   ],
   "source": [
    "# считаем кумулятивную конверсию\n",
    "cumulativeData['conversion'] = cumulativeData['orders']/cumulativeData['visitors']\n",
    "\n",
    "cumulativeDataA = cumulativeData[cumulativeData['group'] == 'A']\n",
    "cumulativeDataB = cumulativeData[cumulativeData['group'] == 'B']\n",
    "\n",
    "\n",
    "# строим графики\n",
    "plt.figure(figsize=(15,4))\n",
    "plt.plot(cumulativeDataA['date'], cumulativeDataA['conversion'], label='A')\n",
    "plt.plot(cumulativeDataB['date'], cumulativeDataB['conversion'], label='B')\n",
    "plt.legend()\n",
    "\n",
    "# задаем масштаб осей\n",
    "plt.title('График кумулятивного среднего количества заказов на посетителя по группам', fontsize = 16)\n",
    "plt.ylabel('Среднее количество заказов на посетителя', fontsize = 14)\n",
    "plt.xlabel('Даты теста', fontsize = 14)\n",
    "plt.tick_params(axis='x', labelsize=12)\n",
    "plt.tick_params(axis='y', labelsize=12)\n",
    "plt.yticks(np.arange(0.025, 0.045, 0.005))\n",
    "plt.xticks(rotation=0)\n",
    "plt.legend()\n",
    "plt.grid()\n",
    "plt.show()\n"
   ]
  },
  {
   "cell_type": "markdown",
   "metadata": {},
   "source": [
    "**Вывод**"
   ]
  },
  {
   "cell_type": "markdown",
   "metadata": {},
   "source": [
    "В начале теста группа А имела выше показатель среднего количества заказов, позже снизалась и зафиксировалась на одном уровне. У группы В на графике видна обратная ситуация и значения выше сегмента А."
   ]
  },
  {
   "cell_type": "markdown",
   "metadata": {},
   "source": [
    "<div class=\"alert alert-block alert-danger\">\n",
    "<h2> Комментарий ревьюера <a class=\"tocSkip\"></h2>\n",
    "\n",
    "    \n",
    "<b>На доработку❌:</b>\n",
    "\n",
    "Тут в целом верно, но в выводе ты пишешь про конверсию, а анализируешь среднее количество покупок на посетителя - стоит скорректировать атрибуты графика и выводы по нему.\n",
    "    \n",
    "Разница между конверсией и средним количеством заказов на посетителя в том, что в случае конверсии у нас и в числителе, и в знаменателе уникальные пользователи, а во втором случае уникальные пользователи только в числителе - в знаменателе у нас агрегированная информация, и каждый уникальный пользователь наверняка совершил ни один просмотр перед покупкой, то есть метрики в чём-то схожи, но всё же разные."
   ]
  },
  {
   "cell_type": "markdown",
   "metadata": {},
   "source": [
    "<div class=\"alert alert-info\">\n",
    "<h2> Комментарий студента <a class=\"tocSkip\"> </h2>\n",
    "\n",
    "Не совсем понимаю тогда. Я специально заходил в пачку и смотрел в треде, что подразумевается под этим условием. Там как раз преподаватель ответил, что нам надо делать как теории и считать как конверсию. \n",
    "\n",
    "</div>"
   ]
  },
  {
   "cell_type": "markdown",
   "metadata": {},
   "source": [
    "<div class=\"alert alert-success\">\n",
    "<h2> Комментарий ревьюера v.2 <a class=\"tocSkip\"> </h2>\n",
    "\n",
    "<b>Все отлично!👍:</b> Тут всё же стоит придерживаться условия - в нём явно сказано, что мы работаем со средним количеством заказов на посетителя. Эта метрика отличается от конверсии."
   ]
  },
  {
   "cell_type": "markdown",
   "metadata": {},
   "source": [
    "### График относительного изменения кумулятивного среднего количества заказов на посетителя группы B к группе A"
   ]
  },
  {
   "cell_type": "markdown",
   "metadata": {},
   "source": [
    "Объедините таблицы **cumulativeDataA** и **cumulativeDataB** методом **merge()** так, чтобы она содержала столбцы: **['date', 'conversionA', 'conversionB']**.\n",
    "\n",
    "Сохраните в переменной **mergedCumulativeConversions**. "
   ]
  },
  {
   "cell_type": "code",
   "execution_count": 43,
   "metadata": {
    "scrolled": false
   },
   "outputs": [
    {
     "data": {
      "image/png": "[encoded data removed]",
      "text/plain": [
       "<Figure size 1080x576 with 1 Axes>"
      ]
     },
     "metadata": {
      "needs_background": "light"
     },
     "output_type": "display_data"
    }
   ],
   "source": [
    "mergedCumulativeConversions = cumulativeDataA[['date','conversion']].merge(cumulativeDataB[['date','conversion']], left_on='date', right_on='date', how='left', suffixes=['A', 'B'])\n",
    "\n",
    "plt.figure(figsize=(15,8))\n",
    "plt.plot(mergedCumulativeConversions['date'], mergedCumulativeConversions['conversionB']/mergedCumulativeConversions['conversionA']-1,\n",
    "         label=\"Относительное изменения кумулятивного среднего количества заказов на посетителя группы B к группе A\")\n",
    "plt.legend()\n",
    "\n",
    "plt.axhline(y=0, color='red', linestyle='--')\n",
    "plt.axhline(y= 0.2, color='green', linestyle='--')\n",
    "#plt.axis(['2019-07-31', '2019-09-01', -0.15, 0.25])\n",
    "plt.title('График относительного изменения кумулятивного среднего количества заказов на посетителя группы B к группе A', fontsize = 16)\n",
    "plt.xticks(rotation=0)\n",
    "plt.ylabel('Относительное изменение', fontsize = 14)\n",
    "plt.xlabel('Даты теста', fontsize = 14)\n",
    "plt.tick_params(axis='x', labelsize=12)\n",
    "plt.tick_params(axis='y', labelsize=12)\n",
    "plt.grid()\n",
    "plt.show()"
   ]
  },
  {
   "cell_type": "markdown",
   "metadata": {},
   "source": [
    "**Вывод**"
   ]
  },
  {
   "cell_type": "markdown",
   "metadata": {},
   "source": [
    "Результаты теста значительно и резко меняются в несколько дат. Видимо, именно тогда были совершены аномальные заказы."
   ]
  },
  {
   "cell_type": "markdown",
   "metadata": {},
   "source": [
    "### Точечный график количества заказов по пользователям."
   ]
  },
  {
   "cell_type": "markdown",
   "metadata": {},
   "source": [
    "**Cоздаем таблицу по заказам**"
   ]
  },
  {
   "cell_type": "code",
   "execution_count": 44,
   "metadata": {},
   "outputs": [
    {
     "data": {
      "text/html": [
       "<div>\n",
       "<style scoped>\n",
       "    .dataframe tbody tr th:only-of-type {\n",
       "        vertical-align: middle;\n",
       "    }\n",
       "\n",
       "    .dataframe tbody tr th {\n",
       "        vertical-align: top;\n",
       "    }\n",
       "\n",
       "    .dataframe thead th {\n",
       "        text-align: right;\n",
       "    }\n",
       "</style>\n",
       "<table border=\"1\" class=\"dataframe\">\n",
       "  <thead>\n",
       "    <tr style=\"text-align: right;\">\n",
       "      <th></th>\n",
       "      <th>user_id</th>\n",
       "      <th>orders</th>\n",
       "    </tr>\n",
       "  </thead>\n",
       "  <tbody>\n",
       "    <tr>\n",
       "      <th>908</th>\n",
       "      <td>3967698036</td>\n",
       "      <td>3</td>\n",
       "    </tr>\n",
       "    <tr>\n",
       "      <th>55</th>\n",
       "      <td>249864742</td>\n",
       "      <td>3</td>\n",
       "    </tr>\n",
       "    <tr>\n",
       "      <th>478</th>\n",
       "      <td>2108163459</td>\n",
       "      <td>3</td>\n",
       "    </tr>\n",
       "    <tr>\n",
       "      <th>687</th>\n",
       "      <td>2988190573</td>\n",
       "      <td>3</td>\n",
       "    </tr>\n",
       "    <tr>\n",
       "      <th>890</th>\n",
       "      <td>3908431265</td>\n",
       "      <td>3</td>\n",
       "    </tr>\n",
       "    <tr>\n",
       "      <th>138</th>\n",
       "      <td>611059232</td>\n",
       "      <td>3</td>\n",
       "    </tr>\n",
       "    <tr>\n",
       "      <th>632</th>\n",
       "      <td>2742574263</td>\n",
       "      <td>3</td>\n",
       "    </tr>\n",
       "    <tr>\n",
       "      <th>157</th>\n",
       "      <td>678354126</td>\n",
       "      <td>2</td>\n",
       "    </tr>\n",
       "    <tr>\n",
       "      <th>323</th>\n",
       "      <td>1404560065</td>\n",
       "      <td>2</td>\n",
       "    </tr>\n",
       "    <tr>\n",
       "      <th>452</th>\n",
       "      <td>1985475298</td>\n",
       "      <td>2</td>\n",
       "    </tr>\n",
       "  </tbody>\n",
       "</table>\n",
       "</div>"
      ],
      "text/plain": [
       "        user_id  orders\n",
       "908  3967698036       3\n",
       "55    249864742       3\n",
       "478  2108163459       3\n",
       "687  2988190573       3\n",
       "890  3908431265       3\n",
       "138   611059232       3\n",
       "632  2742574263       3\n",
       "157   678354126       2\n",
       "323  1404560065       2\n",
       "452  1985475298       2"
      ]
     },
     "execution_count": 44,
     "metadata": {},
     "output_type": "execute_result"
    }
   ],
   "source": [
    "ordersByUsers = (\n",
    "    orders.groupby('visitor_id', as_index=False)\n",
    "    .agg({'transaction_id': 'nunique'})\n",
    ")\n",
    "ordersByUsers.columns = ['user_id', 'orders']\n",
    "\n",
    "ordersByUsers.sort_values(by='orders', ascending=False).head(10)"
   ]
  },
  {
   "cell_type": "markdown",
   "metadata": {},
   "source": [
    "**Построим гистограмму распределения числа заказов по пользователям**"
   ]
  },
  {
   "cell_type": "code",
   "execution_count": 45,
   "metadata": {},
   "outputs": [
    {
     "data": {
      "image/png": "[encoded data removed]",
      "text/plain": [
       "<Figure size 576x360 with 1 Axes>"
      ]
     },
     "metadata": {
      "needs_background": "light"
     },
     "output_type": "display_data"
    }
   ],
   "source": [
    "plt.figure(figsize=(8,5))\n",
    "plt.hist(ordersByUsers['orders']) \n",
    "plt.title('Гистограмма распределения числа заказов по пользователям', fontsize = 16)\n",
    "plt.yticks(np.arange(0, 1000, 100))\n",
    "plt.xlabel('Число пользователей', fontsize = 14)\n",
    "plt.ylabel('Число заказов', fontsize = 14)\n",
    "plt.tick_params(axis='x', labelsize=12)\n",
    "plt.tick_params(axis='y', labelsize=12)\n",
    "plt.grid()\n",
    "plt.show()"
   ]
  },
  {
   "cell_type": "markdown",
   "metadata": {},
   "source": [
    "**Построим точечный график количества заказов по пользователям**"
   ]
  },
  {
   "cell_type": "code",
   "execution_count": 46,
   "metadata": {},
   "outputs": [
    {
     "data": {
      "image/png": "[encoded data removed]",
      "text/plain": [
       "<Figure size 1080x360 with 1 Axes>"
      ]
     },
     "metadata": {
      "needs_background": "light"
     },
     "output_type": "display_data"
    }
   ],
   "source": [
    "x_values = pd.Series(range(0,len(ordersByUsers['orders'])))\n",
    "\n",
    "plt.figure(figsize=(15,5))\n",
    "plt.scatter(x_values, ordersByUsers['orders'],color = 'red', alpha=0.4)\n",
    "plt.title('Точечный график количества заказов по пользователям', fontsize = 16)\n",
    "plt.xlabel('Число пользователей', fontsize = 14)\n",
    "plt.ylabel('Число заказов', fontsize = 14)\n",
    "plt.tick_params(axis='x', labelsize=12)\n",
    "plt.tick_params(axis='y', labelsize=12)\n",
    "plt.grid()\n",
    "plt.show()\n"
   ]
  },
  {
   "cell_type": "markdown",
   "metadata": {},
   "source": [
    "**Вывод**"
   ]
  },
  {
   "cell_type": "markdown",
   "metadata": {},
   "source": [
    "По графику и гистограмме видно, что большая часть людей совершает покупку один раз. Много пользователей, кто совершил 2-3 покупки."
   ]
  },
  {
   "cell_type": "markdown",
   "metadata": {},
   "source": [
    "<div class=\"alert alert-success\">\n",
    "<h2> Комментарий ревьюера <a class=\"tocSkip\"> </h2>\n",
    "\n",
    "<b>Все отлично!👍:</b> Проанализировали распределение количества покупок на пользователя и нашли аномальных покупателей - отлично!"
   ]
  },
  {
   "cell_type": "markdown",
   "metadata": {},
   "source": [
    "### 95-й и 99-й перцентили количества заказов на пользователя"
   ]
  },
  {
   "cell_type": "markdown",
   "metadata": {},
   "source": [
    "Посчитаем 95-й и 99-й выборочные перцентили количества заказов по пользователям. Выберем границу для определения аномальных пользователей."
   ]
  },
  {
   "cell_type": "code",
   "execution_count": 47,
   "metadata": {},
   "outputs": [
    {
     "name": "stdout",
     "output_type": "stream",
     "text": [
      "90 перцентиль: [1.]\n",
      "95 перцентиль: [1.]\n",
      "99 перцентиль: [2.]\n"
     ]
    }
   ],
   "source": [
    "print('90 перцентиль:', (np.percentile(ordersByUsers['orders'], [90])))\n",
    "print('95 перцентиль:', (np.percentile(ordersByUsers['orders'], [95])))\n",
    "print('99 перцентиль:', (np.percentile(ordersByUsers['orders'], [99])))"
   ]
  },
  {
   "cell_type": "markdown",
   "metadata": {},
   "source": [
    "Не более 1% пользователей совершили больше 3 заказов.\n",
    "Посмотрим максимальное количество заказов."
   ]
  },
  {
   "cell_type": "markdown",
   "metadata": {},
   "source": [
    "<div class=\"alert alert-success\">\n",
    "<h2> Комментарий ревьюера <a class=\"tocSkip\"> </h2>\n",
    "\n",
    "<b>Все отлично!👍:</b> Персентили посчитаны верно."
   ]
  },
  {
   "cell_type": "code",
   "execution_count": 48,
   "metadata": {},
   "outputs": [
    {
     "data": {
      "text/plain": [
       "3"
      ]
     },
     "execution_count": 48,
     "metadata": {},
     "output_type": "execute_result"
    }
   ],
   "source": [
    "ordersByUsers['orders'].max()"
   ]
  },
  {
   "cell_type": "markdown",
   "metadata": {},
   "source": [
    "Разумно выбрать 2 заказа на одного пользователя за верхнюю границу числа заказов.\n",
    "Посмотрим сколько таких пользователей за этой границей:"
   ]
  },
  {
   "cell_type": "code",
   "execution_count": 49,
   "metadata": {
    "scrolled": true
   },
   "outputs": [
    {
     "data": {
      "text/plain": [
       "7"
      ]
     },
     "execution_count": 49,
     "metadata": {},
     "output_type": "execute_result"
    }
   ],
   "source": [
    "len(ordersByUsers[ordersByUsers['orders'] > 2]['orders'])"
   ]
  },
  {
   "cell_type": "markdown",
   "metadata": {},
   "source": [
    "**Вывод**"
   ]
  },
  {
   "cell_type": "markdown",
   "metadata": {},
   "source": [
    "Всех пользователей сделавших более 2 заказов будем считать аномальными."
   ]
  },
  {
   "cell_type": "markdown",
   "metadata": {},
   "source": [
    "<div class=\"alert alert-success\">\n",
    "<h2> Комментарий ревьюера <a class=\"tocSkip\"> </h2>\n",
    "\n",
    "<b>Все отлично!👍:</b> Определили границу для фильтрации аномалий - отлично!"
   ]
  },
  {
   "cell_type": "markdown",
   "metadata": {},
   "source": [
    "### Точечный график стоимостей заказов"
   ]
  },
  {
   "cell_type": "markdown",
   "metadata": {},
   "source": [
    "**Построим гистограмму распределения числа заказов по пользователям**"
   ]
  },
  {
   "cell_type": "code",
   "execution_count": 50,
   "metadata": {},
   "outputs": [
    {
     "data": {
      "image/png": "[encoded data removed]",
      "text/plain": [
       "<Figure size 576x360 with 1 Axes>"
      ]
     },
     "metadata": {
      "needs_background": "light"
     },
     "output_type": "display_data"
    }
   ],
   "source": [
    "plt.figure(figsize=(8,5))\n",
    "plt.hist(orders['revenue']) \n",
    "plt.title('Гистограмма распределения стоимости заказов по пользователям', fontsize = 16)\n",
    "plt.yticks(np.arange(0, 1350, 100))\n",
    "plt.xlabel('Число пользователей', fontsize = 14)\n",
    "plt.ylabel('Стоимость заказов', fontsize = 14)\n",
    "plt.tick_params(axis='x', labelsize=12)\n",
    "plt.tick_params(axis='y', labelsize=12)\n",
    "plt.grid()\n",
    "plt.show()"
   ]
  },
  {
   "cell_type": "markdown",
   "metadata": {},
   "source": [
    "**Построим точечный график стоимостей заказов**"
   ]
  },
  {
   "cell_type": "code",
   "execution_count": 51,
   "metadata": {},
   "outputs": [
    {
     "data": {
      "image/png": "[encoded data removed]",
      "text/plain": [
       "<Figure size 1080x360 with 1 Axes>"
      ]
     },
     "metadata": {
      "needs_background": "light"
     },
     "output_type": "display_data"
    }
   ],
   "source": [
    "x_values = pd.Series(range(0,len(orders['revenue'])))\n",
    "\n",
    "plt.figure(figsize=(15,5))\n",
    "plt.scatter(x_values, orders['revenue'],color = 'green', alpha=0.4)\n",
    "plt.title('Точечный график стоимостей заказов', fontsize = 16)\n",
    "plt.xlabel('Число пользователей', fontsize = 14)\n",
    "plt.ylabel('Стоимость заказов', fontsize = 14)\n",
    "plt.tick_params(axis='x', labelsize=12)\n",
    "plt.tick_params(axis='y', labelsize=12)\n",
    "plt.grid()\n",
    "plt.show()"
   ]
  },
  {
   "cell_type": "markdown",
   "metadata": {},
   "source": [
    "**Детализация данных по стоимости заказов**"
   ]
  },
  {
   "cell_type": "code",
   "execution_count": 52,
   "metadata": {},
   "outputs": [
    {
     "data": {
      "image/png": "[encoded data removed]",
      "text/plain": [
       "<Figure size 1080x360 with 1 Axes>"
      ]
     },
     "metadata": {
      "needs_background": "light"
     },
     "output_type": "display_data"
    }
   ],
   "source": [
    "plt.figure(figsize=(15,5))\n",
    "plt.scatter(x_values, orders['revenue'],color = 'green', alpha=0.4)\n",
    "plt.ylim(0, 210000)\n",
    "plt.title('Точечный график стоимостей заказов до 210000', fontsize = 16)\n",
    "plt.xlabel('Число пользователей', fontsize = 14)\n",
    "plt.ylabel('Стоимость заказов', fontsize = 14)\n",
    "plt.tick_params(axis='x', labelsize=12)\n",
    "plt.tick_params(axis='y', labelsize=12)\n",
    "plt.grid()\n",
    "plt.show()\n"
   ]
  },
  {
   "cell_type": "code",
   "execution_count": 53,
   "metadata": {
    "scrolled": true
   },
   "outputs": [
    {
     "data": {
      "image/png": "[encoded data removed]",
      "text/plain": [
       "<Figure size 1080x360 with 1 Axes>"
      ]
     },
     "metadata": {
      "needs_background": "light"
     },
     "output_type": "display_data"
    }
   ],
   "source": [
    "plt.figure(figsize=(15,5))\n",
    "plt.scatter(x_values, orders['revenue'],color = 'green', alpha=0.4)\n",
    "plt.ylim(0, 100000)\n",
    "plt.title('Точечный график стоимостей заказов до 100000', fontsize = 16)\n",
    "plt.xlabel('Число пользователей', fontsize = 14)\n",
    "plt.ylabel('Стоимость заказов', fontsize = 14)\n",
    "plt.tick_params(axis='x', labelsize=12)\n",
    "plt.tick_params(axis='y', labelsize=12)\n",
    "plt.grid()\n",
    "plt.show()"
   ]
  },
  {
   "cell_type": "markdown",
   "metadata": {},
   "source": [
    "**Вывод**"
   ]
  },
  {
   "cell_type": "markdown",
   "metadata": {},
   "source": [
    "На графике явно видно 2 выброса. Данные заказы с такой большой суммой заказа могут исказить результаты. Оставим все, что ниже 10000."
   ]
  },
  {
   "cell_type": "markdown",
   "metadata": {},
   "source": [
    "<div class=\"alert alert-success\">\n",
    "<h2> Комментарий ревьюера <a class=\"tocSkip\"> </h2>\n",
    "\n",
    "<b>Все отлично!👍:</b> Проанализировали распределение стоимости заказов и нашли аномально дорогие заказы - отлично!"
   ]
  },
  {
   "cell_type": "markdown",
   "metadata": {},
   "source": [
    "### 95-й и 99-й перцентили стоимости заказов"
   ]
  },
  {
   "cell_type": "markdown",
   "metadata": {},
   "source": [
    "Посчитаем 95-й и 99-й перцентили стоимости заказов. Выберем границу для определения аномальных заказов."
   ]
  },
  {
   "cell_type": "code",
   "execution_count": 54,
   "metadata": {
    "scrolled": true
   },
   "outputs": [
    {
     "name": "stdout",
     "output_type": "stream",
     "text": [
      "90 перцентиль: [17990.]\n",
      "95 перцентиль: [26785.]\n",
      "99 перцентиль: [53904.]\n"
     ]
    }
   ],
   "source": [
    "print('90 перцентиль:', (np.percentile(orders['revenue'], [90])))\n",
    "print('95 перцентиль:', (np.percentile(orders['revenue'], [95])))\n",
    "print('99 перцентиль:', (np.percentile(orders['revenue'], [99])))"
   ]
  },
  {
   "cell_type": "markdown",
   "metadata": {},
   "source": [
    "<div class=\"alert alert-success\">\n",
    "<h2> Комментарий ревьюера <a class=\"tocSkip\"> </h2>\n",
    "\n",
    "<b>Все отлично!👍:</b> Персентили посчитаны верно."
   ]
  },
  {
   "cell_type": "markdown",
   "metadata": {},
   "source": [
    "**Вывод**"
   ]
  },
  {
   "cell_type": "markdown",
   "metadata": {},
   "source": [
    "Не более 5% пользователей совершили заказ на сумму больше 26785.\n",
    "Не более 1% пользователей совершили заказ на сумму больше 53904. Аномальными будем считать заказы на сумму больше этого значения."
   ]
  },
  {
   "cell_type": "markdown",
   "metadata": {},
   "source": [
    "<div class=\"alert alert-success\">\n",
    "<h2> Комментарий ревьюера <a class=\"tocSkip\"> </h2>\n",
    "\n",
    "<b>Все отлично!👍:</b> Определили границу для фильтрации аномалий - отлично!"
   ]
  },
  {
   "cell_type": "markdown",
   "metadata": {},
   "source": [
    "### Статистическая значимость различий в среднем количестве заказов на посетителя между группами по «сырым» данным"
   ]
  },
  {
   "cell_type": "markdown",
   "metadata": {},
   "source": [
    "Сформулируем гипотезы.\n",
    "\n",
    "Нулевая гипотеза: \n",
    "- Среднее количество заказов на посетителя в группе A равна группе B (статистическая значимость не значительна и сделать вывод о различии нельзя).\n",
    "\n",
    "Альтернативная гипотеза: \n",
    "- Среднее количество заказов на посетителя в группе A не равна группе B (между выборками имеется статистическая значимость).\n",
    "\n",
    "Применим критерием Манна-Уитни. Порогом статистической значимости установим alpha = 0.05"
   ]
  },
  {
   "cell_type": "markdown",
   "metadata": {},
   "source": [
    "<div class=\"alert alert-success\">\n",
    "<h2> Комментарий ревьюера <a class=\"tocSkip\"> </h2>\n",
    "\n",
    "<b>Все отлично!👍:</b> Гипотезы сформулировали, критерий проверки указали - отлично!"
   ]
  },
  {
   "cell_type": "markdown",
   "metadata": {},
   "source": [
    "<div class=\"alert alert-block alert-danger\">\n",
    "<h2> Комментарий ревьюера <a class=\"tocSkip\"></h2>\n",
    "\n",
    "    \n",
    "<b>На доработку❌:</b>\n",
    "Обрати внимание, что мы не работаем с конверсией в этом проекте - из текста гипоетз и выводов по результатам их проверки (тут и на очищенных данных) нужно убрать конверсию и заменить её на актуальную метрику проекта."
   ]
  },
  {
   "cell_type": "markdown",
   "metadata": {},
   "source": [
    "<div class=\"alert alert-success\">\n",
    "<h2> Комментарий ревьюера v.2 <a class=\"tocSkip\"> </h2>\n",
    "\n",
    "<b>Все отлично!👍:</b> Учтено."
   ]
  },
  {
   "cell_type": "markdown",
   "metadata": {},
   "source": [
    "**Посчитаем статистическую значимость различий в конверсии между группами по «сырым» данным**"
   ]
  },
  {
   "cell_type": "code",
   "execution_count": 55,
   "metadata": {},
   "outputs": [
    {
     "data": {
      "text/html": [
       "<div>\n",
       "<style scoped>\n",
       "    .dataframe tbody tr th:only-of-type {\n",
       "        vertical-align: middle;\n",
       "    }\n",
       "\n",
       "    .dataframe tbody tr th {\n",
       "        vertical-align: top;\n",
       "    }\n",
       "\n",
       "    .dataframe thead th {\n",
       "        text-align: right;\n",
       "    }\n",
       "</style>\n",
       "<table border=\"1\" class=\"dataframe\">\n",
       "  <thead>\n",
       "    <tr style=\"text-align: right;\">\n",
       "      <th></th>\n",
       "      <th>date</th>\n",
       "      <th>ordersPerDateA</th>\n",
       "      <th>revenuePerDateA</th>\n",
       "      <th>ordersPerDateB</th>\n",
       "      <th>revenuePerDateB</th>\n",
       "      <th>ordersCummulativeA</th>\n",
       "      <th>revenueCummulativeA</th>\n",
       "      <th>ordersCummulativeB</th>\n",
       "      <th>revenueCummulativeB</th>\n",
       "      <th>visitorsPerDateA</th>\n",
       "      <th>visitorsPerDateB</th>\n",
       "      <th>visitorsCummulativeA</th>\n",
       "      <th>visitorsCummulativeB</th>\n",
       "    </tr>\n",
       "  </thead>\n",
       "  <tbody>\n",
       "    <tr>\n",
       "      <th>0</th>\n",
       "      <td>2019-08-01</td>\n",
       "      <td>23</td>\n",
       "      <td>142779</td>\n",
       "      <td>17</td>\n",
       "      <td>59758</td>\n",
       "      <td>23</td>\n",
       "      <td>142779</td>\n",
       "      <td>17</td>\n",
       "      <td>59758</td>\n",
       "      <td>719</td>\n",
       "      <td>713</td>\n",
       "      <td>719</td>\n",
       "      <td>713</td>\n",
       "    </tr>\n",
       "    <tr>\n",
       "      <th>1</th>\n",
       "      <td>2019-08-02</td>\n",
       "      <td>19</td>\n",
       "      <td>91602</td>\n",
       "      <td>23</td>\n",
       "      <td>162043</td>\n",
       "      <td>42</td>\n",
       "      <td>234381</td>\n",
       "      <td>40</td>\n",
       "      <td>221801</td>\n",
       "      <td>619</td>\n",
       "      <td>581</td>\n",
       "      <td>1338</td>\n",
       "      <td>1294</td>\n",
       "    </tr>\n",
       "    <tr>\n",
       "      <th>2</th>\n",
       "      <td>2019-08-03</td>\n",
       "      <td>24</td>\n",
       "      <td>112473</td>\n",
       "      <td>14</td>\n",
       "      <td>67049</td>\n",
       "      <td>66</td>\n",
       "      <td>346854</td>\n",
       "      <td>54</td>\n",
       "      <td>288850</td>\n",
       "      <td>507</td>\n",
       "      <td>509</td>\n",
       "      <td>1845</td>\n",
       "      <td>1803</td>\n",
       "    </tr>\n",
       "    <tr>\n",
       "      <th>3</th>\n",
       "      <td>2019-08-04</td>\n",
       "      <td>11</td>\n",
       "      <td>41176</td>\n",
       "      <td>14</td>\n",
       "      <td>96890</td>\n",
       "      <td>77</td>\n",
       "      <td>388030</td>\n",
       "      <td>68</td>\n",
       "      <td>385740</td>\n",
       "      <td>717</td>\n",
       "      <td>770</td>\n",
       "      <td>2562</td>\n",
       "      <td>2573</td>\n",
       "    </tr>\n",
       "    <tr>\n",
       "      <th>4</th>\n",
       "      <td>2019-08-05</td>\n",
       "      <td>22</td>\n",
       "      <td>86383</td>\n",
       "      <td>21</td>\n",
       "      <td>89908</td>\n",
       "      <td>99</td>\n",
       "      <td>474413</td>\n",
       "      <td>89</td>\n",
       "      <td>475648</td>\n",
       "      <td>756</td>\n",
       "      <td>707</td>\n",
       "      <td>3318</td>\n",
       "      <td>3280</td>\n",
       "    </tr>\n",
       "  </tbody>\n",
       "</table>\n",
       "</div>"
      ],
      "text/plain": [
       "        date  ordersPerDateA  revenuePerDateA  ordersPerDateB  \\\n",
       "0 2019-08-01              23           142779              17   \n",
       "1 2019-08-02              19            91602              23   \n",
       "2 2019-08-03              24           112473              14   \n",
       "3 2019-08-04              11            41176              14   \n",
       "4 2019-08-05              22            86383              21   \n",
       "\n",
       "   revenuePerDateB  ordersCummulativeA  revenueCummulativeA  \\\n",
       "0            59758                  23               142779   \n",
       "1           162043                  42               234381   \n",
       "2            67049                  66               346854   \n",
       "3            96890                  77               388030   \n",
       "4            89908                  99               474413   \n",
       "\n",
       "   ordersCummulativeB  revenueCummulativeB  visitorsPerDateA  \\\n",
       "0                  17                59758               719   \n",
       "1                  40               221801               619   \n",
       "2                  54               288850               507   \n",
       "3                  68               385740               717   \n",
       "4                  89               475648               756   \n",
       "\n",
       "   visitorsPerDateB  visitorsCummulativeA  visitorsCummulativeB  \n",
       "0               713                   719                   713  \n",
       "1               581                  1338                  1294  \n",
       "2               509                  1845                  1803  \n",
       "3               770                  2562                  2573  \n",
       "4               707                  3318                  3280  "
      ]
     },
     "metadata": {},
     "output_type": "display_data"
    }
   ],
   "source": [
    "# Считаем количество пользователей до выбранной даты включительно в группах A и B;\n",
    "visitorsADaily = visitors[visitors['group']=='A'][['date', 'visitors']]\n",
    "visitorsADaily.columns = ['date', 'visitorsPerDateA']\n",
    "\n",
    "visitorsACummulative = visitorsADaily.apply(lambda x: visitorsADaily[visitorsADaily['date'] <= x['date']].agg({'date' : 'max', 'visitorsPerDateA' : 'sum'}), axis=1)\n",
    "visitorsACummulative.columns = ['date', 'visitorsCummulativeA']\n",
    "\n",
    "visitorsBDaily = visitors[visitors['group']=='B'][['date', 'visitors']]\n",
    "visitorsBDaily.columns = ['date', 'visitorsPerDateB']\n",
    "\n",
    "visitorsBCummulative = visitorsBDaily.apply(lambda x: visitorsBDaily[visitorsBDaily['date'] <= x['date']].agg({'date' : 'max', 'visitorsPerDateB' : 'sum'}), axis=1)\n",
    "visitorsBCummulative.columns = ['date', 'visitorsCummulativeB']\n",
    "\n",
    "# Считаем суммарное число заказов до выбранной даты включительно в группах A и B\n",
    "ordersADaily = orders[orders['group']=='A'][['date', 'transaction_id', 'visitor_id', 'revenue']]\\\n",
    "    .groupby('date', as_index=False)\\\n",
    "    .agg({'transaction_id' : pd.Series.nunique, 'revenue' : 'sum'})\n",
    "ordersADaily.columns = ['date', 'ordersPerDateA', 'revenuePerDateA']\n",
    "\n",
    "ordersACummulative = ordersADaily.apply(\n",
    "    lambda x: \\\n",
    "        ordersADaily[ordersADaily['date'] <= x['date']]\\\n",
    "            .agg({\n",
    "                'date' : 'max',\n",
    "                'ordersPerDateA' : 'sum',\n",
    "                'revenuePerDateA' : 'sum'}), axis=1).sort_values(by=['date'])\n",
    "ordersACummulative.columns = ['date', 'ordersCummulativeA', 'revenueCummulativeA']\n",
    "\n",
    "ordersBDaily = orders[orders['group']=='B'][['date', 'transaction_id', 'visitor_id', 'revenue']]\\\n",
    "    .groupby('date', as_index=False)\\\n",
    "    .agg({'transaction_id' : pd.Series.nunique, 'revenue' : 'sum'})\n",
    "ordersBDaily.columns = ['date', 'ordersPerDateB', 'revenuePerDateB']\n",
    "\n",
    "ordersBCummulative = ordersBDaily.apply(\n",
    "    lambda x: \\\n",
    "        ordersBDaily[ordersBDaily['date'] <= x['date']]\\\n",
    "            .agg({\n",
    "                'date' : 'max',\n",
    "                'ordersPerDateB' : 'sum',\n",
    "                'revenuePerDateB' : 'sum'}), axis=1).sort_values(by=['date'])\n",
    "ordersBCummulative.columns = ['date', 'ordersCummulativeB', 'revenueCummulativeB']\n",
    "\n",
    "\n",
    "# Получаем таблицу с количеством заказов, выручкой в день, количество заказов и выручка до выбранной даты(включительно)\n",
    "# Количество пользователей до выбранной даты \n",
    "data = ordersADaily.merge(ordersBDaily, left_on='date', right_on='date', how='left')\\\n",
    "    .merge(ordersACummulative, left_on='date', right_on='date', how='left')\\\n",
    "    .merge(ordersBCummulative, left_on='date', right_on='date', how='left')\\\n",
    "    .merge(visitorsADaily, left_on='date', right_on='date', how='left')\\\n",
    "    .merge(visitorsBDaily, left_on='date', right_on='date', how='left')\\\n",
    "    .merge(visitorsACummulative, left_on='date', right_on='date', how='left')\\\n",
    "    .merge(visitorsBCummulative, left_on='date', right_on='date', how='left')\n",
    "\n",
    "display(data.head(5))"
   ]
  },
  {
   "cell_type": "markdown",
   "metadata": {},
   "source": [
    "<div class=\"alert alert-warning\">\n",
    "    <h2> Комментарий ревьюера <a class=\"tocSkip\"> </h2>\n",
    "    \n",
    "<b>Некоторые замечания и рекомендации⚠️:</b> \n",
    "\n",
    "Здесь заново собираются кумулятивные данные: из переменной `data` далее в расчётах мы берём только количество посетителей в зависимости от группы - эти данные у нас уже есть в переменной `visitors`. Нет большого смысла писать полотно кода и тратить ресурсы на его выполнение, если эти данные есть в исходной таблице - давай попробуем использовать исходные данные?\n",
    "        \n",
    "</div>"
   ]
  },
  {
   "cell_type": "code",
   "execution_count": 56,
   "metadata": {},
   "outputs": [],
   "source": [
    "# Создадим переменные ordersByUsersA и ordersByUsersB со столбцами ['userId', 'orders']. \n",
    "# В них для пользователей, которые заказывали хотя бы 1 раз, укажем число совершённых заказов.\n",
    "\n",
    "ordersByUsersA = orders[orders['group']=='A'].groupby('visitor_id', as_index=False).agg({'transaction_id' : pd.Series.nunique})\n",
    "ordersByUsersA.columns = ['user_id', 'orders']\n",
    "\n",
    "ordersByUsersB = orders[orders['group']=='B'].groupby('visitor_id', as_index=False).agg({'transaction_id' : pd.Series.nunique})\n",
    "ordersByUsersB.columns = ['user_id', 'orders']"
   ]
  },
  {
   "cell_type": "markdown",
   "metadata": {},
   "source": [
    "Подготовим выборки к проверке критерием Манна-Уитни. Объявим переменные sampleA и sampleB, в которых пользователям из разных групп будет соответствовать количество заказов. Тем, кто ничего не заказал, будут соответствовать нули."
   ]
  },
  {
   "cell_type": "code",
   "execution_count": 57,
   "metadata": {},
   "outputs": [],
   "source": [
    "sampleA = pd.concat([ordersByUsersA['orders'],pd.Series(0, index=np.arange(data['visitorsPerDateA'].sum() - len(ordersByUsersA['orders'])), name='orders')],axis=0)\n",
    "sampleB = pd.concat([ordersByUsersB['orders'],pd.Series(0, index=np.arange(data['visitorsPerDateB'].sum() - len(ordersByUsersB['orders'])), name='orders')],axis=0)"
   ]
  },
  {
   "cell_type": "markdown",
   "metadata": {},
   "source": [
    "Выведем относительный прирост конверсии группы B: конверсия группы B / конверсия группы A - 1. Применим критерий и отформатируем p-value, округлив его до трёх знаков после запятой."
   ]
  },
  {
   "cell_type": "code",
   "execution_count": 58,
   "metadata": {},
   "outputs": [
    {
     "name": "stdout",
     "output_type": "stream",
     "text": [
      "alpha =  0.05\n",
      "p-value = 0.011\n",
      "Относительный показатель 'B' и 'A' = 0.160\n"
     ]
    }
   ],
   "source": [
    "ordersByUsersA = orders[orders['group']=='A'].groupby('visitor_id', as_index=False).agg({'transaction_id' : pd.Series.nunique})\n",
    "ordersByUsersA.columns = ['user_id', 'orders']\n",
    "\n",
    "ordersByUsersB = orders[orders['group']=='B'].groupby('visitor_id', as_index=False).agg({'transaction_id' : pd.Series.nunique})\n",
    "ordersByUsersB.columns = ['user_id', 'orders']\n",
    "\n",
    "sampleA = pd.concat([ordersByUsersA['orders'],pd.Series(0, index=np.arange(data['visitorsPerDateA'].sum() - len(ordersByUsersA['orders'])), name='orders')],axis=0)\n",
    "\n",
    "sampleB = pd.concat([ordersByUsersB['orders'],pd.Series(0, index=np.arange(data['visitorsPerDateB'].sum() - len(ordersByUsersB['orders'])), name='orders')],axis=0)\n",
    "\n",
    "\n",
    "\n",
    "print('alpha = ',0.05)\n",
    "print(\"p-value = {0:.3f}\".format(stats.mannwhitneyu(sampleA, sampleB)[1]))\n",
    "print(\"Относительный показатель 'B' и 'A' = {0:.3f}\".format(sampleB.mean()/sampleA.mean()-1))"
   ]
  },
  {
   "cell_type": "markdown",
   "metadata": {},
   "source": [
    "**Вывод**"
   ]
  },
  {
   "cell_type": "markdown",
   "metadata": {},
   "source": [
    "P-value = 0.011 - это меньше 0.05, не получилось подтвердить нулевую гипотезу. \n",
    "\n",
    "Среднее количество заказов на посетителя в группе A не равна группе B (между выборками имеется статистическая значимость). Относительный прирост среднего группы В к среднему группы А равен 16%."
   ]
  },
  {
   "cell_type": "markdown",
   "metadata": {},
   "source": [
    "<div class=\"alert alert-success\">\n",
    "<h2> Комментарий ревьюера <a class=\"tocSkip\"> </h2>\n",
    "\n",
    "<b>Все отлично!👍:</b> Оценили значимость различий среднего количества заказов на посетителя между группами на сырых данных - отлично!"
   ]
  },
  {
   "cell_type": "markdown",
   "metadata": {},
   "source": [
    "<div class=\"alert alert-block alert-danger\">\n",
    "<h2> Комментарий ревьюера <a class=\"tocSkip\"></h2>\n",
    "\n",
    "    \n",
    "<b>На доработку❌:</b>\n",
    "\n",
    "Не забудь исправить метрику в выводе."
   ]
  },
  {
   "cell_type": "markdown",
   "metadata": {},
   "source": [
    "<div class=\"alert alert-success\">\n",
    "<h2> Комментарий ревьюера v.2 <a class=\"tocSkip\"> </h2>\n",
    "\n",
    "<b>Все отлично!👍:</b> Учтено."
   ]
  },
  {
   "cell_type": "markdown",
   "metadata": {},
   "source": [
    "### Статистическая значимость различий в среднем чеке заказа между группами по «сырым» данным"
   ]
  },
  {
   "cell_type": "markdown",
   "metadata": {},
   "source": [
    "Чтобы рассчитать статистическую значимость различий в среднем чеке между сегментами, передадим критерию mannwhitneyu() данные о выручке с заказов и найдём относительные различия в среднем чеке между группами:"
   ]
  },
  {
   "cell_type": "markdown",
   "metadata": {},
   "source": [
    "Сформулируем гипотезы.\n",
    "\n",
    "Нулевая гипотеза: \n",
    "- Средний чек в группе A равен группе B (статистическая значимость не значительна и сделать вывод о различии нельзя).\n",
    "\n",
    "Альтернативная гипотеза: \n",
    "- Средний чек в группе A не равен группе B (между выборками имеется статистическая значимость).\n",
    "\n",
    "Применим критерием Манна-Уитни. Порогом статистической значимости установим alpha = 0.05."
   ]
  },
  {
   "cell_type": "code",
   "execution_count": 59,
   "metadata": {},
   "outputs": [
    {
     "name": "stdout",
     "output_type": "stream",
     "text": [
      "alpha =  0.05\n",
      "p-value = 0.829\n",
      "Относительный показатель 'B' и 'A' 0.287\n"
     ]
    }
   ],
   "source": [
    "print('alpha = ',0.05)\n",
    "print(\"p-value = {0:.3f}\".format(stats.mannwhitneyu(orders[orders['group']=='A']['revenue'], orders[orders['group']=='B']['revenue'])[1]))\n",
    "print(\"Относительный показатель 'B' и 'A' {0:.3f}\".format(orders[orders['group']=='B']['revenue'].mean()/orders[orders['group']=='A']['revenue'].mean()-1)) "
   ]
  },
  {
   "cell_type": "markdown",
   "metadata": {},
   "source": [
    "**Вывод**"
   ]
  },
  {
   "cell_type": "markdown",
   "metadata": {},
   "source": [
    "P-value = 0,829 - это значительно больше 0.05, не получилось отвергнуть нулевую гипотезу. \n",
    "\n",
    "Средний чек в группе A равен группе B (статистическая значимость не значительна и сделать вывод о различии нельзя).\n",
    "\n",
    "Относительный прирост среднего чека группы В к группе А равен 28,7%. Что было заметно на графиках ранее."
   ]
  },
  {
   "cell_type": "markdown",
   "metadata": {},
   "source": [
    "<div class=\"alert alert-success\">\n",
    "<h2> Комментарий ревьюера <a class=\"tocSkip\"> </h2>\n",
    "\n",
    "<b>Все отлично!👍:</b> Оценили значимость различий среднего чека между группами на сырых данных - отлично!"
   ]
  },
  {
   "cell_type": "markdown",
   "metadata": {},
   "source": [
    "### Статистическая значимость различий в среднем количестве заказов на посетителя между группами по «очищенным» данным."
   ]
  },
  {
   "cell_type": "markdown",
   "metadata": {},
   "source": [
    "Приступаем к подготовке очищенных от аномалий данных.\n",
    "\n",
    "Напомним, что 95-й и 99-й перцентили стоимости заказов равны 28000 и 58233,2 рублям. А 95-й и 99-й перцентили числа заказов на одного пользователя равны 1 и 2 заказам на пользователя. Примем за аномальных пользователей тех, кто совершил более 3 заказов или совершил заказ на сумму свыше 53904 рублей. Так мы уберём 1% пользователей с наибольшим числом заказов и с наибольшей стоимостью."
   ]
  },
  {
   "cell_type": "code",
   "execution_count": 60,
   "metadata": {},
   "outputs": [
    {
     "name": "stdout",
     "output_type": "stream",
     "text": [
      "568     113298937\n",
      "1099    148427295\n",
      "928     204675465\n",
      "33      249864742\n",
      "684     358944393\n",
      "dtype: int64\n",
      "Всего аномальных пользователей: (86,)\n",
      "Общее количество пользователей: 973\n",
      "Процент аномальных пользователей относительно общему количеству пользователей: 8.8%\n"
     ]
    }
   ],
   "source": [
    "usersWithManyOrders = pd.concat([ordersByUsersA[ordersByUsersA['orders'] > int(np.percentile(ordersByUsersB['orders'], [95]))]['user_id'], \n",
    "                                 ordersByUsersB[ordersByUsersB['orders'] > int(np.percentile(ordersByUsersB['orders'], [95]))]['user_id']], axis = 0)\n",
    "usersWithExpensiveOrders = orders[orders['revenue'] > int(np.percentile(orders['revenue'], [95]))]['visitor_id']\n",
    "abnormalUsers = pd.concat([usersWithManyOrders, usersWithExpensiveOrders], axis = 0).drop_duplicates().sort_values()\n",
    "print(abnormalUsers.head(5))\n",
    "print(\"Всего аномальных пользователей: {}\".format(abnormalUsers.shape))\n",
    "print(\"Общее количество пользователей: {}\".format(orders['visitor_id'].nunique()))\n",
    "print(\"Процент аномальных пользователей относительно общему количеству пользователей: {0:.1f}%\".format((abnormalUsers.count() / orders['visitor_id'].nunique())*100))"
   ]
  },
  {
   "cell_type": "markdown",
   "metadata": {},
   "source": [
    "Всего 86 аномальных пользователя, а общее число пользователей 973. Процент аномальных пользователей относительно общего количества пользователей состовляет 8,8%.\n",
    "\n",
    "Узнаем, как их действия повлияли на результаты теста. Посчитаем статистическую значимость различий в конверсии между группами теста по очищенным данным. Сначала подготовим выборки количества заказов по пользователям по группам теста."
   ]
  },
  {
   "cell_type": "markdown",
   "metadata": {},
   "source": [
    "<div class=\"alert alert-success\">\n",
    "<h2> Комментарий ревьюера <a class=\"tocSkip\"> </h2>\n",
    "\n",
    "<b>Все отлично!👍:</b> Отфильтровали аномалии, посчитали потери пользователей в абсолютном выражении - отлично!"
   ]
  },
  {
   "cell_type": "markdown",
   "metadata": {},
   "source": [
    "<div class=\"alert alert-warning\">\n",
    "    <h2> Комментарий ревьюера <a class=\"tocSkip\"> </h2>\n",
    "    \n",
    "<b>Некоторые замечания и рекомендации⚠️:</b>\n",
    "\n",
    "Значения границ для фильтрации заданы руками - такой подход делает твоё решение зависимым от внешних данных: при их изменении тебе придётся вносить изменения в код, чтобы текущее решение адекватно работало для других А/В тестов. Очень удобно использовать в качестве значения результат метода для расчёта персентилей.\n",
    "        \n",
    "Например вместо `orders > 2` лучше будет сделать `orders > np.percentile(x, 95)` - такой подход сделает решение более универсальным.\n",
    "        \n",
    "</div>"
   ]
  },
  {
   "cell_type": "markdown",
   "metadata": {},
   "source": [
    "<div class=\"alert alert-info\">\n",
    "<h2> Комментарий студента <a class=\"tocSkip\"> </h2>\n",
    "\n",
    "Добавил.\n",
    "\n",
    "</div>"
   ]
  },
  {
   "cell_type": "markdown",
   "metadata": {},
   "source": [
    "<div class=\"alert alert-success\">\n",
    "<h2> Комментарий ревьюера v.2 <a class=\"tocSkip\"> </h2>\n",
    "\n",
    "<b>Все отлично!👍:</b> Учтено."
   ]
  },
  {
   "cell_type": "markdown",
   "metadata": {},
   "source": [
    "<div class=\"alert alert-block alert-danger\">\n",
    "<h2> Комментарий ревьюера <a class=\"tocSkip\"></h2>\n",
    "\n",
    "    \n",
    "<b>На доработку❌:</b>\n",
    "\n",
    "Помимо абсолютных потерь пользователей после фильтрации очень важно также оценить потери и в относительном выражении: любой вид потерь из этих двух сам по себе недостаточно информативен, а вот вместе они уже помогут читателю составить полную картину о масштабе потерь.\n",
    "    \n",
    "Напомню, что относительные потери - это отношение количества аномальных пользователей к общем количеству пользователей из таблицы `orders`. В знаменателе важно учитывать уникальных пользователей, а не количество строк таблицы.\n",
    "        \n",
    "</div>"
   ]
  },
  {
   "cell_type": "markdown",
   "metadata": {},
   "source": [
    "<div class=\"alert alert-block alert-danger\">\n",
    "<h2> Комментарий ревьюера v.2 <a class=\"tocSkip\"></h2>\n",
    "\n",
    "    \n",
    "<b>На доработку❌:</b>\n",
    "\n",
    "Нет расчёта относительных потерь."
   ]
  },
  {
   "cell_type": "markdown",
   "metadata": {},
   "source": [
    "<div class=\"alert alert-info\">\n",
    "<h2> Комментарий студента <a class=\"tocSkip\"> </h2>\n",
    "\n",
    "Добавил относительных показатель.\n",
    "\n",
    "</div>"
   ]
  },
  {
   "cell_type": "markdown",
   "metadata": {},
   "source": [
    "<div class=\"alert alert-success\">\n",
    "<h2> Комментарий ревьюера v.3 <a class=\"tocSkip\"> </h2>\n",
    "\n",
    "<b>Все отлично!👍:</b> Учтено."
   ]
  },
  {
   "cell_type": "code",
   "execution_count": 61,
   "metadata": {},
   "outputs": [],
   "source": [
    "sampleAFiltered = pd.concat(\n",
    "    [\n",
    "        ordersByUsersA[\n",
    "            np.logical_not(ordersByUsersA['user_id'].isin(abnormalUsers))\n",
    "        ]['orders'],\n",
    "        pd.Series(\n",
    "            0,\n",
    "            index=np.arange(\n",
    "                data['visitorsPerDateA'].sum() - len(ordersByUsersA['orders'])\n",
    "            ),\n",
    "            name='orders',\n",
    "        ),\n",
    "    ],\n",
    "    axis=0,\n",
    ")\n",
    "\n",
    "sampleBFiltered = pd.concat(\n",
    "    [\n",
    "        ordersByUsersB[\n",
    "            np.logical_not(ordersByUsersB['user_id'].isin(abnormalUsers))\n",
    "        ]['orders'],\n",
    "        pd.Series(\n",
    "            0,\n",
    "            index=np.arange(\n",
    "                data['visitorsPerDateB'].sum() - len(ordersByUsersB['orders'])\n",
    "            ),\n",
    "            name='orders',\n",
    "        ),\n",
    "    ],\n",
    "    axis=0,\n",
    ")"
   ]
  },
  {
   "cell_type": "markdown",
   "metadata": {},
   "source": [
    "Сформулируем гипотезы.\n",
    "\n",
    "Нулевая гипотеза: \n",
    "- Среднее количество заказов на посетителя в группе A равна группе B (статистическая значимость не значительна и сделать вывод о различии нельзя)\n",
    "\n",
    "Альтернативная гипотеза: \n",
    "- Среднее количество заказов на посетителя в группе A не равна группе B (между выборками имеется статистическая значимость)\n",
    "\n",
    "Применим критерием Манна-Уитни. Порогом статистической значимости установим alpha = 0.05\n",
    "\n"
   ]
  },
  {
   "cell_type": "markdown",
   "metadata": {},
   "source": [
    "<div class=\"alert alert-block alert-danger\">\n",
    "<h2> Комментарий ревьюера <a class=\"tocSkip\"></h2>\n",
    "\n",
    "    \n",
    "<b>На доработку❌:</b>\n",
    "\n",
    "Не забудь исправить метрику."
   ]
  },
  {
   "cell_type": "markdown",
   "metadata": {},
   "source": [
    "<div class=\"alert alert-block alert-danger\">\n",
    "<h2> Комментарий ревьюера v.2 <a class=\"tocSkip\"></h2>\n",
    "\n",
    "    \n",
    "<b>На доработку❌:</b>\n",
    "\n",
    "Не исправлено - мы работаем со средним количеством заказов на посетителя."
   ]
  },
  {
   "cell_type": "markdown",
   "metadata": {},
   "source": [
    "<div class=\"alert alert-info\">\n",
    "<h2> Комментарий студента <a class=\"tocSkip\"> </h2>\n",
    "\n",
    "Исправил.\n",
    "\n",
    "</div>"
   ]
  },
  {
   "cell_type": "markdown",
   "metadata": {},
   "source": [
    "<div class=\"alert alert-success\">\n",
    "<h2> Комментарий ревьюера v.3 <a class=\"tocSkip\"> </h2>\n",
    "\n",
    "<b>Все отлично!👍:</b> Учтено."
   ]
  },
  {
   "cell_type": "code",
   "execution_count": 62,
   "metadata": {},
   "outputs": [
    {
     "name": "stdout",
     "output_type": "stream",
     "text": [
      "alpha = 0.05\n",
      "p-value = 0.016\n",
      "Относительный показатель 'B' и 'A' = 0.174\n"
     ]
    }
   ],
   "source": [
    "print(\"alpha =\",0.05)\n",
    "print(\"p-value = {0:.3f}\".format(stats.mannwhitneyu(sampleAFiltered, sampleBFiltered)[1]))\n",
    "print(\"Относительный показатель 'B' и 'A' = {0:.3f}\".format(sampleBFiltered.mean()/sampleAFiltered.mean()-1))"
   ]
  },
  {
   "cell_type": "markdown",
   "metadata": {},
   "source": [
    "**Вывод**"
   ]
  },
  {
   "cell_type": "markdown",
   "metadata": {},
   "source": [
    "P-value = 0,016 - это меньше 0.05, не получилось подтвердить нулевую гипотезу. \n",
    "\n",
    "Среднее количество заказов на посетителя в группе A не равна группе B (между выборками имеется статистическая значимость).\n",
    "Относительный прирост среднего группы В к среднему количеству заказов на посетителя группы А равен 17,4%. \"По сырым\" данным показатель был 16%, изменение по сравнению с прошлыми результатами  1,4%.\n",
    "\n",
    "Подтвердилась та же гипотеза."
   ]
  },
  {
   "cell_type": "markdown",
   "metadata": {},
   "source": [
    "<div class=\"alert alert-success\">\n",
    "<h2> Комментарий ревьюера <a class=\"tocSkip\"> </h2>\n",
    "\n",
    "<b>Все отлично!👍:</b> Оценили значимость различий среднего количества заказов на посетителя между группами на очищеных данных - отлично!"
   ]
  },
  {
   "cell_type": "markdown",
   "metadata": {},
   "source": [
    "<div class=\"alert alert-block alert-danger\">\n",
    "<h2> Комментарий ревьюера <a class=\"tocSkip\"></h2>\n",
    "\n",
    "    \n",
    "<b>На доработку❌:</b>\n",
    "\n",
    "Не забудь исправить метрику в выводе."
   ]
  },
  {
   "cell_type": "markdown",
   "metadata": {},
   "source": [
    "<div class=\"alert alert-block alert-danger\">\n",
    "<h2> Комментарий ревьюера v.2 <a class=\"tocSkip\"></h2>\n",
    "\n",
    "    \n",
    "<b>На доработку❌:</b>\n",
    "\n",
    "Не исправлено - мы работаем со средним количеством заказов на посетителя."
   ]
  },
  {
   "cell_type": "markdown",
   "metadata": {},
   "source": [
    "<div class=\"alert alert-info\">\n",
    "<h2> Комментарий студента <a class=\"tocSkip\"> </h2>\n",
    "\n",
    "Исправил.\n",
    "\n",
    "</div>"
   ]
  },
  {
   "cell_type": "markdown",
   "metadata": {},
   "source": [
    "<div class=\"alert alert-success\">\n",
    "<h2> Комментарий ревьюера v.3 <a class=\"tocSkip\"> </h2>\n",
    "\n",
    "<b>Все отлично!👍:</b> Учтено."
   ]
  },
  {
   "cell_type": "markdown",
   "metadata": {},
   "source": [
    "### Статистическая значимость различий в среднем чеке заказа между группами по «очищенным» данным"
   ]
  },
  {
   "cell_type": "markdown",
   "metadata": {},
   "source": [
    "Сформулируем гипотезы.\n",
    "\n",
    "Нулевая гипотеза: \n",
    "- Средний чек в группе A равен группе B (статистическая значимость не значительна и сделать вывод о различии нельзя).\n",
    "\n",
    "Альтернативная гипотеза: \n",
    "- Средний чек в группе A не равен группе B (между выборками имеется статистическая значимость).\n",
    "\n",
    "Применим критерием Манна-Уитни. Порогом статистической значимости установим alpha = 0.05"
   ]
  },
  {
   "cell_type": "code",
   "execution_count": 63,
   "metadata": {},
   "outputs": [
    {
     "name": "stdout",
     "output_type": "stream",
     "text": [
      "alpha = 0.05\n",
      "p-value = 0.727\n",
      "Относительный показатель 'B' и 'A' = -0.034\n"
     ]
    }
   ],
   "source": [
    "print(\"alpha =\",0.05)\n",
    "print(\"p-value = {0:.3f}\".format(stats.mannwhitneyu(\n",
    "    orders[np.logical_and(\n",
    "        orders['group']=='A',\n",
    "        np.logical_not(orders['visitor_id'].isin(abnormalUsers)))]['revenue'],\n",
    "    orders[np.logical_and(\n",
    "        orders['group']=='B',\n",
    "        np.logical_not(orders['visitor_id'].isin(abnormalUsers)))]['revenue'])[1]))\n",
    "\n",
    "print(\"Относительный показатель 'B' и 'A' = {0:.3f}\".format(\n",
    "    orders[np.logical_and(orders['group']=='B',np.logical_not(orders['visitor_id'].isin(abnormalUsers)))]['revenue'].mean()/\n",
    "    orders[np.logical_and(\n",
    "        orders['group']=='A',\n",
    "        np.logical_not(orders['visitor_id'].isin(abnormalUsers)))]['revenue'].mean() - 1))"
   ]
  },
  {
   "cell_type": "markdown",
   "metadata": {},
   "source": [
    "**Вывод**"
   ]
  },
  {
   "cell_type": "markdown",
   "metadata": {},
   "source": [
    "P-value = 0,727 - это  больше 0.05, не получилось отвергнуть нулевую гипотезу. \n",
    "\n",
    "Средний чек в группе A равен группе B (статистическая значимость не значительна и сделать вывод о различии нельзя).\n",
    "Относительное снижение среднего чека группы В к группе А  равен -3,4%. \"По сырым\" данным показатель был 28,7%, изменение по сравнению с прошлыми результатами 32,1%.\n",
    "\n",
    "Подтвердилась та же гипотеза."
   ]
  },
  {
   "cell_type": "markdown",
   "metadata": {},
   "source": [
    "<div class=\"alert alert-success\">\n",
    "<h2> Комментарий ревьюера <a class=\"tocSkip\"> </h2>\n",
    "\n",
    "<b>Все отлично!👍:</b> Оценили значимость различий среднего чека между группами на очищенных данных - отлично!"
   ]
  },
  {
   "cell_type": "markdown",
   "metadata": {},
   "source": [
    "## Решение по результатам теста"
   ]
  },
  {
   "cell_type": "markdown",
   "metadata": {},
   "source": [
    "Тест можно остановить и считать успешно пройденным.\n",
    "\n",
    "Cреднее количестве заказов на посетителя между в группе A не равна группе B (между выборками имеется статистическая значимость) по сырым и по очищенным данным.\n",
    "\n",
    "Средний чек в группе A равен группе B (статистическая значимость не значительна и сделать вывод о различии нельзя) по сырым и по очищенным данным.\n",
    "\n",
    "После анализа видно, что группа В показывает лучше результат в конверсии.\n",
    "Среднемий чек не имеет значимых различий между группами."
   ]
  },
  {
   "cell_type": "markdown",
   "metadata": {},
   "source": [
    "<div class=\"alert alert-success\">\n",
    "<h2> Комментарий ревьюера <a class=\"tocSkip\"> </h2>\n",
    "\n",
    "<b>Все отлично!👍:</b> Решение по тесту принято верное - отличная работа!"
   ]
  },
  {
   "cell_type": "markdown",
   "metadata": {},
   "source": [
    "<div style=\"border:solid Chocolate 2px; padding: 40px\">\n",
    "\n",
    "# Комментарий ревьюера: общий вывод по проекту.\n",
    "\n",
    "Павел, проект получился на довольно хорошем уровне - отличная работа, молодец!\n",
    "\n",
    "Мне нравится твой аналитический подход к выполнению проекта, ты соблюдаешь структуру работы, выполняешь её последовательно - это очень хорошо! Шаги проекта выполнены по порядку согласно плану проекта, нет смысловых и структурных ям. Важно, что не забываешь про выводы.\n",
    "\n",
    "Работа с кумулятивными данными выполнена отлично - данные собраны корректно, графики построены верно, выводы сделаны корректные.\n",
    "    \n",
    "В блоке работы с А/В тестом были выбраны верные инструменты, сформулированы и корректно проверены гипотезы, получены правильные выводы.\n",
    "    \n",
    "Над проектом ещё стоит поработать - есть рекомендации по дополнению некоторых твоих шагов проекта. Такие рекомендации я отметил жёлтыми комментариями. Будет здорово, если ты учтёшь их - так проект станет структурно и содержательно более совершенным.\n",
    "    \n",
    "Также в работе есть критические замечания. К этим замечаниям я оставил пояснительные комментарии красного цвета, в которых перечислил возможные варианты дальнейших действий. Уверен, ты быстро с этим управишься:)\n",
    "    \n",
    "Если о том, что нужно сделать в рамках комментариев, будут возникать вопросы - оставь их, пожалуйста, в комментариях, и я отвечу на них во время следующего ревью.\n",
    "    \n",
    "Также буду рад ответить на любые твои вопросы по проекту или на какие-либо другие, если они у тебя имеются - оставь их в комментариях, и я постараюсь ответить:)\n",
    "    \n",
    "Жду твой проект на повторном ревью. До встречи:)"
   ]
  },
  {
   "cell_type": "markdown",
   "metadata": {},
   "source": [
    "<div style=\"border:solid Chocolate 2px; padding: 40px\">\n",
    "\n",
    "# Комментарий ревьюера: общий вывод по проекту v.2.\n",
    "\n",
    "Павел, продолжаем работу над проектом - актуальные замечания отмечены комментариями с меткой `v.2`.\n",
    "    \n",
    "Жду тебя снова:)"
   ]
  },
  {
   "cell_type": "markdown",
   "metadata": {},
   "source": [
    "<div style=\"border:solid Chocolate 2px; padding: 40px\">\n",
    "\n",
    "# Комментарий ревьюера: общий вывод по проекту v.3.\n",
    "\n",
    "Павел, все замечания учтены - проект принят!\n",
    "    \n",
    "Спасибо за хорошую работу над проектом, желаю успехов в дальнейшем обучении:)"
   ]
  }
 ],
 "metadata": {
  "ExecuteTimeLog": [
   {
    "duration": 53,
    "start_time": "2023-03-20T09:13:39.054Z"
   },
   {
    "duration": 57,
    "start_time": "2023-03-20T09:13:47.140Z"
   },
   {
    "duration": 4,
    "start_time": "2023-03-20T09:14:00.228Z"
   },
   {
    "duration": 1310,
    "start_time": "2023-03-20T09:14:05.366Z"
   },
   {
    "duration": 222,
    "start_time": "2023-03-20T09:14:06.678Z"
   },
   {
    "duration": 48,
    "start_time": "2023-03-20T09:37:27.272Z"
   },
   {
    "duration": 12,
    "start_time": "2023-03-20T11:00:18.195Z"
   },
   {
    "duration": 2,
    "start_time": "2023-03-20T11:01:10.184Z"
   },
   {
    "duration": 52,
    "start_time": "2023-03-20T11:01:29.353Z"
   },
   {
    "duration": 3,
    "start_time": "2023-03-20T11:01:45.303Z"
   },
   {
    "duration": 7,
    "start_time": "2023-03-20T11:01:46.501Z"
   },
   {
    "duration": 90,
    "start_time": "2023-03-20T11:02:46.821Z"
   },
   {
    "duration": 8,
    "start_time": "2023-03-20T11:02:50.926Z"
   },
   {
    "duration": 11,
    "start_time": "2023-03-20T11:03:13.905Z"
   },
   {
    "duration": 8,
    "start_time": "2023-03-20T11:03:19.020Z"
   },
   {
    "duration": 2,
    "start_time": "2023-03-20T11:33:17.663Z"
   },
   {
    "duration": 27,
    "start_time": "2023-03-20T11:34:01.067Z"
   },
   {
    "duration": 2,
    "start_time": "2023-03-20T11:35:21.699Z"
   },
   {
    "duration": 2,
    "start_time": "2023-03-20T11:35:24.252Z"
   },
   {
    "duration": 54,
    "start_time": "2023-03-20T11:36:07.599Z"
   },
   {
    "duration": 13,
    "start_time": "2023-03-20T11:37:29.428Z"
   },
   {
    "duration": 12,
    "start_time": "2023-03-20T11:38:11.843Z"
   },
   {
    "duration": 45,
    "start_time": "2023-03-20T11:38:50.103Z"
   },
   {
    "duration": 47,
    "start_time": "2023-03-20T11:40:35.944Z"
   },
   {
    "duration": 24,
    "start_time": "2023-03-20T11:42:07.756Z"
   },
   {
    "duration": 22,
    "start_time": "2023-03-20T11:42:07.999Z"
   },
   {
    "duration": 14,
    "start_time": "2023-03-20T11:42:09.996Z"
   },
   {
    "duration": 2,
    "start_time": "2023-03-20T11:43:00.424Z"
   },
   {
    "duration": 13,
    "start_time": "2023-03-20T11:43:40.309Z"
   },
   {
    "duration": 5,
    "start_time": "2023-03-20T11:43:47.308Z"
   },
   {
    "duration": 5,
    "start_time": "2023-03-20T11:44:30.244Z"
   },
   {
    "duration": 41,
    "start_time": "2023-03-20T11:45:52.791Z"
   },
   {
    "duration": 4,
    "start_time": "2023-03-20T11:48:59.348Z"
   },
   {
    "duration": 5,
    "start_time": "2023-03-20T11:49:21.839Z"
   },
   {
    "duration": 6,
    "start_time": "2023-03-20T11:50:56.969Z"
   },
   {
    "duration": 19,
    "start_time": "2023-03-20T11:51:13.022Z"
   },
   {
    "duration": 8,
    "start_time": "2023-03-20T11:51:52.803Z"
   },
   {
    "duration": 7,
    "start_time": "2023-03-20T11:51:58.412Z"
   },
   {
    "duration": 45,
    "start_time": "2023-03-20T11:52:18.151Z"
   },
   {
    "duration": 6,
    "start_time": "2023-03-20T11:56:02.467Z"
   },
   {
    "duration": 735,
    "start_time": "2023-03-20T11:56:20.017Z"
   },
   {
    "duration": 6,
    "start_time": "2023-03-20T11:56:25.417Z"
   },
   {
    "duration": 7,
    "start_time": "2023-03-20T11:57:22.470Z"
   },
   {
    "duration": 6,
    "start_time": "2023-03-20T11:57:44.038Z"
   },
   {
    "duration": 7,
    "start_time": "2023-03-20T11:58:33.370Z"
   },
   {
    "duration": 7,
    "start_time": "2023-03-20T11:58:38.534Z"
   },
   {
    "duration": 6,
    "start_time": "2023-03-20T11:58:44.665Z"
   },
   {
    "duration": 4,
    "start_time": "2023-03-20T11:59:18.803Z"
   },
   {
    "duration": 714,
    "start_time": "2023-03-20T11:59:31.843Z"
   },
   {
    "duration": 5,
    "start_time": "2023-03-20T11:59:46.601Z"
   },
   {
    "duration": 5,
    "start_time": "2023-03-20T11:59:48.971Z"
   },
   {
    "duration": 7,
    "start_time": "2023-03-20T12:00:09.110Z"
   },
   {
    "duration": 5,
    "start_time": "2023-03-20T12:05:53.197Z"
   },
   {
    "duration": 6,
    "start_time": "2023-03-20T12:06:04.506Z"
   },
   {
    "duration": 192,
    "start_time": "2023-03-20T12:09:40.636Z"
   },
   {
    "duration": 3,
    "start_time": "2023-03-20T12:10:36.624Z"
   },
   {
    "duration": 207,
    "start_time": "2023-03-20T12:10:41.207Z"
   },
   {
    "duration": 187,
    "start_time": "2023-03-20T12:11:18.801Z"
   },
   {
    "duration": 231,
    "start_time": "2023-03-20T12:11:29.950Z"
   },
   {
    "duration": 8,
    "start_time": "2023-03-20T12:12:00.941Z"
   },
   {
    "duration": 8,
    "start_time": "2023-03-20T12:12:21.200Z"
   },
   {
    "duration": 224,
    "start_time": "2023-03-20T12:13:21.631Z"
   },
   {
    "duration": 710,
    "start_time": "2023-03-20T12:13:53.846Z"
   },
   {
    "duration": 3,
    "start_time": "2023-03-20T12:13:54.559Z"
   },
   {
    "duration": 87,
    "start_time": "2023-03-20T12:13:54.563Z"
   },
   {
    "duration": 13,
    "start_time": "2023-03-20T12:13:54.652Z"
   },
   {
    "duration": 9,
    "start_time": "2023-03-20T12:13:54.666Z"
   },
   {
    "duration": 19,
    "start_time": "2023-03-20T12:13:54.678Z"
   },
   {
    "duration": 37,
    "start_time": "2023-03-20T12:13:54.700Z"
   },
   {
    "duration": 65,
    "start_time": "2023-03-20T12:13:54.739Z"
   },
   {
    "duration": 13,
    "start_time": "2023-03-20T12:13:54.806Z"
   },
   {
    "duration": 39,
    "start_time": "2023-03-20T12:13:54.822Z"
   },
   {
    "duration": 16,
    "start_time": "2023-03-20T12:13:54.863Z"
   },
   {
    "duration": 9,
    "start_time": "2023-03-20T12:13:54.880Z"
   },
   {
    "duration": 12,
    "start_time": "2023-03-20T12:13:54.892Z"
   },
   {
    "duration": 14,
    "start_time": "2023-03-20T12:13:54.906Z"
   },
   {
    "duration": 15,
    "start_time": "2023-03-20T12:13:54.923Z"
   },
   {
    "duration": 27,
    "start_time": "2023-03-20T12:13:54.940Z"
   },
   {
    "duration": 287,
    "start_time": "2023-03-20T12:14:08.038Z"
   },
   {
    "duration": 3,
    "start_time": "2023-03-20T12:14:54.839Z"
   },
   {
    "duration": 7,
    "start_time": "2023-03-20T12:14:54.844Z"
   },
   {
    "duration": 74,
    "start_time": "2023-03-20T12:14:54.853Z"
   },
   {
    "duration": 9,
    "start_time": "2023-03-20T12:14:54.929Z"
   },
   {
    "duration": 10,
    "start_time": "2023-03-20T12:14:54.940Z"
   },
   {
    "duration": 9,
    "start_time": "2023-03-20T12:14:54.952Z"
   },
   {
    "duration": 25,
    "start_time": "2023-03-20T12:14:54.963Z"
   },
   {
    "duration": 14,
    "start_time": "2023-03-20T12:14:54.990Z"
   },
   {
    "duration": 18,
    "start_time": "2023-03-20T12:14:55.005Z"
   },
   {
    "duration": 38,
    "start_time": "2023-03-20T12:14:55.025Z"
   },
   {
    "duration": 15,
    "start_time": "2023-03-20T12:14:55.065Z"
   },
   {
    "duration": 19,
    "start_time": "2023-03-20T12:14:55.082Z"
   },
   {
    "duration": 10,
    "start_time": "2023-03-20T12:14:55.103Z"
   },
   {
    "duration": 4,
    "start_time": "2023-03-20T12:14:55.115Z"
   },
   {
    "duration": 12,
    "start_time": "2023-03-20T12:15:06.790Z"
   },
   {
    "duration": 12,
    "start_time": "2023-03-20T12:15:18.119Z"
   },
   {
    "duration": 198,
    "start_time": "2023-03-20T12:15:58.026Z"
   },
   {
    "duration": 176,
    "start_time": "2023-03-20T12:16:04.897Z"
   },
   {
    "duration": 2,
    "start_time": "2023-03-20T12:16:11.946Z"
   },
   {
    "duration": 231,
    "start_time": "2023-03-20T12:16:18.127Z"
   },
   {
    "duration": 3,
    "start_time": "2023-03-20T12:17:15.512Z"
   },
   {
    "duration": 214,
    "start_time": "2023-03-20T12:17:19.816Z"
   },
   {
    "duration": 3,
    "start_time": "2023-03-20T12:17:34.755Z"
   },
   {
    "duration": 220,
    "start_time": "2023-03-20T12:17:42.010Z"
   },
   {
    "duration": 3,
    "start_time": "2023-03-20T12:17:53.741Z"
   },
   {
    "duration": 4,
    "start_time": "2023-03-20T12:17:58.634Z"
   },
   {
    "duration": 260,
    "start_time": "2023-03-20T12:18:04.099Z"
   },
   {
    "duration": 234,
    "start_time": "2023-03-20T12:18:05.351Z"
   },
   {
    "duration": 230,
    "start_time": "2023-03-20T12:18:11.027Z"
   },
   {
    "duration": 195,
    "start_time": "2023-03-20T12:18:19.618Z"
   },
   {
    "duration": 12,
    "start_time": "2023-03-20T12:18:25.854Z"
   },
   {
    "duration": 4,
    "start_time": "2023-03-20T12:19:16.121Z"
   },
   {
    "duration": 6,
    "start_time": "2023-03-20T12:19:16.127Z"
   },
   {
    "duration": 78,
    "start_time": "2023-03-20T12:19:16.135Z"
   },
   {
    "duration": 12,
    "start_time": "2023-03-20T12:19:16.215Z"
   },
   {
    "duration": 12,
    "start_time": "2023-03-20T12:19:16.230Z"
   },
   {
    "duration": 11,
    "start_time": "2023-03-20T12:19:16.244Z"
   },
   {
    "duration": 27,
    "start_time": "2023-03-20T12:19:16.257Z"
   },
   {
    "duration": 17,
    "start_time": "2023-03-20T12:19:16.287Z"
   },
   {
    "duration": 16,
    "start_time": "2023-03-20T12:19:16.306Z"
   },
   {
    "duration": 53,
    "start_time": "2023-03-20T12:19:16.325Z"
   },
   {
    "duration": 17,
    "start_time": "2023-03-20T12:19:16.380Z"
   },
   {
    "duration": 4,
    "start_time": "2023-03-20T12:19:16.399Z"
   },
   {
    "duration": 7,
    "start_time": "2023-03-20T12:19:16.405Z"
   },
   {
    "duration": 4,
    "start_time": "2023-03-20T12:19:16.413Z"
   },
   {
    "duration": 19,
    "start_time": "2023-03-20T12:19:16.419Z"
   },
   {
    "duration": 13,
    "start_time": "2023-03-20T12:19:16.462Z"
   },
   {
    "duration": 12,
    "start_time": "2023-03-20T12:19:34.591Z"
   },
   {
    "duration": 4,
    "start_time": "2023-03-20T12:20:14.780Z"
   },
   {
    "duration": 8,
    "start_time": "2023-03-20T12:20:14.786Z"
   },
   {
    "duration": 77,
    "start_time": "2023-03-20T12:20:14.795Z"
   },
   {
    "duration": 12,
    "start_time": "2023-03-20T12:20:14.874Z"
   },
   {
    "duration": 11,
    "start_time": "2023-03-20T12:20:14.888Z"
   },
   {
    "duration": 10,
    "start_time": "2023-03-20T12:20:14.900Z"
   },
   {
    "duration": 29,
    "start_time": "2023-03-20T12:20:14.912Z"
   },
   {
    "duration": 14,
    "start_time": "2023-03-20T12:20:14.962Z"
   },
   {
    "duration": 15,
    "start_time": "2023-03-20T12:20:14.979Z"
   },
   {
    "duration": 23,
    "start_time": "2023-03-20T12:20:14.995Z"
   },
   {
    "duration": 48,
    "start_time": "2023-03-20T12:20:15.021Z"
   },
   {
    "duration": 6,
    "start_time": "2023-03-20T12:20:15.070Z"
   },
   {
    "duration": 18,
    "start_time": "2023-03-20T12:20:15.078Z"
   },
   {
    "duration": 3,
    "start_time": "2023-03-20T12:20:15.098Z"
   },
   {
    "duration": 10,
    "start_time": "2023-03-20T12:20:15.103Z"
   },
   {
    "duration": 19,
    "start_time": "2023-03-20T12:20:15.116Z"
   },
   {
    "duration": 15,
    "start_time": "2023-03-20T12:20:24.065Z"
   },
   {
    "duration": 18,
    "start_time": "2023-03-20T12:20:28.959Z"
   },
   {
    "duration": 3,
    "start_time": "2023-03-20T12:21:48.310Z"
   },
   {
    "duration": 50,
    "start_time": "2023-03-20T12:22:39.767Z"
   },
   {
    "duration": 9,
    "start_time": "2023-03-20T12:23:17.697Z"
   },
   {
    "duration": 3,
    "start_time": "2023-03-20T12:24:16.941Z"
   },
   {
    "duration": 4,
    "start_time": "2023-03-20T12:25:01.883Z"
   },
   {
    "duration": 9,
    "start_time": "2023-03-20T12:25:13.680Z"
   },
   {
    "duration": 10,
    "start_time": "2023-03-20T12:25:23.662Z"
   },
   {
    "duration": 5,
    "start_time": "2023-03-20T12:26:27.053Z"
   },
   {
    "duration": 10,
    "start_time": "2023-03-20T12:26:39.293Z"
   },
   {
    "duration": 3,
    "start_time": "2023-03-20T13:30:20.721Z"
   },
   {
    "duration": 13,
    "start_time": "2023-03-20T13:30:20.726Z"
   },
   {
    "duration": 82,
    "start_time": "2023-03-20T13:30:20.741Z"
   },
   {
    "duration": 8,
    "start_time": "2023-03-20T13:30:20.824Z"
   },
   {
    "duration": 12,
    "start_time": "2023-03-20T13:30:20.835Z"
   },
   {
    "duration": 29,
    "start_time": "2023-03-20T13:30:20.848Z"
   },
   {
    "duration": 26,
    "start_time": "2023-03-20T13:30:20.879Z"
   },
   {
    "duration": 14,
    "start_time": "2023-03-20T13:30:20.906Z"
   },
   {
    "duration": 19,
    "start_time": "2023-03-20T13:30:20.922Z"
   },
   {
    "duration": 33,
    "start_time": "2023-03-20T13:30:20.943Z"
   },
   {
    "duration": 13,
    "start_time": "2023-03-20T13:30:20.979Z"
   },
   {
    "duration": 12,
    "start_time": "2023-03-20T13:30:20.994Z"
   },
   {
    "duration": 11,
    "start_time": "2023-03-20T13:30:21.007Z"
   },
   {
    "duration": 4,
    "start_time": "2023-03-20T13:30:21.020Z"
   },
   {
    "duration": 7,
    "start_time": "2023-03-20T13:30:21.026Z"
   },
   {
    "duration": 34,
    "start_time": "2023-03-20T13:30:21.037Z"
   },
   {
    "duration": 13,
    "start_time": "2023-03-20T13:30:21.073Z"
   },
   {
    "duration": 22,
    "start_time": "2023-03-20T13:30:21.088Z"
   },
   {
    "duration": 10,
    "start_time": "2023-03-20T13:30:21.112Z"
   },
   {
    "duration": 14,
    "start_time": "2023-03-20T13:30:21.124Z"
   },
   {
    "duration": 8,
    "start_time": "2023-03-20T13:30:21.161Z"
   },
   {
    "duration": 8,
    "start_time": "2023-03-20T13:30:21.177Z"
   },
   {
    "duration": 7,
    "start_time": "2023-03-20T13:30:21.186Z"
   },
   {
    "duration": 12,
    "start_time": "2023-03-20T13:30:21.195Z"
   },
   {
    "duration": 9,
    "start_time": "2023-03-20T13:30:21.208Z"
   },
   {
    "duration": 6,
    "start_time": "2023-03-20T13:30:21.219Z"
   },
   {
    "duration": 7,
    "start_time": "2023-03-20T13:30:21.227Z"
   },
   {
    "duration": 37,
    "start_time": "2023-03-20T13:30:21.236Z"
   },
   {
    "duration": 8,
    "start_time": "2023-03-20T13:30:21.276Z"
   },
   {
    "duration": 5,
    "start_time": "2023-03-20T13:30:21.285Z"
   },
   {
    "duration": 13,
    "start_time": "2023-03-20T13:30:21.292Z"
   },
   {
    "duration": 21,
    "start_time": "2023-03-20T13:30:21.308Z"
   },
   {
    "duration": 19,
    "start_time": "2023-03-20T13:30:21.331Z"
   },
   {
    "duration": 2,
    "start_time": "2023-03-20T13:37:59.565Z"
   },
   {
    "duration": 2,
    "start_time": "2023-03-20T13:39:59.676Z"
   },
   {
    "duration": 10,
    "start_time": "2023-03-20T13:46:07.858Z"
   },
   {
    "duration": 10,
    "start_time": "2023-03-20T13:46:17.989Z"
   },
   {
    "duration": 8,
    "start_time": "2023-03-20T13:46:20.403Z"
   },
   {
    "duration": 772,
    "start_time": "2023-03-22T09:41:19.628Z"
   },
   {
    "duration": 2,
    "start_time": "2023-03-22T09:41:20.402Z"
   },
   {
    "duration": 242,
    "start_time": "2023-03-22T09:41:20.405Z"
   },
   {
    "duration": 11,
    "start_time": "2023-03-22T09:41:20.649Z"
   },
   {
    "duration": 6,
    "start_time": "2023-03-22T09:41:20.663Z"
   },
   {
    "duration": 21,
    "start_time": "2023-03-22T09:41:20.670Z"
   },
   {
    "duration": 31,
    "start_time": "2023-03-22T09:41:20.693Z"
   },
   {
    "duration": 60,
    "start_time": "2023-03-22T09:41:20.726Z"
   },
   {
    "duration": 11,
    "start_time": "2023-03-22T09:41:20.788Z"
   },
   {
    "duration": 26,
    "start_time": "2023-03-22T09:41:20.800Z"
   },
   {
    "duration": 24,
    "start_time": "2023-03-22T09:41:20.827Z"
   },
   {
    "duration": 9,
    "start_time": "2023-03-22T09:41:20.852Z"
   },
   {
    "duration": 21,
    "start_time": "2023-03-22T09:41:20.862Z"
   },
   {
    "duration": 5,
    "start_time": "2023-03-22T09:41:20.887Z"
   },
   {
    "duration": 13,
    "start_time": "2023-03-22T09:41:20.893Z"
   },
   {
    "duration": 11,
    "start_time": "2023-03-22T09:41:20.907Z"
   },
   {
    "duration": 14,
    "start_time": "2023-03-22T09:41:20.919Z"
   },
   {
    "duration": 19,
    "start_time": "2023-03-22T09:41:20.934Z"
   },
   {
    "duration": 7,
    "start_time": "2023-03-22T09:41:20.954Z"
   },
   {
    "duration": 7,
    "start_time": "2023-03-22T09:41:20.963Z"
   },
   {
    "duration": 15,
    "start_time": "2023-03-22T09:41:20.971Z"
   },
   {
    "duration": 5,
    "start_time": "2023-03-22T09:41:20.987Z"
   },
   {
    "duration": 5,
    "start_time": "2023-03-22T09:41:20.993Z"
   },
   {
    "duration": 4,
    "start_time": "2023-03-22T09:41:21.000Z"
   },
   {
    "duration": 17,
    "start_time": "2023-03-22T09:41:21.005Z"
   },
   {
    "duration": 18,
    "start_time": "2023-03-22T09:41:21.024Z"
   },
   {
    "duration": 9,
    "start_time": "2023-03-22T09:41:21.044Z"
   },
   {
    "duration": 9,
    "start_time": "2023-03-22T09:41:21.054Z"
   },
   {
    "duration": 13,
    "start_time": "2023-03-22T09:41:21.064Z"
   },
   {
    "duration": 4,
    "start_time": "2023-03-22T09:41:21.078Z"
   },
   {
    "duration": 8,
    "start_time": "2023-03-22T09:41:21.083Z"
   },
   {
    "duration": 4,
    "start_time": "2023-03-22T09:41:21.092Z"
   },
   {
    "duration": 10,
    "start_time": "2023-03-22T09:41:21.097Z"
   },
   {
    "duration": 7,
    "start_time": "2023-03-22T09:41:21.108Z"
   },
   {
    "duration": 29,
    "start_time": "2023-03-22T09:41:21.116Z"
   },
   {
    "duration": 287,
    "start_time": "2023-03-22T09:41:21.146Z"
   },
   {
    "duration": 853,
    "start_time": "2023-03-22T09:41:59.673Z"
   },
   {
    "duration": 3,
    "start_time": "2023-03-22T09:42:28.243Z"
   },
   {
    "duration": 4,
    "start_time": "2023-03-22T09:42:28.248Z"
   },
   {
    "duration": 82,
    "start_time": "2023-03-22T09:42:28.254Z"
   },
   {
    "duration": 7,
    "start_time": "2023-03-22T09:42:28.338Z"
   },
   {
    "duration": 15,
    "start_time": "2023-03-22T09:42:28.346Z"
   },
   {
    "duration": 7,
    "start_time": "2023-03-22T09:42:28.362Z"
   },
   {
    "duration": 21,
    "start_time": "2023-03-22T09:42:28.370Z"
   },
   {
    "duration": 66,
    "start_time": "2023-03-22T09:42:28.393Z"
   },
   {
    "duration": 10,
    "start_time": "2023-03-22T09:42:28.460Z"
   },
   {
    "duration": 16,
    "start_time": "2023-03-22T09:42:28.472Z"
   },
   {
    "duration": 12,
    "start_time": "2023-03-22T09:42:28.490Z"
   },
   {
    "duration": 4,
    "start_time": "2023-03-22T09:42:28.503Z"
   },
   {
    "duration": 34,
    "start_time": "2023-03-22T09:42:28.509Z"
   },
   {
    "duration": 10,
    "start_time": "2023-03-22T09:42:28.544Z"
   },
   {
    "duration": 5,
    "start_time": "2023-03-22T09:42:28.555Z"
   },
   {
    "duration": 9,
    "start_time": "2023-03-22T09:42:28.561Z"
   },
   {
    "duration": 30,
    "start_time": "2023-03-22T09:42:28.571Z"
   },
   {
    "duration": 16,
    "start_time": "2023-03-22T09:42:28.602Z"
   },
   {
    "duration": 8,
    "start_time": "2023-03-22T09:42:28.619Z"
   },
   {
    "duration": 12,
    "start_time": "2023-03-22T09:42:28.629Z"
   },
   {
    "duration": 9,
    "start_time": "2023-03-22T09:42:28.643Z"
   },
   {
    "duration": 5,
    "start_time": "2023-03-22T09:42:28.654Z"
   },
   {
    "duration": 5,
    "start_time": "2023-03-22T09:42:28.660Z"
   },
   {
    "duration": 5,
    "start_time": "2023-03-22T09:42:28.666Z"
   },
   {
    "duration": 6,
    "start_time": "2023-03-22T09:42:28.673Z"
   },
   {
    "duration": 5,
    "start_time": "2023-03-22T09:42:28.680Z"
   },
   {
    "duration": 9,
    "start_time": "2023-03-22T09:42:28.686Z"
   },
   {
    "duration": 4,
    "start_time": "2023-03-22T09:42:28.696Z"
   },
   {
    "duration": 39,
    "start_time": "2023-03-22T09:42:28.702Z"
   },
   {
    "duration": 7,
    "start_time": "2023-03-22T09:42:28.742Z"
   },
   {
    "duration": 13,
    "start_time": "2023-03-22T09:42:28.750Z"
   },
   {
    "duration": 16,
    "start_time": "2023-03-22T09:42:28.764Z"
   },
   {
    "duration": 13,
    "start_time": "2023-03-22T09:42:28.781Z"
   },
   {
    "duration": 10,
    "start_time": "2023-03-22T09:42:28.795Z"
   },
   {
    "duration": 9,
    "start_time": "2023-03-22T09:42:28.807Z"
   },
   {
    "duration": 270,
    "start_time": "2023-03-22T09:42:28.817Z"
   },
   {
    "duration": 172,
    "start_time": "2023-03-22T09:42:29.088Z"
   },
   {
    "duration": 201,
    "start_time": "2023-03-22T09:43:40.911Z"
   },
   {
    "duration": 205,
    "start_time": "2023-03-22T09:43:51.056Z"
   },
   {
    "duration": 224,
    "start_time": "2023-03-22T09:43:57.328Z"
   },
   {
    "duration": 226,
    "start_time": "2023-03-22T09:44:04.878Z"
   },
   {
    "duration": 221,
    "start_time": "2023-03-22T09:46:05.437Z"
   },
   {
    "duration": 194,
    "start_time": "2023-03-22T09:47:20.091Z"
   },
   {
    "duration": 218,
    "start_time": "2023-03-22T09:47:24.815Z"
   },
   {
    "duration": 271,
    "start_time": "2023-03-22T09:51:14.811Z"
   },
   {
    "duration": 212,
    "start_time": "2023-03-22T09:51:23.187Z"
   },
   {
    "duration": 2,
    "start_time": "2023-03-22T09:52:00.008Z"
   },
   {
    "duration": 318,
    "start_time": "2023-03-22T09:52:47.116Z"
   },
   {
    "duration": 292,
    "start_time": "2023-03-22T09:52:56.376Z"
   },
   {
    "duration": 259,
    "start_time": "2023-03-22T09:53:06.916Z"
   },
   {
    "duration": 48,
    "start_time": "2023-03-22T09:54:06.744Z"
   },
   {
    "duration": 3,
    "start_time": "2023-03-22T09:54:15.526Z"
   },
   {
    "duration": 296,
    "start_time": "2023-03-22T09:54:30.246Z"
   },
   {
    "duration": 25,
    "start_time": "2023-03-22T09:56:18.219Z"
   },
   {
    "duration": 3,
    "start_time": "2023-03-22T09:56:37.700Z"
   },
   {
    "duration": 4,
    "start_time": "2023-03-22T09:56:37.706Z"
   },
   {
    "duration": 78,
    "start_time": "2023-03-22T09:56:37.712Z"
   },
   {
    "duration": 8,
    "start_time": "2023-03-22T09:56:37.792Z"
   },
   {
    "duration": 17,
    "start_time": "2023-03-22T09:56:37.803Z"
   },
   {
    "duration": 13,
    "start_time": "2023-03-22T09:56:37.821Z"
   },
   {
    "duration": 21,
    "start_time": "2023-03-22T09:56:37.835Z"
   },
   {
    "duration": 11,
    "start_time": "2023-03-22T09:56:37.858Z"
   },
   {
    "duration": 11,
    "start_time": "2023-03-22T09:56:37.870Z"
   },
   {
    "duration": 17,
    "start_time": "2023-03-22T09:56:37.882Z"
   },
   {
    "duration": 43,
    "start_time": "2023-03-22T09:56:37.901Z"
   },
   {
    "duration": 4,
    "start_time": "2023-03-22T09:56:37.947Z"
   },
   {
    "duration": 6,
    "start_time": "2023-03-22T09:56:37.952Z"
   },
   {
    "duration": 3,
    "start_time": "2023-03-22T09:56:37.960Z"
   },
   {
    "duration": 5,
    "start_time": "2023-03-22T09:56:37.964Z"
   },
   {
    "duration": 10,
    "start_time": "2023-03-22T09:56:37.971Z"
   },
   {
    "duration": 13,
    "start_time": "2023-03-22T09:56:37.983Z"
   },
   {
    "duration": 53,
    "start_time": "2023-03-22T09:56:37.997Z"
   },
   {
    "duration": 7,
    "start_time": "2023-03-22T09:56:38.051Z"
   },
   {
    "duration": 6,
    "start_time": "2023-03-22T09:56:38.060Z"
   },
   {
    "duration": 5,
    "start_time": "2023-03-22T09:56:38.067Z"
   },
   {
    "duration": 4,
    "start_time": "2023-03-22T09:56:38.074Z"
   },
   {
    "duration": 6,
    "start_time": "2023-03-22T09:56:38.080Z"
   },
   {
    "duration": 9,
    "start_time": "2023-03-22T09:56:38.087Z"
   },
   {
    "duration": 10,
    "start_time": "2023-03-22T09:56:38.098Z"
   },
   {
    "duration": 32,
    "start_time": "2023-03-22T09:56:38.109Z"
   },
   {
    "duration": 6,
    "start_time": "2023-03-22T09:56:38.142Z"
   },
   {
    "duration": 4,
    "start_time": "2023-03-22T09:56:38.149Z"
   },
   {
    "duration": 8,
    "start_time": "2023-03-22T09:56:38.154Z"
   },
   {
    "duration": 3,
    "start_time": "2023-03-22T09:56:38.165Z"
   },
   {
    "duration": 8,
    "start_time": "2023-03-22T09:56:38.169Z"
   },
   {
    "duration": 4,
    "start_time": "2023-03-22T09:56:38.178Z"
   },
   {
    "duration": 8,
    "start_time": "2023-03-22T09:56:38.183Z"
   },
   {
    "duration": 58,
    "start_time": "2023-03-22T09:56:38.192Z"
   },
   {
    "duration": 0,
    "start_time": "2023-03-22T09:56:38.251Z"
   },
   {
    "duration": 0,
    "start_time": "2023-03-22T09:56:38.252Z"
   },
   {
    "duration": 282,
    "start_time": "2023-03-22T09:58:01.696Z"
   },
   {
    "duration": 144,
    "start_time": "2023-03-22T09:59:16.404Z"
   },
   {
    "duration": 222,
    "start_time": "2023-03-22T09:59:31.036Z"
   },
   {
    "duration": 215,
    "start_time": "2023-03-22T09:59:50.550Z"
   },
   {
    "duration": 214,
    "start_time": "2023-03-22T10:00:17.259Z"
   },
   {
    "duration": 206,
    "start_time": "2023-03-22T10:00:41.649Z"
   },
   {
    "duration": 188,
    "start_time": "2023-03-22T10:00:53.435Z"
   },
   {
    "duration": 200,
    "start_time": "2023-03-22T10:00:59.014Z"
   },
   {
    "duration": 249,
    "start_time": "2023-03-22T10:01:03.878Z"
   },
   {
    "duration": 201,
    "start_time": "2023-03-22T10:01:10.680Z"
   },
   {
    "duration": 220,
    "start_time": "2023-03-22T10:01:15.391Z"
   },
   {
    "duration": 217,
    "start_time": "2023-03-22T10:01:19.485Z"
   },
   {
    "duration": 214,
    "start_time": "2023-03-22T10:01:35.878Z"
   },
   {
    "duration": 222,
    "start_time": "2023-03-22T10:01:41.135Z"
   },
   {
    "duration": 1205,
    "start_time": "2023-03-22T10:01:57.936Z"
   },
   {
    "duration": 244,
    "start_time": "2023-03-22T10:02:05.662Z"
   },
   {
    "duration": 217,
    "start_time": "2023-03-22T10:02:12.108Z"
   },
   {
    "duration": 216,
    "start_time": "2023-03-22T10:02:13.859Z"
   },
   {
    "duration": 274,
    "start_time": "2023-03-22T10:02:32.198Z"
   },
   {
    "duration": 216,
    "start_time": "2023-03-22T10:02:45.058Z"
   },
   {
    "duration": 335,
    "start_time": "2023-03-22T10:06:36.135Z"
   },
   {
    "duration": 210,
    "start_time": "2023-03-22T10:06:42.755Z"
   },
   {
    "duration": 261,
    "start_time": "2023-03-22T10:09:38.881Z"
   },
   {
    "duration": 147,
    "start_time": "2023-03-22T10:10:15.078Z"
   },
   {
    "duration": 143,
    "start_time": "2023-03-22T10:10:21.332Z"
   },
   {
    "duration": 223,
    "start_time": "2023-03-22T10:10:28.490Z"
   },
   {
    "duration": 312,
    "start_time": "2023-03-22T10:11:21.042Z"
   },
   {
    "duration": 260,
    "start_time": "2023-03-22T10:11:30.292Z"
   },
   {
    "duration": 277,
    "start_time": "2023-03-22T10:11:45.808Z"
   },
   {
    "duration": 356,
    "start_time": "2023-03-22T10:11:56.342Z"
   },
   {
    "duration": 298,
    "start_time": "2023-03-22T10:12:33.494Z"
   },
   {
    "duration": 304,
    "start_time": "2023-03-22T10:12:44.650Z"
   },
   {
    "duration": 309,
    "start_time": "2023-03-22T10:12:48.401Z"
   },
   {
    "duration": 188,
    "start_time": "2023-03-22T10:12:56.823Z"
   },
   {
    "duration": 307,
    "start_time": "2023-03-22T10:12:59.055Z"
   },
   {
    "duration": 322,
    "start_time": "2023-03-22T10:13:20.454Z"
   },
   {
    "duration": 343,
    "start_time": "2023-03-22T10:13:31.526Z"
   },
   {
    "duration": 144,
    "start_time": "2023-03-22T10:34:23.431Z"
   },
   {
    "duration": 176,
    "start_time": "2023-03-22T10:35:03.853Z"
   },
   {
    "duration": 167,
    "start_time": "2023-03-22T10:35:20.710Z"
   },
   {
    "duration": 3,
    "start_time": "2023-03-22T10:35:23.710Z"
   },
   {
    "duration": 2,
    "start_time": "2023-03-22T10:35:23.716Z"
   },
   {
    "duration": 82,
    "start_time": "2023-03-22T10:35:23.719Z"
   },
   {
    "duration": 8,
    "start_time": "2023-03-22T10:35:23.803Z"
   },
   {
    "duration": 8,
    "start_time": "2023-03-22T10:35:23.813Z"
   },
   {
    "duration": 6,
    "start_time": "2023-03-22T10:35:23.823Z"
   },
   {
    "duration": 21,
    "start_time": "2023-03-22T10:35:23.831Z"
   },
   {
    "duration": 66,
    "start_time": "2023-03-22T10:35:23.854Z"
   },
   {
    "duration": 28,
    "start_time": "2023-03-22T10:35:23.921Z"
   },
   {
    "duration": 17,
    "start_time": "2023-03-22T10:35:23.950Z"
   },
   {
    "duration": 11,
    "start_time": "2023-03-22T10:35:23.969Z"
   },
   {
    "duration": 3,
    "start_time": "2023-03-22T10:35:23.982Z"
   },
   {
    "duration": 5,
    "start_time": "2023-03-22T10:35:23.987Z"
   },
   {
    "duration": 5,
    "start_time": "2023-03-22T10:35:23.994Z"
   },
   {
    "duration": 5,
    "start_time": "2023-03-22T10:35:24.000Z"
   },
   {
    "duration": 39,
    "start_time": "2023-03-22T10:35:24.006Z"
   },
   {
    "duration": 14,
    "start_time": "2023-03-22T10:35:24.046Z"
   },
   {
    "duration": 15,
    "start_time": "2023-03-22T10:35:24.062Z"
   },
   {
    "duration": 7,
    "start_time": "2023-03-22T10:35:24.078Z"
   },
   {
    "duration": 6,
    "start_time": "2023-03-22T10:35:24.086Z"
   },
   {
    "duration": 23,
    "start_time": "2023-03-22T10:35:24.093Z"
   },
   {
    "duration": 16,
    "start_time": "2023-03-22T10:35:24.118Z"
   },
   {
    "duration": 6,
    "start_time": "2023-03-22T10:35:24.135Z"
   },
   {
    "duration": 4,
    "start_time": "2023-03-22T10:35:24.143Z"
   },
   {
    "duration": 8,
    "start_time": "2023-03-22T10:35:24.148Z"
   },
   {
    "duration": 3,
    "start_time": "2023-03-22T10:35:24.157Z"
   },
   {
    "duration": 6,
    "start_time": "2023-03-22T10:35:24.162Z"
   },
   {
    "duration": 3,
    "start_time": "2023-03-22T10:35:24.170Z"
   },
   {
    "duration": 7,
    "start_time": "2023-03-22T10:35:24.175Z"
   },
   {
    "duration": 3,
    "start_time": "2023-03-22T10:35:24.185Z"
   },
   {
    "duration": 53,
    "start_time": "2023-03-22T10:35:24.190Z"
   },
   {
    "duration": 7,
    "start_time": "2023-03-22T10:35:24.245Z"
   },
   {
    "duration": 9,
    "start_time": "2023-03-22T10:35:24.254Z"
   },
   {
    "duration": 310,
    "start_time": "2023-03-22T10:35:24.264Z"
   },
   {
    "duration": 233,
    "start_time": "2023-03-22T10:35:24.575Z"
   },
   {
    "duration": 223,
    "start_time": "2023-03-22T10:35:24.809Z"
   },
   {
    "duration": 335,
    "start_time": "2023-03-22T10:35:25.033Z"
   },
   {
    "duration": 166,
    "start_time": "2023-03-22T10:35:25.369Z"
   },
   {
    "duration": 279,
    "start_time": "2023-03-22T10:36:47.852Z"
   },
   {
    "duration": 306,
    "start_time": "2023-03-22T10:36:56.090Z"
   },
   {
    "duration": 216,
    "start_time": "2023-03-22T10:37:00.230Z"
   },
   {
    "duration": 4,
    "start_time": "2023-03-22T10:38:27.685Z"
   },
   {
    "duration": 189,
    "start_time": "2023-03-22T10:38:34.330Z"
   },
   {
    "duration": 192,
    "start_time": "2023-03-22T10:38:54.843Z"
   },
   {
    "duration": 195,
    "start_time": "2023-03-22T10:38:58.885Z"
   },
   {
    "duration": 244,
    "start_time": "2023-03-22T10:39:02.676Z"
   },
   {
    "duration": 198,
    "start_time": "2023-03-22T10:39:06.857Z"
   },
   {
    "duration": 339,
    "start_time": "2023-03-22T10:39:15.922Z"
   },
   {
    "duration": 334,
    "start_time": "2023-03-22T10:39:22.040Z"
   },
   {
    "duration": 298,
    "start_time": "2023-03-22T10:39:34.674Z"
   },
   {
    "duration": 318,
    "start_time": "2023-03-22T10:39:36.398Z"
   },
   {
    "duration": 306,
    "start_time": "2023-03-22T10:39:41.390Z"
   },
   {
    "duration": 209,
    "start_time": "2023-03-22T10:39:48.887Z"
   },
   {
    "duration": 211,
    "start_time": "2023-03-22T10:39:59.953Z"
   },
   {
    "duration": 217,
    "start_time": "2023-03-22T10:40:07.616Z"
   },
   {
    "duration": 213,
    "start_time": "2023-03-22T10:40:11.153Z"
   },
   {
    "duration": 275,
    "start_time": "2023-03-22T10:40:13.599Z"
   },
   {
    "duration": 216,
    "start_time": "2023-03-22T10:40:19.752Z"
   },
   {
    "duration": 220,
    "start_time": "2023-03-22T10:40:25.224Z"
   },
   {
    "duration": 229,
    "start_time": "2023-03-22T10:40:28.080Z"
   },
   {
    "duration": 218,
    "start_time": "2023-03-22T10:40:32.274Z"
   },
   {
    "duration": 219,
    "start_time": "2023-03-22T10:40:41.557Z"
   },
   {
    "duration": 224,
    "start_time": "2023-03-22T10:40:52.185Z"
   },
   {
    "duration": 215,
    "start_time": "2023-03-22T10:41:02.604Z"
   },
   {
    "duration": 214,
    "start_time": "2023-03-22T10:41:18.175Z"
   },
   {
    "duration": 210,
    "start_time": "2023-03-22T10:41:26.391Z"
   },
   {
    "duration": 203,
    "start_time": "2023-03-22T10:41:38.055Z"
   },
   {
    "duration": 323,
    "start_time": "2023-03-22T10:42:26.694Z"
   },
   {
    "duration": 6,
    "start_time": "2023-03-22T10:42:48.177Z"
   },
   {
    "duration": 222,
    "start_time": "2023-03-22T10:42:53.016Z"
   },
   {
    "duration": 257,
    "start_time": "2023-03-22T10:42:59.673Z"
   },
   {
    "duration": 197,
    "start_time": "2023-03-22T10:43:38.259Z"
   },
   {
    "duration": 205,
    "start_time": "2023-03-22T10:43:48.215Z"
   },
   {
    "duration": 203,
    "start_time": "2023-03-22T10:43:54.977Z"
   },
   {
    "duration": 804,
    "start_time": "2023-03-22T10:43:57.898Z"
   },
   {
    "duration": 209,
    "start_time": "2023-03-22T10:44:02.806Z"
   },
   {
    "duration": 197,
    "start_time": "2023-03-22T10:44:12.876Z"
   },
   {
    "duration": 223,
    "start_time": "2023-03-22T10:44:17.297Z"
   },
   {
    "duration": 280,
    "start_time": "2023-03-22T10:44:23.615Z"
   },
   {
    "duration": 440,
    "start_time": "2023-03-22T10:44:29.258Z"
   },
   {
    "duration": 218,
    "start_time": "2023-03-22T10:44:33.631Z"
   },
   {
    "duration": 210,
    "start_time": "2023-03-22T10:44:37.558Z"
   },
   {
    "duration": 217,
    "start_time": "2023-03-22T10:44:42.498Z"
   },
   {
    "duration": 214,
    "start_time": "2023-03-22T10:45:05.643Z"
   },
   {
    "duration": 201,
    "start_time": "2023-03-22T10:45:12.823Z"
   },
   {
    "duration": 179,
    "start_time": "2023-03-22T10:45:16.356Z"
   },
   {
    "duration": 217,
    "start_time": "2023-03-22T10:45:33.911Z"
   },
   {
    "duration": 217,
    "start_time": "2023-03-22T10:45:58.455Z"
   },
   {
    "duration": 311,
    "start_time": "2023-03-22T10:46:06.330Z"
   },
   {
    "duration": 273,
    "start_time": "2023-03-22T10:46:10.201Z"
   },
   {
    "duration": 190,
    "start_time": "2023-03-22T10:46:12.447Z"
   },
   {
    "duration": 2150,
    "start_time": "2023-03-22T10:46:15.458Z"
   },
   {
    "duration": 228,
    "start_time": "2023-03-22T10:46:22.488Z"
   },
   {
    "duration": 253,
    "start_time": "2023-03-22T10:46:26.687Z"
   },
   {
    "duration": 224,
    "start_time": "2023-03-22T10:46:29.353Z"
   },
   {
    "duration": 219,
    "start_time": "2023-03-22T10:46:34.181Z"
   },
   {
    "duration": 286,
    "start_time": "2023-03-22T10:46:41.935Z"
   },
   {
    "duration": 223,
    "start_time": "2023-03-22T10:46:45.279Z"
   },
   {
    "duration": 224,
    "start_time": "2023-03-22T10:46:49.501Z"
   },
   {
    "duration": 224,
    "start_time": "2023-03-22T10:46:54.148Z"
   },
   {
    "duration": 59,
    "start_time": "2023-03-22T10:47:30.716Z"
   },
   {
    "duration": 297,
    "start_time": "2023-03-22T10:50:49.375Z"
   },
   {
    "duration": 294,
    "start_time": "2023-03-22T10:50:54.484Z"
   },
   {
    "duration": 259,
    "start_time": "2023-03-22T10:51:45.507Z"
   },
   {
    "duration": 311,
    "start_time": "2023-03-22T10:52:00.635Z"
   },
   {
    "duration": 343,
    "start_time": "2023-03-22T10:52:28.035Z"
   },
   {
    "duration": 332,
    "start_time": "2023-03-22T10:52:47.898Z"
   },
   {
    "duration": 342,
    "start_time": "2023-03-22T10:53:03.229Z"
   },
   {
    "duration": 397,
    "start_time": "2023-03-22T10:53:25.124Z"
   },
   {
    "duration": 321,
    "start_time": "2023-03-22T10:53:51.239Z"
   },
   {
    "duration": 343,
    "start_time": "2023-03-22T10:53:56.493Z"
   },
   {
    "duration": 323,
    "start_time": "2023-03-22T10:55:14.456Z"
   },
   {
    "duration": 175,
    "start_time": "2023-03-22T10:55:42.596Z"
   },
   {
    "duration": 307,
    "start_time": "2023-03-22T10:55:46.575Z"
   },
   {
    "duration": 45,
    "start_time": "2023-03-22T10:56:16.650Z"
   },
   {
    "duration": 5,
    "start_time": "2023-03-22T10:56:24.748Z"
   },
   {
    "duration": 53,
    "start_time": "2023-03-22T10:56:33.202Z"
   },
   {
    "duration": 49,
    "start_time": "2023-03-22T10:56:43.697Z"
   },
   {
    "duration": 593,
    "start_time": "2023-03-22T10:57:12.209Z"
   },
   {
    "duration": 328,
    "start_time": "2023-03-22T10:57:23.257Z"
   },
   {
    "duration": 348,
    "start_time": "2023-03-22T10:57:45.284Z"
   },
   {
    "duration": 330,
    "start_time": "2023-03-22T10:57:52.495Z"
   },
   {
    "duration": 439,
    "start_time": "2023-03-22T10:58:01.655Z"
   },
   {
    "duration": 326,
    "start_time": "2023-03-22T10:58:09.575Z"
   },
   {
    "duration": 2,
    "start_time": "2023-03-22T11:00:19.001Z"
   },
   {
    "duration": 177,
    "start_time": "2023-03-22T11:00:53.791Z"
   },
   {
    "duration": 319,
    "start_time": "2023-03-22T11:01:03.287Z"
   },
   {
    "duration": 8,
    "start_time": "2023-03-22T11:01:47.207Z"
   },
   {
    "duration": 3,
    "start_time": "2023-03-22T11:03:25.572Z"
   },
   {
    "duration": 5,
    "start_time": "2023-03-22T11:03:25.577Z"
   },
   {
    "duration": 82,
    "start_time": "2023-03-22T11:03:25.584Z"
   },
   {
    "duration": 7,
    "start_time": "2023-03-22T11:03:25.668Z"
   },
   {
    "duration": 7,
    "start_time": "2023-03-22T11:03:25.677Z"
   },
   {
    "duration": 6,
    "start_time": "2023-03-22T11:03:25.686Z"
   },
   {
    "duration": 49,
    "start_time": "2023-03-22T11:03:25.694Z"
   },
   {
    "duration": 14,
    "start_time": "2023-03-22T11:03:25.744Z"
   },
   {
    "duration": 10,
    "start_time": "2023-03-22T11:03:25.759Z"
   },
   {
    "duration": 15,
    "start_time": "2023-03-22T11:03:25.771Z"
   },
   {
    "duration": 11,
    "start_time": "2023-03-22T11:03:25.788Z"
   },
   {
    "duration": 4,
    "start_time": "2023-03-22T11:03:25.800Z"
   },
   {
    "duration": 38,
    "start_time": "2023-03-22T11:03:25.805Z"
   },
   {
    "duration": 3,
    "start_time": "2023-03-22T11:03:25.845Z"
   },
   {
    "duration": 8,
    "start_time": "2023-03-22T11:03:25.850Z"
   },
   {
    "duration": 22,
    "start_time": "2023-03-22T11:03:25.860Z"
   },
   {
    "duration": 14,
    "start_time": "2023-03-22T11:03:25.884Z"
   },
   {
    "duration": 19,
    "start_time": "2023-03-22T11:03:25.899Z"
   },
   {
    "duration": 7,
    "start_time": "2023-03-22T11:03:25.919Z"
   },
   {
    "duration": 7,
    "start_time": "2023-03-22T11:03:25.939Z"
   },
   {
    "duration": 6,
    "start_time": "2023-03-22T11:03:25.948Z"
   },
   {
    "duration": 5,
    "start_time": "2023-03-22T11:03:25.955Z"
   },
   {
    "duration": 6,
    "start_time": "2023-03-22T11:03:25.961Z"
   },
   {
    "duration": 4,
    "start_time": "2023-03-22T11:03:25.968Z"
   },
   {
    "duration": 6,
    "start_time": "2023-03-22T11:03:25.974Z"
   },
   {
    "duration": 4,
    "start_time": "2023-03-22T11:03:25.981Z"
   },
   {
    "duration": 6,
    "start_time": "2023-03-22T11:03:25.986Z"
   },
   {
    "duration": 46,
    "start_time": "2023-03-22T11:03:25.994Z"
   },
   {
    "duration": 13,
    "start_time": "2023-03-22T11:03:26.042Z"
   },
   {
    "duration": 10,
    "start_time": "2023-03-22T11:03:26.056Z"
   },
   {
    "duration": 8,
    "start_time": "2023-03-22T11:03:26.068Z"
   },
   {
    "duration": 7,
    "start_time": "2023-03-22T11:03:26.078Z"
   },
   {
    "duration": 10,
    "start_time": "2023-03-22T11:03:26.086Z"
   },
   {
    "duration": 300,
    "start_time": "2023-03-22T11:03:26.098Z"
   },
   {
    "duration": 264,
    "start_time": "2023-03-22T11:03:26.400Z"
   },
   {
    "duration": 278,
    "start_time": "2023-03-22T11:03:26.666Z"
   },
   {
    "duration": 362,
    "start_time": "2023-03-22T11:03:26.946Z"
   },
   {
    "duration": 195,
    "start_time": "2023-03-22T11:03:27.309Z"
   },
   {
    "duration": 362,
    "start_time": "2023-03-22T11:03:27.505Z"
   },
   {
    "duration": 7,
    "start_time": "2023-03-22T11:03:27.868Z"
   },
   {
    "duration": 8,
    "start_time": "2023-03-22T11:04:58.754Z"
   },
   {
    "duration": 100,
    "start_time": "2023-03-22T11:05:30.130Z"
   },
   {
    "duration": 9,
    "start_time": "2023-03-22T11:05:42.272Z"
   },
   {
    "duration": 11,
    "start_time": "2023-03-22T11:05:47.812Z"
   },
   {
    "duration": 53,
    "start_time": "2023-03-22T11:07:05.651Z"
   },
   {
    "duration": 173,
    "start_time": "2023-03-22T11:11:26.406Z"
   },
   {
    "duration": 130,
    "start_time": "2023-03-22T11:12:22.114Z"
   },
   {
    "duration": 123,
    "start_time": "2023-03-22T11:12:33.282Z"
   },
   {
    "duration": 151,
    "start_time": "2023-03-22T11:12:36.389Z"
   },
   {
    "duration": 130,
    "start_time": "2023-03-22T11:12:43.040Z"
   },
   {
    "duration": 137,
    "start_time": "2023-03-22T11:12:49.771Z"
   },
   {
    "duration": 128,
    "start_time": "2023-03-22T11:12:53.833Z"
   },
   {
    "duration": 132,
    "start_time": "2023-03-22T11:13:36.041Z"
   },
   {
    "duration": 115,
    "start_time": "2023-03-22T11:14:17.841Z"
   },
   {
    "duration": 209,
    "start_time": "2023-03-22T11:14:24.218Z"
   },
   {
    "duration": 231,
    "start_time": "2023-03-22T11:14:50.711Z"
   },
   {
    "duration": 281,
    "start_time": "2023-03-22T11:14:54.879Z"
   },
   {
    "duration": 129,
    "start_time": "2023-03-22T11:15:22.377Z"
   },
   {
    "duration": 125,
    "start_time": "2023-03-22T11:15:25.800Z"
   },
   {
    "duration": 107,
    "start_time": "2023-03-22T11:15:38.096Z"
   },
   {
    "duration": 127,
    "start_time": "2023-03-22T11:16:23.181Z"
   },
   {
    "duration": 127,
    "start_time": "2023-03-22T11:16:39.827Z"
   },
   {
    "duration": 126,
    "start_time": "2023-03-22T11:16:50.106Z"
   },
   {
    "duration": 129,
    "start_time": "2023-03-22T11:17:18.711Z"
   },
   {
    "duration": 134,
    "start_time": "2023-03-22T11:17:23.878Z"
   },
   {
    "duration": 111,
    "start_time": "2023-03-22T11:17:29.210Z"
   },
   {
    "duration": 133,
    "start_time": "2023-03-22T11:17:33.242Z"
   },
   {
    "duration": 131,
    "start_time": "2023-03-22T11:17:39.817Z"
   },
   {
    "duration": 189,
    "start_time": "2023-03-22T11:17:46.441Z"
   },
   {
    "duration": 64,
    "start_time": "2023-03-22T11:18:38.286Z"
   },
   {
    "duration": 4,
    "start_time": "2023-03-22T11:21:08.184Z"
   },
   {
    "duration": 7,
    "start_time": "2023-03-22T11:21:39.615Z"
   },
   {
    "duration": 6,
    "start_time": "2023-03-22T11:21:48.028Z"
   },
   {
    "duration": 5,
    "start_time": "2023-03-22T11:23:01.456Z"
   },
   {
    "duration": 6,
    "start_time": "2023-03-22T11:23:39.719Z"
   },
   {
    "duration": 796,
    "start_time": "2023-03-22T11:23:46.843Z"
   },
   {
    "duration": 868,
    "start_time": "2023-03-22T11:24:02.208Z"
   },
   {
    "duration": 6,
    "start_time": "2023-03-22T11:24:20.392Z"
   },
   {
    "duration": 51,
    "start_time": "2023-03-22T11:24:40.937Z"
   },
   {
    "duration": 3,
    "start_time": "2023-03-22T11:25:17.187Z"
   },
   {
    "duration": 151,
    "start_time": "2023-03-22T11:26:09.002Z"
   },
   {
    "duration": 154,
    "start_time": "2023-03-22T11:26:54.334Z"
   },
   {
    "duration": 150,
    "start_time": "2023-03-22T11:27:19.488Z"
   },
   {
    "duration": 148,
    "start_time": "2023-03-22T11:27:25.777Z"
   },
   {
    "duration": 159,
    "start_time": "2023-03-22T11:27:28.413Z"
   },
   {
    "duration": 152,
    "start_time": "2023-03-22T11:27:42.751Z"
   },
   {
    "duration": 143,
    "start_time": "2023-03-22T11:27:45.939Z"
   },
   {
    "duration": 174,
    "start_time": "2023-03-22T11:27:50.410Z"
   },
   {
    "duration": 145,
    "start_time": "2023-03-22T11:27:57.595Z"
   },
   {
    "duration": 161,
    "start_time": "2023-03-22T11:28:02.486Z"
   },
   {
    "duration": 174,
    "start_time": "2023-03-22T11:28:08.427Z"
   },
   {
    "duration": 311,
    "start_time": "2023-03-22T11:28:16.000Z"
   },
   {
    "duration": 169,
    "start_time": "2023-03-22T11:28:18.290Z"
   },
   {
    "duration": 151,
    "start_time": "2023-03-22T11:30:10.639Z"
   },
   {
    "duration": 149,
    "start_time": "2023-03-22T11:30:23.486Z"
   },
   {
    "duration": 1150,
    "start_time": "2023-03-22T11:30:28.527Z"
   },
   {
    "duration": 202,
    "start_time": "2023-03-22T11:30:34.333Z"
   },
   {
    "duration": 1425,
    "start_time": "2023-03-22T11:30:39.506Z"
   },
   {
    "duration": 237,
    "start_time": "2023-03-22T11:30:41.152Z"
   },
   {
    "duration": 162,
    "start_time": "2023-03-22T11:30:45.092Z"
   },
   {
    "duration": 286,
    "start_time": "2023-03-22T11:32:49.550Z"
   },
   {
    "duration": 355,
    "start_time": "2023-03-22T11:36:18.923Z"
   },
   {
    "duration": 346,
    "start_time": "2023-03-22T11:36:23.882Z"
   },
   {
    "duration": 358,
    "start_time": "2023-03-22T11:37:03.868Z"
   },
   {
    "duration": 177,
    "start_time": "2023-03-22T11:37:19.390Z"
   },
   {
    "duration": 229,
    "start_time": "2023-03-22T11:37:25.152Z"
   },
   {
    "duration": 7,
    "start_time": "2023-03-22T11:38:48.554Z"
   },
   {
    "duration": 4,
    "start_time": "2023-03-22T11:40:27.098Z"
   },
   {
    "duration": 335,
    "start_time": "2023-03-22T11:43:23.034Z"
   },
   {
    "duration": 9,
    "start_time": "2023-03-22T11:44:22.326Z"
   },
   {
    "duration": 318,
    "start_time": "2023-03-22T11:44:25.588Z"
   },
   {
    "duration": 7,
    "start_time": "2023-03-22T11:44:26.629Z"
   },
   {
    "duration": 11,
    "start_time": "2023-03-22T11:44:38.847Z"
   },
   {
    "duration": 405,
    "start_time": "2023-03-22T11:45:16.988Z"
   },
   {
    "duration": 333,
    "start_time": "2023-03-22T11:45:23.192Z"
   },
   {
    "duration": 28,
    "start_time": "2023-03-22T11:45:24.030Z"
   },
   {
    "duration": 22,
    "start_time": "2023-03-22T11:45:47.703Z"
   },
   {
    "duration": 20,
    "start_time": "2023-03-22T11:45:57.000Z"
   },
   {
    "duration": 2,
    "start_time": "2023-03-22T11:47:09.110Z"
   },
   {
    "duration": 13,
    "start_time": "2023-03-22T11:48:06.997Z"
   },
   {
    "duration": 2,
    "start_time": "2023-03-22T11:50:21.662Z"
   },
   {
    "duration": 140,
    "start_time": "2023-03-22T12:09:56.133Z"
   },
   {
    "duration": 106,
    "start_time": "2023-03-22T12:10:20.919Z"
   },
   {
    "duration": 96,
    "start_time": "2023-03-22T12:10:52.909Z"
   },
   {
    "duration": 222,
    "start_time": "2023-03-22T12:11:36.738Z"
   },
   {
    "duration": 13,
    "start_time": "2023-03-22T12:12:37.728Z"
   },
   {
    "duration": 126,
    "start_time": "2023-03-22T12:12:49.358Z"
   },
   {
    "duration": 137,
    "start_time": "2023-03-22T12:13:04.208Z"
   },
   {
    "duration": 5,
    "start_time": "2023-03-22T12:13:31.603Z"
   },
   {
    "duration": 14,
    "start_time": "2023-03-22T12:14:32.710Z"
   },
   {
    "duration": 15,
    "start_time": "2023-03-22T12:14:49.491Z"
   },
   {
    "duration": 15,
    "start_time": "2023-03-22T12:14:58.833Z"
   },
   {
    "duration": 151,
    "start_time": "2023-03-22T12:15:01.815Z"
   },
   {
    "duration": 9,
    "start_time": "2023-03-22T12:22:32.718Z"
   },
   {
    "duration": 175,
    "start_time": "2023-03-22T12:25:29.639Z"
   },
   {
    "duration": 156,
    "start_time": "2023-03-22T12:26:52.154Z"
   },
   {
    "duration": 178,
    "start_time": "2023-03-22T12:26:57.492Z"
   },
   {
    "duration": 171,
    "start_time": "2023-03-22T12:27:23.324Z"
   },
   {
    "duration": 166,
    "start_time": "2023-03-22T12:29:09.922Z"
   },
   {
    "duration": 10,
    "start_time": "2023-03-22T12:29:51.487Z"
   },
   {
    "duration": 3962,
    "start_time": "2023-03-22T12:35:11.184Z"
   },
   {
    "duration": 163,
    "start_time": "2023-03-22T12:35:38.898Z"
   },
   {
    "duration": 9,
    "start_time": "2023-03-22T12:35:42.098Z"
   },
   {
    "duration": 10,
    "start_time": "2023-03-22T12:36:43.357Z"
   },
   {
    "duration": 20,
    "start_time": "2023-03-22T12:37:07.411Z"
   },
   {
    "duration": 30,
    "start_time": "2023-03-22T12:38:01.557Z"
   },
   {
    "duration": 2,
    "start_time": "2023-03-22T12:43:12.086Z"
   },
   {
    "duration": 110,
    "start_time": "2023-03-22T12:43:59.555Z"
   },
   {
    "duration": 1888,
    "start_time": "2023-03-22T12:45:08.138Z"
   },
   {
    "duration": 14,
    "start_time": "2023-03-22T12:45:20.921Z"
   },
   {
    "duration": 2,
    "start_time": "2023-03-22T12:49:59.112Z"
   },
   {
    "duration": 1035,
    "start_time": "2023-03-22T12:54:51.294Z"
   },
   {
    "duration": 3,
    "start_time": "2023-03-22T12:54:52.331Z"
   },
   {
    "duration": 82,
    "start_time": "2023-03-22T12:54:52.335Z"
   },
   {
    "duration": 12,
    "start_time": "2023-03-22T12:54:52.420Z"
   },
   {
    "duration": 22,
    "start_time": "2023-03-22T12:54:52.433Z"
   },
   {
    "duration": 12,
    "start_time": "2023-03-22T12:54:52.457Z"
   },
   {
    "duration": 41,
    "start_time": "2023-03-22T12:54:52.470Z"
   },
   {
    "duration": 63,
    "start_time": "2023-03-22T12:54:52.513Z"
   },
   {
    "duration": 11,
    "start_time": "2023-03-22T12:54:52.577Z"
   },
   {
    "duration": 28,
    "start_time": "2023-03-22T12:54:52.590Z"
   },
   {
    "duration": 25,
    "start_time": "2023-03-22T12:54:52.619Z"
   },
   {
    "duration": 23,
    "start_time": "2023-03-22T12:54:52.646Z"
   },
   {
    "duration": 27,
    "start_time": "2023-03-22T12:54:52.670Z"
   },
   {
    "duration": 19,
    "start_time": "2023-03-22T12:54:52.698Z"
   },
   {
    "duration": 20,
    "start_time": "2023-03-22T12:54:52.718Z"
   },
   {
    "duration": 34,
    "start_time": "2023-03-22T12:54:52.740Z"
   },
   {
    "duration": 29,
    "start_time": "2023-03-22T12:54:52.775Z"
   },
   {
    "duration": 43,
    "start_time": "2023-03-22T12:54:52.805Z"
   },
   {
    "duration": 22,
    "start_time": "2023-03-22T12:54:52.850Z"
   },
   {
    "duration": 8,
    "start_time": "2023-03-22T12:54:52.874Z"
   },
   {
    "duration": 37,
    "start_time": "2023-03-22T12:54:52.884Z"
   },
   {
    "duration": 14,
    "start_time": "2023-03-22T12:54:52.923Z"
   },
   {
    "duration": 21,
    "start_time": "2023-03-22T12:54:52.939Z"
   },
   {
    "duration": 28,
    "start_time": "2023-03-22T12:54:52.962Z"
   },
   {
    "duration": 21,
    "start_time": "2023-03-22T12:54:52.992Z"
   },
   {
    "duration": 19,
    "start_time": "2023-03-22T12:54:53.015Z"
   },
   {
    "duration": 22,
    "start_time": "2023-03-22T12:54:53.036Z"
   },
   {
    "duration": 13,
    "start_time": "2023-03-22T12:54:53.063Z"
   },
   {
    "duration": 15,
    "start_time": "2023-03-22T12:54:53.078Z"
   },
   {
    "duration": 21,
    "start_time": "2023-03-22T12:54:53.095Z"
   },
   {
    "duration": 9,
    "start_time": "2023-03-22T12:54:53.117Z"
   },
   {
    "duration": 4,
    "start_time": "2023-03-22T12:54:53.128Z"
   },
   {
    "duration": 9,
    "start_time": "2023-03-22T12:54:53.134Z"
   },
   {
    "duration": 279,
    "start_time": "2023-03-22T12:54:53.144Z"
   },
   {
    "duration": 317,
    "start_time": "2023-03-22T12:54:53.424Z"
   },
   {
    "duration": 229,
    "start_time": "2023-03-22T12:54:53.742Z"
   },
   {
    "duration": 445,
    "start_time": "2023-03-22T12:54:53.973Z"
   },
   {
    "duration": 0,
    "start_time": "2023-03-22T12:54:54.420Z"
   },
   {
    "duration": 0,
    "start_time": "2023-03-22T12:54:54.422Z"
   },
   {
    "duration": 0,
    "start_time": "2023-03-22T12:54:54.423Z"
   },
   {
    "duration": 0,
    "start_time": "2023-03-22T12:54:54.424Z"
   },
   {
    "duration": 0,
    "start_time": "2023-03-22T12:54:54.425Z"
   },
   {
    "duration": 0,
    "start_time": "2023-03-22T12:54:54.426Z"
   },
   {
    "duration": 0,
    "start_time": "2023-03-22T12:54:54.440Z"
   },
   {
    "duration": 0,
    "start_time": "2023-03-22T12:54:54.441Z"
   },
   {
    "duration": 0,
    "start_time": "2023-03-22T12:54:54.441Z"
   },
   {
    "duration": 0,
    "start_time": "2023-03-22T12:54:54.442Z"
   },
   {
    "duration": 0,
    "start_time": "2023-03-22T12:54:54.443Z"
   },
   {
    "duration": 0,
    "start_time": "2023-03-22T12:54:54.444Z"
   },
   {
    "duration": 0,
    "start_time": "2023-03-22T12:54:54.446Z"
   },
   {
    "duration": 0,
    "start_time": "2023-03-22T12:54:54.447Z"
   },
   {
    "duration": 0,
    "start_time": "2023-03-22T12:54:54.449Z"
   },
   {
    "duration": 0,
    "start_time": "2023-03-22T12:54:54.450Z"
   },
   {
    "duration": 0,
    "start_time": "2023-03-22T12:54:54.451Z"
   },
   {
    "duration": 0,
    "start_time": "2023-03-22T12:54:54.452Z"
   },
   {
    "duration": 0,
    "start_time": "2023-03-22T12:54:54.453Z"
   },
   {
    "duration": 0,
    "start_time": "2023-03-22T12:54:54.454Z"
   },
   {
    "duration": 0,
    "start_time": "2023-03-22T12:54:54.456Z"
   },
   {
    "duration": 0,
    "start_time": "2023-03-22T12:54:54.458Z"
   },
   {
    "duration": 373,
    "start_time": "2023-03-22T12:57:03.424Z"
   },
   {
    "duration": 338,
    "start_time": "2023-03-22T12:57:14.593Z"
   },
   {
    "duration": 399,
    "start_time": "2023-03-22T12:57:29.150Z"
   },
   {
    "duration": 14,
    "start_time": "2023-03-22T12:57:45.536Z"
   },
   {
    "duration": 347,
    "start_time": "2023-03-22T12:57:59.839Z"
   },
   {
    "duration": 431,
    "start_time": "2023-03-22T12:58:14.293Z"
   },
   {
    "duration": 345,
    "start_time": "2023-03-22T12:59:34.607Z"
   },
   {
    "duration": 4,
    "start_time": "2023-03-22T12:59:37.293Z"
   },
   {
    "duration": 5,
    "start_time": "2023-03-22T12:59:37.299Z"
   },
   {
    "duration": 76,
    "start_time": "2023-03-22T12:59:37.305Z"
   },
   {
    "duration": 9,
    "start_time": "2023-03-22T12:59:37.382Z"
   },
   {
    "duration": 8,
    "start_time": "2023-03-22T12:59:37.393Z"
   },
   {
    "duration": 10,
    "start_time": "2023-03-22T12:59:37.403Z"
   },
   {
    "duration": 21,
    "start_time": "2023-03-22T12:59:37.415Z"
   },
   {
    "duration": 11,
    "start_time": "2023-03-22T12:59:37.437Z"
   },
   {
    "duration": 13,
    "start_time": "2023-03-22T12:59:37.449Z"
   },
   {
    "duration": 16,
    "start_time": "2023-03-22T12:59:37.463Z"
   },
   {
    "duration": 13,
    "start_time": "2023-03-22T12:59:37.481Z"
   },
   {
    "duration": 4,
    "start_time": "2023-03-22T12:59:37.496Z"
   },
   {
    "duration": 5,
    "start_time": "2023-03-22T12:59:37.501Z"
   },
   {
    "duration": 3,
    "start_time": "2023-03-22T12:59:37.540Z"
   },
   {
    "duration": 8,
    "start_time": "2023-03-22T12:59:37.544Z"
   },
   {
    "duration": 10,
    "start_time": "2023-03-22T12:59:37.553Z"
   },
   {
    "duration": 12,
    "start_time": "2023-03-22T12:59:37.565Z"
   },
   {
    "duration": 16,
    "start_time": "2023-03-22T12:59:37.578Z"
   },
   {
    "duration": 7,
    "start_time": "2023-03-22T12:59:37.596Z"
   },
   {
    "duration": 43,
    "start_time": "2023-03-22T12:59:37.604Z"
   },
   {
    "duration": 5,
    "start_time": "2023-03-22T12:59:37.649Z"
   },
   {
    "duration": 6,
    "start_time": "2023-03-22T12:59:37.656Z"
   },
   {
    "duration": 6,
    "start_time": "2023-03-22T12:59:37.663Z"
   },
   {
    "duration": 4,
    "start_time": "2023-03-22T12:59:37.670Z"
   },
   {
    "duration": 18,
    "start_time": "2023-03-22T12:59:37.675Z"
   },
   {
    "duration": 4,
    "start_time": "2023-03-22T12:59:37.695Z"
   },
   {
    "duration": 7,
    "start_time": "2023-03-22T12:59:37.700Z"
   },
   {
    "duration": 10,
    "start_time": "2023-03-22T12:59:37.740Z"
   },
   {
    "duration": 22,
    "start_time": "2023-03-22T12:59:37.751Z"
   },
   {
    "duration": 4,
    "start_time": "2023-03-22T12:59:37.775Z"
   },
   {
    "duration": 9,
    "start_time": "2023-03-22T12:59:37.781Z"
   },
   {
    "duration": 5,
    "start_time": "2023-03-22T12:59:37.791Z"
   },
   {
    "duration": 8,
    "start_time": "2023-03-22T12:59:37.798Z"
   },
   {
    "duration": 279,
    "start_time": "2023-03-22T12:59:37.807Z"
   },
   {
    "duration": 230,
    "start_time": "2023-03-22T12:59:38.087Z"
   },
   {
    "duration": 227,
    "start_time": "2023-03-22T12:59:38.318Z"
   },
   {
    "duration": 354,
    "start_time": "2023-03-22T12:59:38.548Z"
   },
   {
    "duration": 0,
    "start_time": "2023-03-22T12:59:38.904Z"
   },
   {
    "duration": 0,
    "start_time": "2023-03-22T12:59:38.905Z"
   },
   {
    "duration": 0,
    "start_time": "2023-03-22T12:59:38.906Z"
   },
   {
    "duration": 0,
    "start_time": "2023-03-22T12:59:38.907Z"
   },
   {
    "duration": 0,
    "start_time": "2023-03-22T12:59:38.907Z"
   },
   {
    "duration": 0,
    "start_time": "2023-03-22T12:59:38.909Z"
   },
   {
    "duration": 0,
    "start_time": "2023-03-22T12:59:38.911Z"
   },
   {
    "duration": 0,
    "start_time": "2023-03-22T12:59:38.912Z"
   },
   {
    "duration": 0,
    "start_time": "2023-03-22T12:59:38.913Z"
   },
   {
    "duration": 0,
    "start_time": "2023-03-22T12:59:38.914Z"
   },
   {
    "duration": 0,
    "start_time": "2023-03-22T12:59:38.916Z"
   },
   {
    "duration": 0,
    "start_time": "2023-03-22T12:59:38.917Z"
   },
   {
    "duration": 0,
    "start_time": "2023-03-22T12:59:38.918Z"
   },
   {
    "duration": 0,
    "start_time": "2023-03-22T12:59:38.940Z"
   },
   {
    "duration": 0,
    "start_time": "2023-03-22T12:59:38.941Z"
   },
   {
    "duration": 0,
    "start_time": "2023-03-22T12:59:38.942Z"
   },
   {
    "duration": 0,
    "start_time": "2023-03-22T12:59:38.945Z"
   },
   {
    "duration": 0,
    "start_time": "2023-03-22T12:59:38.946Z"
   },
   {
    "duration": 0,
    "start_time": "2023-03-22T12:59:38.947Z"
   },
   {
    "duration": 0,
    "start_time": "2023-03-22T12:59:38.949Z"
   },
   {
    "duration": 0,
    "start_time": "2023-03-22T12:59:38.950Z"
   },
   {
    "duration": 0,
    "start_time": "2023-03-22T12:59:38.951Z"
   },
   {
    "duration": 374,
    "start_time": "2023-03-22T12:59:59.220Z"
   },
   {
    "duration": 3,
    "start_time": "2023-03-22T13:00:05.210Z"
   },
   {
    "duration": 16,
    "start_time": "2023-03-22T13:00:05.215Z"
   },
   {
    "duration": 85,
    "start_time": "2023-03-22T13:00:05.233Z"
   },
   {
    "duration": 7,
    "start_time": "2023-03-22T13:00:05.320Z"
   },
   {
    "duration": 28,
    "start_time": "2023-03-22T13:00:05.328Z"
   },
   {
    "duration": 34,
    "start_time": "2023-03-22T13:00:05.358Z"
   },
   {
    "duration": 40,
    "start_time": "2023-03-22T13:00:05.394Z"
   },
   {
    "duration": 15,
    "start_time": "2023-03-22T13:00:05.436Z"
   },
   {
    "duration": 21,
    "start_time": "2023-03-22T13:00:05.453Z"
   },
   {
    "duration": 28,
    "start_time": "2023-03-22T13:00:05.476Z"
   },
   {
    "duration": 14,
    "start_time": "2023-03-22T13:00:05.505Z"
   },
   {
    "duration": 14,
    "start_time": "2023-03-22T13:00:05.521Z"
   },
   {
    "duration": 13,
    "start_time": "2023-03-22T13:00:05.540Z"
   },
   {
    "duration": 27,
    "start_time": "2023-03-22T13:00:05.554Z"
   },
   {
    "duration": 38,
    "start_time": "2023-03-22T13:00:05.583Z"
   },
   {
    "duration": 31,
    "start_time": "2023-03-22T13:00:05.623Z"
   },
   {
    "duration": 22,
    "start_time": "2023-03-22T13:00:05.655Z"
   },
   {
    "duration": 31,
    "start_time": "2023-03-22T13:00:05.678Z"
   },
   {
    "duration": 19,
    "start_time": "2023-03-22T13:00:05.711Z"
   },
   {
    "duration": 37,
    "start_time": "2023-03-22T13:00:05.731Z"
   },
   {
    "duration": 34,
    "start_time": "2023-03-22T13:00:05.769Z"
   },
   {
    "duration": 6,
    "start_time": "2023-03-22T13:00:05.805Z"
   },
   {
    "duration": 12,
    "start_time": "2023-03-22T13:00:05.813Z"
   },
   {
    "duration": 11,
    "start_time": "2023-03-22T13:00:05.828Z"
   },
   {
    "duration": 19,
    "start_time": "2023-03-22T13:00:05.841Z"
   },
   {
    "duration": 14,
    "start_time": "2023-03-22T13:00:05.862Z"
   },
   {
    "duration": 24,
    "start_time": "2023-03-22T13:00:05.878Z"
   },
   {
    "duration": 5,
    "start_time": "2023-03-22T13:00:05.903Z"
   },
   {
    "duration": 14,
    "start_time": "2023-03-22T13:00:05.910Z"
   },
   {
    "duration": 18,
    "start_time": "2023-03-22T13:00:05.925Z"
   },
   {
    "duration": 36,
    "start_time": "2023-03-22T13:00:05.944Z"
   },
   {
    "duration": 10,
    "start_time": "2023-03-22T13:00:05.983Z"
   },
   {
    "duration": 21,
    "start_time": "2023-03-22T13:00:05.995Z"
   },
   {
    "duration": 299,
    "start_time": "2023-03-22T13:00:06.018Z"
   },
   {
    "duration": 247,
    "start_time": "2023-03-22T13:00:06.318Z"
   },
   {
    "duration": 279,
    "start_time": "2023-03-22T13:00:06.567Z"
   },
   {
    "duration": 361,
    "start_time": "2023-03-22T13:00:06.848Z"
   },
   {
    "duration": 14,
    "start_time": "2023-03-22T13:00:07.211Z"
   },
   {
    "duration": 0,
    "start_time": "2023-03-22T13:00:07.240Z"
   },
   {
    "duration": 0,
    "start_time": "2023-03-22T13:00:07.242Z"
   },
   {
    "duration": 0,
    "start_time": "2023-03-22T13:00:07.243Z"
   },
   {
    "duration": 0,
    "start_time": "2023-03-22T13:00:07.244Z"
   },
   {
    "duration": 0,
    "start_time": "2023-03-22T13:00:07.244Z"
   },
   {
    "duration": 0,
    "start_time": "2023-03-22T13:00:07.245Z"
   },
   {
    "duration": 0,
    "start_time": "2023-03-22T13:00:07.247Z"
   },
   {
    "duration": 0,
    "start_time": "2023-03-22T13:00:07.248Z"
   },
   {
    "duration": 0,
    "start_time": "2023-03-22T13:00:07.249Z"
   },
   {
    "duration": 0,
    "start_time": "2023-03-22T13:00:07.250Z"
   },
   {
    "duration": 0,
    "start_time": "2023-03-22T13:00:07.252Z"
   },
   {
    "duration": 0,
    "start_time": "2023-03-22T13:00:07.253Z"
   },
   {
    "duration": 0,
    "start_time": "2023-03-22T13:00:07.254Z"
   },
   {
    "duration": 0,
    "start_time": "2023-03-22T13:00:07.255Z"
   },
   {
    "duration": 0,
    "start_time": "2023-03-22T13:00:07.256Z"
   },
   {
    "duration": 0,
    "start_time": "2023-03-22T13:00:07.257Z"
   },
   {
    "duration": 0,
    "start_time": "2023-03-22T13:00:07.258Z"
   },
   {
    "duration": 0,
    "start_time": "2023-03-22T13:00:07.259Z"
   },
   {
    "duration": 0,
    "start_time": "2023-03-22T13:00:07.260Z"
   },
   {
    "duration": 0,
    "start_time": "2023-03-22T13:00:07.261Z"
   },
   {
    "duration": 0,
    "start_time": "2023-03-22T13:00:07.262Z"
   },
   {
    "duration": 1104,
    "start_time": "2023-03-22T13:00:27.481Z"
   },
   {
    "duration": 3,
    "start_time": "2023-03-22T13:00:28.587Z"
   },
   {
    "duration": 79,
    "start_time": "2023-03-22T13:00:28.591Z"
   },
   {
    "duration": 10,
    "start_time": "2023-03-22T13:00:28.672Z"
   },
   {
    "duration": 7,
    "start_time": "2023-03-22T13:00:28.684Z"
   },
   {
    "duration": 22,
    "start_time": "2023-03-22T13:00:28.692Z"
   },
   {
    "duration": 35,
    "start_time": "2023-03-22T13:00:28.716Z"
   },
   {
    "duration": 50,
    "start_time": "2023-03-22T13:00:28.753Z"
   },
   {
    "duration": 11,
    "start_time": "2023-03-22T13:00:28.804Z"
   },
   {
    "duration": 36,
    "start_time": "2023-03-22T13:00:28.818Z"
   },
   {
    "duration": 12,
    "start_time": "2023-03-22T13:00:28.856Z"
   },
   {
    "duration": 4,
    "start_time": "2023-03-22T13:00:28.870Z"
   },
   {
    "duration": 6,
    "start_time": "2023-03-22T13:00:28.875Z"
   },
   {
    "duration": 4,
    "start_time": "2023-03-22T13:00:28.882Z"
   },
   {
    "duration": 5,
    "start_time": "2023-03-22T13:00:28.887Z"
   },
   {
    "duration": 11,
    "start_time": "2023-03-22T13:00:28.893Z"
   },
   {
    "duration": 43,
    "start_time": "2023-03-22T13:00:28.905Z"
   },
   {
    "duration": 15,
    "start_time": "2023-03-22T13:00:28.949Z"
   },
   {
    "duration": 7,
    "start_time": "2023-03-22T13:00:28.966Z"
   },
   {
    "duration": 6,
    "start_time": "2023-03-22T13:00:28.974Z"
   },
   {
    "duration": 5,
    "start_time": "2023-03-22T13:00:28.982Z"
   },
   {
    "duration": 5,
    "start_time": "2023-03-22T13:00:28.988Z"
   },
   {
    "duration": 7,
    "start_time": "2023-03-22T13:00:28.994Z"
   },
   {
    "duration": 4,
    "start_time": "2023-03-22T13:00:29.002Z"
   },
   {
    "duration": 7,
    "start_time": "2023-03-22T13:00:29.007Z"
   },
   {
    "duration": 5,
    "start_time": "2023-03-22T13:00:29.015Z"
   },
   {
    "duration": 23,
    "start_time": "2023-03-22T13:00:29.021Z"
   },
   {
    "duration": 4,
    "start_time": "2023-03-22T13:00:29.048Z"
   },
   {
    "duration": 9,
    "start_time": "2023-03-22T13:00:29.053Z"
   },
   {
    "duration": 4,
    "start_time": "2023-03-22T13:00:29.064Z"
   },
   {
    "duration": 12,
    "start_time": "2023-03-22T13:00:29.070Z"
   },
   {
    "duration": 5,
    "start_time": "2023-03-22T13:00:29.084Z"
   },
   {
    "duration": 12,
    "start_time": "2023-03-22T13:00:29.091Z"
   },
   {
    "duration": 351,
    "start_time": "2023-03-22T13:00:29.105Z"
   },
   {
    "duration": 313,
    "start_time": "2023-03-22T13:00:29.457Z"
   },
   {
    "duration": 231,
    "start_time": "2023-03-22T13:00:29.772Z"
   },
   {
    "duration": 374,
    "start_time": "2023-03-22T13:00:30.005Z"
   },
   {
    "duration": 119,
    "start_time": "2023-03-22T13:00:30.381Z"
   },
   {
    "duration": 0,
    "start_time": "2023-03-22T13:00:30.503Z"
   },
   {
    "duration": 0,
    "start_time": "2023-03-22T13:00:30.504Z"
   },
   {
    "duration": 0,
    "start_time": "2023-03-22T13:00:30.505Z"
   },
   {
    "duration": 0,
    "start_time": "2023-03-22T13:00:30.507Z"
   },
   {
    "duration": 0,
    "start_time": "2023-03-22T13:00:30.509Z"
   },
   {
    "duration": 0,
    "start_time": "2023-03-22T13:00:30.510Z"
   },
   {
    "duration": 0,
    "start_time": "2023-03-22T13:00:30.511Z"
   },
   {
    "duration": 0,
    "start_time": "2023-03-22T13:00:30.512Z"
   },
   {
    "duration": 0,
    "start_time": "2023-03-22T13:00:30.513Z"
   },
   {
    "duration": 0,
    "start_time": "2023-03-22T13:00:30.515Z"
   },
   {
    "duration": 0,
    "start_time": "2023-03-22T13:00:30.516Z"
   },
   {
    "duration": 0,
    "start_time": "2023-03-22T13:00:30.517Z"
   },
   {
    "duration": 0,
    "start_time": "2023-03-22T13:00:30.541Z"
   },
   {
    "duration": 0,
    "start_time": "2023-03-22T13:00:30.542Z"
   },
   {
    "duration": 0,
    "start_time": "2023-03-22T13:00:30.543Z"
   },
   {
    "duration": 0,
    "start_time": "2023-03-22T13:00:30.544Z"
   },
   {
    "duration": 0,
    "start_time": "2023-03-22T13:00:30.545Z"
   },
   {
    "duration": 0,
    "start_time": "2023-03-22T13:00:30.546Z"
   },
   {
    "duration": 0,
    "start_time": "2023-03-22T13:00:30.547Z"
   },
   {
    "duration": 0,
    "start_time": "2023-03-22T13:00:30.548Z"
   },
   {
    "duration": 0,
    "start_time": "2023-03-22T13:00:30.548Z"
   },
   {
    "duration": 180,
    "start_time": "2023-03-22T13:01:33.372Z"
   },
   {
    "duration": 1022,
    "start_time": "2023-03-22T13:01:42.358Z"
   },
   {
    "duration": 3,
    "start_time": "2023-03-22T13:01:43.382Z"
   },
   {
    "duration": 78,
    "start_time": "2023-03-22T13:01:43.387Z"
   },
   {
    "duration": 12,
    "start_time": "2023-03-22T13:01:43.467Z"
   },
   {
    "duration": 8,
    "start_time": "2023-03-22T13:01:43.481Z"
   },
   {
    "duration": 7,
    "start_time": "2023-03-22T13:01:43.490Z"
   },
   {
    "duration": 22,
    "start_time": "2023-03-22T13:01:43.498Z"
   },
   {
    "duration": 54,
    "start_time": "2023-03-22T13:01:43.522Z"
   },
   {
    "duration": 11,
    "start_time": "2023-03-22T13:01:43.578Z"
   },
   {
    "duration": 18,
    "start_time": "2023-03-22T13:01:43.591Z"
   },
   {
    "duration": 38,
    "start_time": "2023-03-22T13:01:43.611Z"
   },
   {
    "duration": 4,
    "start_time": "2023-03-22T13:01:43.650Z"
   },
   {
    "duration": 5,
    "start_time": "2023-03-22T13:01:43.655Z"
   },
   {
    "duration": 3,
    "start_time": "2023-03-22T13:01:43.662Z"
   },
   {
    "duration": 12,
    "start_time": "2023-03-22T13:01:43.666Z"
   },
   {
    "duration": 16,
    "start_time": "2023-03-22T13:01:43.680Z"
   },
   {
    "duration": 20,
    "start_time": "2023-03-22T13:01:43.697Z"
   },
   {
    "duration": 16,
    "start_time": "2023-03-22T13:01:43.740Z"
   },
   {
    "duration": 8,
    "start_time": "2023-03-22T13:01:43.758Z"
   },
   {
    "duration": 7,
    "start_time": "2023-03-22T13:01:43.767Z"
   },
   {
    "duration": 5,
    "start_time": "2023-03-22T13:01:43.775Z"
   },
   {
    "duration": 5,
    "start_time": "2023-03-22T13:01:43.782Z"
   },
   {
    "duration": 5,
    "start_time": "2023-03-22T13:01:43.788Z"
   },
   {
    "duration": 47,
    "start_time": "2023-03-22T13:01:43.794Z"
   },
   {
    "duration": 8,
    "start_time": "2023-03-22T13:01:43.843Z"
   },
   {
    "duration": 4,
    "start_time": "2023-03-22T13:01:43.852Z"
   },
   {
    "duration": 8,
    "start_time": "2023-03-22T13:01:43.857Z"
   },
   {
    "duration": 5,
    "start_time": "2023-03-22T13:01:43.868Z"
   },
   {
    "duration": 8,
    "start_time": "2023-03-22T13:01:43.875Z"
   },
   {
    "duration": 5,
    "start_time": "2023-03-22T13:01:43.885Z"
   },
   {
    "duration": 10,
    "start_time": "2023-03-22T13:01:43.891Z"
   },
   {
    "duration": 40,
    "start_time": "2023-03-22T13:01:43.903Z"
   },
   {
    "duration": 9,
    "start_time": "2023-03-22T13:01:43.945Z"
   },
   {
    "duration": 287,
    "start_time": "2023-03-22T13:01:43.956Z"
   },
   {
    "duration": 309,
    "start_time": "2023-03-22T13:01:44.245Z"
   },
   {
    "duration": 267,
    "start_time": "2023-03-22T13:01:44.556Z"
   },
   {
    "duration": 377,
    "start_time": "2023-03-22T13:01:44.824Z"
   },
   {
    "duration": 202,
    "start_time": "2023-03-22T13:01:45.202Z"
   },
   {
    "duration": 496,
    "start_time": "2023-03-22T13:01:45.406Z"
   },
   {
    "duration": 0,
    "start_time": "2023-03-22T13:01:45.904Z"
   },
   {
    "duration": 0,
    "start_time": "2023-03-22T13:01:45.905Z"
   },
   {
    "duration": 0,
    "start_time": "2023-03-22T13:01:45.906Z"
   },
   {
    "duration": 0,
    "start_time": "2023-03-22T13:01:45.908Z"
   },
   {
    "duration": 0,
    "start_time": "2023-03-22T13:01:45.909Z"
   },
   {
    "duration": 0,
    "start_time": "2023-03-22T13:01:45.910Z"
   },
   {
    "duration": 0,
    "start_time": "2023-03-22T13:01:45.911Z"
   },
   {
    "duration": 0,
    "start_time": "2023-03-22T13:01:45.912Z"
   },
   {
    "duration": 0,
    "start_time": "2023-03-22T13:01:45.914Z"
   },
   {
    "duration": 0,
    "start_time": "2023-03-22T13:01:45.915Z"
   },
   {
    "duration": 0,
    "start_time": "2023-03-22T13:01:45.916Z"
   },
   {
    "duration": 0,
    "start_time": "2023-03-22T13:01:45.940Z"
   },
   {
    "duration": 0,
    "start_time": "2023-03-22T13:01:45.941Z"
   },
   {
    "duration": 0,
    "start_time": "2023-03-22T13:01:45.943Z"
   },
   {
    "duration": 0,
    "start_time": "2023-03-22T13:01:45.944Z"
   },
   {
    "duration": 0,
    "start_time": "2023-03-22T13:01:45.945Z"
   },
   {
    "duration": 0,
    "start_time": "2023-03-22T13:01:45.946Z"
   },
   {
    "duration": 0,
    "start_time": "2023-03-22T13:01:45.948Z"
   },
   {
    "duration": 0,
    "start_time": "2023-03-22T13:01:45.949Z"
   },
   {
    "duration": 0,
    "start_time": "2023-03-22T13:01:45.950Z"
   },
   {
    "duration": 349,
    "start_time": "2023-03-22T13:02:09.938Z"
   },
   {
    "duration": 1069,
    "start_time": "2023-03-22T13:02:29.109Z"
   },
   {
    "duration": 3,
    "start_time": "2023-03-22T13:02:30.180Z"
   },
   {
    "duration": 103,
    "start_time": "2023-03-22T13:02:30.184Z"
   },
   {
    "duration": 11,
    "start_time": "2023-03-22T13:02:30.290Z"
   },
   {
    "duration": 11,
    "start_time": "2023-03-22T13:02:30.302Z"
   },
   {
    "duration": 30,
    "start_time": "2023-03-22T13:02:30.314Z"
   },
   {
    "duration": 35,
    "start_time": "2023-03-22T13:02:30.345Z"
   },
   {
    "duration": 58,
    "start_time": "2023-03-22T13:02:30.381Z"
   },
   {
    "duration": 11,
    "start_time": "2023-03-22T13:02:30.441Z"
   },
   {
    "duration": 63,
    "start_time": "2023-03-22T13:02:30.454Z"
   },
   {
    "duration": 29,
    "start_time": "2023-03-22T13:02:30.519Z"
   },
   {
    "duration": 33,
    "start_time": "2023-03-22T13:02:30.550Z"
   },
   {
    "duration": 40,
    "start_time": "2023-03-22T13:02:30.585Z"
   },
   {
    "duration": 32,
    "start_time": "2023-03-22T13:02:30.627Z"
   },
   {
    "duration": 35,
    "start_time": "2023-03-22T13:02:30.661Z"
   },
   {
    "duration": 56,
    "start_time": "2023-03-22T13:02:30.698Z"
   },
   {
    "duration": 37,
    "start_time": "2023-03-22T13:02:30.756Z"
   },
   {
    "duration": 57,
    "start_time": "2023-03-22T13:02:30.794Z"
   },
   {
    "duration": 38,
    "start_time": "2023-03-22T13:02:30.853Z"
   },
   {
    "duration": 21,
    "start_time": "2023-03-22T13:02:30.893Z"
   },
   {
    "duration": 30,
    "start_time": "2023-03-22T13:02:30.916Z"
   },
   {
    "duration": 33,
    "start_time": "2023-03-22T13:02:30.948Z"
   },
   {
    "duration": 32,
    "start_time": "2023-03-22T13:02:30.983Z"
   },
   {
    "duration": 30,
    "start_time": "2023-03-22T13:02:31.017Z"
   },
   {
    "duration": 42,
    "start_time": "2023-03-22T13:02:31.048Z"
   },
   {
    "duration": 25,
    "start_time": "2023-03-22T13:02:31.091Z"
   },
   {
    "duration": 38,
    "start_time": "2023-03-22T13:02:31.118Z"
   },
   {
    "duration": 45,
    "start_time": "2023-03-22T13:02:31.160Z"
   },
   {
    "duration": 44,
    "start_time": "2023-03-22T13:02:31.207Z"
   },
   {
    "duration": 24,
    "start_time": "2023-03-22T13:02:31.252Z"
   },
   {
    "duration": 33,
    "start_time": "2023-03-22T13:02:31.278Z"
   },
   {
    "duration": 23,
    "start_time": "2023-03-22T13:02:31.313Z"
   },
   {
    "duration": 35,
    "start_time": "2023-03-22T13:02:31.339Z"
   },
   {
    "duration": 290,
    "start_time": "2023-03-22T13:02:31.375Z"
   },
   {
    "duration": 307,
    "start_time": "2023-03-22T13:02:31.666Z"
   },
   {
    "duration": 241,
    "start_time": "2023-03-22T13:02:31.975Z"
   },
   {
    "duration": 386,
    "start_time": "2023-03-22T13:02:32.218Z"
   },
   {
    "duration": 212,
    "start_time": "2023-03-22T13:02:32.606Z"
   },
   {
    "duration": 378,
    "start_time": "2023-03-22T13:02:32.820Z"
   },
   {
    "duration": 14,
    "start_time": "2023-03-22T13:02:33.200Z"
   },
   {
    "duration": 148,
    "start_time": "2023-03-22T13:02:33.216Z"
   },
   {
    "duration": 160,
    "start_time": "2023-03-22T13:02:33.366Z"
   },
   {
    "duration": 13,
    "start_time": "2023-03-22T13:02:33.527Z"
   },
   {
    "duration": 3,
    "start_time": "2023-03-22T13:02:33.542Z"
   },
   {
    "duration": 5,
    "start_time": "2023-03-22T13:02:33.546Z"
   },
   {
    "duration": 233,
    "start_time": "2023-03-22T13:02:33.552Z"
   },
   {
    "duration": 171,
    "start_time": "2023-03-22T13:02:33.787Z"
   },
   {
    "duration": 182,
    "start_time": "2023-03-22T13:02:33.961Z"
   },
   {
    "duration": 202,
    "start_time": "2023-03-22T13:02:34.145Z"
   },
   {
    "duration": 7,
    "start_time": "2023-03-22T13:02:34.348Z"
   },
   {
    "duration": 223,
    "start_time": "2023-03-22T13:02:34.357Z"
   },
   {
    "duration": 161,
    "start_time": "2023-03-22T13:02:34.582Z"
   },
   {
    "duration": 6,
    "start_time": "2023-03-22T13:02:34.746Z"
   },
   {
    "duration": 227,
    "start_time": "2023-03-22T13:02:34.753Z"
   },
   {
    "duration": 13,
    "start_time": "2023-03-22T13:02:34.982Z"
   },
   {
    "duration": 11,
    "start_time": "2023-03-22T13:02:34.998Z"
   },
   {
    "duration": 34,
    "start_time": "2023-03-22T13:02:35.011Z"
   },
   {
    "duration": 40,
    "start_time": "2023-03-22T13:02:35.049Z"
   },
   {
    "duration": 15,
    "start_time": "2023-03-22T13:02:35.091Z"
   },
   {
    "duration": 1126,
    "start_time": "2023-03-22T21:28:20.413Z"
   },
   {
    "duration": 99,
    "start_time": "2023-03-22T21:31:08.333Z"
   },
   {
    "duration": 4,
    "start_time": "2023-03-22T21:31:40.734Z"
   },
   {
    "duration": 2,
    "start_time": "2023-03-22T21:31:42.253Z"
   },
   {
    "duration": 9,
    "start_time": "2023-03-22T21:31:43.478Z"
   },
   {
    "duration": 258,
    "start_time": "2023-03-22T21:32:12.256Z"
   },
   {
    "duration": 11,
    "start_time": "2023-03-22T21:32:48.167Z"
   },
   {
    "duration": 3,
    "start_time": "2023-03-22T21:32:51.072Z"
   },
   {
    "duration": 2,
    "start_time": "2023-03-22T21:32:51.079Z"
   },
   {
    "duration": 70,
    "start_time": "2023-03-22T21:32:51.087Z"
   },
   {
    "duration": 11,
    "start_time": "2023-03-22T21:32:51.159Z"
   },
   {
    "duration": 7,
    "start_time": "2023-03-22T21:32:51.172Z"
   },
   {
    "duration": 10,
    "start_time": "2023-03-22T21:32:51.180Z"
   },
   {
    "duration": 21,
    "start_time": "2023-03-22T21:32:51.192Z"
   },
   {
    "duration": 62,
    "start_time": "2023-03-22T21:32:51.214Z"
   },
   {
    "duration": 9,
    "start_time": "2023-03-22T21:32:51.278Z"
   },
   {
    "duration": 20,
    "start_time": "2023-03-22T21:32:51.288Z"
   },
   {
    "duration": 11,
    "start_time": "2023-03-22T21:32:51.310Z"
   },
   {
    "duration": 3,
    "start_time": "2023-03-22T21:32:51.323Z"
   },
   {
    "duration": 6,
    "start_time": "2023-03-22T21:32:51.328Z"
   },
   {
    "duration": 10,
    "start_time": "2023-03-22T21:32:51.335Z"
   },
   {
    "duration": 8,
    "start_time": "2023-03-22T21:32:51.368Z"
   },
   {
    "duration": 10,
    "start_time": "2023-03-22T21:32:51.377Z"
   },
   {
    "duration": 13,
    "start_time": "2023-03-22T21:32:51.389Z"
   },
   {
    "duration": 16,
    "start_time": "2023-03-22T21:32:51.403Z"
   },
   {
    "duration": 8,
    "start_time": "2023-03-22T21:32:51.420Z"
   },
   {
    "duration": 6,
    "start_time": "2023-03-22T21:32:51.430Z"
   },
   {
    "duration": 32,
    "start_time": "2023-03-22T21:32:51.438Z"
   },
   {
    "duration": 18,
    "start_time": "2023-03-22T21:32:51.472Z"
   },
   {
    "duration": 11,
    "start_time": "2023-03-22T21:32:51.491Z"
   },
   {
    "duration": 17,
    "start_time": "2023-03-22T21:32:51.504Z"
   },
   {
    "duration": 31,
    "start_time": "2023-03-22T21:32:51.522Z"
   },
   {
    "duration": 7,
    "start_time": "2023-03-22T21:32:51.555Z"
   },
   {
    "duration": 15,
    "start_time": "2023-03-22T21:32:51.563Z"
   },
   {
    "duration": 9,
    "start_time": "2023-03-22T21:32:51.579Z"
   },
   {
    "duration": 13,
    "start_time": "2023-03-22T21:32:51.590Z"
   },
   {
    "duration": 6,
    "start_time": "2023-03-22T21:32:51.605Z"
   },
   {
    "duration": 23,
    "start_time": "2023-03-22T21:32:51.612Z"
   },
   {
    "duration": 5,
    "start_time": "2023-03-22T21:32:51.636Z"
   },
   {
    "duration": 9,
    "start_time": "2023-03-22T21:32:51.642Z"
   },
   {
    "duration": 289,
    "start_time": "2023-03-22T21:32:51.653Z"
   },
   {
    "duration": 284,
    "start_time": "2023-03-22T21:32:51.943Z"
   },
   {
    "duration": 203,
    "start_time": "2023-03-22T21:33:03.123Z"
   },
   {
    "duration": 177,
    "start_time": "2023-03-22T21:35:02.521Z"
   },
   {
    "duration": 209,
    "start_time": "2023-03-22T21:35:49.463Z"
   },
   {
    "duration": 203,
    "start_time": "2023-03-22T21:35:54.164Z"
   },
   {
    "duration": 197,
    "start_time": "2023-03-22T21:36:06.323Z"
   },
   {
    "duration": 405,
    "start_time": "2023-03-22T21:37:19.335Z"
   },
   {
    "duration": 234,
    "start_time": "2023-03-22T21:37:31.996Z"
   },
   {
    "duration": 355,
    "start_time": "2023-03-22T21:38:21.224Z"
   },
   {
    "duration": 313,
    "start_time": "2023-03-22T21:38:32.724Z"
   },
   {
    "duration": 338,
    "start_time": "2023-03-22T21:38:36.082Z"
   },
   {
    "duration": 383,
    "start_time": "2023-03-22T21:38:41.039Z"
   },
   {
    "duration": 324,
    "start_time": "2023-03-22T21:40:03.578Z"
   },
   {
    "duration": 42,
    "start_time": "2023-03-22T21:41:31.632Z"
   },
   {
    "duration": 5,
    "start_time": "2023-03-22T21:41:51.193Z"
   },
   {
    "duration": 6,
    "start_time": "2023-03-22T21:42:00.531Z"
   },
   {
    "duration": 14,
    "start_time": "2023-03-22T21:42:09.384Z"
   },
   {
    "duration": 6,
    "start_time": "2023-03-22T21:42:12.564Z"
   },
   {
    "duration": 4,
    "start_time": "2023-03-22T21:42:22.487Z"
   },
   {
    "duration": 4,
    "start_time": "2023-03-22T21:42:34.757Z"
   },
   {
    "duration": 31,
    "start_time": "2023-03-22T21:45:57.389Z"
   },
   {
    "duration": 10,
    "start_time": "2023-03-22T21:46:20.286Z"
   },
   {
    "duration": 11,
    "start_time": "2023-03-22T21:47:07.656Z"
   },
   {
    "duration": 3,
    "start_time": "2023-03-22T21:47:11.597Z"
   },
   {
    "duration": 3,
    "start_time": "2023-03-22T21:47:11.612Z"
   },
   {
    "duration": 70,
    "start_time": "2023-03-22T21:47:11.617Z"
   },
   {
    "duration": 7,
    "start_time": "2023-03-22T21:47:11.689Z"
   },
   {
    "duration": 8,
    "start_time": "2023-03-22T21:47:11.697Z"
   },
   {
    "duration": 10,
    "start_time": "2023-03-22T21:47:11.707Z"
   },
   {
    "duration": 42,
    "start_time": "2023-03-22T21:47:11.719Z"
   },
   {
    "duration": 15,
    "start_time": "2023-03-22T21:47:11.762Z"
   },
   {
    "duration": 14,
    "start_time": "2023-03-22T21:47:11.779Z"
   },
   {
    "duration": 22,
    "start_time": "2023-03-22T21:47:11.794Z"
   },
   {
    "duration": 12,
    "start_time": "2023-03-22T21:47:11.818Z"
   },
   {
    "duration": 3,
    "start_time": "2023-03-22T21:47:11.833Z"
   },
   {
    "duration": 33,
    "start_time": "2023-03-22T21:47:11.837Z"
   },
   {
    "duration": 4,
    "start_time": "2023-03-22T21:47:11.871Z"
   },
   {
    "duration": 6,
    "start_time": "2023-03-22T21:47:11.876Z"
   },
   {
    "duration": 9,
    "start_time": "2023-03-22T21:47:11.883Z"
   },
   {
    "duration": 11,
    "start_time": "2023-03-22T21:47:11.894Z"
   },
   {
    "duration": 14,
    "start_time": "2023-03-22T21:47:11.906Z"
   },
   {
    "duration": 6,
    "start_time": "2023-03-22T21:47:11.921Z"
   },
   {
    "duration": 41,
    "start_time": "2023-03-22T21:47:11.928Z"
   },
   {
    "duration": 5,
    "start_time": "2023-03-22T21:47:11.971Z"
   },
   {
    "duration": 5,
    "start_time": "2023-03-22T21:47:11.978Z"
   },
   {
    "duration": 4,
    "start_time": "2023-03-22T21:47:11.984Z"
   },
   {
    "duration": 5,
    "start_time": "2023-03-22T21:47:11.989Z"
   },
   {
    "duration": 6,
    "start_time": "2023-03-22T21:47:11.995Z"
   },
   {
    "duration": 4,
    "start_time": "2023-03-22T21:47:12.002Z"
   },
   {
    "duration": 6,
    "start_time": "2023-03-22T21:47:12.007Z"
   },
   {
    "duration": 4,
    "start_time": "2023-03-22T21:47:12.015Z"
   },
   {
    "duration": 49,
    "start_time": "2023-03-22T21:47:12.020Z"
   },
   {
    "duration": 4,
    "start_time": "2023-03-22T21:47:12.072Z"
   },
   {
    "duration": 8,
    "start_time": "2023-03-22T21:47:12.077Z"
   },
   {
    "duration": 3,
    "start_time": "2023-03-22T21:47:12.087Z"
   },
   {
    "duration": 8,
    "start_time": "2023-03-22T21:47:12.092Z"
   },
   {
    "duration": 5,
    "start_time": "2023-03-22T21:47:12.101Z"
   },
   {
    "duration": 7,
    "start_time": "2023-03-22T21:47:12.107Z"
   },
   {
    "duration": 9,
    "start_time": "2023-03-22T21:47:12.115Z"
   },
   {
    "duration": 279,
    "start_time": "2023-03-22T21:47:12.126Z"
   },
   {
    "duration": 249,
    "start_time": "2023-03-22T21:47:12.406Z"
   },
   {
    "duration": 206,
    "start_time": "2023-03-22T21:47:12.657Z"
   },
   {
    "duration": 345,
    "start_time": "2023-03-22T21:47:12.865Z"
   },
   {
    "duration": 191,
    "start_time": "2023-03-22T21:47:13.212Z"
   },
   {
    "duration": 418,
    "start_time": "2023-03-22T21:47:13.404Z"
   },
   {
    "duration": 11,
    "start_time": "2023-03-22T21:47:13.824Z"
   },
   {
    "duration": 152,
    "start_time": "2023-03-22T21:47:13.836Z"
   },
   {
    "duration": 161,
    "start_time": "2023-03-22T21:47:13.989Z"
   },
   {
    "duration": 17,
    "start_time": "2023-03-22T21:47:14.152Z"
   },
   {
    "duration": 4,
    "start_time": "2023-03-22T21:47:14.171Z"
   },
   {
    "duration": 5,
    "start_time": "2023-03-22T21:47:14.176Z"
   },
   {
    "duration": 191,
    "start_time": "2023-03-22T21:47:14.183Z"
   },
   {
    "duration": 162,
    "start_time": "2023-03-22T21:47:14.376Z"
   },
   {
    "duration": 183,
    "start_time": "2023-03-22T21:47:14.539Z"
   },
   {
    "duration": 171,
    "start_time": "2023-03-22T21:47:14.724Z"
   },
   {
    "duration": 6,
    "start_time": "2023-03-22T21:47:14.897Z"
   },
   {
    "duration": 254,
    "start_time": "2023-03-22T21:47:14.905Z"
   },
   {
    "duration": 140,
    "start_time": "2023-03-22T21:47:15.160Z"
   },
   {
    "duration": 6,
    "start_time": "2023-03-22T21:47:15.302Z"
   },
   {
    "duration": 164,
    "start_time": "2023-03-22T21:47:15.309Z"
   },
   {
    "duration": 10,
    "start_time": "2023-03-22T21:47:15.474Z"
   },
   {
    "duration": 31,
    "start_time": "2023-03-22T21:47:15.485Z"
   },
   {
    "duration": 10,
    "start_time": "2023-03-22T21:47:15.518Z"
   },
   {
    "duration": 26,
    "start_time": "2023-03-22T21:47:15.530Z"
   },
   {
    "duration": 18,
    "start_time": "2023-03-22T21:47:15.559Z"
   },
   {
    "duration": 957,
    "start_time": "2023-03-22T21:47:40.230Z"
   },
   {
    "duration": 2,
    "start_time": "2023-03-22T21:47:41.189Z"
   },
   {
    "duration": 73,
    "start_time": "2023-03-22T21:47:41.192Z"
   },
   {
    "duration": 10,
    "start_time": "2023-03-22T21:47:41.267Z"
   },
   {
    "duration": 6,
    "start_time": "2023-03-22T21:47:41.279Z"
   },
   {
    "duration": 7,
    "start_time": "2023-03-22T21:47:41.286Z"
   },
   {
    "duration": 19,
    "start_time": "2023-03-22T21:47:41.294Z"
   },
   {
    "duration": 60,
    "start_time": "2023-03-22T21:47:41.315Z"
   },
   {
    "duration": 10,
    "start_time": "2023-03-22T21:47:41.376Z"
   },
   {
    "duration": 16,
    "start_time": "2023-03-22T21:47:41.388Z"
   },
   {
    "duration": 11,
    "start_time": "2023-03-22T21:47:41.406Z"
   },
   {
    "duration": 4,
    "start_time": "2023-03-22T21:47:41.418Z"
   },
   {
    "duration": 7,
    "start_time": "2023-03-22T21:47:41.423Z"
   },
   {
    "duration": 4,
    "start_time": "2023-03-22T21:47:41.431Z"
   },
   {
    "duration": 34,
    "start_time": "2023-03-22T21:47:41.436Z"
   },
   {
    "duration": 9,
    "start_time": "2023-03-22T21:47:41.471Z"
   },
   {
    "duration": 14,
    "start_time": "2023-03-22T21:47:41.482Z"
   },
   {
    "duration": 16,
    "start_time": "2023-03-22T21:47:41.497Z"
   },
   {
    "duration": 6,
    "start_time": "2023-03-22T21:47:41.515Z"
   },
   {
    "duration": 5,
    "start_time": "2023-03-22T21:47:41.523Z"
   },
   {
    "duration": 5,
    "start_time": "2023-03-22T21:47:41.529Z"
   },
   {
    "duration": 4,
    "start_time": "2023-03-22T21:47:41.536Z"
   },
   {
    "duration": 4,
    "start_time": "2023-03-22T21:47:41.568Z"
   },
   {
    "duration": 4,
    "start_time": "2023-03-22T21:47:41.574Z"
   },
   {
    "duration": 7,
    "start_time": "2023-03-22T21:47:41.579Z"
   },
   {
    "duration": 4,
    "start_time": "2023-03-22T21:47:41.587Z"
   },
   {
    "duration": 6,
    "start_time": "2023-03-22T21:47:41.593Z"
   },
   {
    "duration": 4,
    "start_time": "2023-03-22T21:47:41.602Z"
   },
   {
    "duration": 6,
    "start_time": "2023-03-22T21:47:41.608Z"
   },
   {
    "duration": 5,
    "start_time": "2023-03-22T21:47:41.615Z"
   },
   {
    "duration": 50,
    "start_time": "2023-03-22T21:47:41.621Z"
   },
   {
    "duration": 4,
    "start_time": "2023-03-22T21:47:41.672Z"
   },
   {
    "duration": 8,
    "start_time": "2023-03-22T21:47:41.677Z"
   },
   {
    "duration": 4,
    "start_time": "2023-03-22T21:47:41.686Z"
   },
   {
    "duration": 4,
    "start_time": "2023-03-22T21:47:41.691Z"
   },
   {
    "duration": 9,
    "start_time": "2023-03-22T21:47:41.696Z"
   },
   {
    "duration": 287,
    "start_time": "2023-03-22T21:47:41.706Z"
   },
   {
    "duration": 280,
    "start_time": "2023-03-22T21:47:41.995Z"
   },
   {
    "duration": 224,
    "start_time": "2023-03-22T21:47:42.277Z"
   },
   {
    "duration": 315,
    "start_time": "2023-03-22T21:47:42.503Z"
   },
   {
    "duration": 177,
    "start_time": "2023-03-22T21:47:42.820Z"
   },
   {
    "duration": 324,
    "start_time": "2023-03-22T21:47:42.998Z"
   },
   {
    "duration": 11,
    "start_time": "2023-03-22T21:47:43.324Z"
   },
   {
    "duration": 134,
    "start_time": "2023-03-22T21:47:43.336Z"
   },
   {
    "duration": 138,
    "start_time": "2023-03-22T21:47:43.472Z"
   },
   {
    "duration": 5,
    "start_time": "2023-03-22T21:47:43.611Z"
   },
   {
    "duration": 4,
    "start_time": "2023-03-22T21:47:43.618Z"
   },
   {
    "duration": 5,
    "start_time": "2023-03-22T21:47:43.623Z"
   },
   {
    "duration": 255,
    "start_time": "2023-03-22T21:47:43.629Z"
   },
   {
    "duration": 150,
    "start_time": "2023-03-22T21:47:43.885Z"
   },
   {
    "duration": 165,
    "start_time": "2023-03-22T21:47:44.037Z"
   },
   {
    "duration": 164,
    "start_time": "2023-03-22T21:47:44.203Z"
   },
   {
    "duration": 6,
    "start_time": "2023-03-22T21:47:44.368Z"
   },
   {
    "duration": 196,
    "start_time": "2023-03-22T21:47:44.375Z"
   },
   {
    "duration": 124,
    "start_time": "2023-03-22T21:47:44.573Z"
   },
   {
    "duration": 5,
    "start_time": "2023-03-22T21:47:44.698Z"
   },
   {
    "duration": 140,
    "start_time": "2023-03-22T21:47:44.704Z"
   },
   {
    "duration": 9,
    "start_time": "2023-03-22T21:47:44.845Z"
   },
   {
    "duration": 18,
    "start_time": "2023-03-22T21:47:44.855Z"
   },
   {
    "duration": 7,
    "start_time": "2023-03-22T21:47:44.874Z"
   },
   {
    "duration": 18,
    "start_time": "2023-03-22T21:47:44.882Z"
   },
   {
    "duration": 11,
    "start_time": "2023-03-22T21:47:44.902Z"
   },
   {
    "duration": 11,
    "start_time": "2023-03-22T21:48:22.043Z"
   },
   {
    "duration": 95,
    "start_time": "2023-03-22T21:49:02.164Z"
   },
   {
    "duration": 52,
    "start_time": "2023-03-22T22:01:22.353Z"
   },
   {
    "duration": 7,
    "start_time": "2023-03-22T22:02:24.449Z"
   },
   {
    "duration": 11,
    "start_time": "2023-03-22T22:03:37.197Z"
   },
   {
    "duration": 300,
    "start_time": "2023-03-22T22:06:49.697Z"
   },
   {
    "duration": 76,
    "start_time": "2023-03-23T14:44:52.759Z"
   },
   {
    "duration": 41,
    "start_time": "2023-03-23T16:34:02.932Z"
   },
   {
    "duration": 1160,
    "start_time": "2023-03-23T16:34:09.039Z"
   },
   {
    "duration": 3,
    "start_time": "2023-03-23T16:34:10.201Z"
   },
   {
    "duration": 246,
    "start_time": "2023-03-23T16:34:10.205Z"
   },
   {
    "duration": 13,
    "start_time": "2023-03-23T16:34:10.455Z"
   },
   {
    "duration": 7,
    "start_time": "2023-03-23T16:34:10.469Z"
   },
   {
    "duration": 7,
    "start_time": "2023-03-23T16:34:10.478Z"
   },
   {
    "duration": 33,
    "start_time": "2023-03-23T16:34:10.487Z"
   },
   {
    "duration": 72,
    "start_time": "2023-03-23T16:34:10.522Z"
   },
   {
    "duration": 12,
    "start_time": "2023-03-23T16:34:10.596Z"
   },
   {
    "duration": 21,
    "start_time": "2023-03-23T16:34:10.610Z"
   },
   {
    "duration": 13,
    "start_time": "2023-03-23T16:34:10.633Z"
   },
   {
    "duration": 26,
    "start_time": "2023-03-23T16:34:10.647Z"
   },
   {
    "duration": 12,
    "start_time": "2023-03-23T16:34:10.674Z"
   },
   {
    "duration": 3,
    "start_time": "2023-03-23T16:34:10.688Z"
   },
   {
    "duration": 5,
    "start_time": "2023-03-23T16:34:10.692Z"
   },
   {
    "duration": 10,
    "start_time": "2023-03-23T16:34:10.699Z"
   },
   {
    "duration": 13,
    "start_time": "2023-03-23T16:34:10.711Z"
   },
   {
    "duration": 45,
    "start_time": "2023-03-23T16:34:10.725Z"
   },
   {
    "duration": 8,
    "start_time": "2023-03-23T16:34:10.772Z"
   },
   {
    "duration": 6,
    "start_time": "2023-03-23T16:34:10.781Z"
   },
   {
    "duration": 6,
    "start_time": "2023-03-23T16:34:10.789Z"
   },
   {
    "duration": 6,
    "start_time": "2023-03-23T16:34:10.796Z"
   },
   {
    "duration": 5,
    "start_time": "2023-03-23T16:34:10.803Z"
   },
   {
    "duration": 4,
    "start_time": "2023-03-23T16:34:10.810Z"
   },
   {
    "duration": 7,
    "start_time": "2023-03-23T16:34:10.815Z"
   },
   {
    "duration": 46,
    "start_time": "2023-03-23T16:34:10.824Z"
   },
   {
    "duration": 8,
    "start_time": "2023-03-23T16:34:10.871Z"
   },
   {
    "duration": 4,
    "start_time": "2023-03-23T16:34:10.883Z"
   },
   {
    "duration": 8,
    "start_time": "2023-03-23T16:34:10.889Z"
   },
   {
    "duration": 7,
    "start_time": "2023-03-23T16:34:10.898Z"
   },
   {
    "duration": 10,
    "start_time": "2023-03-23T16:34:10.906Z"
   },
   {
    "duration": 5,
    "start_time": "2023-03-23T16:34:10.917Z"
   },
   {
    "duration": 9,
    "start_time": "2023-03-23T16:34:10.923Z"
   },
   {
    "duration": 42,
    "start_time": "2023-03-23T16:34:10.933Z"
   },
   {
    "duration": 117,
    "start_time": "2023-03-23T16:34:10.976Z"
   },
   {
    "duration": 5,
    "start_time": "2023-03-23T16:34:11.095Z"
   },
   {
    "duration": 6,
    "start_time": "2023-03-23T16:34:11.102Z"
   },
   {
    "duration": 306,
    "start_time": "2023-03-23T16:34:11.110Z"
   },
   {
    "duration": 313,
    "start_time": "2023-03-23T16:34:11.418Z"
   },
   {
    "duration": 217,
    "start_time": "2023-03-23T16:34:11.733Z"
   },
   {
    "duration": 371,
    "start_time": "2023-03-23T16:34:11.952Z"
   },
   {
    "duration": 223,
    "start_time": "2023-03-23T16:34:12.325Z"
   },
   {
    "duration": 355,
    "start_time": "2023-03-23T16:34:12.550Z"
   },
   {
    "duration": 11,
    "start_time": "2023-03-23T16:34:12.907Z"
   },
   {
    "duration": 155,
    "start_time": "2023-03-23T16:34:12.919Z"
   },
   {
    "duration": 165,
    "start_time": "2023-03-23T16:34:13.076Z"
   },
   {
    "duration": 6,
    "start_time": "2023-03-23T16:34:13.242Z"
   },
   {
    "duration": 6,
    "start_time": "2023-03-23T16:34:13.249Z"
   },
   {
    "duration": 15,
    "start_time": "2023-03-23T16:34:13.256Z"
   },
   {
    "duration": 214,
    "start_time": "2023-03-23T16:34:13.272Z"
   },
   {
    "duration": 149,
    "start_time": "2023-03-23T16:34:13.488Z"
   },
   {
    "duration": 166,
    "start_time": "2023-03-23T16:34:13.639Z"
   },
   {
    "duration": 177,
    "start_time": "2023-03-23T16:34:13.806Z"
   },
   {
    "duration": 7,
    "start_time": "2023-03-23T16:34:13.984Z"
   },
   {
    "duration": 199,
    "start_time": "2023-03-23T16:34:13.992Z"
   },
   {
    "duration": 110,
    "start_time": "2023-03-23T16:34:14.193Z"
   },
   {
    "duration": 7,
    "start_time": "2023-03-23T16:34:14.304Z"
   },
   {
    "duration": 133,
    "start_time": "2023-03-23T16:34:14.312Z"
   },
   {
    "duration": 8,
    "start_time": "2023-03-23T16:34:14.447Z"
   },
   {
    "duration": 16,
    "start_time": "2023-03-23T16:34:14.456Z"
   },
   {
    "duration": 7,
    "start_time": "2023-03-23T16:34:14.473Z"
   },
   {
    "duration": 17,
    "start_time": "2023-03-23T16:34:14.481Z"
   },
   {
    "duration": 12,
    "start_time": "2023-03-23T16:34:14.500Z"
   },
   {
    "duration": 45,
    "start_time": "2023-03-23T16:38:01.566Z"
   },
   {
    "duration": 9,
    "start_time": "2023-03-23T16:42:38.113Z"
   },
   {
    "duration": 10,
    "start_time": "2023-03-23T16:42:43.767Z"
   },
   {
    "duration": 9,
    "start_time": "2023-03-23T16:42:49.426Z"
   },
   {
    "duration": 158,
    "start_time": "2023-03-23T16:53:05.993Z"
   },
   {
    "duration": 149,
    "start_time": "2023-03-23T16:53:27.417Z"
   },
   {
    "duration": 180,
    "start_time": "2023-03-23T16:53:41.779Z"
   },
   {
    "duration": 156,
    "start_time": "2023-03-23T16:53:53.344Z"
   },
   {
    "duration": 185,
    "start_time": "2023-03-23T16:55:16.803Z"
   },
   {
    "duration": 156,
    "start_time": "2023-03-23T16:55:22.992Z"
   },
   {
    "duration": 239,
    "start_time": "2023-03-23T16:55:35.724Z"
   },
   {
    "duration": 158,
    "start_time": "2023-03-23T16:55:39.999Z"
   },
   {
    "duration": 154,
    "start_time": "2023-03-23T16:55:49.091Z"
   },
   {
    "duration": 158,
    "start_time": "2023-03-23T16:56:03.035Z"
   },
   {
    "duration": 1415,
    "start_time": "2023-03-24T09:13:51.768Z"
   },
   {
    "duration": 4,
    "start_time": "2023-03-24T09:13:53.185Z"
   },
   {
    "duration": 236,
    "start_time": "2023-03-24T09:13:53.191Z"
   },
   {
    "duration": 12,
    "start_time": "2023-03-24T09:13:53.429Z"
   },
   {
    "duration": 8,
    "start_time": "2023-03-24T09:13:53.442Z"
   },
   {
    "duration": 9,
    "start_time": "2023-03-24T09:13:53.451Z"
   },
   {
    "duration": 27,
    "start_time": "2023-03-24T09:13:53.462Z"
   },
   {
    "duration": 64,
    "start_time": "2023-03-24T09:13:53.502Z"
   },
   {
    "duration": 13,
    "start_time": "2023-03-24T09:13:53.567Z"
   },
   {
    "duration": 37,
    "start_time": "2023-03-24T09:13:53.584Z"
   },
   {
    "duration": 16,
    "start_time": "2023-03-24T09:13:53.623Z"
   },
   {
    "duration": 6,
    "start_time": "2023-03-24T09:13:53.641Z"
   },
   {
    "duration": 10,
    "start_time": "2023-03-24T09:13:53.649Z"
   },
   {
    "duration": 4,
    "start_time": "2023-03-24T09:13:53.660Z"
   },
   {
    "duration": 43,
    "start_time": "2023-03-24T09:13:53.665Z"
   },
   {
    "duration": 20,
    "start_time": "2023-03-24T09:13:53.711Z"
   },
   {
    "duration": 21,
    "start_time": "2023-03-24T09:13:53.733Z"
   },
   {
    "duration": 32,
    "start_time": "2023-03-24T09:13:53.755Z"
   },
   {
    "duration": 8,
    "start_time": "2023-03-24T09:13:53.788Z"
   },
   {
    "duration": 14,
    "start_time": "2023-03-24T09:13:53.798Z"
   },
   {
    "duration": 8,
    "start_time": "2023-03-24T09:13:53.815Z"
   },
   {
    "duration": 17,
    "start_time": "2023-03-24T09:13:53.826Z"
   },
   {
    "duration": 11,
    "start_time": "2023-03-24T09:13:53.845Z"
   },
   {
    "duration": 11,
    "start_time": "2023-03-24T09:13:53.858Z"
   },
   {
    "duration": 16,
    "start_time": "2023-03-24T09:13:53.871Z"
   },
   {
    "duration": 5,
    "start_time": "2023-03-24T09:13:53.889Z"
   },
   {
    "duration": 10,
    "start_time": "2023-03-24T09:13:53.903Z"
   },
   {
    "duration": 7,
    "start_time": "2023-03-24T09:13:53.919Z"
   },
   {
    "duration": 8,
    "start_time": "2023-03-24T09:13:53.930Z"
   },
   {
    "duration": 5,
    "start_time": "2023-03-24T09:13:53.939Z"
   },
   {
    "duration": 10,
    "start_time": "2023-03-24T09:13:53.946Z"
   },
   {
    "duration": 50,
    "start_time": "2023-03-24T09:13:53.957Z"
   },
   {
    "duration": 14,
    "start_time": "2023-03-24T09:13:54.009Z"
   },
   {
    "duration": 26,
    "start_time": "2023-03-24T09:13:54.026Z"
   },
   {
    "duration": 133,
    "start_time": "2023-03-24T09:13:54.054Z"
   },
   {
    "duration": 16,
    "start_time": "2023-03-24T09:13:54.189Z"
   },
   {
    "duration": 11,
    "start_time": "2023-03-24T09:13:54.207Z"
   },
   {
    "duration": 347,
    "start_time": "2023-03-24T09:13:54.220Z"
   },
   {
    "duration": 365,
    "start_time": "2023-03-24T09:13:54.569Z"
   },
   {
    "duration": 274,
    "start_time": "2023-03-24T09:13:54.935Z"
   },
   {
    "duration": 446,
    "start_time": "2023-03-24T09:13:55.211Z"
   },
   {
    "duration": 262,
    "start_time": "2023-03-24T09:13:55.659Z"
   },
   {
    "duration": 369,
    "start_time": "2023-03-24T09:13:55.923Z"
   },
   {
    "duration": 25,
    "start_time": "2023-03-24T09:13:56.294Z"
   },
   {
    "duration": 205,
    "start_time": "2023-03-24T09:13:56.322Z"
   },
   {
    "duration": 203,
    "start_time": "2023-03-24T09:13:56.529Z"
   },
   {
    "duration": 7,
    "start_time": "2023-03-24T09:13:56.734Z"
   },
   {
    "duration": 11,
    "start_time": "2023-03-24T09:13:56.743Z"
   },
   {
    "duration": 10,
    "start_time": "2023-03-24T09:13:56.756Z"
   },
   {
    "duration": 315,
    "start_time": "2023-03-24T09:13:56.768Z"
   },
   {
    "duration": 191,
    "start_time": "2023-03-24T09:13:57.084Z"
   },
   {
    "duration": 201,
    "start_time": "2023-03-24T09:13:57.277Z"
   },
   {
    "duration": 215,
    "start_time": "2023-03-24T09:13:57.480Z"
   },
   {
    "duration": 8,
    "start_time": "2023-03-24T09:13:57.697Z"
   },
   {
    "duration": 271,
    "start_time": "2023-03-24T09:13:57.707Z"
   },
   {
    "duration": 168,
    "start_time": "2023-03-24T09:13:57.980Z"
   },
   {
    "duration": 6,
    "start_time": "2023-03-24T09:13:58.150Z"
   },
   {
    "duration": 193,
    "start_time": "2023-03-24T09:13:58.158Z"
   },
   {
    "duration": 11,
    "start_time": "2023-03-24T09:13:58.353Z"
   },
   {
    "duration": 10,
    "start_time": "2023-03-24T09:13:58.366Z"
   },
   {
    "duration": 31,
    "start_time": "2023-03-24T09:13:58.377Z"
   },
   {
    "duration": 29,
    "start_time": "2023-03-24T09:13:58.411Z"
   },
   {
    "duration": 14,
    "start_time": "2023-03-24T09:13:58.442Z"
   },
   {
    "duration": 275,
    "start_time": "2023-03-24T10:04:45.367Z"
   },
   {
    "duration": 438,
    "start_time": "2023-03-24T10:05:04.075Z"
   },
   {
    "duration": 297,
    "start_time": "2023-03-24T10:10:00.479Z"
   },
   {
    "duration": 438,
    "start_time": "2023-03-24T10:10:11.947Z"
   },
   {
    "duration": 306,
    "start_time": "2023-03-24T10:10:17.031Z"
   },
   {
    "duration": 391,
    "start_time": "2023-03-24T10:10:21.957Z"
   },
   {
    "duration": 408,
    "start_time": "2023-03-24T10:10:42.983Z"
   },
   {
    "duration": 300,
    "start_time": "2023-03-24T10:10:56.241Z"
   },
   {
    "duration": 423,
    "start_time": "2023-03-24T10:11:03.601Z"
   },
   {
    "duration": 1022,
    "start_time": "2023-03-24T10:11:08.662Z"
   },
   {
    "duration": 1003,
    "start_time": "2023-03-24T10:11:23.689Z"
   },
   {
    "duration": 1080,
    "start_time": "2023-03-24T10:11:30.531Z"
   },
   {
    "duration": 252,
    "start_time": "2023-03-24T10:11:48.083Z"
   },
   {
    "duration": 290,
    "start_time": "2023-03-24T10:11:58.065Z"
   },
   {
    "duration": 416,
    "start_time": "2023-03-24T10:12:12.255Z"
   },
   {
    "duration": 389,
    "start_time": "2023-03-24T10:12:28.566Z"
   },
   {
    "duration": 219,
    "start_time": "2023-03-24T10:12:48.739Z"
   },
   {
    "duration": 214,
    "start_time": "2023-03-24T10:12:55.278Z"
   },
   {
    "duration": 316,
    "start_time": "2023-03-24T10:12:59.968Z"
   },
   {
    "duration": 237,
    "start_time": "2023-03-24T10:13:06.436Z"
   },
   {
    "duration": 458,
    "start_time": "2023-03-24T10:13:15.975Z"
   },
   {
    "duration": 261,
    "start_time": "2023-03-24T10:13:23.473Z"
   },
   {
    "duration": 393,
    "start_time": "2023-03-24T10:13:32.738Z"
   },
   {
    "duration": 303,
    "start_time": "2023-03-24T10:13:40.532Z"
   },
   {
    "duration": 310,
    "start_time": "2023-03-24T10:13:47.925Z"
   },
   {
    "duration": 361,
    "start_time": "2023-03-24T10:13:51.199Z"
   },
   {
    "duration": 294,
    "start_time": "2023-03-24T10:14:02.648Z"
   },
   {
    "duration": 415,
    "start_time": "2023-03-24T10:14:07.732Z"
   },
   {
    "duration": 282,
    "start_time": "2023-03-24T10:14:13.655Z"
   },
   {
    "duration": 524,
    "start_time": "2023-03-24T10:14:20.439Z"
   },
   {
    "duration": 253,
    "start_time": "2023-03-24T10:14:33.591Z"
   },
   {
    "duration": 208,
    "start_time": "2023-03-24T10:14:44.374Z"
   },
   {
    "duration": 233,
    "start_time": "2023-03-24T10:14:53.137Z"
   },
   {
    "duration": 242,
    "start_time": "2023-03-24T10:14:56.618Z"
   },
   {
    "duration": 255,
    "start_time": "2023-03-24T10:15:01.632Z"
   },
   {
    "duration": 266,
    "start_time": "2023-03-24T10:15:05.620Z"
   },
   {
    "duration": 251,
    "start_time": "2023-03-24T10:15:10.477Z"
   },
   {
    "duration": 246,
    "start_time": "2023-03-24T10:15:19.976Z"
   },
   {
    "duration": 206,
    "start_time": "2023-03-24T10:15:32.316Z"
   },
   {
    "duration": 238,
    "start_time": "2023-03-24T10:15:42.042Z"
   },
   {
    "duration": 1287,
    "start_time": "2023-03-24T10:17:19.054Z"
   },
   {
    "duration": 3,
    "start_time": "2023-03-24T10:17:20.351Z"
   },
   {
    "duration": 111,
    "start_time": "2023-03-24T10:17:20.356Z"
   },
   {
    "duration": 12,
    "start_time": "2023-03-24T10:17:20.469Z"
   },
   {
    "duration": 8,
    "start_time": "2023-03-24T10:17:20.483Z"
   },
   {
    "duration": 9,
    "start_time": "2023-03-24T10:17:20.492Z"
   },
   {
    "duration": 53,
    "start_time": "2023-03-24T10:17:20.507Z"
   },
   {
    "duration": 93,
    "start_time": "2023-03-24T10:17:20.562Z"
   },
   {
    "duration": 18,
    "start_time": "2023-03-24T10:17:20.657Z"
   },
   {
    "duration": 47,
    "start_time": "2023-03-24T10:17:20.678Z"
   },
   {
    "duration": 27,
    "start_time": "2023-03-24T10:17:20.727Z"
   },
   {
    "duration": 4,
    "start_time": "2023-03-24T10:17:20.756Z"
   },
   {
    "duration": 8,
    "start_time": "2023-03-24T10:17:20.762Z"
   },
   {
    "duration": 4,
    "start_time": "2023-03-24T10:17:20.773Z"
   },
   {
    "duration": 29,
    "start_time": "2023-03-24T10:17:20.780Z"
   },
   {
    "duration": 13,
    "start_time": "2023-03-24T10:17:20.811Z"
   },
   {
    "duration": 21,
    "start_time": "2023-03-24T10:17:20.828Z"
   },
   {
    "duration": 22,
    "start_time": "2023-03-24T10:17:20.852Z"
   },
   {
    "duration": 43,
    "start_time": "2023-03-24T10:17:20.876Z"
   },
   {
    "duration": 16,
    "start_time": "2023-03-24T10:17:20.921Z"
   },
   {
    "duration": 8,
    "start_time": "2023-03-24T10:17:20.945Z"
   },
   {
    "duration": 26,
    "start_time": "2023-03-24T10:17:20.955Z"
   },
   {
    "duration": 7,
    "start_time": "2023-03-24T10:17:20.983Z"
   },
   {
    "duration": 17,
    "start_time": "2023-03-24T10:17:20.993Z"
   },
   {
    "duration": 21,
    "start_time": "2023-03-24T10:17:21.021Z"
   },
   {
    "duration": 5,
    "start_time": "2023-03-24T10:17:21.047Z"
   },
   {
    "duration": 13,
    "start_time": "2023-03-24T10:17:21.054Z"
   },
   {
    "duration": 7,
    "start_time": "2023-03-24T10:17:21.072Z"
   },
   {
    "duration": 44,
    "start_time": "2023-03-24T10:17:21.082Z"
   },
   {
    "duration": 10,
    "start_time": "2023-03-24T10:17:21.134Z"
   },
   {
    "duration": 12,
    "start_time": "2023-03-24T10:17:21.147Z"
   },
   {
    "duration": 9,
    "start_time": "2023-03-24T10:17:21.161Z"
   },
   {
    "duration": 22,
    "start_time": "2023-03-24T10:17:21.173Z"
   },
   {
    "duration": 54,
    "start_time": "2023-03-24T10:17:21.198Z"
   },
   {
    "duration": 178,
    "start_time": "2023-03-24T10:17:21.254Z"
   },
   {
    "duration": 12,
    "start_time": "2023-03-24T10:17:21.436Z"
   },
   {
    "duration": 23,
    "start_time": "2023-03-24T10:17:21.450Z"
   },
   {
    "duration": 360,
    "start_time": "2023-03-24T10:17:21.476Z"
   },
   {
    "duration": 469,
    "start_time": "2023-03-24T10:17:21.838Z"
   },
   {
    "duration": 349,
    "start_time": "2023-03-24T10:17:22.309Z"
   },
   {
    "duration": 416,
    "start_time": "2023-03-24T10:17:22.659Z"
   },
   {
    "duration": 278,
    "start_time": "2023-03-24T10:17:23.077Z"
   },
   {
    "duration": 416,
    "start_time": "2023-03-24T10:17:23.356Z"
   },
   {
    "duration": 13,
    "start_time": "2023-03-24T10:17:23.774Z"
   },
   {
    "duration": 281,
    "start_time": "2023-03-24T10:17:23.788Z"
   },
   {
    "duration": 280,
    "start_time": "2023-03-24T10:17:24.071Z"
   },
   {
    "duration": 8,
    "start_time": "2023-03-24T10:17:24.353Z"
   },
   {
    "duration": 9,
    "start_time": "2023-03-24T10:17:24.363Z"
   },
   {
    "duration": 14,
    "start_time": "2023-03-24T10:17:24.374Z"
   },
   {
    "duration": 350,
    "start_time": "2023-03-24T10:17:24.390Z"
   },
   {
    "duration": 211,
    "start_time": "2023-03-24T10:17:24.745Z"
   },
   {
    "duration": 237,
    "start_time": "2023-03-24T10:17:24.957Z"
   },
   {
    "duration": 267,
    "start_time": "2023-03-24T10:17:25.196Z"
   },
   {
    "duration": 6,
    "start_time": "2023-03-24T10:17:25.465Z"
   },
   {
    "duration": 292,
    "start_time": "2023-03-24T10:17:25.473Z"
   },
   {
    "duration": 190,
    "start_time": "2023-03-24T10:17:25.767Z"
   },
   {
    "duration": 7,
    "start_time": "2023-03-24T10:17:25.959Z"
   },
   {
    "duration": 217,
    "start_time": "2023-03-24T10:17:25.968Z"
   },
   {
    "duration": 23,
    "start_time": "2023-03-24T10:17:26.187Z"
   },
   {
    "duration": 17,
    "start_time": "2023-03-24T10:17:26.213Z"
   },
   {
    "duration": 22,
    "start_time": "2023-03-24T10:17:26.232Z"
   },
   {
    "duration": 25,
    "start_time": "2023-03-24T10:17:26.255Z"
   },
   {
    "duration": 46,
    "start_time": "2023-03-24T10:17:26.283Z"
   },
   {
    "duration": 318,
    "start_time": "2023-03-24T10:18:04.228Z"
   },
   {
    "duration": 380,
    "start_time": "2023-03-24T10:18:09.544Z"
   },
   {
    "duration": 293,
    "start_time": "2023-03-24T10:18:13.336Z"
   },
   {
    "duration": 342,
    "start_time": "2023-03-24T10:18:16.375Z"
   },
   {
    "duration": 442,
    "start_time": "2023-03-24T10:18:43.834Z"
   },
   {
    "duration": 453,
    "start_time": "2023-03-24T10:22:37.372Z"
   },
   {
    "duration": 333,
    "start_time": "2023-03-24T10:22:54.551Z"
   },
   {
    "duration": 383,
    "start_time": "2023-03-24T10:23:10.448Z"
   },
   {
    "duration": 390,
    "start_time": "2023-03-24T10:23:15.398Z"
   },
   {
    "duration": 404,
    "start_time": "2023-03-24T10:23:25.617Z"
   },
   {
    "duration": 456,
    "start_time": "2023-03-24T10:24:02.097Z"
   },
   {
    "duration": 429,
    "start_time": "2023-03-24T10:25:00.299Z"
   },
   {
    "duration": 52,
    "start_time": "2023-03-24T11:03:23.781Z"
   },
   {
    "duration": 10,
    "start_time": "2023-03-24T11:03:26.770Z"
   },
   {
    "duration": 11,
    "start_time": "2023-03-24T11:05:44.683Z"
   },
   {
    "duration": 14,
    "start_time": "2023-03-24T11:06:01.934Z"
   },
   {
    "duration": 740,
    "start_time": "2023-03-24T11:22:41.641Z"
   },
   {
    "duration": 11,
    "start_time": "2023-03-24T11:23:02.304Z"
   },
   {
    "duration": 1224,
    "start_time": "2023-03-24T11:26:51.642Z"
   },
   {
    "duration": 3,
    "start_time": "2023-03-24T11:26:52.867Z"
   },
   {
    "duration": 82,
    "start_time": "2023-03-24T11:26:52.872Z"
   },
   {
    "duration": 12,
    "start_time": "2023-03-24T11:26:52.956Z"
   },
   {
    "duration": 8,
    "start_time": "2023-03-24T11:26:52.970Z"
   },
   {
    "duration": 8,
    "start_time": "2023-03-24T11:26:52.980Z"
   },
   {
    "duration": 25,
    "start_time": "2023-03-24T11:26:52.990Z"
   },
   {
    "duration": 52,
    "start_time": "2023-03-24T11:26:53.017Z"
   },
   {
    "duration": 12,
    "start_time": "2023-03-24T11:26:53.071Z"
   },
   {
    "duration": 35,
    "start_time": "2023-03-24T11:26:53.086Z"
   },
   {
    "duration": 15,
    "start_time": "2023-03-24T11:26:53.123Z"
   },
   {
    "duration": 13,
    "start_time": "2023-03-24T11:26:53.140Z"
   },
   {
    "duration": 7,
    "start_time": "2023-03-24T11:26:53.155Z"
   },
   {
    "duration": 4,
    "start_time": "2023-03-24T11:26:53.164Z"
   },
   {
    "duration": 35,
    "start_time": "2023-03-24T11:26:53.169Z"
   },
   {
    "duration": 13,
    "start_time": "2023-03-24T11:26:53.206Z"
   },
   {
    "duration": 18,
    "start_time": "2023-03-24T11:26:53.220Z"
   },
   {
    "duration": 20,
    "start_time": "2023-03-24T11:26:53.239Z"
   },
   {
    "duration": 24,
    "start_time": "2023-03-24T11:26:53.261Z"
   },
   {
    "duration": 17,
    "start_time": "2023-03-24T11:26:53.287Z"
   },
   {
    "duration": 9,
    "start_time": "2023-03-24T11:26:53.306Z"
   },
   {
    "duration": 18,
    "start_time": "2023-03-24T11:26:53.316Z"
   },
   {
    "duration": 5,
    "start_time": "2023-03-24T11:26:53.336Z"
   },
   {
    "duration": 6,
    "start_time": "2023-03-24T11:26:53.343Z"
   },
   {
    "duration": 12,
    "start_time": "2023-03-24T11:26:53.351Z"
   },
   {
    "duration": 6,
    "start_time": "2023-03-24T11:26:53.365Z"
   },
   {
    "duration": 30,
    "start_time": "2023-03-24T11:26:53.373Z"
   },
   {
    "duration": 5,
    "start_time": "2023-03-24T11:26:53.407Z"
   },
   {
    "duration": 40,
    "start_time": "2023-03-24T11:26:53.413Z"
   },
   {
    "duration": 18,
    "start_time": "2023-03-24T11:26:53.455Z"
   },
   {
    "duration": 13,
    "start_time": "2023-03-24T11:26:53.475Z"
   },
   {
    "duration": 7,
    "start_time": "2023-03-24T11:26:53.490Z"
   },
   {
    "duration": 11,
    "start_time": "2023-03-24T11:26:53.499Z"
   },
   {
    "duration": 20,
    "start_time": "2023-03-24T11:26:53.512Z"
   },
   {
    "duration": 106,
    "start_time": "2023-03-24T11:26:53.533Z"
   },
   {
    "duration": 6,
    "start_time": "2023-03-24T11:26:53.641Z"
   },
   {
    "duration": 8,
    "start_time": "2023-03-24T11:26:53.649Z"
   },
   {
    "duration": 335,
    "start_time": "2023-03-24T11:26:53.659Z"
   },
   {
    "duration": 348,
    "start_time": "2023-03-24T11:26:53.996Z"
   },
   {
    "duration": 261,
    "start_time": "2023-03-24T11:26:54.346Z"
   },
   {
    "duration": 410,
    "start_time": "2023-03-24T11:26:54.609Z"
   },
   {
    "duration": 227,
    "start_time": "2023-03-24T11:26:55.021Z"
   },
   {
    "duration": 373,
    "start_time": "2023-03-24T11:26:55.249Z"
   },
   {
    "duration": 14,
    "start_time": "2023-03-24T11:26:55.624Z"
   },
   {
    "duration": 211,
    "start_time": "2023-03-24T11:26:55.640Z"
   },
   {
    "duration": 200,
    "start_time": "2023-03-24T11:26:55.853Z"
   },
   {
    "duration": 7,
    "start_time": "2023-03-24T11:26:56.055Z"
   },
   {
    "duration": 21,
    "start_time": "2023-03-24T11:26:56.063Z"
   },
   {
    "duration": 17,
    "start_time": "2023-03-24T11:26:56.086Z"
   },
   {
    "duration": 303,
    "start_time": "2023-03-24T11:26:56.104Z"
   },
   {
    "duration": 194,
    "start_time": "2023-03-24T11:26:56.409Z"
   },
   {
    "duration": 198,
    "start_time": "2023-03-24T11:26:56.605Z"
   },
   {
    "duration": 222,
    "start_time": "2023-03-24T11:26:56.805Z"
   },
   {
    "duration": 9,
    "start_time": "2023-03-24T11:26:57.029Z"
   },
   {
    "duration": 232,
    "start_time": "2023-03-24T11:26:57.040Z"
   },
   {
    "duration": 148,
    "start_time": "2023-03-24T11:26:57.274Z"
   },
   {
    "duration": 6,
    "start_time": "2023-03-24T11:26:57.424Z"
   },
   {
    "duration": 193,
    "start_time": "2023-03-24T11:26:57.432Z"
   },
   {
    "duration": 12,
    "start_time": "2023-03-24T11:26:57.626Z"
   },
   {
    "duration": 12,
    "start_time": "2023-03-24T11:26:57.640Z"
   },
   {
    "duration": 8,
    "start_time": "2023-03-24T11:26:57.655Z"
   },
   {
    "duration": 53,
    "start_time": "2023-03-24T11:26:57.665Z"
   },
   {
    "duration": 15,
    "start_time": "2023-03-24T11:26:57.720Z"
   },
   {
    "duration": 187,
    "start_time": "2023-03-24T11:28:51.336Z"
   },
   {
    "duration": 1199,
    "start_time": "2023-03-24T11:40:13.968Z"
   },
   {
    "duration": 2,
    "start_time": "2023-03-24T11:40:15.170Z"
   },
   {
    "duration": 86,
    "start_time": "2023-03-24T11:40:15.174Z"
   },
   {
    "duration": 12,
    "start_time": "2023-03-24T11:40:15.263Z"
   },
   {
    "duration": 10,
    "start_time": "2023-03-24T11:40:15.276Z"
   },
   {
    "duration": 7,
    "start_time": "2023-03-24T11:40:15.288Z"
   },
   {
    "duration": 26,
    "start_time": "2023-03-24T11:40:15.296Z"
   },
   {
    "duration": 53,
    "start_time": "2023-03-24T11:40:15.324Z"
   },
   {
    "duration": 28,
    "start_time": "2023-03-24T11:40:15.378Z"
   },
   {
    "duration": 25,
    "start_time": "2023-03-24T11:40:15.408Z"
   },
   {
    "duration": 14,
    "start_time": "2023-03-24T11:40:15.435Z"
   },
   {
    "duration": 5,
    "start_time": "2023-03-24T11:40:15.451Z"
   },
   {
    "duration": 14,
    "start_time": "2023-03-24T11:40:15.458Z"
   },
   {
    "duration": 3,
    "start_time": "2023-03-24T11:40:15.474Z"
   },
   {
    "duration": 25,
    "start_time": "2023-03-24T11:40:15.479Z"
   },
   {
    "duration": 10,
    "start_time": "2023-03-24T11:40:15.506Z"
   },
   {
    "duration": 15,
    "start_time": "2023-03-24T11:40:15.518Z"
   },
   {
    "duration": 20,
    "start_time": "2023-03-24T11:40:15.535Z"
   },
   {
    "duration": 8,
    "start_time": "2023-03-24T11:40:15.557Z"
   },
   {
    "duration": 37,
    "start_time": "2023-03-24T11:40:15.567Z"
   },
   {
    "duration": 7,
    "start_time": "2023-03-24T11:40:15.606Z"
   },
   {
    "duration": 8,
    "start_time": "2023-03-24T11:40:15.615Z"
   },
   {
    "duration": 6,
    "start_time": "2023-03-24T11:40:15.624Z"
   },
   {
    "duration": 5,
    "start_time": "2023-03-24T11:40:15.631Z"
   },
   {
    "duration": 9,
    "start_time": "2023-03-24T11:40:15.638Z"
   },
   {
    "duration": 5,
    "start_time": "2023-03-24T11:40:15.649Z"
   },
   {
    "duration": 50,
    "start_time": "2023-03-24T11:40:15.656Z"
   },
   {
    "duration": 22,
    "start_time": "2023-03-24T11:40:15.710Z"
   },
   {
    "duration": 10,
    "start_time": "2023-03-24T11:40:15.734Z"
   },
   {
    "duration": 7,
    "start_time": "2023-03-24T11:40:15.746Z"
   },
   {
    "duration": 10,
    "start_time": "2023-03-24T11:40:15.755Z"
   },
   {
    "duration": 5,
    "start_time": "2023-03-24T11:40:15.767Z"
   },
   {
    "duration": 23,
    "start_time": "2023-03-24T11:40:15.774Z"
   },
   {
    "duration": 14,
    "start_time": "2023-03-24T11:40:15.799Z"
   },
   {
    "duration": 119,
    "start_time": "2023-03-24T11:40:15.814Z"
   },
   {
    "duration": 7,
    "start_time": "2023-03-24T11:40:15.936Z"
   },
   {
    "duration": 12,
    "start_time": "2023-03-24T11:40:15.945Z"
   },
   {
    "duration": 333,
    "start_time": "2023-03-24T11:40:15.959Z"
   },
   {
    "duration": 364,
    "start_time": "2023-03-24T11:40:16.295Z"
   },
   {
    "duration": 271,
    "start_time": "2023-03-24T11:40:16.661Z"
   },
   {
    "duration": 371,
    "start_time": "2023-03-24T11:40:16.934Z"
   },
   {
    "duration": 240,
    "start_time": "2023-03-24T11:40:17.307Z"
   },
   {
    "duration": 404,
    "start_time": "2023-03-24T11:40:17.549Z"
   },
   {
    "duration": 11,
    "start_time": "2023-03-24T11:40:17.955Z"
   },
   {
    "duration": 230,
    "start_time": "2023-03-24T11:40:17.968Z"
   },
   {
    "duration": 201,
    "start_time": "2023-03-24T11:40:18.203Z"
   },
   {
    "duration": 7,
    "start_time": "2023-03-24T11:40:18.406Z"
   },
   {
    "duration": 16,
    "start_time": "2023-03-24T11:40:18.415Z"
   },
   {
    "duration": 14,
    "start_time": "2023-03-24T11:40:18.433Z"
   },
   {
    "duration": 317,
    "start_time": "2023-03-24T11:40:18.449Z"
   },
   {
    "duration": 219,
    "start_time": "2023-03-24T11:40:18.769Z"
   },
   {
    "duration": 219,
    "start_time": "2023-03-24T11:40:18.990Z"
   },
   {
    "duration": 226,
    "start_time": "2023-03-24T11:40:19.213Z"
   },
   {
    "duration": 6,
    "start_time": "2023-03-24T11:40:19.441Z"
   },
   {
    "duration": 227,
    "start_time": "2023-03-24T11:40:19.449Z"
   },
   {
    "duration": 156,
    "start_time": "2023-03-24T11:40:19.677Z"
   },
   {
    "duration": 6,
    "start_time": "2023-03-24T11:40:19.835Z"
   },
   {
    "duration": 170,
    "start_time": "2023-03-24T11:40:19.843Z"
   },
   {
    "duration": 11,
    "start_time": "2023-03-24T11:40:20.015Z"
   },
   {
    "duration": 20,
    "start_time": "2023-03-24T11:40:20.028Z"
   },
   {
    "duration": 1708,
    "start_time": "2023-03-24T11:40:20.050Z"
   },
   {
    "duration": 0,
    "start_time": "2023-03-24T11:40:21.760Z"
   },
   {
    "duration": 0,
    "start_time": "2023-03-24T11:40:21.762Z"
   },
   {
    "duration": 10,
    "start_time": "2023-03-24T11:40:41.504Z"
   },
   {
    "duration": 1179,
    "start_time": "2023-03-24T11:40:48.598Z"
   },
   {
    "duration": 3,
    "start_time": "2023-03-24T11:40:49.780Z"
   },
   {
    "duration": 88,
    "start_time": "2023-03-24T11:40:49.785Z"
   },
   {
    "duration": 13,
    "start_time": "2023-03-24T11:40:49.876Z"
   },
   {
    "duration": 11,
    "start_time": "2023-03-24T11:40:49.891Z"
   },
   {
    "duration": 8,
    "start_time": "2023-03-24T11:40:49.905Z"
   },
   {
    "duration": 30,
    "start_time": "2023-03-24T11:40:49.915Z"
   },
   {
    "duration": 80,
    "start_time": "2023-03-24T11:40:49.947Z"
   },
   {
    "duration": 15,
    "start_time": "2023-03-24T11:40:50.029Z"
   },
   {
    "duration": 42,
    "start_time": "2023-03-24T11:40:50.047Z"
   },
   {
    "duration": 22,
    "start_time": "2023-03-24T11:40:50.091Z"
   },
   {
    "duration": 12,
    "start_time": "2023-03-24T11:40:50.115Z"
   },
   {
    "duration": 13,
    "start_time": "2023-03-24T11:40:50.129Z"
   },
   {
    "duration": 10,
    "start_time": "2023-03-24T11:40:50.143Z"
   },
   {
    "duration": 10,
    "start_time": "2023-03-24T11:40:50.155Z"
   },
   {
    "duration": 21,
    "start_time": "2023-03-24T11:40:50.167Z"
   },
   {
    "duration": 25,
    "start_time": "2023-03-24T11:40:50.190Z"
   },
   {
    "duration": 34,
    "start_time": "2023-03-24T11:40:50.216Z"
   },
   {
    "duration": 9,
    "start_time": "2023-03-24T11:40:50.252Z"
   },
   {
    "duration": 8,
    "start_time": "2023-03-24T11:40:50.263Z"
   },
   {
    "duration": 32,
    "start_time": "2023-03-24T11:40:50.272Z"
   },
   {
    "duration": 20,
    "start_time": "2023-03-24T11:40:50.306Z"
   },
   {
    "duration": 8,
    "start_time": "2023-03-24T11:40:50.328Z"
   },
   {
    "duration": 6,
    "start_time": "2023-03-24T11:40:50.338Z"
   },
   {
    "duration": 9,
    "start_time": "2023-03-24T11:40:50.346Z"
   },
   {
    "duration": 11,
    "start_time": "2023-03-24T11:40:50.357Z"
   },
   {
    "duration": 17,
    "start_time": "2023-03-24T11:40:50.370Z"
   },
   {
    "duration": 5,
    "start_time": "2023-03-24T11:40:50.404Z"
   },
   {
    "duration": 23,
    "start_time": "2023-03-24T11:40:50.411Z"
   },
   {
    "duration": 8,
    "start_time": "2023-03-24T11:40:50.436Z"
   },
   {
    "duration": 38,
    "start_time": "2023-03-24T11:40:50.446Z"
   },
   {
    "duration": 38,
    "start_time": "2023-03-24T11:40:50.485Z"
   },
   {
    "duration": 17,
    "start_time": "2023-03-24T11:40:50.525Z"
   },
   {
    "duration": 17,
    "start_time": "2023-03-24T11:40:50.544Z"
   },
   {
    "duration": 112,
    "start_time": "2023-03-24T11:40:50.563Z"
   },
   {
    "duration": 7,
    "start_time": "2023-03-24T11:40:50.676Z"
   },
   {
    "duration": 19,
    "start_time": "2023-03-24T11:40:50.685Z"
   },
   {
    "duration": 328,
    "start_time": "2023-03-24T11:40:50.706Z"
   },
   {
    "duration": 362,
    "start_time": "2023-03-24T11:40:51.036Z"
   },
   {
    "duration": 265,
    "start_time": "2023-03-24T11:40:51.400Z"
   },
   {
    "duration": 445,
    "start_time": "2023-03-24T11:40:51.668Z"
   },
   {
    "duration": 231,
    "start_time": "2023-03-24T11:40:52.115Z"
   },
   {
    "duration": 377,
    "start_time": "2023-03-24T11:40:52.347Z"
   },
   {
    "duration": 14,
    "start_time": "2023-03-24T11:40:52.726Z"
   },
   {
    "duration": 204,
    "start_time": "2023-03-24T11:40:52.743Z"
   },
   {
    "duration": 193,
    "start_time": "2023-03-24T11:40:52.949Z"
   },
   {
    "duration": 6,
    "start_time": "2023-03-24T11:40:53.144Z"
   },
   {
    "duration": 12,
    "start_time": "2023-03-24T11:40:53.152Z"
   },
   {
    "duration": 7,
    "start_time": "2023-03-24T11:40:53.165Z"
   },
   {
    "duration": 305,
    "start_time": "2023-03-24T11:40:53.173Z"
   },
   {
    "duration": 190,
    "start_time": "2023-03-24T11:40:53.480Z"
   },
   {
    "duration": 206,
    "start_time": "2023-03-24T11:40:53.672Z"
   },
   {
    "duration": 227,
    "start_time": "2023-03-24T11:40:53.880Z"
   },
   {
    "duration": 7,
    "start_time": "2023-03-24T11:40:54.109Z"
   },
   {
    "duration": 263,
    "start_time": "2023-03-24T11:40:54.117Z"
   },
   {
    "duration": 153,
    "start_time": "2023-03-24T11:40:54.382Z"
   },
   {
    "duration": 6,
    "start_time": "2023-03-24T11:40:54.537Z"
   },
   {
    "duration": 161,
    "start_time": "2023-03-24T11:40:54.545Z"
   },
   {
    "duration": 12,
    "start_time": "2023-03-24T11:40:54.708Z"
   },
   {
    "duration": 11,
    "start_time": "2023-03-24T11:40:54.722Z"
   },
   {
    "duration": 8,
    "start_time": "2023-03-24T11:40:54.735Z"
   },
   {
    "duration": 24,
    "start_time": "2023-03-24T11:40:54.744Z"
   },
   {
    "duration": 43,
    "start_time": "2023-03-24T11:40:54.770Z"
   },
   {
    "duration": 1193,
    "start_time": "2023-03-24T11:43:53.083Z"
   },
   {
    "duration": 4,
    "start_time": "2023-03-24T11:43:54.278Z"
   },
   {
    "duration": 80,
    "start_time": "2023-03-24T11:43:54.284Z"
   },
   {
    "duration": 13,
    "start_time": "2023-03-24T11:43:54.366Z"
   },
   {
    "duration": 8,
    "start_time": "2023-03-24T11:43:54.380Z"
   },
   {
    "duration": 9,
    "start_time": "2023-03-24T11:43:54.389Z"
   },
   {
    "duration": 26,
    "start_time": "2023-03-24T11:43:54.400Z"
   },
   {
    "duration": 52,
    "start_time": "2023-03-24T11:43:54.428Z"
   },
   {
    "duration": 32,
    "start_time": "2023-03-24T11:43:54.481Z"
   },
   {
    "duration": 21,
    "start_time": "2023-03-24T11:43:54.515Z"
   },
   {
    "duration": 29,
    "start_time": "2023-03-24T11:43:54.537Z"
   },
   {
    "duration": 6,
    "start_time": "2023-03-24T11:43:54.567Z"
   },
   {
    "duration": 29,
    "start_time": "2023-03-24T11:43:54.575Z"
   },
   {
    "duration": 5,
    "start_time": "2023-03-24T11:43:54.606Z"
   },
   {
    "duration": 17,
    "start_time": "2023-03-24T11:43:54.613Z"
   },
   {
    "duration": 15,
    "start_time": "2023-03-24T11:43:54.632Z"
   },
   {
    "duration": 20,
    "start_time": "2023-03-24T11:43:54.649Z"
   },
   {
    "duration": 42,
    "start_time": "2023-03-24T11:43:54.671Z"
   },
   {
    "duration": 12,
    "start_time": "2023-03-24T11:43:54.715Z"
   },
   {
    "duration": 9,
    "start_time": "2023-03-24T11:43:54.729Z"
   },
   {
    "duration": 8,
    "start_time": "2023-03-24T11:43:54.740Z"
   },
   {
    "duration": 7,
    "start_time": "2023-03-24T11:43:54.749Z"
   },
   {
    "duration": 6,
    "start_time": "2023-03-24T11:43:54.758Z"
   },
   {
    "duration": 5,
    "start_time": "2023-03-24T11:43:54.804Z"
   },
   {
    "duration": 11,
    "start_time": "2023-03-24T11:43:54.811Z"
   },
   {
    "duration": 4,
    "start_time": "2023-03-24T11:43:54.824Z"
   },
   {
    "duration": 9,
    "start_time": "2023-03-24T11:43:54.829Z"
   },
   {
    "duration": 12,
    "start_time": "2023-03-24T11:43:54.841Z"
   },
   {
    "duration": 16,
    "start_time": "2023-03-24T11:43:54.855Z"
   },
   {
    "duration": 31,
    "start_time": "2023-03-24T11:43:54.873Z"
   },
   {
    "duration": 13,
    "start_time": "2023-03-24T11:43:54.907Z"
   },
   {
    "duration": 8,
    "start_time": "2023-03-24T11:43:54.922Z"
   },
   {
    "duration": 13,
    "start_time": "2023-03-24T11:43:54.932Z"
   },
   {
    "duration": 14,
    "start_time": "2023-03-24T11:43:54.947Z"
   },
   {
    "duration": 174,
    "start_time": "2023-03-24T11:43:54.963Z"
   },
   {
    "duration": 7,
    "start_time": "2023-03-24T11:43:55.139Z"
   },
   {
    "duration": 9,
    "start_time": "2023-03-24T11:43:55.148Z"
   },
   {
    "duration": 326,
    "start_time": "2023-03-24T11:43:55.158Z"
   },
   {
    "duration": 352,
    "start_time": "2023-03-24T11:43:55.486Z"
   },
   {
    "duration": 273,
    "start_time": "2023-03-24T11:43:55.840Z"
   },
   {
    "duration": 375,
    "start_time": "2023-03-24T11:43:56.115Z"
   },
   {
    "duration": 243,
    "start_time": "2023-03-24T11:43:56.492Z"
   },
   {
    "duration": 375,
    "start_time": "2023-03-24T11:43:56.737Z"
   },
   {
    "duration": 16,
    "start_time": "2023-03-24T11:43:57.115Z"
   },
   {
    "duration": 201,
    "start_time": "2023-03-24T11:43:57.133Z"
   },
   {
    "duration": 201,
    "start_time": "2023-03-24T11:43:57.335Z"
   },
   {
    "duration": 6,
    "start_time": "2023-03-24T11:43:57.538Z"
   },
   {
    "duration": 5,
    "start_time": "2023-03-24T11:43:57.546Z"
   },
   {
    "duration": 16,
    "start_time": "2023-03-24T11:43:57.552Z"
   },
   {
    "duration": 299,
    "start_time": "2023-03-24T11:43:57.570Z"
   },
   {
    "duration": 191,
    "start_time": "2023-03-24T11:43:57.871Z"
   },
   {
    "duration": 193,
    "start_time": "2023-03-24T11:43:58.064Z"
   },
   {
    "duration": 216,
    "start_time": "2023-03-24T11:43:58.259Z"
   },
   {
    "duration": 9,
    "start_time": "2023-03-24T11:43:58.477Z"
   },
   {
    "duration": 254,
    "start_time": "2023-03-24T11:43:58.488Z"
   },
   {
    "duration": 145,
    "start_time": "2023-03-24T11:43:58.744Z"
   },
   {
    "duration": 16,
    "start_time": "2023-03-24T11:43:58.891Z"
   },
   {
    "duration": 159,
    "start_time": "2023-03-24T11:43:58.909Z"
   },
   {
    "duration": 11,
    "start_time": "2023-03-24T11:43:59.070Z"
   },
   {
    "duration": 28,
    "start_time": "2023-03-24T11:43:59.082Z"
   },
   {
    "duration": 10,
    "start_time": "2023-03-24T11:43:59.112Z"
   },
   {
    "duration": 22,
    "start_time": "2023-03-24T11:43:59.123Z"
   },
   {
    "duration": 16,
    "start_time": "2023-03-24T11:43:59.147Z"
   },
   {
    "duration": 1381,
    "start_time": "2023-03-25T07:18:46.365Z"
   },
   {
    "duration": 3,
    "start_time": "2023-03-25T07:18:47.749Z"
   },
   {
    "duration": 83,
    "start_time": "2023-03-25T07:18:47.757Z"
   },
   {
    "duration": 15,
    "start_time": "2023-03-25T07:18:47.842Z"
   },
   {
    "duration": 12,
    "start_time": "2023-03-25T07:18:47.859Z"
   },
   {
    "duration": 10,
    "start_time": "2023-03-25T07:18:47.873Z"
   },
   {
    "duration": 26,
    "start_time": "2023-03-25T07:18:47.885Z"
   },
   {
    "duration": 75,
    "start_time": "2023-03-25T07:18:47.913Z"
   },
   {
    "duration": 22,
    "start_time": "2023-03-25T07:18:48.002Z"
   },
   {
    "duration": 43,
    "start_time": "2023-03-25T07:18:48.025Z"
   },
   {
    "duration": 22,
    "start_time": "2023-03-25T07:18:48.071Z"
   },
   {
    "duration": 14,
    "start_time": "2023-03-25T07:18:48.095Z"
   },
   {
    "duration": 10,
    "start_time": "2023-03-25T07:18:48.112Z"
   },
   {
    "duration": 5,
    "start_time": "2023-03-25T07:18:48.124Z"
   },
   {
    "duration": 12,
    "start_time": "2023-03-25T07:18:48.131Z"
   },
   {
    "duration": 16,
    "start_time": "2023-03-25T07:18:48.146Z"
   },
   {
    "duration": 51,
    "start_time": "2023-03-25T07:18:48.164Z"
   },
   {
    "duration": 34,
    "start_time": "2023-03-25T07:18:48.217Z"
   },
   {
    "duration": 20,
    "start_time": "2023-03-25T07:18:48.254Z"
   },
   {
    "duration": 16,
    "start_time": "2023-03-25T07:18:48.276Z"
   },
   {
    "duration": 29,
    "start_time": "2023-03-25T07:18:48.294Z"
   },
   {
    "duration": 19,
    "start_time": "2023-03-25T07:18:48.325Z"
   },
   {
    "duration": 13,
    "start_time": "2023-03-25T07:18:48.349Z"
   },
   {
    "duration": 8,
    "start_time": "2023-03-25T07:18:48.364Z"
   },
   {
    "duration": 14,
    "start_time": "2023-03-25T07:18:48.374Z"
   },
   {
    "duration": 7,
    "start_time": "2023-03-25T07:18:48.389Z"
   },
   {
    "duration": 11,
    "start_time": "2023-03-25T07:18:48.400Z"
   },
   {
    "duration": 6,
    "start_time": "2023-03-25T07:18:48.413Z"
   },
   {
    "duration": 12,
    "start_time": "2023-03-25T07:18:48.421Z"
   },
   {
    "duration": 5,
    "start_time": "2023-03-25T07:18:48.435Z"
   },
   {
    "duration": 15,
    "start_time": "2023-03-25T07:18:48.442Z"
   },
   {
    "duration": 5,
    "start_time": "2023-03-25T07:18:48.460Z"
   },
   {
    "duration": 12,
    "start_time": "2023-03-25T07:18:48.502Z"
   },
   {
    "duration": 12,
    "start_time": "2023-03-25T07:18:48.515Z"
   },
   {
    "duration": 139,
    "start_time": "2023-03-25T07:18:48.529Z"
   },
   {
    "duration": 7,
    "start_time": "2023-03-25T07:18:48.670Z"
   },
   {
    "duration": 25,
    "start_time": "2023-03-25T07:18:48.679Z"
   },
   {
    "duration": 362,
    "start_time": "2023-03-25T07:18:48.707Z"
   },
   {
    "duration": 404,
    "start_time": "2023-03-25T07:18:49.071Z"
   },
   {
    "duration": 381,
    "start_time": "2023-03-25T07:18:49.477Z"
   },
   {
    "duration": 525,
    "start_time": "2023-03-25T07:18:49.860Z"
   },
   {
    "duration": 352,
    "start_time": "2023-03-25T07:18:50.387Z"
   },
   {
    "duration": 502,
    "start_time": "2023-03-25T07:18:50.742Z"
   },
   {
    "duration": 11,
    "start_time": "2023-03-25T07:18:51.247Z"
   },
   {
    "duration": 217,
    "start_time": "2023-03-25T07:18:51.259Z"
   },
   {
    "duration": 233,
    "start_time": "2023-03-25T07:18:51.478Z"
   },
   {
    "duration": 9,
    "start_time": "2023-03-25T07:18:51.714Z"
   },
   {
    "duration": 11,
    "start_time": "2023-03-25T07:18:51.725Z"
   },
   {
    "duration": 8,
    "start_time": "2023-03-25T07:18:51.738Z"
   },
   {
    "duration": 433,
    "start_time": "2023-03-25T07:18:51.751Z"
   },
   {
    "duration": 184,
    "start_time": "2023-03-25T07:18:52.186Z"
   },
   {
    "duration": 286,
    "start_time": "2023-03-25T07:18:52.372Z"
   },
   {
    "duration": 267,
    "start_time": "2023-03-25T07:18:52.660Z"
   },
   {
    "duration": 8,
    "start_time": "2023-03-25T07:18:52.929Z"
   },
   {
    "duration": 251,
    "start_time": "2023-03-25T07:18:52.939Z"
   },
   {
    "duration": 172,
    "start_time": "2023-03-25T07:18:53.192Z"
   },
   {
    "duration": 7,
    "start_time": "2023-03-25T07:18:53.366Z"
   },
   {
    "duration": 206,
    "start_time": "2023-03-25T07:18:53.379Z"
   },
   {
    "duration": 29,
    "start_time": "2023-03-25T07:18:53.587Z"
   },
   {
    "duration": 14,
    "start_time": "2023-03-25T07:18:53.618Z"
   },
   {
    "duration": 19,
    "start_time": "2023-03-25T07:18:53.634Z"
   },
   {
    "duration": 29,
    "start_time": "2023-03-25T07:18:53.655Z"
   },
   {
    "duration": 32,
    "start_time": "2023-03-25T07:18:53.687Z"
   },
   {
    "duration": 1594,
    "start_time": "2023-03-25T13:45:17.078Z"
   },
   {
    "duration": 5,
    "start_time": "2023-03-25T13:45:18.675Z"
   },
   {
    "duration": 248,
    "start_time": "2023-03-25T13:45:18.682Z"
   },
   {
    "duration": 14,
    "start_time": "2023-03-25T13:45:18.932Z"
   },
   {
    "duration": 8,
    "start_time": "2023-03-25T13:45:18.948Z"
   },
   {
    "duration": 11,
    "start_time": "2023-03-25T13:45:18.958Z"
   },
   {
    "duration": 35,
    "start_time": "2023-03-25T13:45:18.970Z"
   },
   {
    "duration": 68,
    "start_time": "2023-03-25T13:45:19.007Z"
   },
   {
    "duration": 26,
    "start_time": "2023-03-25T13:45:19.076Z"
   },
   {
    "duration": 35,
    "start_time": "2023-03-25T13:45:19.106Z"
   },
   {
    "duration": 25,
    "start_time": "2023-03-25T13:45:19.143Z"
   },
   {
    "duration": 17,
    "start_time": "2023-03-25T13:45:19.171Z"
   },
   {
    "duration": 24,
    "start_time": "2023-03-25T13:45:19.191Z"
   },
   {
    "duration": 9,
    "start_time": "2023-03-25T13:45:19.217Z"
   },
   {
    "duration": 7,
    "start_time": "2023-03-25T13:45:19.228Z"
   },
   {
    "duration": 13,
    "start_time": "2023-03-25T13:45:19.237Z"
   },
   {
    "duration": 36,
    "start_time": "2023-03-25T13:45:19.252Z"
   },
   {
    "duration": 37,
    "start_time": "2023-03-25T13:45:19.291Z"
   },
   {
    "duration": 12,
    "start_time": "2023-03-25T13:45:19.330Z"
   },
   {
    "duration": 8,
    "start_time": "2023-03-25T13:45:19.344Z"
   },
   {
    "duration": 12,
    "start_time": "2023-03-25T13:45:19.354Z"
   },
   {
    "duration": 35,
    "start_time": "2023-03-25T13:45:19.368Z"
   },
   {
    "duration": 17,
    "start_time": "2023-03-25T13:45:19.406Z"
   },
   {
    "duration": 10,
    "start_time": "2023-03-25T13:45:19.426Z"
   },
   {
    "duration": 11,
    "start_time": "2023-03-25T13:45:19.438Z"
   },
   {
    "duration": 7,
    "start_time": "2023-03-25T13:45:19.451Z"
   },
   {
    "duration": 29,
    "start_time": "2023-03-25T13:45:19.460Z"
   },
   {
    "duration": 12,
    "start_time": "2023-03-25T13:45:19.495Z"
   },
   {
    "duration": 14,
    "start_time": "2023-03-25T13:45:19.509Z"
   },
   {
    "duration": 8,
    "start_time": "2023-03-25T13:45:19.525Z"
   },
   {
    "duration": 16,
    "start_time": "2023-03-25T13:45:19.534Z"
   },
   {
    "duration": 7,
    "start_time": "2023-03-25T13:45:19.552Z"
   },
   {
    "duration": 38,
    "start_time": "2023-03-25T13:45:19.560Z"
   },
   {
    "duration": 25,
    "start_time": "2023-03-25T13:45:19.600Z"
   },
   {
    "duration": 137,
    "start_time": "2023-03-25T13:45:19.627Z"
   },
   {
    "duration": 7,
    "start_time": "2023-03-25T13:45:19.766Z"
   },
   {
    "duration": 16,
    "start_time": "2023-03-25T13:45:19.787Z"
   },
   {
    "duration": 343,
    "start_time": "2023-03-25T13:45:19.806Z"
   },
   {
    "duration": 444,
    "start_time": "2023-03-25T13:45:20.151Z"
   },
   {
    "duration": 362,
    "start_time": "2023-03-25T13:45:20.597Z"
   },
   {
    "duration": 476,
    "start_time": "2023-03-25T13:45:20.961Z"
   },
   {
    "duration": 286,
    "start_time": "2023-03-25T13:45:21.439Z"
   },
   {
    "duration": 409,
    "start_time": "2023-03-25T13:45:21.727Z"
   },
   {
    "duration": 14,
    "start_time": "2023-03-25T13:45:22.138Z"
   },
   {
    "duration": 246,
    "start_time": "2023-03-25T13:45:22.154Z"
   },
   {
    "duration": 258,
    "start_time": "2023-03-25T13:45:22.402Z"
   },
   {
    "duration": 8,
    "start_time": "2023-03-25T13:45:22.662Z"
   },
   {
    "duration": 17,
    "start_time": "2023-03-25T13:45:22.672Z"
   },
   {
    "duration": 22,
    "start_time": "2023-03-25T13:45:22.691Z"
   },
   {
    "duration": 336,
    "start_time": "2023-03-25T13:45:22.716Z"
   },
   {
    "duration": 238,
    "start_time": "2023-03-25T13:45:23.055Z"
   },
   {
    "duration": 240,
    "start_time": "2023-03-25T13:45:23.295Z"
   },
   {
    "duration": 250,
    "start_time": "2023-03-25T13:45:23.537Z"
   },
   {
    "duration": 11,
    "start_time": "2023-03-25T13:45:23.789Z"
   },
   {
    "duration": 304,
    "start_time": "2023-03-25T13:45:23.804Z"
   },
   {
    "duration": 163,
    "start_time": "2023-03-25T13:45:24.112Z"
   },
   {
    "duration": 8,
    "start_time": "2023-03-25T13:45:24.289Z"
   },
   {
    "duration": 197,
    "start_time": "2023-03-25T13:45:24.299Z"
   },
   {
    "duration": 15,
    "start_time": "2023-03-25T13:45:24.500Z"
   },
   {
    "duration": 12,
    "start_time": "2023-03-25T13:45:24.517Z"
   },
   {
    "duration": 17,
    "start_time": "2023-03-25T13:45:24.531Z"
   },
   {
    "duration": 64,
    "start_time": "2023-03-25T13:45:24.550Z"
   },
   {
    "duration": 19,
    "start_time": "2023-03-25T13:45:24.617Z"
   },
   {
    "duration": 131,
    "start_time": "2023-03-25T13:50:05.087Z"
   },
   {
    "duration": 29,
    "start_time": "2023-03-25T13:50:35.982Z"
   },
   {
    "duration": 20,
    "start_time": "2023-03-25T13:51:07.214Z"
   },
   {
    "duration": 12,
    "start_time": "2023-03-25T13:51:17.400Z"
   },
   {
    "duration": 23,
    "start_time": "2023-03-25T13:51:20.515Z"
   },
   {
    "duration": 20,
    "start_time": "2023-03-25T13:51:34.420Z"
   },
   {
    "duration": 102,
    "start_time": "2023-03-25T13:51:55.209Z"
   },
   {
    "duration": 73,
    "start_time": "2023-03-25T13:52:06.595Z"
   },
   {
    "duration": 19,
    "start_time": "2023-03-25T13:52:45.306Z"
   },
   {
    "duration": 106,
    "start_time": "2023-03-25T13:53:37.241Z"
   },
   {
    "duration": 21,
    "start_time": "2023-03-25T13:53:43.033Z"
   },
   {
    "duration": 88,
    "start_time": "2023-03-25T13:54:17.432Z"
   },
   {
    "duration": 71,
    "start_time": "2023-03-25T13:54:33.280Z"
   },
   {
    "duration": 163,
    "start_time": "2023-03-25T13:54:40.612Z"
   },
   {
    "duration": 12,
    "start_time": "2023-03-25T13:54:49.852Z"
   },
   {
    "duration": 82,
    "start_time": "2023-03-25T13:55:27.328Z"
   },
   {
    "duration": 78,
    "start_time": "2023-03-25T13:55:36.661Z"
   },
   {
    "duration": 16,
    "start_time": "2023-03-25T13:55:46.884Z"
   },
   {
    "duration": 25,
    "start_time": "2023-03-25T13:56:13.103Z"
   },
   {
    "duration": 23,
    "start_time": "2023-03-25T13:56:25.719Z"
   },
   {
    "duration": 28,
    "start_time": "2023-03-25T13:57:33.883Z"
   },
   {
    "duration": 25,
    "start_time": "2023-03-25T13:57:51.716Z"
   },
   {
    "duration": 21,
    "start_time": "2023-03-25T14:00:15.114Z"
   },
   {
    "duration": 26,
    "start_time": "2023-03-25T14:00:18.691Z"
   },
   {
    "duration": 24,
    "start_time": "2023-03-25T14:00:27.597Z"
   },
   {
    "duration": 25,
    "start_time": "2023-03-25T14:00:47.383Z"
   },
   {
    "duration": 19,
    "start_time": "2023-03-25T14:01:09.961Z"
   },
   {
    "duration": 12,
    "start_time": "2023-03-25T14:04:13.456Z"
   },
   {
    "duration": 6,
    "start_time": "2023-03-25T14:05:08.454Z"
   },
   {
    "duration": 6,
    "start_time": "2023-03-25T14:06:08.763Z"
   },
   {
    "duration": 7,
    "start_time": "2023-03-25T14:06:16.706Z"
   },
   {
    "duration": 6,
    "start_time": "2023-03-25T14:06:23.732Z"
   },
   {
    "duration": 20,
    "start_time": "2023-03-25T14:08:47.648Z"
   },
   {
    "duration": 15,
    "start_time": "2023-03-25T14:08:58.673Z"
   },
   {
    "duration": 16,
    "start_time": "2023-03-25T14:09:18.637Z"
   },
   {
    "duration": 15,
    "start_time": "2023-03-25T14:09:24.246Z"
   },
   {
    "duration": 13,
    "start_time": "2023-03-25T14:09:28.865Z"
   },
   {
    "duration": 18,
    "start_time": "2023-03-25T14:09:37.185Z"
   },
   {
    "duration": 17,
    "start_time": "2023-03-25T14:09:44.105Z"
   },
   {
    "duration": 17,
    "start_time": "2023-03-25T14:10:59.253Z"
   },
   {
    "duration": 24,
    "start_time": "2023-03-25T14:11:07.971Z"
   },
   {
    "duration": 20,
    "start_time": "2023-03-25T14:11:09.941Z"
   },
   {
    "duration": 17,
    "start_time": "2023-03-25T14:11:13.724Z"
   },
   {
    "duration": 25,
    "start_time": "2023-03-25T14:11:21.002Z"
   },
   {
    "duration": 38,
    "start_time": "2023-03-25T14:11:28.506Z"
   },
   {
    "duration": 15,
    "start_time": "2023-03-25T14:11:32.965Z"
   },
   {
    "duration": 14,
    "start_time": "2023-03-25T14:11:38.668Z"
   },
   {
    "duration": 18,
    "start_time": "2023-03-25T14:12:27.933Z"
   },
   {
    "duration": 1400,
    "start_time": "2023-03-25T14:17:17.966Z"
   },
   {
    "duration": 3,
    "start_time": "2023-03-25T14:17:19.369Z"
   },
   {
    "duration": 90,
    "start_time": "2023-03-25T14:17:19.375Z"
   },
   {
    "duration": 14,
    "start_time": "2023-03-25T14:17:19.467Z"
   },
   {
    "duration": 14,
    "start_time": "2023-03-25T14:17:19.483Z"
   },
   {
    "duration": 31,
    "start_time": "2023-03-25T14:17:19.499Z"
   },
   {
    "duration": 34,
    "start_time": "2023-03-25T14:17:19.533Z"
   },
   {
    "duration": 73,
    "start_time": "2023-03-25T14:17:19.570Z"
   },
   {
    "duration": 19,
    "start_time": "2023-03-25T14:17:19.645Z"
   },
   {
    "duration": 47,
    "start_time": "2023-03-25T14:17:19.667Z"
   },
   {
    "duration": 33,
    "start_time": "2023-03-25T14:17:19.716Z"
   },
   {
    "duration": 10,
    "start_time": "2023-03-25T14:17:19.752Z"
   },
   {
    "duration": 12,
    "start_time": "2023-03-25T14:17:19.764Z"
   },
   {
    "duration": 10,
    "start_time": "2023-03-25T14:17:19.778Z"
   },
   {
    "duration": 26,
    "start_time": "2023-03-25T14:17:19.791Z"
   },
   {
    "duration": 18,
    "start_time": "2023-03-25T14:17:19.820Z"
   },
   {
    "duration": 19,
    "start_time": "2023-03-25T14:17:19.840Z"
   },
   {
    "duration": 23,
    "start_time": "2023-03-25T14:17:19.861Z"
   },
   {
    "duration": 16,
    "start_time": "2023-03-25T14:17:19.887Z"
   },
   {
    "duration": 13,
    "start_time": "2023-03-25T14:17:19.907Z"
   },
   {
    "duration": 13,
    "start_time": "2023-03-25T14:17:19.922Z"
   },
   {
    "duration": 9,
    "start_time": "2023-03-25T14:17:19.937Z"
   },
   {
    "duration": 10,
    "start_time": "2023-03-25T14:17:19.948Z"
   },
   {
    "duration": 30,
    "start_time": "2023-03-25T14:17:19.960Z"
   },
   {
    "duration": 14,
    "start_time": "2023-03-25T14:17:19.992Z"
   },
   {
    "duration": 16,
    "start_time": "2023-03-25T14:17:20.008Z"
   },
   {
    "duration": 13,
    "start_time": "2023-03-25T14:17:20.026Z"
   },
   {
    "duration": 10,
    "start_time": "2023-03-25T14:17:20.045Z"
   },
   {
    "duration": 38,
    "start_time": "2023-03-25T14:17:20.057Z"
   },
   {
    "duration": 27,
    "start_time": "2023-03-25T14:17:20.098Z"
   },
   {
    "duration": 23,
    "start_time": "2023-03-25T14:17:20.127Z"
   },
   {
    "duration": 6,
    "start_time": "2023-03-25T14:17:20.152Z"
   },
   {
    "duration": 17,
    "start_time": "2023-03-25T14:17:20.160Z"
   },
   {
    "duration": 24,
    "start_time": "2023-03-25T14:17:20.179Z"
   },
   {
    "duration": 183,
    "start_time": "2023-03-25T14:17:20.205Z"
   },
   {
    "duration": 13,
    "start_time": "2023-03-25T14:17:20.391Z"
   },
   {
    "duration": 41,
    "start_time": "2023-03-25T14:17:20.406Z"
   },
   {
    "duration": 431,
    "start_time": "2023-03-25T14:17:20.452Z"
   },
   {
    "duration": 426,
    "start_time": "2023-03-25T14:17:20.886Z"
   },
   {
    "duration": 290,
    "start_time": "2023-03-25T14:17:21.314Z"
   },
   {
    "duration": 414,
    "start_time": "2023-03-25T14:17:21.606Z"
   },
   {
    "duration": 275,
    "start_time": "2023-03-25T14:17:22.022Z"
   },
   {
    "duration": 433,
    "start_time": "2023-03-25T14:17:22.301Z"
   },
   {
    "duration": 13,
    "start_time": "2023-03-25T14:17:22.736Z"
   },
   {
    "duration": 224,
    "start_time": "2023-03-25T14:17:22.751Z"
   },
   {
    "duration": 273,
    "start_time": "2023-03-25T14:17:22.976Z"
   },
   {
    "duration": 8,
    "start_time": "2023-03-25T14:17:23.250Z"
   },
   {
    "duration": 38,
    "start_time": "2023-03-25T14:17:23.261Z"
   },
   {
    "duration": 40,
    "start_time": "2023-03-25T14:17:23.301Z"
   },
   {
    "duration": 340,
    "start_time": "2023-03-25T14:17:23.344Z"
   },
   {
    "duration": 242,
    "start_time": "2023-03-25T14:17:23.689Z"
   },
   {
    "duration": 246,
    "start_time": "2023-03-25T14:17:23.932Z"
   },
   {
    "duration": 256,
    "start_time": "2023-03-25T14:17:24.179Z"
   },
   {
    "duration": 9,
    "start_time": "2023-03-25T14:17:24.436Z"
   },
   {
    "duration": 321,
    "start_time": "2023-03-25T14:17:24.447Z"
   },
   {
    "duration": 194,
    "start_time": "2023-03-25T14:17:24.771Z"
   },
   {
    "duration": 6,
    "start_time": "2023-03-25T14:17:24.967Z"
   },
   {
    "duration": 248,
    "start_time": "2023-03-25T14:17:24.974Z"
   },
   {
    "duration": 17,
    "start_time": "2023-03-25T14:17:25.224Z"
   },
   {
    "duration": 64,
    "start_time": "2023-03-25T14:17:25.243Z"
   },
   {
    "duration": 104,
    "start_time": "2023-03-25T14:17:25.309Z"
   },
   {
    "duration": 69,
    "start_time": "2023-03-25T14:17:25.418Z"
   },
   {
    "duration": 161,
    "start_time": "2023-03-25T14:17:25.491Z"
   },
   {
    "duration": 1301,
    "start_time": "2023-03-25T14:56:04.358Z"
   },
   {
    "duration": 3,
    "start_time": "2023-03-25T14:56:05.661Z"
   },
   {
    "duration": 111,
    "start_time": "2023-03-25T14:56:05.666Z"
   },
   {
    "duration": 15,
    "start_time": "2023-03-25T14:56:05.780Z"
   },
   {
    "duration": 20,
    "start_time": "2023-03-25T14:56:05.797Z"
   },
   {
    "duration": 22,
    "start_time": "2023-03-25T14:56:05.820Z"
   },
   {
    "duration": 40,
    "start_time": "2023-03-25T14:56:05.843Z"
   },
   {
    "duration": 79,
    "start_time": "2023-03-25T14:56:05.885Z"
   },
   {
    "duration": 28,
    "start_time": "2023-03-25T14:56:05.965Z"
   },
   {
    "duration": 28,
    "start_time": "2023-03-25T14:56:05.999Z"
   },
   {
    "duration": 17,
    "start_time": "2023-03-25T14:56:06.030Z"
   },
   {
    "duration": 34,
    "start_time": "2023-03-25T14:56:06.049Z"
   },
   {
    "duration": 45,
    "start_time": "2023-03-25T14:56:06.085Z"
   },
   {
    "duration": 9,
    "start_time": "2023-03-25T14:56:06.132Z"
   },
   {
    "duration": 22,
    "start_time": "2023-03-25T14:56:06.143Z"
   },
   {
    "duration": 49,
    "start_time": "2023-03-25T14:56:06.168Z"
   },
   {
    "duration": 47,
    "start_time": "2023-03-25T14:56:06.219Z"
   },
   {
    "duration": 42,
    "start_time": "2023-03-25T14:56:06.269Z"
   },
   {
    "duration": 25,
    "start_time": "2023-03-25T14:56:06.313Z"
   },
   {
    "duration": 10,
    "start_time": "2023-03-25T14:56:06.340Z"
   },
   {
    "duration": 26,
    "start_time": "2023-03-25T14:56:06.352Z"
   },
   {
    "duration": 36,
    "start_time": "2023-03-25T14:56:06.380Z"
   },
   {
    "duration": 25,
    "start_time": "2023-03-25T14:56:06.418Z"
   },
   {
    "duration": 28,
    "start_time": "2023-03-25T14:56:06.445Z"
   },
   {
    "duration": 44,
    "start_time": "2023-03-25T14:56:06.475Z"
   },
   {
    "duration": 29,
    "start_time": "2023-03-25T14:56:06.521Z"
   },
   {
    "duration": 36,
    "start_time": "2023-03-25T14:56:06.553Z"
   },
   {
    "duration": 16,
    "start_time": "2023-03-25T14:56:06.601Z"
   },
   {
    "duration": 55,
    "start_time": "2023-03-25T14:56:06.619Z"
   },
   {
    "duration": 86,
    "start_time": "2023-03-25T14:56:06.676Z"
   },
   {
    "duration": 34,
    "start_time": "2023-03-25T14:56:06.764Z"
   },
   {
    "duration": 84,
    "start_time": "2023-03-25T14:56:06.800Z"
   },
   {
    "duration": 38,
    "start_time": "2023-03-25T14:56:06.886Z"
   },
   {
    "duration": 24,
    "start_time": "2023-03-25T14:56:06.926Z"
   },
   {
    "duration": 126,
    "start_time": "2023-03-25T14:56:06.952Z"
   },
   {
    "duration": 11,
    "start_time": "2023-03-25T14:56:07.080Z"
   },
   {
    "duration": 36,
    "start_time": "2023-03-25T14:56:07.092Z"
   },
   {
    "duration": 374,
    "start_time": "2023-03-25T14:56:07.130Z"
   },
   {
    "duration": 413,
    "start_time": "2023-03-25T14:56:07.507Z"
   },
   {
    "duration": 305,
    "start_time": "2023-03-25T14:56:07.922Z"
   },
   {
    "duration": 395,
    "start_time": "2023-03-25T14:56:08.229Z"
   },
   {
    "duration": 301,
    "start_time": "2023-03-25T14:56:08.626Z"
   },
   {
    "duration": 432,
    "start_time": "2023-03-25T14:56:08.930Z"
   },
   {
    "duration": 26,
    "start_time": "2023-03-25T14:56:09.364Z"
   },
   {
    "duration": 261,
    "start_time": "2023-03-25T14:56:09.392Z"
   },
   {
    "duration": 222,
    "start_time": "2023-03-25T14:56:09.655Z"
   },
   {
    "duration": 9,
    "start_time": "2023-03-25T14:56:09.888Z"
   },
   {
    "duration": 31,
    "start_time": "2023-03-25T14:56:09.899Z"
   },
   {
    "duration": 25,
    "start_time": "2023-03-25T14:56:09.932Z"
   },
   {
    "duration": 325,
    "start_time": "2023-03-25T14:56:09.959Z"
   },
   {
    "duration": 263,
    "start_time": "2023-03-25T14:56:10.289Z"
   },
   {
    "duration": 286,
    "start_time": "2023-03-25T14:56:10.555Z"
   },
   {
    "duration": 240,
    "start_time": "2023-03-25T14:56:10.843Z"
   },
   {
    "duration": 12,
    "start_time": "2023-03-25T14:56:11.086Z"
   },
   {
    "duration": 335,
    "start_time": "2023-03-25T14:56:11.101Z"
   },
   {
    "duration": 225,
    "start_time": "2023-03-25T14:56:11.439Z"
   },
   {
    "duration": 9,
    "start_time": "2023-03-25T14:56:11.667Z"
   },
   {
    "duration": 264,
    "start_time": "2023-03-25T14:56:11.692Z"
   },
   {
    "duration": 16,
    "start_time": "2023-03-25T14:56:11.957Z"
   },
   {
    "duration": 19,
    "start_time": "2023-03-25T14:56:11.987Z"
   },
   {
    "duration": 27,
    "start_time": "2023-03-25T14:56:12.010Z"
   },
   {
    "duration": 38,
    "start_time": "2023-03-25T14:56:12.040Z"
   },
   {
    "duration": 30,
    "start_time": "2023-03-25T14:56:12.081Z"
   },
   {
    "duration": 9,
    "start_time": "2023-03-25T14:56:53.408Z"
   },
   {
    "duration": 14,
    "start_time": "2023-03-25T14:56:58.688Z"
   },
   {
    "duration": 9,
    "start_time": "2023-03-25T14:57:11.754Z"
   },
   {
    "duration": 13,
    "start_time": "2023-03-25T14:57:16.354Z"
   },
   {
    "duration": 10,
    "start_time": "2023-03-25T14:57:24.725Z"
   },
   {
    "duration": 1314,
    "start_time": "2023-03-25T15:01:11.936Z"
   },
   {
    "duration": 4,
    "start_time": "2023-03-25T15:01:13.253Z"
   },
   {
    "duration": 102,
    "start_time": "2023-03-25T15:01:13.259Z"
   },
   {
    "duration": 14,
    "start_time": "2023-03-25T15:01:13.364Z"
   },
   {
    "duration": 45,
    "start_time": "2023-03-25T15:01:13.380Z"
   },
   {
    "duration": 18,
    "start_time": "2023-03-25T15:01:13.427Z"
   },
   {
    "duration": 43,
    "start_time": "2023-03-25T15:01:13.447Z"
   },
   {
    "duration": 67,
    "start_time": "2023-03-25T15:01:13.492Z"
   },
   {
    "duration": 14,
    "start_time": "2023-03-25T15:01:13.562Z"
   },
   {
    "duration": 61,
    "start_time": "2023-03-25T15:01:13.579Z"
   },
   {
    "duration": 17,
    "start_time": "2023-03-25T15:01:13.642Z"
   },
   {
    "duration": 9,
    "start_time": "2023-03-25T15:01:13.661Z"
   },
   {
    "duration": 11,
    "start_time": "2023-03-25T15:01:13.672Z"
   },
   {
    "duration": 44,
    "start_time": "2023-03-25T15:01:13.694Z"
   },
   {
    "duration": 22,
    "start_time": "2023-03-25T15:01:13.740Z"
   },
   {
    "duration": 20,
    "start_time": "2023-03-25T15:01:13.764Z"
   },
   {
    "duration": 22,
    "start_time": "2023-03-25T15:01:13.786Z"
   },
   {
    "duration": 23,
    "start_time": "2023-03-25T15:01:13.810Z"
   },
   {
    "duration": 11,
    "start_time": "2023-03-25T15:01:13.835Z"
   },
   {
    "duration": 10,
    "start_time": "2023-03-25T15:01:13.848Z"
   },
   {
    "duration": 15,
    "start_time": "2023-03-25T15:01:13.889Z"
   },
   {
    "duration": 14,
    "start_time": "2023-03-25T15:01:13.910Z"
   },
   {
    "duration": 7,
    "start_time": "2023-03-25T15:01:13.926Z"
   },
   {
    "duration": 6,
    "start_time": "2023-03-25T15:01:13.935Z"
   },
   {
    "duration": 14,
    "start_time": "2023-03-25T15:01:13.943Z"
   },
   {
    "duration": 39,
    "start_time": "2023-03-25T15:01:13.959Z"
   },
   {
    "duration": 13,
    "start_time": "2023-03-25T15:01:14.002Z"
   },
   {
    "duration": 6,
    "start_time": "2023-03-25T15:01:14.019Z"
   },
   {
    "duration": 11,
    "start_time": "2023-03-25T15:01:14.027Z"
   },
   {
    "duration": 10,
    "start_time": "2023-03-25T15:01:14.040Z"
   },
   {
    "duration": 37,
    "start_time": "2023-03-25T15:01:14.052Z"
   },
   {
    "duration": 18,
    "start_time": "2023-03-25T15:01:14.091Z"
   },
   {
    "duration": 15,
    "start_time": "2023-03-25T15:01:14.112Z"
   },
   {
    "duration": 15,
    "start_time": "2023-03-25T15:01:14.129Z"
   },
   {
    "duration": 158,
    "start_time": "2023-03-25T15:01:14.147Z"
   },
   {
    "duration": 8,
    "start_time": "2023-03-25T15:01:14.308Z"
   },
   {
    "duration": 15,
    "start_time": "2023-03-25T15:01:14.318Z"
   },
   {
    "duration": 396,
    "start_time": "2023-03-25T15:01:14.335Z"
   },
   {
    "duration": 435,
    "start_time": "2023-03-25T15:01:14.733Z"
   },
   {
    "duration": 303,
    "start_time": "2023-03-25T15:01:15.170Z"
   },
   {
    "duration": 463,
    "start_time": "2023-03-25T15:01:15.475Z"
   },
   {
    "duration": 352,
    "start_time": "2023-03-25T15:01:15.940Z"
   },
   {
    "duration": 438,
    "start_time": "2023-03-25T15:01:16.294Z"
   },
   {
    "duration": 18,
    "start_time": "2023-03-25T15:01:16.734Z"
   },
   {
    "duration": 239,
    "start_time": "2023-03-25T15:01:16.755Z"
   },
   {
    "duration": 209,
    "start_time": "2023-03-25T15:01:16.996Z"
   },
   {
    "duration": 8,
    "start_time": "2023-03-25T15:01:17.207Z"
   },
   {
    "duration": 16,
    "start_time": "2023-03-25T15:01:17.217Z"
   },
   {
    "duration": 12,
    "start_time": "2023-03-25T15:01:17.235Z"
   },
   {
    "duration": 512,
    "start_time": "2023-03-25T15:01:17.250Z"
   },
   {
    "duration": 311,
    "start_time": "2023-03-25T15:01:17.765Z"
   },
   {
    "duration": 298,
    "start_time": "2023-03-25T15:01:18.079Z"
   },
   {
    "duration": 304,
    "start_time": "2023-03-25T15:01:18.379Z"
   },
   {
    "duration": 16,
    "start_time": "2023-03-25T15:01:18.685Z"
   },
   {
    "duration": 370,
    "start_time": "2023-03-25T15:01:18.703Z"
   },
   {
    "duration": 206,
    "start_time": "2023-03-25T15:01:19.075Z"
   },
   {
    "duration": 9,
    "start_time": "2023-03-25T15:01:19.283Z"
   },
   {
    "duration": 256,
    "start_time": "2023-03-25T15:01:19.295Z"
   },
   {
    "duration": 17,
    "start_time": "2023-03-25T15:01:19.553Z"
   },
   {
    "duration": 38,
    "start_time": "2023-03-25T15:01:19.573Z"
   },
   {
    "duration": 27,
    "start_time": "2023-03-25T15:01:19.614Z"
   },
   {
    "duration": 34,
    "start_time": "2023-03-25T15:01:19.644Z"
   },
   {
    "duration": 26,
    "start_time": "2023-03-25T15:01:19.681Z"
   }
  ],
  "kernelspec": {
   "display_name": "Python 3 (ipykernel)",
   "language": "python",
   "name": "python3"
  },
  "language_info": {
   "codemirror_mode": {
    "name": "ipython",
    "version": 3
   },
   "file_extension": ".py",
   "mimetype": "text/x-python",
   "name": "python",
   "nbconvert_exporter": "python",
   "pygments_lexer": "ipython3",
   "version": "3.9.5"
  },
  "toc": {
   "base_numbering": 1,
   "nav_menu": {},
   "number_sections": true,
   "sideBar": true,
   "skip_h1_title": true,
   "title_cell": "Table of Contents",
   "title_sidebar": "Contents",
   "toc_cell": false,
   "toc_position": {},
   "toc_section_display": true,
   "toc_window_display": false
  }
 },
 "nbformat": 4,
 "nbformat_minor": 2
}
