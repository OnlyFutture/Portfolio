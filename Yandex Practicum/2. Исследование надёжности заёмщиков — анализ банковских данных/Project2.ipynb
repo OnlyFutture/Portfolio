
   "source": [
    "# Исследование надежности заемщиков\n"
   ]
  },
  {
   "cell_type": "markdown",
   "id": "3fdbb41e",
   "metadata": {
    "deletable": false,
    "editable": false,
    "id": "827c20bf"
   },
   "source": [
    "Во второй части проекта вы выполните шаги 3 и 4. Их вручную проверит ревьюер.\n",
    "Чтобы вам не пришлось писать код заново для шагов 1 и 2, мы добавили авторские решения в ячейки с кодом. \n",
    "\n"
   ]
  },
  {
   "cell_type": "markdown",
   "id": "608a9d69",
   "metadata": {
    "deletable": false,
    "editable": false,
    "id": "744d7639"
   },
   "source": [
    "## Откройте таблицу и изучите общую информацию о данных"
   ]
  },
  {
   "cell_type": "markdown",
   "id": "df6f5e2a",
   "metadata": {
    "deletable": false,
    "editable": false,
    "id": "e7a14c31"
   },
   "source": [
    "**Задание 1. Импортируйте библиотеку pandas. Считайте данные из csv-файла в датафрейм и сохраните в переменную `data`. Путь к файлу:**\n",
    "\n",
    "`/datasets/data.csv`"
   ]
  },
  {
   "cell_type": "code",
   "execution_count": 6,
   "id": "4bfbff7c",
   "metadata": {
    "deletable": false,
    "id": "7bcf75c9"
   },
   "outputs": [],
   "source": [
    "import pandas as pd\n",
    "\n",
    "import numpy as np #Для округления чисел с плавающей точкой\n",
    "\n",
    "import matplotlib.pyplot as plt \n",
    "\n",
    "import seaborn as sns\n",
    "\n",
    "\n",
    "try:\n",
    "    data = pd.read_csv('/datasets/data.csv')\n",
    "except:\n",
    "    data = pd.read_csv('https://code.s3.yandex.net/datasets/data.csv')"
   ]
  },
  {
   "cell_type": "markdown",
   "id": "6a040440",
   "metadata": {
    "deletable": false,
    "editable": false,
    "id": "b8038fe3"
   },
   "source": [
    "**Задание 2. Выведите первые 20 строчек датафрейма `data` на экран.**"
   ]
  },
  {
   "cell_type": "code",
   "execution_count": 7,
   "id": "7e5172b1",
   "metadata": {
    "deletable": false,
    "id": "2a7cab99",
    "outputId": "1a8f3ef2-d323-4ec2-ddf7-89670b5944c4"
   },
   "outputs": [
    {
     "data": {
      "text/html": [
       "<div>\n",
       "<style scoped>\n",
       "    .dataframe tbody tr th:only-of-type {\n",
       "        vertical-align: middle;\n",
       "    }\n",
       "\n",
       "    .dataframe tbody tr th {\n",
       "        vertical-align: top;\n",
       "    }\n",
       "\n",
       "    .dataframe thead th {\n",
       "        text-align: right;\n",
       "    }\n",
       "</style>\n",
       "<table border=\"1\" class=\"dataframe\">\n",
       "  <thead>\n",
       "    <tr style=\"text-align: right;\">\n",
       "      <th></th>\n",
       "      <th>children</th>\n",
       "      <th>days_employed</th>\n",
       "      <th>dob_years</th>\n",
       "      <th>education</th>\n",
       "      <th>education_id</th>\n",
       "      <th>family_status</th>\n",
       "      <th>family_status_id</th>\n",
       "      <th>gender</th>\n",
       "      <th>income_type</th>\n",
       "      <th>debt</th>\n",
       "      <th>total_income</th>\n",
       "      <th>purpose</th>\n",
       "    </tr>\n",
       "  </thead>\n",
       "  <tbody>\n",
       "    <tr>\n",
       "      <th>0</th>\n",
       "      <td>1</td>\n",
       "      <td>-8437.673028</td>\n",
       "      <td>42</td>\n",
       "      <td>высшее</td>\n",
       "      <td>0</td>\n",
       "      <td>женат / замужем</td>\n",
       "      <td>0</td>\n",
       "      <td>F</td>\n",
       "      <td>сотрудник</td>\n",
       "      <td>0</td>\n",
       "      <td>253875.639453</td>\n",
       "      <td>покупка жилья</td>\n",
       "    </tr>\n",
       "    <tr>\n",
       "      <th>1</th>\n",
       "      <td>1</td>\n",
       "      <td>-4024.803754</td>\n",
       "      <td>36</td>\n",
       "      <td>среднее</td>\n",
       "      <td>1</td>\n",
       "      <td>женат / замужем</td>\n",
       "      <td>0</td>\n",
       "      <td>F</td>\n",
       "      <td>сотрудник</td>\n",
       "      <td>0</td>\n",
       "      <td>112080.014102</td>\n",
       "      <td>приобретение автомобиля</td>\n",
       "    </tr>\n",
       "    <tr>\n",
       "      <th>2</th>\n",
       "      <td>0</td>\n",
       "      <td>-5623.422610</td>\n",
       "      <td>33</td>\n",
       "      <td>Среднее</td>\n",
       "      <td>1</td>\n",
       "      <td>женат / замужем</td>\n",
       "      <td>0</td>\n",
       "      <td>M</td>\n",
       "      <td>сотрудник</td>\n",
       "      <td>0</td>\n",
       "      <td>145885.952297</td>\n",
       "      <td>покупка жилья</td>\n",
       "    </tr>\n",
       "    <tr>\n",
       "      <th>3</th>\n",
       "      <td>3</td>\n",
       "      <td>-4124.747207</td>\n",
       "      <td>32</td>\n",
       "      <td>среднее</td>\n",
       "      <td>1</td>\n",
       "      <td>женат / замужем</td>\n",
       "      <td>0</td>\n",
       "      <td>M</td>\n",
       "      <td>сотрудник</td>\n",
       "      <td>0</td>\n",
       "      <td>267628.550329</td>\n",
       "      <td>дополнительное образование</td>\n",
       "    </tr>\n",
       "    <tr>\n",
       "      <th>4</th>\n",
       "      <td>0</td>\n",
       "      <td>340266.072047</td>\n",
       "      <td>53</td>\n",
       "      <td>среднее</td>\n",
       "      <td>1</td>\n",
       "      <td>гражданский брак</td>\n",
       "      <td>1</td>\n",
       "      <td>F</td>\n",
       "      <td>пенсионер</td>\n",
       "      <td>0</td>\n",
       "      <td>158616.077870</td>\n",
       "      <td>сыграть свадьбу</td>\n",
       "    </tr>\n",
       "    <tr>\n",
       "      <th>5</th>\n",
       "      <td>0</td>\n",
       "      <td>-926.185831</td>\n",
       "      <td>27</td>\n",
       "      <td>высшее</td>\n",
       "      <td>0</td>\n",
       "      <td>гражданский брак</td>\n",
       "      <td>1</td>\n",
       "      <td>M</td>\n",
       "      <td>компаньон</td>\n",
       "      <td>0</td>\n",
       "      <td>255763.565419</td>\n",
       "      <td>покупка жилья</td>\n",
       "    </tr>\n",
       "    <tr>\n",
       "      <th>6</th>\n",
       "      <td>0</td>\n",
       "      <td>-2879.202052</td>\n",
       "      <td>43</td>\n",
       "      <td>высшее</td>\n",
       "      <td>0</td>\n",
       "      <td>женат / замужем</td>\n",
       "      <td>0</td>\n",
       "      <td>F</td>\n",
       "      <td>компаньон</td>\n",
       "      <td>0</td>\n",
       "      <td>240525.971920</td>\n",
       "      <td>операции с жильем</td>\n",
       "    </tr>\n",
       "    <tr>\n",
       "      <th>7</th>\n",
       "      <td>0</td>\n",
       "      <td>-152.779569</td>\n",
       "      <td>50</td>\n",
       "      <td>СРЕДНЕЕ</td>\n",
       "      <td>1</td>\n",
       "      <td>женат / замужем</td>\n",
       "      <td>0</td>\n",
       "      <td>M</td>\n",
       "      <td>сотрудник</td>\n",
       "      <td>0</td>\n",
       "      <td>135823.934197</td>\n",
       "      <td>образование</td>\n",
       "    </tr>\n",
       "    <tr>\n",
       "      <th>8</th>\n",
       "      <td>2</td>\n",
       "      <td>-6929.865299</td>\n",
       "      <td>35</td>\n",
       "      <td>ВЫСШЕЕ</td>\n",
       "      <td>0</td>\n",
       "      <td>гражданский брак</td>\n",
       "      <td>1</td>\n",
       "      <td>F</td>\n",
       "      <td>сотрудник</td>\n",
       "      <td>0</td>\n",
       "      <td>95856.832424</td>\n",
       "      <td>на проведение свадьбы</td>\n",
       "    </tr>\n",
       "    <tr>\n",
       "      <th>9</th>\n",
       "      <td>0</td>\n",
       "      <td>-2188.756445</td>\n",
       "      <td>41</td>\n",
       "      <td>среднее</td>\n",
       "      <td>1</td>\n",
       "      <td>женат / замужем</td>\n",
       "      <td>0</td>\n",
       "      <td>M</td>\n",
       "      <td>сотрудник</td>\n",
       "      <td>0</td>\n",
       "      <td>144425.938277</td>\n",
       "      <td>покупка жилья для семьи</td>\n",
       "    </tr>\n",
       "    <tr>\n",
       "      <th>10</th>\n",
       "      <td>2</td>\n",
       "      <td>-4171.483647</td>\n",
       "      <td>36</td>\n",
       "      <td>высшее</td>\n",
       "      <td>0</td>\n",
       "      <td>женат / замужем</td>\n",
       "      <td>0</td>\n",
       "      <td>M</td>\n",
       "      <td>компаньон</td>\n",
       "      <td>0</td>\n",
       "      <td>113943.491460</td>\n",
       "      <td>покупка недвижимости</td>\n",
       "    </tr>\n",
       "    <tr>\n",
       "      <th>11</th>\n",
       "      <td>0</td>\n",
       "      <td>-792.701887</td>\n",
       "      <td>40</td>\n",
       "      <td>среднее</td>\n",
       "      <td>1</td>\n",
       "      <td>женат / замужем</td>\n",
       "      <td>0</td>\n",
       "      <td>F</td>\n",
       "      <td>сотрудник</td>\n",
       "      <td>0</td>\n",
       "      <td>77069.234271</td>\n",
       "      <td>покупка коммерческой недвижимости</td>\n",
       "    </tr>\n",
       "    <tr>\n",
       "      <th>12</th>\n",
       "      <td>0</td>\n",
       "      <td>NaN</td>\n",
       "      <td>65</td>\n",
       "      <td>среднее</td>\n",
       "      <td>1</td>\n",
       "      <td>гражданский брак</td>\n",
       "      <td>1</td>\n",
       "      <td>M</td>\n",
       "      <td>пенсионер</td>\n",
       "      <td>0</td>\n",
       "      <td>NaN</td>\n",
       "      <td>сыграть свадьбу</td>\n",
       "    </tr>\n",
       "    <tr>\n",
       "      <th>13</th>\n",
       "      <td>0</td>\n",
       "      <td>-1846.641941</td>\n",
       "      <td>54</td>\n",
       "      <td>неоконченное высшее</td>\n",
       "      <td>2</td>\n",
       "      <td>женат / замужем</td>\n",
       "      <td>0</td>\n",
       "      <td>F</td>\n",
       "      <td>сотрудник</td>\n",
       "      <td>0</td>\n",
       "      <td>130458.228857</td>\n",
       "      <td>приобретение автомобиля</td>\n",
       "    </tr>\n",
       "    <tr>\n",
       "      <th>14</th>\n",
       "      <td>0</td>\n",
       "      <td>-1844.956182</td>\n",
       "      <td>56</td>\n",
       "      <td>высшее</td>\n",
       "      <td>0</td>\n",
       "      <td>гражданский брак</td>\n",
       "      <td>1</td>\n",
       "      <td>F</td>\n",
       "      <td>компаньон</td>\n",
       "      <td>1</td>\n",
       "      <td>165127.911772</td>\n",
       "      <td>покупка жилой недвижимости</td>\n",
       "    </tr>\n",
       "    <tr>\n",
       "      <th>15</th>\n",
       "      <td>1</td>\n",
       "      <td>-972.364419</td>\n",
       "      <td>26</td>\n",
       "      <td>среднее</td>\n",
       "      <td>1</td>\n",
       "      <td>женат / замужем</td>\n",
       "      <td>0</td>\n",
       "      <td>F</td>\n",
       "      <td>сотрудник</td>\n",
       "      <td>0</td>\n",
       "      <td>116820.904450</td>\n",
       "      <td>строительство собственной недвижимости</td>\n",
       "    </tr>\n",
       "    <tr>\n",
       "      <th>16</th>\n",
       "      <td>0</td>\n",
       "      <td>-1719.934226</td>\n",
       "      <td>35</td>\n",
       "      <td>среднее</td>\n",
       "      <td>1</td>\n",
       "      <td>женат / замужем</td>\n",
       "      <td>0</td>\n",
       "      <td>F</td>\n",
       "      <td>сотрудник</td>\n",
       "      <td>0</td>\n",
       "      <td>289202.704229</td>\n",
       "      <td>недвижимость</td>\n",
       "    </tr>\n",
       "    <tr>\n",
       "      <th>17</th>\n",
       "      <td>0</td>\n",
       "      <td>-2369.999720</td>\n",
       "      <td>33</td>\n",
       "      <td>высшее</td>\n",
       "      <td>0</td>\n",
       "      <td>гражданский брак</td>\n",
       "      <td>1</td>\n",
       "      <td>M</td>\n",
       "      <td>сотрудник</td>\n",
       "      <td>0</td>\n",
       "      <td>90410.586745</td>\n",
       "      <td>строительство недвижимости</td>\n",
       "    </tr>\n",
       "    <tr>\n",
       "      <th>18</th>\n",
       "      <td>0</td>\n",
       "      <td>400281.136913</td>\n",
       "      <td>53</td>\n",
       "      <td>среднее</td>\n",
       "      <td>1</td>\n",
       "      <td>вдовец / вдова</td>\n",
       "      <td>2</td>\n",
       "      <td>F</td>\n",
       "      <td>пенсионер</td>\n",
       "      <td>0</td>\n",
       "      <td>56823.777243</td>\n",
       "      <td>на покупку подержанного автомобиля</td>\n",
       "    </tr>\n",
       "    <tr>\n",
       "      <th>19</th>\n",
       "      <td>0</td>\n",
       "      <td>-10038.818549</td>\n",
       "      <td>48</td>\n",
       "      <td>СРЕДНЕЕ</td>\n",
       "      <td>1</td>\n",
       "      <td>в разводе</td>\n",
       "      <td>3</td>\n",
       "      <td>F</td>\n",
       "      <td>сотрудник</td>\n",
       "      <td>0</td>\n",
       "      <td>242831.107982</td>\n",
       "      <td>на покупку своего автомобиля</td>\n",
       "    </tr>\n",
       "  </tbody>\n",
       "</table>\n",
       "</div>"
      ],
      "text/plain": [
       "    children  days_employed  dob_years            education  education_id  \\\n",
       "0          1   -8437.673028         42               высшее             0   \n",
       "1          1   -4024.803754         36              среднее             1   \n",
       "2          0   -5623.422610         33              Среднее             1   \n",
       "3          3   -4124.747207         32              среднее             1   \n",
       "4          0  340266.072047         53              среднее             1   \n",
       "5          0    -926.185831         27               высшее             0   \n",
       "6          0   -2879.202052         43               высшее             0   \n",
       "7          0    -152.779569         50              СРЕДНЕЕ             1   \n",
       "8          2   -6929.865299         35               ВЫСШЕЕ             0   \n",
       "9          0   -2188.756445         41              среднее             1   \n",
       "10         2   -4171.483647         36               высшее             0   \n",
       "11         0    -792.701887         40              среднее             1   \n",
       "12         0            NaN         65              среднее             1   \n",
       "13         0   -1846.641941         54  неоконченное высшее             2   \n",
       "14         0   -1844.956182         56               высшее             0   \n",
       "15         1    -972.364419         26              среднее             1   \n",
       "16         0   -1719.934226         35              среднее             1   \n",
       "17         0   -2369.999720         33               высшее             0   \n",
       "18         0  400281.136913         53              среднее             1   \n",
       "19         0  -10038.818549         48              СРЕДНЕЕ             1   \n",
       "\n",
       "       family_status  family_status_id gender income_type  debt  \\\n",
       "0    женат / замужем                 0      F   сотрудник     0   \n",
       "1    женат / замужем                 0      F   сотрудник     0   \n",
       "2    женат / замужем                 0      M   сотрудник     0   \n",
       "3    женат / замужем                 0      M   сотрудник     0   \n",
       "4   гражданский брак                 1      F   пенсионер     0   \n",
       "5   гражданский брак                 1      M   компаньон     0   \n",
       "6    женат / замужем                 0      F   компаньон     0   \n",
       "7    женат / замужем                 0      M   сотрудник     0   \n",
       "8   гражданский брак                 1      F   сотрудник     0   \n",
       "9    женат / замужем                 0      M   сотрудник     0   \n",
       "10   женат / замужем                 0      M   компаньон     0   \n",
       "11   женат / замужем                 0      F   сотрудник     0   \n",
       "12  гражданский брак                 1      M   пенсионер     0   \n",
       "13   женат / замужем                 0      F   сотрудник     0   \n",
       "14  гражданский брак                 1      F   компаньон     1   \n",
       "15   женат / замужем                 0      F   сотрудник     0   \n",
       "16   женат / замужем                 0      F   сотрудник     0   \n",
       "17  гражданский брак                 1      M   сотрудник     0   \n",
       "18    вдовец / вдова                 2      F   пенсионер     0   \n",
       "19         в разводе                 3      F   сотрудник     0   \n",
       "\n",
       "     total_income                                 purpose  \n",
       "0   253875.639453                           покупка жилья  \n",
       "1   112080.014102                 приобретение автомобиля  \n",
       "2   145885.952297                           покупка жилья  \n",
       "3   267628.550329              дополнительное образование  \n",
       "4   158616.077870                         сыграть свадьбу  \n",
       "5   255763.565419                           покупка жилья  \n",
       "6   240525.971920                       операции с жильем  \n",
       "7   135823.934197                             образование  \n",
       "8    95856.832424                   на проведение свадьбы  \n",
       "9   144425.938277                 покупка жилья для семьи  \n",
       "10  113943.491460                    покупка недвижимости  \n",
       "11   77069.234271       покупка коммерческой недвижимости  \n",
       "12            NaN                         сыграть свадьбу  \n",
       "13  130458.228857                 приобретение автомобиля  \n",
       "14  165127.911772              покупка жилой недвижимости  \n",
       "15  116820.904450  строительство собственной недвижимости  \n",
       "16  289202.704229                            недвижимость  \n",
       "17   90410.586745              строительство недвижимости  \n",
       "18   56823.777243      на покупку подержанного автомобиля  \n",
       "19  242831.107982            на покупку своего автомобиля  "
      ]
     },
     "execution_count": 7,
     "metadata": {},
     "output_type": "execute_result"
    }
   ],
   "source": [
    "data.head(20)"
   ]
  },
  {
   "cell_type": "markdown",
   "id": "a57a8414",
   "metadata": {
    "deletable": false,
    "editable": false,
    "id": "1c12e233"
   },
   "source": [
    "**Задание 3. Выведите основную информацию о датафрейме с помощью метода `info()`.**"
   ]
  },
  {
   "cell_type": "code",
   "execution_count": 8,
   "id": "31e72b67",
   "metadata": {
    "deletable": false,
    "id": "2b757bca",
    "outputId": "15376089-8dad-46c9-b520-c05248d43158"
   },
   "outputs": [
    {
     "name": "stdout",
     "output_type": "stream",
     "text": [
      "<class 'pandas.core.frame.DataFrame'>\n",
      "RangeIndex: 21525 entries, 0 to 21524\n",
      "Data columns (total 12 columns):\n",
      " #   Column            Non-Null Count  Dtype  \n",
      "---  ------            --------------  -----  \n",
      " 0   children          21525 non-null  int64  \n",
      " 1   days_employed     19351 non-null  float64\n",
      " 2   dob_years         21525 non-null  int64  \n",
      " 3   education         21525 non-null  object \n",
      " 4   education_id      21525 non-null  int64  \n",
      " 5   family_status     21525 non-null  object \n",
      " 6   family_status_id  21525 non-null  int64  \n",
      " 7   gender            21525 non-null  object \n",
      " 8   income_type       21525 non-null  object \n",
      " 9   debt              21525 non-null  int64  \n",
      " 10  total_income      19351 non-null  float64\n",
      " 11  purpose           21525 non-null  object \n",
      "dtypes: float64(2), int64(5), object(5)\n",
      "memory usage: 2.0+ MB\n"
     ]
    }
   ],
   "source": [
    "data.info()"
   ]
  },
  {
   "cell_type": "markdown",
   "id": "49159520",
   "metadata": {
    "deletable": false,
    "editable": false,
    "id": "333ec665"
   },
   "source": [
    "## Предобработка данных"
   ]
  },
  {
   "cell_type": "markdown",
   "id": "f102b534",
   "metadata": {
    "deletable": false,
    "editable": false,
    "id": "02d92d53"
   },
   "source": [
    "### Удаление пропусков"
   ]
  },
  {
   "cell_type": "markdown",
   "id": "ea282f50",
   "metadata": {
    "deletable": false,
    "editable": false,
    "id": "cd84967c"
   },
   "source": [
    "**Задание 4. Выведите количество пропущенных значений для каждого столбца. Используйте комбинацию двух методов.**"
   ]
  },
  {
   "cell_type": "code",
   "execution_count": 9,
   "id": "474f1709",
   "metadata": {
    "deletable": false,
    "id": "7f9b2309",
    "outputId": "81f4d817-781c-465c-ed15-91ce4446810d"
   },
   "outputs": [
    {
     "data": {
      "text/plain": [
       "children               0\n",
       "days_employed       2174\n",
       "dob_years              0\n",
       "education              0\n",
       "education_id           0\n",
       "family_status          0\n",
       "family_status_id       0\n",
       "gender                 0\n",
       "income_type            0\n",
       "debt                   0\n",
       "total_income        2174\n",
       "purpose                0\n",
       "dtype: int64"
      ]
     },
     "execution_count": 9,
     "metadata": {},
     "output_type": "execute_result"
    }
   ],
   "source": [
    "data.isna().sum()"
   ]
  },
  {
   "cell_type": "markdown",
   "id": "e7662fe7",
   "metadata": {
    "deletable": false,
    "editable": false,
    "id": "db86e27b"
   },
   "source": [
    "**Задание 5. В двух столбцах есть пропущенные значения. Один из них — `days_employed`. Пропуски в этом столбце вы обработаете на следующем этапе. Другой столбец с пропущенными значениями — `total_income` — хранит данные о доходах. На сумму дохода сильнее всего влияет тип занятости, поэтому заполнить пропуски в этом столбце нужно медианным значением по каждому типу из столбца `income_type`. Например, у человека с типом занятости `сотрудник` пропуск в столбце `total_income` должен быть заполнен медианным доходом среди всех записей с тем же типом.**"
   ]
  },
  {
   "cell_type": "code",
   "execution_count": 10,
   "id": "cc5086a7",
   "metadata": {
    "deletable": false,
    "id": "42006a93"
   },
   "outputs": [],
   "source": [
    "for t in data['income_type'].unique():\n",
    "    data.loc[(data['income_type'] == t) & (data['total_income'].isna()), 'total_income'] = \\\n",
    "    data.loc[(data['income_type'] == t), 'total_income'].median()"
   ]
  },
  {
   "cell_type": "markdown",
   "id": "f151f0c0",
   "metadata": {
    "deletable": false,
    "editable": false,
    "id": "89da5ece"
   },
   "source": [
    "### Обработка аномальных значений"
   ]
  },
  {
   "cell_type": "markdown",
   "id": "0608d70c",
   "metadata": {
    "deletable": false,
    "editable": false,
    "id": "57964554"
   },
   "source": [
    "**Задание 6. В данных могут встречаться артефакты (аномалии) — значения, которые не отражают действительность и появились по какой-то ошибке. таким артефактом будет отрицательное количество дней трудового стажа в столбце `days_employed`. Для реальных данных это нормально. Обработайте значения в этом столбце: замените все отрицательные значения положительными с помощью метода `abs()`.**"
   ]
  },
  {
   "cell_type": "code",
   "execution_count": 11,
   "id": "abbfebc4",
   "metadata": {
    "deletable": false,
    "id": "f6f055bf"
   },
   "outputs": [],
   "source": [
    "data['days_employed'] = data['days_employed'].abs()"
   ]
  },
  {
   "cell_type": "markdown",
   "id": "755575d7",
   "metadata": {
    "deletable": false,
    "editable": false,
    "id": "6107dd2f"
   },
   "source": [
    "**Задание 7. Для каждого типа занятости выведите медианное значение трудового стажа `days_employed` в днях.**"
   ]
  },
  {
   "cell_type": "code",
   "execution_count": 12,
   "id": "5b4318e6",
   "metadata": {
    "deletable": false,
    "id": "85a5faf6",
    "outputId": "801ef80e-522b-4668-f34e-565af7432bcf"
   },
   "outputs": [
    {
     "data": {
      "text/plain": [
       "income_type\n",
       "безработный        366413.652744\n",
       "в декрете            3296.759962\n",
       "госслужащий          2689.368353\n",
       "компаньон            1547.382223\n",
       "пенсионер          365213.306266\n",
       "предприниматель       520.848083\n",
       "сотрудник            1574.202821\n",
       "студент               578.751554\n",
       "Name: days_employed, dtype: float64"
      ]
     },
     "execution_count": 12,
     "metadata": {},
     "output_type": "execute_result"
    }
   ],
   "source": [
    "data.groupby('income_type')['days_employed'].agg('median')"
   ]
  },
  {
   "cell_type": "markdown",
   "id": "ea772674",
   "metadata": {
    "deletable": false,
    "editable": false,
    "id": "38d1a030"
   },
   "source": [
    "У двух типов (безработные и пенсионеры) получатся аномально большие значения. Исправить такие значения сложно, поэтому оставьте их как есть. Тем более этот столбец не понадобится вам для исследования."
   ]
  },
  {
   "cell_type": "markdown",
   "id": "10d0f1b7",
   "metadata": {
    "deletable": false,
    "editable": false,
    "id": "d8a9f147"
   },
   "source": [
    "**Задание 8. Выведите перечень уникальных значений столбца `children`.**"
   ]
  },
  {
   "cell_type": "code",
   "execution_count": 13,
   "id": "a34a3d1c",
   "metadata": {
    "deletable": false,
    "id": "ef5056eb",
    "outputId": "6975b15c-7f95-4697-d16d-a0c79b657b03"
   },
   "outputs": [
    {
     "data": {
      "text/plain": [
       "array([ 1,  0,  3,  2, -1,  4, 20,  5])"
      ]
     },
     "execution_count": 13,
     "metadata": {},
     "output_type": "execute_result"
    }
   ],
   "source": [
    "data['children'].unique()"
   ]
  },
  {
   "cell_type": "markdown",
   "id": "37f318d3",
   "metadata": {
    "deletable": false,
    "editable": false,
    "id": "40b9ebf2"
   },
   "source": [
    "**Задание 9. В столбце `children` есть два аномальных значения. Удалите строки, в которых встречаются такие аномальные значения из датафрейма `data`.**"
   ]
  },
  {
   "cell_type": "code",
   "execution_count": 14,
   "id": "0efc460a",
   "metadata": {
    "deletable": false,
    "id": "3ff9801d"
   },
   "outputs": [],
   "source": [
    "data = data[(data['children'] != -1) & (data['children'] != 20)]"
   ]
  },
  {
   "cell_type": "markdown",
   "id": "e5a8eacd",
   "metadata": {
    "deletable": false,
    "editable": false,
    "id": "bbc4d0ce"
   },
   "source": [
    "**Задание 10. Ещё раз выведите перечень уникальных значений столбца `children`, чтобы убедиться, что артефакты удалены.**"
   ]
  },
  {
   "cell_type": "code",
   "execution_count": 15,
   "id": "1320a3e9",
   "metadata": {
    "deletable": false,
    "id": "ad4fa8b7",
    "outputId": "b2097101-d49d-44d9-901b-32a65c9463d1"
   },
   "outputs": [
    {
     "data": {
      "text/plain": [
       "array([1, 0, 3, 2, 4, 5])"
      ]
     },
     "execution_count": 15,
     "metadata": {},
     "output_type": "execute_result"
    }
   ],
   "source": [
    "data['children'].unique()"
   ]
  },
  {
   "cell_type": "markdown",
   "id": "86be8e64",
   "metadata": {
    "deletable": false,
    "editable": false,
    "id": "75440b63"
   },
   "source": [
    "### Удаление пропусков (продолжение)"
   ]
  },
  {
   "cell_type": "markdown",
   "id": "d9d54020",
   "metadata": {
    "deletable": false,
    "editable": false,
    "id": "f4ea573f"
   },
   "source": [
    "**Задание 11. Заполните пропуски в столбце `days_employed` медианными значениями по каждого типа занятости `income_type`.**"
   ]
  },
  {
   "cell_type": "code",
   "execution_count": 16,
   "id": "7ceccf26",
   "metadata": {
    "deletable": false,
    "id": "af6b1a7e"
   },
   "outputs": [],
   "source": [
    "for t in data['income_type'].unique():\n",
    "    data.loc[(data['income_type'] == t) & (data['days_employed'].isna()), 'days_employed'] = \\\n",
    "    data.loc[(data['income_type'] == t), 'days_employed'].median()"
   ]
  },
  {
   "cell_type": "markdown",
   "id": "ff13654e",
   "metadata": {
    "deletable": false,
    "editable": false,
    "id": "2753f40d"
   },
   "source": [
    "**Задание 12. Убедитесь, что все пропуски заполнены. Проверьте себя и ещё раз выведите количество пропущенных значений для каждого столбца с помощью двух методов.**"
   ]
  },
  {
   "cell_type": "code",
   "execution_count": 17,
   "id": "34573c98",
   "metadata": {
    "deletable": false,
    "id": "55f78bc2",
    "outputId": "8da1e4e1-358e-4e87-98c9-f261bce0a7b2"
   },
   "outputs": [
    {
     "data": {
      "text/plain": [
       "children            0\n",
       "days_employed       0\n",
       "dob_years           0\n",
       "education           0\n",
       "education_id        0\n",
       "family_status       0\n",
       "family_status_id    0\n",
       "gender              0\n",
       "income_type         0\n",
       "debt                0\n",
       "total_income        0\n",
       "purpose             0\n",
       "dtype: int64"
      ]
     },
     "execution_count": 17,
     "metadata": {},
     "output_type": "execute_result"
    }
   ],
   "source": [
    "data.isna().sum()"
   ]
  },
  {
   "cell_type": "markdown",
   "id": "416a1f8e",
   "metadata": {
    "deletable": false,
    "editable": false,
    "id": "ddc81e43"
   },
   "source": [
    "### Изменение типов данных"
   ]
  },
  {
   "cell_type": "markdown",
   "id": "235e1862",
   "metadata": {
    "deletable": false,
    "editable": false,
    "id": "42d19d24"
   },
   "source": [
    "**Задание 13. Замените вещественный тип данных в столбце `total_income` на целочисленный с помощью метода `astype()`.**"
   ]
  },
  {
   "cell_type": "code",
   "execution_count": 18,
   "id": "e612f436",
   "metadata": {
    "deletable": false,
    "id": "920b65ad"
   },
   "outputs": [],
   "source": [
    "data['total_income'] = data['total_income'].astype(int)"
   ]
  },
  {
   "cell_type": "markdown",
   "id": "dfca61bb",
   "metadata": {
    "deletable": false,
    "editable": false,
    "id": "80c420ba"
   },
   "source": [
    "### Обработка дубликатов"
   ]
  },
  {
   "cell_type": "markdown",
   "id": "b1b3a9c1",
   "metadata": {
    "deletable": false,
    "editable": false
   },
   "source": [
    "**Задание 14. Обработайте неявные дубликаты в столбце `education`. В этом столбце есть одни и те же значения, но записанные по-разному: с использованием заглавных и строчных букв. Приведите их к нижнему регистру. Проверьте остальные столбцы.**"
   ]
  },
  {
   "cell_type": "code",
   "execution_count": 19,
   "id": "5b9af80b",
   "metadata": {
    "deletable": false
   },
   "outputs": [],
   "source": [
    "data['education'] = data['education'].str.lower()"
   ]
  },
  {
   "cell_type": "markdown",
   "id": "dde0c076",
   "metadata": {
    "deletable": false,
    "editable": false,
    "id": "dc587695"
   },
   "source": [
    "**Задание 15. Выведите на экран количество строк-дубликатов в данных. Если такие строки присутствуют, удалите их.**"
   ]
  },
  {
   "cell_type": "code",
   "execution_count": 20,
   "id": "eac59bf5",
   "metadata": {
    "deletable": false,
    "id": "3ee445e4",
    "outputId": "9684deba-1934-42d1-99e1-cda61740f822"
   },
   "outputs": [
    {
     "data": {
      "text/plain": [
       "71"
      ]
     },
     "execution_count": 20,
     "metadata": {},
     "output_type": "execute_result"
    }
   ],
   "source": [
    "data.duplicated().sum()"
   ]
  },
  {
   "cell_type": "code",
   "execution_count": 21,
   "id": "c8915243",
   "metadata": {
    "deletable": false,
    "id": "8575fe05"
   },
   "outputs": [],
   "source": [
    "data = data.drop_duplicates()"
   ]
  },
  {
   "cell_type": "markdown",
   "id": "3c50310f",
   "metadata": {
    "deletable": false,
    "editable": false,
    "id": "9904cf55"
   },
   "source": [
    "### Категоризация данных"
   ]
  },
  {
   "cell_type": "markdown",
   "id": "b88bfaa7",
   "metadata": {
    "deletable": false,
    "editable": false,
    "id": "72fcc8a2"
   },
   "source": [
    "**Задание 16. На основании диапазонов, указанных ниже, создайте в датафрейме `data` столбец `total_income_category` с категориями:**\n",
    "\n",
    "- 0–30000 — `'E'`;\n",
    "- 30001–50000 — `'D'`;\n",
    "- 50001–200000 — `'C'`;\n",
    "- 200001–1000000 — `'B'`;\n",
    "- 1000001 и выше — `'A'`.\n",
    "\n",
    "\n",
    "**Например, кредитополучателю с доходом 25000 нужно назначить категорию `'E'`, а клиенту, получающему 235000, — `'B'`. Используйте собственную функцию с именем `categorize_income()` и метод `apply()`.**"
   ]
  },
  {
   "cell_type": "code",
   "execution_count": 22,
   "id": "38bc3894",
   "metadata": {
    "deletable": false,
    "id": "e1771346"
   },
   "outputs": [],
   "source": [
    "def categorize_income(income):\n",
    "    try:\n",
    "        if 0 <= income <= 30000:\n",
    "            return 'E'\n",
    "        elif 30001 <= income <= 50000:\n",
    "            return 'D'\n",
    "        elif 50001 <= income <= 200000:\n",
    "            return 'C'\n",
    "        elif 200001 <= income <= 1000000:\n",
    "            return 'B'\n",
    "        elif income >= 1000001:\n",
    "            return 'A'\n",
    "    except:\n",
    "        pass"
   ]
  },
  {
   "cell_type": "code",
   "execution_count": 23,
   "id": "538d1da9",
   "metadata": {
    "deletable": false,
    "id": "d5f3586d"
   },
   "outputs": [],
   "source": [
    "data['total_income_category'] = data['total_income'].apply(categorize_income)"
   ]
  },
  {
   "cell_type": "markdown",
   "id": "35e05ea9",
   "metadata": {
    "deletable": false,
    "editable": false,
    "id": "dde49b5c"
   },
   "source": [
    "**Задание 17. Выведите на экран перечень уникальных целей взятия кредита из столбца `purpose`.**"
   ]
  },
  {
   "cell_type": "code",
   "execution_count": 24,
   "id": "9fc166a2",
   "metadata": {
    "deletable": false,
    "id": "f67ce9b3",
    "outputId": "673c12d9-7d7e-4ae0-9812-c622c89dd244"
   },
   "outputs": [
    {
     "data": {
      "text/plain": [
       "array(['покупка жилья', 'приобретение автомобиля',\n",
       "       'дополнительное образование', 'сыграть свадьбу',\n",
       "       'операции с жильем', 'образование', 'на проведение свадьбы',\n",
       "       'покупка жилья для семьи', 'покупка недвижимости',\n",
       "       'покупка коммерческой недвижимости', 'покупка жилой недвижимости',\n",
       "       'строительство собственной недвижимости', 'недвижимость',\n",
       "       'строительство недвижимости', 'на покупку подержанного автомобиля',\n",
       "       'на покупку своего автомобиля',\n",
       "       'операции с коммерческой недвижимостью',\n",
       "       'строительство жилой недвижимости', 'жилье',\n",
       "       'операции со своей недвижимостью', 'автомобили',\n",
       "       'заняться образованием', 'сделка с подержанным автомобилем',\n",
       "       'получение образования', 'автомобиль', 'свадьба',\n",
       "       'получение дополнительного образования', 'покупка своего жилья',\n",
       "       'операции с недвижимостью', 'получение высшего образования',\n",
       "       'свой автомобиль', 'сделка с автомобилем',\n",
       "       'профильное образование', 'высшее образование',\n",
       "       'покупка жилья для сдачи', 'на покупку автомобиля', 'ремонт жилью',\n",
       "       'заняться высшим образованием'], dtype=object)"
      ]
     },
     "execution_count": 24,
     "metadata": {},
     "output_type": "execute_result"
    }
   ],
   "source": [
    "data['purpose'].unique()"
   ]
  },
  {
   "cell_type": "markdown",
   "id": "c15c8ab1",
   "metadata": {
    "deletable": false,
    "editable": false,
    "id": "85d0aef0"
   },
   "source": [
    "**Задание 18. Создайте функцию, которая на основании данных из столбца `purpose` сформирует новый столбец `purpose_category`, в который войдут следующие категории:**\n",
    "\n",
    "- `'операции с автомобилем'`,\n",
    "- `'операции с недвижимостью'`,\n",
    "- `'проведение свадьбы'`,\n",
    "- `'получение образования'`.\n",
    "\n",
    "**Например, если в столбце `purpose` находится подстрока `'на покупку автомобиля'`, то в столбце `purpose_category` должна появиться строка `'операции с автомобилем'`.**\n",
    "\n",
    "**Используйте собственную функцию с именем `categorize_purpose()` и метод `apply()`. Изучите данные в столбце `purpose` и определите, какие подстроки помогут вам правильно определить категорию.**"
   ]
  },
  {
   "cell_type": "code",
   "execution_count": 25,
   "id": "ae03e389",
   "metadata": {
    "deletable": false,
    "id": "e149fab4"
   },
   "outputs": [],
   "source": [
    "def categorize_purpose(row):\n",
    "    try:\n",
    "        if 'автом' in row:\n",
    "            return 'операции с автомобилем'\n",
    "        elif 'жил' in row or 'недвиж' in row:\n",
    "            return 'операции с недвижимостью'\n",
    "        elif 'свад' in row:\n",
    "            return 'проведение свадьбы'\n",
    "        elif 'образов' in row:\n",
    "            return 'получение образования'\n",
    "    except:\n",
    "        return 'нет категории'"
   ]
  },
  {
   "cell_type": "code",
   "execution_count": 26,
   "id": "f2eaf4e7",
   "metadata": {
    "deletable": false,
    "id": "bf36e69b"
   },
   "outputs": [],
   "source": [
    "data['purpose_category'] = data['purpose'].apply(categorize_purpose)"
   ]
  },
  {
   "cell_type": "markdown",
   "id": "3433f081",
   "metadata": {
    "deletable": false,
    "editable": false,
    "id": "09b242bf"
   },
   "source": [
    "### Шаг 3. Исследуйте данные и ответьте на вопросы"
   ]
  },
  {
   "cell_type": "markdown",
   "id": "3f762c99",
   "metadata": {
    "deletable": false,
    "editable": false,
    "id": "c5d66278"
   },
   "source": [
    "#### 3.1 Есть ли зависимость между количеством детей и возвратом кредита в срок?"
   ]
  },
  {
   "cell_type": "code",
   "execution_count": 89,
   "id": "fc77df08",
   "metadata": {
    "deletable": false,
    "id": "2cacfc4a",
    "scrolled": false
   },
   "outputs": [
    {
     "data": {
      "text/html": [
       "<div>\n",
       "<style scoped>\n",
       "    .dataframe tbody tr th:only-of-type {\n",
       "        vertical-align: middle;\n",
       "    }\n",
       "\n",
       "    .dataframe tbody tr th {\n",
       "        vertical-align: top;\n",
       "    }\n",
       "\n",
       "    .dataframe thead th {\n",
       "        text-align: right;\n",
       "    }\n",
       "</style>\n",
       "<table border=\"1\" class=\"dataframe\">\n",
       "  <thead>\n",
       "    <tr style=\"text-align: right;\">\n",
       "      <th></th>\n",
       "      <th>Количесвто детей</th>\n",
       "      <th>Заемщиков</th>\n",
       "      <th>Просрочек</th>\n",
       "      <th>Доля просрочек, %</th>\n",
       "    </tr>\n",
       "  </thead>\n",
       "  <tbody>\n",
       "    <tr>\n",
       "      <th>0</th>\n",
       "      <td>0</td>\n",
       "      <td>14091</td>\n",
       "      <td>1063</td>\n",
       "      <td>7.54</td>\n",
       "    </tr>\n",
       "    <tr>\n",
       "      <th>1</th>\n",
       "      <td>1</td>\n",
       "      <td>4808</td>\n",
       "      <td>444</td>\n",
       "      <td>9.23</td>\n",
       "    </tr>\n",
       "    <tr>\n",
       "      <th>2</th>\n",
       "      <td>2</td>\n",
       "      <td>2052</td>\n",
       "      <td>194</td>\n",
       "      <td>9.45</td>\n",
       "    </tr>\n",
       "    <tr>\n",
       "      <th>3</th>\n",
       "      <td>3</td>\n",
       "      <td>330</td>\n",
       "      <td>27</td>\n",
       "      <td>8.18</td>\n",
       "    </tr>\n",
       "    <tr>\n",
       "      <th>4</th>\n",
       "      <td>4</td>\n",
       "      <td>41</td>\n",
       "      <td>4</td>\n",
       "      <td>9.76</td>\n",
       "    </tr>\n",
       "    <tr>\n",
       "      <th>5</th>\n",
       "      <td>5</td>\n",
       "      <td>9</td>\n",
       "      <td>0</td>\n",
       "      <td>0.00</td>\n",
       "    </tr>\n",
       "  </tbody>\n",
       "</table>\n",
       "</div>"
      ],
      "text/plain": [
       "   Количесвто детей  Заемщиков  Просрочек  Доля просрочек, %\n",
       "0                 0      14091       1063               7.54\n",
       "1                 1       4808        444               9.23\n",
       "2                 2       2052        194               9.45\n",
       "3                 3        330         27               8.18\n",
       "4                 4         41          4               9.76\n",
       "5                 5          9          0               0.00"
      ]
     },
     "metadata": {},
     "output_type": "display_data"
    },
    {
     "data": {
      "image/png": "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\n",
      "text/plain": [
       "<Figure size 432x288 with 1 Axes>"
      ]
     },
     "metadata": {
      "needs_background": "light"
     },
     "output_type": "display_data"
    }
   ],
   "source": [
    "# Делаем группировкой по количетсву детей:\n",
    "data_children_group = data.groupby('children')['debt'].agg(['count','sum','mean'])\n",
    "data_children_group.columns = ['Заемщиков', 'Просрочек', 'Доля просрочек, %']\n",
    "data_children_group.index.names = ['Количесвто детей']\n",
    "data_children_group['Доля просрочек, %'] = data_children_group['Доля просрочек, %'].round(4)*100\n",
    "data_children_group['Доля просрочек, %'].sort_values(ascending=False)\\\n",
    "    .plot(kind='bar', title='Доля просрочек по количетсву детей',\\\n",
    "          color='g', alpha=.4, rot=0);\n",
    "display(data_children_group.reset_index()) "
   ]
  },
  {
   "cell_type": "markdown",
   "id": "864bdcf7",
   "metadata": {},
   "source": [
    "<div class=\"alert alert-warning\">\n",
    "<h2> Комментарий ревьюера  #2 <a class=\"tocSkip\"> </h2>\n",
    "    \n",
    "<b>Некоторые замечания и рекомендации💡:</b> \n",
    "\n",
    "Да, медиана здесь не сильно поможет. Если целевой признак 0,1 и его вероятность не превышает 10%, то всегда будет ноль.\n",
    "       \n",
    "</div>\n"
   ]
  },
  {
   "cell_type": "markdown",
   "id": "68700a9d",
   "metadata": {},
   "source": [
    "<div class=\"alert alert-block alert-danger\">\n",
    "<h2><s> Комментарий ревьюера <a class=\"tocSkip\"></h2>\n",
    "  \n",
    "<b>На доработку🤔:</b>\n",
    "\n",
    "Ты верно используешь сводные таблицы и получаешь правильный результат. Однако нам важно также вывести на экран количество данных по каждой категории. Так мы увидим, что у нас не во всех категориях достаточно данных для анализа.\n",
    "\n",
    "    \n",
    "Удобнее смотреть на все расчеты, упаковав их в одну таблицу. На самом деле, сделать это достаточно просто. Проще, чем писать код для каждого из вычислений отдельно.\n",
    "\n",
    "Можно вывести в таблицу следующие по смыслу колонки: количество детей (это будет индекс в получившейся таблице), количество заемщиков, количество должников и долю невозврата. \n",
    "    \n",
    "В aggfunc сводной таблицы можно передавать список функций. Например, так: `aggfunc=['median', 'min', 'max']` У нас, соответственно, будут другие функции :)\n",
    "    \n",
    "Для наглядности, колонки можно переназвать. `grouped_by_children.columns = ['первое название', 'второе название', '...']`\n"
   ]
  },
  {
   "cell_type": "markdown",
   "id": "28b38bc0",
   "metadata": {
    "deletable": false,
    "id": "3a6b99ec"
   },
   "source": [
    "***Вывод:***  \n",
    "Минимальный шанс возникновения задержки платежа по кредиту у группы без детей - 7,5%. \n",
    "Макисмальный процент шанс возникновения задержки платежа - 9,8%, у группы, где у каждого клиента 4 ребенка. \n",
    "Когда детей нет, вероятность возникновения задолженности чуть ниже, чем если дети есть. \n",
    "Когда дети есть, шанс вознкновение задолженности возникает выше, при это он находиться примерно на одном уровне вне зависимости от количесва детей.\n"
   ]
  },
  {
   "cell_type": "markdown",
   "id": "8200fc5d",
   "metadata": {},
   "source": [
    "<div class=\"alert alert-block alert-info\">\n",
    "Как сделать график? \n",
    "Я не совсем понимаю. \n",
    "Мы их будем проходить только в следующем спринте. Хитмапа же не подойдет? "
   ]
  },
  {
   "cell_type": "markdown",
   "id": "92aa9d6a",
   "metadata": {},
   "source": [
    "<div class=\"alert alert-warning\">\n",
    "<h2> Комментарий ревьюера  #2 <a class=\"tocSkip\"> </h2>\n",
    "    \n",
    "<b>Некоторые замечания и рекомендации💡:</b> \n",
    "\n",
    "Таблицу мы сделали выше, с ней все ок. Про остальные я не говорил вроде бы.\n",
    "    \n",
    "Хитмэп здесь как визуализация подойдет не сильно из-за большой разницы между количеством и долей.\n",
    "       \n",
    "</div>\n"
   ]
  },
  {
   "cell_type": "markdown",
   "id": "a8967b94",
   "metadata": {},
   "source": [
    "<div class=\"alert alert-success\">\n",
    "<h2> Комментарий ревьюера #3 <a class=\"tocSkip\"> </h2>\n",
    "\n",
    "👍 Про графики ответил в самом конце проекта.\n",
    "</div>\n",
    "\n"
   ]
  },
  {
   "cell_type": "markdown",
   "id": "ed74e83b",
   "metadata": {},
   "source": [
    "<div class=\"alert alert-block alert-danger\">\n",
    "<h2><s>Комментарий ревьюера <a class=\"tocSkip\"></h2>\n",
    "  \n",
    "<b>На доработку🤔:</b>\n",
    " \n",
    "Здесь не соглашусь. Как минимум, мы можем укрупнить категории (даже мысленно) оставив клиентов с детьми и без детей. Вторые будут демонстрировать долю невозврата кредита ниже, чем первые (чем с детьми). \n",
    "    \n",
    "Возможно, разница между 7,5% и 9,7% не ощущается как большая. Тем не менее, представим, что у нас две группы по сто заемщиков, из них в одном случае долг не отдали восемь человек, в другом − десять. В долг они брали по 100 тысяч рублей. Выбор верной группы из 100 заемщиков сэкономит банку 200к рублей со всего ста клиентов. В реальности же у банка значительно больше заемщиков, и даже вроде бы незначительное улучшение скоринговой системы дает хороший прирост доходов. Ну и в целом, в финансовой сфере часто доли процентов означают миллионную прибыль или убытки.\n",
    "\n",
    "</div>"
   ]
  },
  {
   "cell_type": "markdown",
   "id": "271e40a7",
   "metadata": {},
   "source": [
    "<div class=\"alert alert-block alert-danger\">\n",
    "<h2><s> Комментарий ревьюера #2 <a class=\"tocSkip\"></h2>\n",
    "  \n",
    "<b>На доработку🤔:</b>\n",
    " \n",
    "Выше в комментарии я написал, почему считаю разницу существенной. Если ты с этим не согласен и все-таки думаешь, что разницы почти нет, то можешь аргументировать, почему так считаешь? \n",
    "    \n",
    "Если согласен, то нужно изменить вывод.\n",
    "\n",
    "</div>\n"
   ]
  },
  {
   "cell_type": "markdown",
   "id": "6f269dd7",
   "metadata": {
    "deletable": false,
    "editable": false,
    "id": "97be82ca"
   },
   "source": [
    "#### 3.2 Есть ли зависимость между семейным положением и возвратом кредита в срок?"
   ]
  },
  {
   "cell_type": "code",
   "execution_count": 90,
   "id": "bc2bdfe6",
   "metadata": {
    "deletable": false,
    "id": "dc3f7ee8",
    "scrolled": true
   },
   "outputs": [
    {
     "data": {
      "text/html": [
       "<div>\n",
       "<style scoped>\n",
       "    .dataframe tbody tr th:only-of-type {\n",
       "        vertical-align: middle;\n",
       "    }\n",
       "\n",
       "    .dataframe tbody tr th {\n",
       "        vertical-align: top;\n",
       "    }\n",
       "\n",
       "    .dataframe thead th {\n",
       "        text-align: right;\n",
       "    }\n",
       "</style>\n",
       "<table border=\"1\" class=\"dataframe\">\n",
       "  <thead>\n",
       "    <tr style=\"text-align: right;\">\n",
       "      <th></th>\n",
       "      <th>Семейное положение</th>\n",
       "      <th>Заемщиков</th>\n",
       "      <th>Просрочек</th>\n",
       "      <th>Доля просрочек, %</th>\n",
       "    </tr>\n",
       "  </thead>\n",
       "  <tbody>\n",
       "    <tr>\n",
       "      <th>0</th>\n",
       "      <td>Не женат / не замужем</td>\n",
       "      <td>2796</td>\n",
       "      <td>273</td>\n",
       "      <td>9.76</td>\n",
       "    </tr>\n",
       "    <tr>\n",
       "      <th>1</th>\n",
       "      <td>в разводе</td>\n",
       "      <td>1189</td>\n",
       "      <td>84</td>\n",
       "      <td>7.06</td>\n",
       "    </tr>\n",
       "    <tr>\n",
       "      <th>2</th>\n",
       "      <td>вдовец / вдова</td>\n",
       "      <td>951</td>\n",
       "      <td>63</td>\n",
       "      <td>6.62</td>\n",
       "    </tr>\n",
       "    <tr>\n",
       "      <th>3</th>\n",
       "      <td>гражданский брак</td>\n",
       "      <td>4134</td>\n",
       "      <td>385</td>\n",
       "      <td>9.31</td>\n",
       "    </tr>\n",
       "    <tr>\n",
       "      <th>4</th>\n",
       "      <td>женат / замужем</td>\n",
       "      <td>12261</td>\n",
       "      <td>927</td>\n",
       "      <td>7.56</td>\n",
       "    </tr>\n",
       "  </tbody>\n",
       "</table>\n",
       "</div>"
      ],
      "text/plain": [
       "      Семейное положение  Заемщиков  Просрочек  Доля просрочек, %\n",
       "0  Не женат / не замужем       2796        273               9.76\n",
       "1              в разводе       1189         84               7.06\n",
       "2         вдовец / вдова        951         63               6.62\n",
       "3       гражданский брак       4134        385               9.31\n",
       "4        женат / замужем      12261        927               7.56"
      ]
     },
     "metadata": {},
     "output_type": "display_data"
    },
    {
     "data": {
      "image/png": "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\n",
      "text/plain": [
       "<Figure size 432x288 with 1 Axes>"
      ]
     },
     "metadata": {
      "needs_background": "light"
     },
     "output_type": "display_data"
    }
   ],
   "source": [
    "# Делаем группировкой по семейному положению:\n",
    "data_family_status_group = data.groupby('family_status')['debt'].agg(['count','sum','mean'])\n",
    "data_family_status_group.columns = ['Заемщиков', 'Просрочек', 'Доля просрочек, %']\n",
    "data_family_status_group.index.names = ['Семейное положение']\n",
    "data_family_status_group['Доля просрочек, %'] = data_family_status_group['Доля просрочек, %'].round(4)*100\n",
    "data_family_status_group['Доля просрочек, %'].sort_values(ascending=False)\\\n",
    "    .plot(kind='bar', title='Доля просрочек по семейному положению',\\\n",
    "          color='r', alpha=.4, rot=11);\n",
    "display(data_family_status_group.reset_index()) \n"
   ]
  },
  {
   "cell_type": "markdown",
   "id": "fbd42a7a",
   "metadata": {},
   "source": [
    "<div class=\"alert alert-warning\">\n",
    "<h2> Комментарий ревьюера <a class=\"tocSkip\"> </h2>\n",
    "    \n",
    "<b>Некоторые замечания и рекомендации💡:</b> \n",
    " \n",
    "Здесь и в аналогичных ситуациях предлагаю вывести таблицу с тремя столбцами: количество заемщиков, число и доля должников.\n",
    "</div>"
   ]
  },
  {
   "cell_type": "markdown",
   "id": "e9bc7611",
   "metadata": {
    "deletable": false,
    "id": "1cef7837"
   },
   "source": [
    "**Вывод:** \n",
    "Минимальный шанс возникновения задержки платежа у группы \"вдова/вдовец\"  - 6,6%. \n",
    "Макисмальный шанс возникновения задержки платежа у людей не состоявших в браке. Это две группы: \"не женат / не замужем\" и \"гражданский брак\". Их показатели 9,8% и 9.3% шанс возникновения задержки платежа."
   ]
  },
  {
   "cell_type": "markdown",
   "id": "abc763d0",
   "metadata": {},
   "source": [
    "<div class=\"alert alert-success\">\n",
    "<h2> Комментарий ревьюера <a class=\"tocSkip\"> </h2>\n",
    "\n",
    "👍 Всё верно. Здесь можно было бы перечислить две категории с повышенными рисками.\n",
    "</div>"
   ]
  },
  {
   "cell_type": "markdown",
   "id": "27a28086",
   "metadata": {
    "deletable": false,
    "editable": false,
    "id": "1e8b2fca"
   },
   "source": [
    "#### 3.3 Есть ли зависимость между уровнем дохода и возвратом кредита в срок?"
   ]
  },
  {
   "cell_type": "code",
   "execution_count": 91,
   "id": "bfa2c2cf",
   "metadata": {
    "deletable": false,
    "id": "cd7e3720",
    "scrolled": true
   },
   "outputs": [
    {
     "data": {
      "text/html": [
       "<div>\n",
       "<style scoped>\n",
       "    .dataframe tbody tr th:only-of-type {\n",
       "        vertical-align: middle;\n",
       "    }\n",
       "\n",
       "    .dataframe tbody tr th {\n",
       "        vertical-align: top;\n",
       "    }\n",
       "\n",
       "    .dataframe thead th {\n",
       "        text-align: right;\n",
       "    }\n",
       "</style>\n",
       "<table border=\"1\" class=\"dataframe\">\n",
       "  <thead>\n",
       "    <tr style=\"text-align: right;\">\n",
       "      <th></th>\n",
       "      <th>Уровень дохода</th>\n",
       "      <th>Заемщиков</th>\n",
       "      <th>Просрочек</th>\n",
       "      <th>Доля просрочек, %</th>\n",
       "    </tr>\n",
       "  </thead>\n",
       "  <tbody>\n",
       "    <tr>\n",
       "      <th>0</th>\n",
       "      <td>A</td>\n",
       "      <td>25</td>\n",
       "      <td>2</td>\n",
       "      <td>8.00</td>\n",
       "    </tr>\n",
       "    <tr>\n",
       "      <th>1</th>\n",
       "      <td>B</td>\n",
       "      <td>5014</td>\n",
       "      <td>354</td>\n",
       "      <td>7.06</td>\n",
       "    </tr>\n",
       "    <tr>\n",
       "      <th>2</th>\n",
       "      <td>C</td>\n",
       "      <td>15921</td>\n",
       "      <td>1353</td>\n",
       "      <td>8.50</td>\n",
       "    </tr>\n",
       "    <tr>\n",
       "      <th>3</th>\n",
       "      <td>D</td>\n",
       "      <td>349</td>\n",
       "      <td>21</td>\n",
       "      <td>6.02</td>\n",
       "    </tr>\n",
       "    <tr>\n",
       "      <th>4</th>\n",
       "      <td>E</td>\n",
       "      <td>22</td>\n",
       "      <td>2</td>\n",
       "      <td>9.09</td>\n",
       "    </tr>\n",
       "  </tbody>\n",
       "</table>\n",
       "</div>"
      ],
      "text/plain": [
       "  Уровень дохода  Заемщиков  Просрочек  Доля просрочек, %\n",
       "0              A         25          2               8.00\n",
       "1              B       5014        354               7.06\n",
       "2              C      15921       1353               8.50\n",
       "3              D        349         21               6.02\n",
       "4              E         22          2               9.09"
      ]
     },
     "metadata": {},
     "output_type": "display_data"
    },
    {
     "data": {
      "image/png": "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\n",
      "text/plain": [
       "<Figure size 432x288 with 1 Axes>"
      ]
     },
     "metadata": {
      "needs_background": "light"
     },
     "output_type": "display_data"
    }
   ],
   "source": [
    "# Делаем группировкой по уровню дохода: \n",
    "data_total_income_category_group = data.groupby('total_income_category')['debt'].agg(['count','sum','mean'])\n",
    "data_total_income_category_group.columns = ['Заемщиков', 'Просрочек', 'Доля просрочек, %']\n",
    "data_total_income_category_group.index.names = ['Уровень дохода']\n",
    "data_total_income_category_group['Доля просрочек, %'] = data_total_income_category_group['Доля просрочек, %'].round(4)*100\n",
    "data_total_income_category_group['Доля просрочек, %'].sort_values(ascending=False)\\\n",
    "    .plot(kind='bar', title='Доля просрочек по уровню дохода',\\\n",
    "          color='b', alpha=.4, rot=0);\n",
    "display(data_total_income_category_group.reset_index()) \n"
   ]
  },
  {
   "cell_type": "markdown",
   "id": "578093af",
   "metadata": {
    "deletable": false,
    "id": "e8593def"
   },
   "source": [
    "**Вывод:** У клиентов с минимальным доходом(категории Е) шанс задержки платежа - 9,1%, что выше чем у остальных групп. Минимальный у клиентов с высоким доходом(категории А) - 6% шанс задержки платежа."
   ]
  },
  {
   "cell_type": "markdown",
   "id": "5e4e92cd",
   "metadata": {},
   "source": [
    "<div class=\"alert alert-success\">\n",
    "<h2> Комментарий ревьюера <a class=\"tocSkip\"> </h2>\n",
    "\n",
    "👍 Отлично\n",
    "</div>\n",
    "\n"
   ]
  },
  {
   "cell_type": "markdown",
   "id": "ed0c1205",
   "metadata": {
    "deletable": false,
    "editable": false,
    "id": "99ecbd1f"
   },
   "source": [
    "#### 3.4 Как разные цели кредита влияют на его возврат в срок?"
   ]
  },
  {
   "cell_type": "code",
   "execution_count": 92,
   "id": "cea44814",
   "metadata": {
    "deletable": false,
    "id": "2b687290",
    "scrolled": true
   },
   "outputs": [
    {
     "data": {
      "text/html": [
       "<div>\n",
       "<style scoped>\n",
       "    .dataframe tbody tr th:only-of-type {\n",
       "        vertical-align: middle;\n",
       "    }\n",
       "\n",
       "    .dataframe tbody tr th {\n",
       "        vertical-align: top;\n",
       "    }\n",
       "\n",
       "    .dataframe thead th {\n",
       "        text-align: right;\n",
       "    }\n",
       "</style>\n",
       "<table border=\"1\" class=\"dataframe\">\n",
       "  <thead>\n",
       "    <tr style=\"text-align: right;\">\n",
       "      <th></th>\n",
       "      <th>Цель кредита</th>\n",
       "      <th>Заемщиков</th>\n",
       "      <th>Просрочек</th>\n",
       "      <th>Доля просрочек, %</th>\n",
       "    </tr>\n",
       "  </thead>\n",
       "  <tbody>\n",
       "    <tr>\n",
       "      <th>0</th>\n",
       "      <td>операции с автомобилем</td>\n",
       "      <td>4279</td>\n",
       "      <td>400</td>\n",
       "      <td>9.35</td>\n",
       "    </tr>\n",
       "    <tr>\n",
       "      <th>1</th>\n",
       "      <td>операции с недвижимостью</td>\n",
       "      <td>10751</td>\n",
       "      <td>780</td>\n",
       "      <td>7.26</td>\n",
       "    </tr>\n",
       "    <tr>\n",
       "      <th>2</th>\n",
       "      <td>получение образования</td>\n",
       "      <td>3988</td>\n",
       "      <td>369</td>\n",
       "      <td>9.25</td>\n",
       "    </tr>\n",
       "    <tr>\n",
       "      <th>3</th>\n",
       "      <td>проведение свадьбы</td>\n",
       "      <td>2313</td>\n",
       "      <td>183</td>\n",
       "      <td>7.91</td>\n",
       "    </tr>\n",
       "  </tbody>\n",
       "</table>\n",
       "</div>"
      ],
      "text/plain": [
       "               Цель кредита  Заемщиков  Просрочек  Доля просрочек, %\n",
       "0    операции с автомобилем       4279        400               9.35\n",
       "1  операции с недвижимостью      10751        780               7.26\n",
       "2     получение образования       3988        369               9.25\n",
       "3        проведение свадьбы       2313        183               7.91"
      ]
     },
     "metadata": {},
     "output_type": "display_data"
    },
    {
     "data": {
      "image/png": "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\n",
      "text/plain": [
       "<Figure size 432x288 with 1 Axes>"
      ]
     },
     "metadata": {
      "needs_background": "light"
     },
     "output_type": "display_data"
    }
   ],
   "source": [
    "# Делаем группировкой по целям кредита:\n",
    "data_purpose_category_category_group = data.groupby('purpose_category')['debt'].agg(['count','sum','mean'])\n",
    "data_purpose_category_category_group.columns = ['Заемщиков', 'Просрочек', 'Доля просрочек, %']\n",
    "data_purpose_category_category_group.index.names = ['Цель кредита']\n",
    "data_purpose_category_category_group['Доля просрочек, %'] = data_purpose_category_category_group['Доля просрочек, %'].round(4)*100\n",
    "data_purpose_category_category_group['Доля просрочек, %'].sort_values(ascending=False)\\\n",
    "    .plot(kind='bar', title='Доля просрочек по целям кредита',\\\n",
    "          color='b', alpha=.4, rot=7);\n",
    "display(data_purpose_category_category_group.reset_index()) \n"
   ]
  },
  {
   "cell_type": "markdown",
   "id": "db806dd2",
   "metadata": {
    "deletable": false,
    "id": "b4bb2ce6"
   },
   "source": [
    "**Вывод:** \n",
    "Минимальный шанс задержки платежа у категории \"операции с недвижимостью\" - 7,3%. \n",
    "Максимальный шанс задержки платежа у двух категорий: \"операции с автомобилем\" и \"получение образования\". Их показатель соствляают - 9,3%. "
   ]
  },
  {
   "cell_type": "markdown",
   "id": "267b3a4d",
   "metadata": {},
   "source": [
    "<div class=\"alert alert-warning\">\n",
    "<h2> Комментарий ревьюера <a class=\"tocSkip\"> </h2>\n",
    "    \n",
    "<b>Некоторые замечания и рекомендации💡:</b> \n",
    "\n",
    "Здесь также можно перечислить две рисковые категории, тем более, что по показателям они близки.\n",
    "       \n",
    "</div>"
   ]
  },
  {
   "cell_type": "markdown",
   "id": "4c1dcc87",
   "metadata": {
    "deletable": false,
    "editable": false,
    "id": "09c3ac4c"
   },
   "source": [
    "#### 3.5 Приведите возможные причины появления пропусков в исходных данных."
   ]
  },
  {
   "cell_type": "markdown",
   "id": "147e5fbc",
   "metadata": {
    "deletable": false,
    "id": "9da2ceda"
   },
   "source": [
    "*Ответ:* Пропуски в данных появляются разными путями. Например, пользователь не указал о себе какие-нибудь сведения или автоматизированная система сбора информации дала сбой. Иногда пропуски оставляют умышленно, рассчитывая на автозаполнение спецсимволами."
   ]
  },
  {
   "cell_type": "markdown",
   "id": "5dbb92b0",
   "metadata": {},
   "source": [
    "<div class=\"alert alert-success\">\n",
    "<h2> Комментарий ревьюера <a class=\"tocSkip\"> </h2>\n",
    "\n",
    "👍 Ты указываешь наиболее вероятные гипотезы, а также перечисляешь две группы причин: технические и человеческий фактор. Отлично. Я думаю, еще есть вариант, что заемщики не захотели или не смогли документально подтвердить информацию о доходе и стаже.\n",
    "</div>\n"
   ]
  },
  {
   "cell_type": "markdown",
   "id": "240edb5b",
   "metadata": {
    "deletable": false,
    "editable": false,
    "id": "7b0487d6"
   },
   "source": [
    "#### 3.6 Объясните, почему заполнить пропуски медианным значением — лучшее решение для количественных переменных."
   ]
  },
  {
   "cell_type": "markdown",
   "id": "103da567",
   "metadata": {
    "deletable": false,
    "id": "7ecf2b8e"
   },
   "source": [
    "*Ответ:* \n",
    "Медиана показывает серединное значения в центре выборки. Она лучше подходит для оценки значений с большой дисперсией. \n",
    "\n",
    "Среднее и медиана оценивают значения в центре выборки. \n",
    "Если тех, кто зарабатывет много , столько же, сколько тех, кто зарабатывает мало, — среднее подойдёт. Но когда есть оторванные от основной массы лидеры, зарабатывающие кратно больше, их результаты сильно смещают значение среднего вверх. Вот почему оценивать предпочтения лучше медианой."
   ]
  },
  {
   "cell_type": "markdown",
   "id": "79f6c320",
   "metadata": {},
   "source": [
    "<div class=\"alert alert-success\">\n",
    "<h2> Комментарий ревьюера #2 <a class=\"tocSkip\"> </h2>\n",
    "\n",
    "👍 Здесь все отлично.\n",
    "</div>\n"
   ]
  },
  {
   "cell_type": "markdown",
   "id": "34d757e9",
   "metadata": {},
   "source": [
    "<div class=\"alert alert-block alert-danger\">\n",
    "<h2><s> Комментарий ревьюера <a class=\"tocSkip\"></h2>\n",
    "  \n",
    "<b>На доработку🤔:</b>\n",
    "    \n",
    "Не совсем. Среднее здесь не подойдет. Можно построить гистограмму и оценить значения в колонке со стажем или с доходом. Везде среднее и медиана будут различаться. В стаже − существенно.\n",
    "     \n",
    "К каким данным медиана устойчива, а среднее − нет? В каких случаях в выборке среднее и медиана различаются и почему медиана оказывается ближе к нашему ожидаемому значению в пропуске?\n",
    "\n",
    "\n",
    "</div>"
   ]
  },
  {
   "cell_type": "code",
   "execution_count": 26,
   "id": "ac3570a7",
   "metadata": {},
   "outputs": [
    {
     "data": {
      "text/plain": [
       "count      21,331.00\n",
       "mean      165,342.75\n",
       "std        98,313.99\n",
       "min        20,667.00\n",
       "25%       107,507.00\n",
       "50%       142,594.00\n",
       "75%       195,842.00\n",
       "max     2,265,604.00\n",
       "Name: total_income, dtype: float64"
      ]
     },
     "metadata": {},
     "output_type": "display_data"
    },
    {
     "data": {
      "image/png": "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\n",
      "text/plain": [
       "<Figure size 432x288 with 1 Axes>"
      ]
     },
     "metadata": {
      "needs_background": "light"
     },
     "output_type": "display_data"
    }
   ],
   "source": [
    "# код ревьюера\n",
    "import matplotlib.pyplot as plt # все импорты нужно делать строко вначале проекта. Оставлю здесь, чтобы понимать, что нужно подключить пакет\n",
    "pd.options.display.float_format = '{:,.2f}'.format\n",
    "\n",
    "\n",
    "display(data.total_income.describe())\n",
    "data.total_income.hist(bins=30)\n",
    "plt.title('Распределение доходов'); # импорт делали ради названия, в методе hist(), к сожалению, указать название графика нельзя"
   ]
  },
  {
   "cell_type": "markdown",
   "id": "5ff652f3",
   "metadata": {
    "deletable": false,
    "editable": false,
    "id": "6db5255a"
   },
   "source": [
    "### Шаг 4: общий вывод."
   ]
  },
  {
   "cell_type": "markdown",
   "id": "72677a04",
   "metadata": {
    "deletable": false,
    "id": "bad65432"
   },
   "source": [
    "Лучше выбирать будущих клиентов из числа потенциальных кредиторов:\n",
    "\n",
    "- С уровнем дохода выше среднего(Категория В и выше);\n",
    "\n",
    "- Без детей или с один ребенком, каждый последующий снижает платежеспосбноть;\n",
    "\n",
    "- Состоящие в браке, разведенные или вдовы/вдовцы;\n",
    "\n",
    "- С целями имеющими долгосрочные обязательства, например, кредит на покупку недвижимости или строительства;\n",
    "\n",
    "Самыми неблагонадежными категориями будут следующие:\n",
    "\n",
    "- С больше чем одним ребеннком;\n",
    "\n",
    "- Со средним и ниже среднего уровнем заработка(Категория C и ниже). От средней категории больше всего заявок на кредитование, поэтому надо быть осторожным.\n",
    "\n",
    "- Клиенты не находящиеся в официальном браке. Это две подкатегории: \"не женат / не замужем\" и \"гражданский брак\".\n",
    "\n",
    "- Клиенты с целью на кредита на автомобиль или образования."
   ]
  },
  {
   "cell_type": "markdown",
   "id": "e14008f5",
   "metadata": {},
   "source": [
    "<div class=\"alert alert-warning\">\n",
    "<h2> Комментарий ревьюера <a class=\"tocSkip\"> </h2>\n",
    "    \n",
    "<b>Некоторые замечания и рекомендации💡:</b> \n",
    "\n",
    "По выводу все хорошо. Я бы, возможно, отдельно выделил рисковые категории также. Заказчик будет работать именно с рисками.\n",
    "</div>"
   ]
  },
  {
   "cell_type": "markdown",
   "id": "a2570574",
   "metadata": {},
   "source": [
    "<div style=\"border:solid Chocolate 2px; padding: 40px\">\n",
    "\n",
    "**Общий вывод по проверке**\n",
    "\n",
    "У тебя получился хороший проект. Верные вычисления, много верных ответов.\n",
    "    \n",
    "Необходимо вывести в одной таблице всю интересующую нас информацию. В первом шаге уточнить выводы, а также вынести в общий вывод конкретику по повышенным рискам для заказчика.\n",
    "\n",
    "**Желаю удачи и жду твой проект на повторное ревью!**😉\n",
    "\n",
    "</div>"
   ]
  },
  {
   "cell_type": "markdown",
   "id": "80ffabbe",
   "metadata": {},
   "source": [
    "<div style=\"border:solid Chocolate 2px; padding: 40px\">\n",
    "\n",
    "**Комментарий ко второй проверке**\n",
    "\n",
    "Павел, привет еще раз!\n",
    "\n",
    "По доработке почти все ок. Осталось только определиться с первым комментарием в разбивке по детям. Ты пишешь, что разница не существенная, я в ответ объясняю, почему считаю иначе, ты не исправляешь комментарий. Предлагаю либо аргументировать позицию, если с ней не согласен, либо поправить комментарий, если принимаешь мою аргументацию. \n",
    "    \n",
    "Там же ты спрашиваешь про таблицы, не совсем понял вопрос. Все таблицы ты уже сделал верно, дополнительно ничего выводить не нужно по требованиям проекта. Можно сделать визуализацию, но это по желанию. Если есть такое желание, могу помочь и подсказать.\n",
    "\n",
    "\n",
    "**Желаю удачи и жду твой проект на повторное ревью!**😉\n",
    "</div>\n",
    "\n"
   ]
  },
  {
   "cell_type": "markdown",
   "id": "b3c7ca5e",
   "metadata": {},
   "source": [
    "<div class=\"alert alert-block alert-info\">\n",
    "Я имел ввиду график, гистограмму. Описался.\n",
    "\n",
    "Да, давай попрбуем сделать визуализацию. Подсказки мне понадобяться. Я вчера читал про графики, и пытался разобраться сам, но не вышло. "
   ]
  },
  {
   "cell_type": "markdown",
   "id": "95c44c84",
   "metadata": {},
   "source": [
    "<div class=\"alert alert-success\">\n",
    "<h2> Комментарий ревьюера #3 <a class=\"tocSkip\"> </h2>\n",
    "\n",
    "👍 Ок, круто-круто. Я тогда попробую дать подсказки и ссылки здесь - в конце проекта, а ты тогд добавишь графики выше.\n",
    "\n",
    "Итак, самый ответственный шаг − выбрать тип графика. Гистограмма − график плотности распределения - показывает, насколько распределены разные значения одной метрики. У нас несколько метрик, нам эта история не подходит.\n",
    "    \n",
    "Линейный график − показывает изменение показателя метрики во времени − тоже мимо. Стобчатая диаграмма − сравнивает метрики между собой. То, что нужно. По-английски будет barplot.\n",
    "    \n",
    "Второй шаг: выбираем инструменты. Проще всего построить график с помощью встроенных инструментов. Мы формируем таблицу с двумя столбцами - один из них будет названием метрики, второй − количественной характеристикой. \n",
    "    \n",
    "В нашем случае важнее всего посмотреть на долю просрочек. Поэтому будем делать такую таблицу: категория − доля просрочек.\n",
    "    \n",
    "Ниже я сделаю также код группировкой - это альтернативный вариант выполнения задания. \n",
    "    \n",
    "Да! И важная история с оформлением: все графики во всех проектах должны быть подписаны. Названия меток на осях − не наползать друг на друга. \n",
    "    \n",
    "Перейдем к коду.\n",
    "</div>\n"
   ]
  },
  {
   "cell_type": "code",
   "execution_count": 28,
   "id": "0c3c5a9b",
   "metadata": {
    "scrolled": true
   },
   "outputs": [
    {
     "data": {
      "text/html": [
       "<div>\n",
       "<style scoped>\n",
       "    .dataframe tbody tr th:only-of-type {\n",
       "        vertical-align: middle;\n",
       "    }\n",
       "\n",
       "    .dataframe tbody tr th {\n",
       "        vertical-align: top;\n",
       "    }\n",
       "\n",
       "    .dataframe thead th {\n",
       "        text-align: right;\n",
       "    }\n",
       "</style>\n",
       "<table border=\"1\" class=\"dataframe\">\n",
       "  <thead>\n",
       "    <tr style=\"text-align: right;\">\n",
       "      <th></th>\n",
       "      <th>Заемщиков</th>\n",
       "      <th>Просрочек</th>\n",
       "      <th>Доля просрочек, %</th>\n",
       "    </tr>\n",
       "    <tr>\n",
       "      <th>Детей</th>\n",
       "      <th></th>\n",
       "      <th></th>\n",
       "      <th></th>\n",
       "    </tr>\n",
       "  </thead>\n",
       "  <tbody>\n",
       "    <tr>\n",
       "      <th>операции с автомобилем</th>\n",
       "      <td>4279</td>\n",
       "      <td>400</td>\n",
       "      <td>9.35</td>\n",
       "    </tr>\n",
       "    <tr>\n",
       "      <th>операции с недвижимостью</th>\n",
       "      <td>10751</td>\n",
       "      <td>780</td>\n",
       "      <td>7.26</td>\n",
       "    </tr>\n",
       "    <tr>\n",
       "      <th>получение образования</th>\n",
       "      <td>3988</td>\n",
       "      <td>369</td>\n",
       "      <td>9.25</td>\n",
       "    </tr>\n",
       "    <tr>\n",
       "      <th>проведение свадьбы</th>\n",
       "      <td>2313</td>\n",
       "      <td>183</td>\n",
       "      <td>7.91</td>\n",
       "    </tr>\n",
       "  </tbody>\n",
       "</table>\n",
       "</div>"
      ],
      "text/plain": [
       "                          Заемщиков  Просрочек  Доля просрочек, %\n",
       "Детей                                                            \n",
       "операции с автомобилем         4279        400               9.35\n",
       "операции с недвижимостью      10751        780               7.26\n",
       "получение образования          3988        369               9.25\n",
       "проведение свадьбы             2313        183               7.91"
      ]
     },
     "metadata": {},
     "output_type": "display_data"
    }
   ],
   "source": [
    "# код ревьюера. Возьму по категориям, так как там длинные названия.\n",
    "\n",
    "# Делаем группировкой:\n",
    "data_purpose_group = data.groupby('purpose_category')['debt'].agg(['count','sum','mean'])\n",
    "data_purpose_group.columns = ['Заемщиков', 'Просрочек', 'Доля просрочек, %']\n",
    "data_purpose_group.index.names = ['Детей']\n",
    "data_purpose_group['Доля просрочек, %'] = data_purpose_group['Доля просрочек, %'].round(4)*100\n",
    "display(data_purpose_group) \n"
   ]
  },
  {
   "cell_type": "code",
   "execution_count": 29,
   "id": "ad49f2c1",
   "metadata": {
    "scrolled": true
   },
   "outputs": [
    {
     "data": {
      "text/plain": [
       "<AxesSubplot:title={'center':'Доля просрочек по целям кредита'}, xlabel='Детей'>"
      ]
     },
     "execution_count": 29,
     "metadata": {},
     "output_type": "execute_result"
    },
    {
     "data": {
      "image/png": "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\n",
      "text/plain": [
       "<Figure size 432x288 with 1 Axes>"
      ]
     },
     "metadata": {
      "needs_background": "light"
     },
     "output_type": "display_data"
    }
   ],
   "source": [
    "# Ага, вот здесь мы просто подаем таблицу - в итоге у нас считаются все три метрики, а названия осей вертикализировались.\n",
    "# Кроме того, мы выводим служебную информацию. Она нам не нужна тут. \n",
    "data_purpose_group.plot(kind='bar', title='Доля просрочек по целям кредита')"
   ]
  },
  {
   "cell_type": "code",
   "execution_count": 30,
   "id": "91ccf7e3",
   "metadata": {},
   "outputs": [
    {
     "data": {
      "image/png": "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\n",
      "text/plain": [
       "<Figure size 432x288 with 1 Axes>"
      ]
     },
     "metadata": {
      "needs_background": "light"
     },
     "output_type": "display_data"
    }
   ],
   "source": [
    "# Попробуем все исправить. Служебную информацию убираем с помощью знака «;» после графика.\n",
    "# Вращаем оси с помощью параметра \"rot\"\n",
    "# Подаем только нужную колонку\n",
    "data_purpose_group['Доля просрочек, %'].plot(kind='bar', title='Доля просрочек по целям кредита', rot=10);"
   ]
  },
  {
   "cell_type": "code",
   "execution_count": 35,
   "id": "206c8eb9",
   "metadata": {
    "scrolled": true
   },
   "outputs": [
    {
     "data": {
      "image/png": "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\n",
      "text/plain": [
       "<Figure size 432x288 with 1 Axes>"
      ]
     },
     "metadata": {
      "needs_background": "light"
     },
     "output_type": "display_data"
    }
   ],
   "source": [
    "# Ага, мы почти у цели. Нужно только отсортировать значений. Ну и поменяем цвет графика с дежурного синего.\n",
    "data_purpose_group['Доля просрочек, %'].sort_values(ascending=False)\\\n",
    "    .plot(kind='bar', title='Доля просрочек по целям кредита',\\\n",
    "          color='y', alpha=.4, rot=10);"
   ]
  },
  {
   "cell_type": "markdown",
   "id": "e6f524fb",
   "metadata": {},
   "source": [
    "<div class=\"alert alert-success\">\n",
    "<h2> Комментарий ревьюера #3 <a class=\"tocSkip\"> </h2>\n",
    "\n",
    "👍 Я расписал по шагам, но понятно, что нужно сразу вывести такой график, как последний.\n",
    "    \n",
    "По визуализации примеры кода можно подсмотреть здесь: https://habr.com/ru/post/468295/\n",
    "</div>\n",
    "\n"
   ]
  },
  {
   "cell_type": "markdown",
   "id": "6dcf86ea",
   "metadata": {},
   "source": [
    "<div style=\"border:solid Chocolate 2px; padding: 40px\">\n",
    "\n",
    "**Комментарий к проверке**\n",
    "\n",
    "По проекту все отлично, принимается. По визуализации объяснил, как что можно отрисовать. Отправляю проект на доработку, чтобы дать обратную связь по графикам.\n",
    "\n",
    "**Желаю удачи и жду твой проект на повторное ревью!**😉\n",
    "</div>"
   ]
  },
  {
   "cell_type": "markdown",
   "id": "65612ede",
   "metadata": {},
   "source": [
    "<div class=\"alert alert-block alert-info\">\n",
    "Спасибо за подробное объяснение. С визуализацией вроде бы разобрался, и добавил её. "
   ]
  },
  {
   "cell_type": "markdown",
   "id": "3a6c30ad",
   "metadata": {},
   "source": [
    "<div style=\"border:solid Chocolate 2px; padding: 40px\">\n",
    "\n",
    "**Комментарий к финальной проверке**\n",
    "\n",
    "Да, по графикам все ок :)\n",
    "\n",
    "Спасибо за доработку.\n",
    "\n",
    "Желаю удачи в дальнейшей учебе!\n",
    "\n",
    "</div>\n"
   ]
  },
  {
   "cell_type": "code",
   "execution_count": null,
   "id": "6781613d",
   "metadata": {},
   "outputs": [],
   "source": []
  }
 ],
 "metadata": {
  "ExecuteTimeLog": [
   {
    "duration": 48,
    "start_time": "2022-12-08T12:27:51.110Z"
   },
   {
    "duration": 6,
    "start_time": "2022-12-08T12:28:02.553Z"
   },
   {
    "duration": 8,
    "start_time": "2022-12-08T12:28:37.418Z"
   },
   {
    "duration": 7,
    "start_time": "2022-12-08T12:32:16.977Z"
   },
   {
    "duration": 8,
    "start_time": "2022-12-08T12:32:24.723Z"
   },
   {
    "duration": 7,
    "start_time": "2022-12-08T12:32:36.995Z"
   },
   {
    "duration": 8,
    "start_time": "2022-12-08T12:32:41.621Z"
   },
   {
    "duration": 588,
    "start_time": "2022-12-08T12:33:09.174Z"
   },
   {
    "duration": 24,
    "start_time": "2022-12-08T12:33:09.764Z"
   },
   {
    "duration": 16,
    "start_time": "2022-12-08T12:33:09.790Z"
   },
   {
    "duration": 11,
    "start_time": "2022-12-08T12:33:09.808Z"
   },
   {
    "duration": 60,
    "start_time": "2022-12-08T12:33:09.821Z"
   },
   {
    "duration": 5,
    "start_time": "2022-12-08T12:33:09.882Z"
   },
   {
    "duration": 13,
    "start_time": "2022-12-08T12:33:09.889Z"
   },
   {
    "duration": 5,
    "start_time": "2022-12-08T12:33:09.904Z"
   },
   {
    "duration": 13,
    "start_time": "2022-12-08T12:33:09.910Z"
   },
   {
    "duration": 4,
    "start_time": "2022-12-08T12:33:09.926Z"
   },
   {
    "duration": 76,
    "start_time": "2022-12-08T12:33:09.933Z"
   },
   {
    "duration": 15,
    "start_time": "2022-12-08T12:33:10.011Z"
   },
   {
    "duration": 9,
    "start_time": "2022-12-08T12:33:10.028Z"
   },
   {
    "duration": 20,
    "start_time": "2022-12-08T12:33:10.039Z"
   },
   {
    "duration": 31,
    "start_time": "2022-12-08T12:33:10.078Z"
   },
   {
    "duration": 19,
    "start_time": "2022-12-08T12:33:10.111Z"
   },
   {
    "duration": 4,
    "start_time": "2022-12-08T12:33:10.132Z"
   },
   {
    "duration": 15,
    "start_time": "2022-12-08T12:33:10.137Z"
   },
   {
    "duration": 31,
    "start_time": "2022-12-08T12:33:10.154Z"
   },
   {
    "duration": 24,
    "start_time": "2022-12-08T12:33:10.187Z"
   },
   {
    "duration": 12,
    "start_time": "2022-12-08T12:33:10.215Z"
   },
   {
    "duration": 23,
    "start_time": "2022-12-08T12:33:11.725Z"
   },
   {
    "duration": 19,
    "start_time": "2022-12-08T12:33:30.350Z"
   },
   {
    "duration": 15,
    "start_time": "2022-12-08T12:37:22.315Z"
   },
   {
    "duration": 16,
    "start_time": "2022-12-08T12:38:19.526Z"
   },
   {
    "duration": 12,
    "start_time": "2022-12-08T12:38:42.958Z"
   },
   {
    "duration": 114,
    "start_time": "2022-12-08T12:39:29.134Z"
   },
   {
    "duration": 16,
    "start_time": "2022-12-08T12:39:38.265Z"
   },
   {
    "duration": 12,
    "start_time": "2022-12-08T12:39:44.228Z"
   },
   {
    "duration": 13,
    "start_time": "2022-12-08T12:40:37.432Z"
   },
   {
    "duration": 0,
    "start_time": "2022-12-08T12:42:19.971Z"
   },
   {
    "duration": 0,
    "start_time": "2022-12-08T12:42:41.931Z"
   },
   {
    "duration": 1814,
    "start_time": "2022-12-08T12:42:44.045Z"
   },
   {
    "duration": 1638,
    "start_time": "2022-12-08T12:43:12.160Z"
   },
   {
    "duration": 64,
    "start_time": "2022-12-08T12:43:25.140Z"
   },
   {
    "duration": 14,
    "start_time": "2022-12-08T12:43:25.206Z"
   },
   {
    "duration": 15,
    "start_time": "2022-12-08T12:43:25.221Z"
   },
   {
    "duration": 8,
    "start_time": "2022-12-08T12:43:25.238Z"
   },
   {
    "duration": 54,
    "start_time": "2022-12-08T12:43:25.247Z"
   },
   {
    "duration": 4,
    "start_time": "2022-12-08T12:43:25.303Z"
   },
   {
    "duration": 17,
    "start_time": "2022-12-08T12:43:25.308Z"
   },
   {
    "duration": 4,
    "start_time": "2022-12-08T12:43:25.326Z"
   },
   {
    "duration": 8,
    "start_time": "2022-12-08T12:43:25.331Z"
   },
   {
    "duration": 9,
    "start_time": "2022-12-08T12:43:25.342Z"
   },
   {
    "duration": 47,
    "start_time": "2022-12-08T12:43:25.352Z"
   },
   {
    "duration": 8,
    "start_time": "2022-12-08T12:43:25.401Z"
   },
   {
    "duration": 8,
    "start_time": "2022-12-08T12:43:25.410Z"
   },
   {
    "duration": 12,
    "start_time": "2022-12-08T12:43:25.420Z"
   },
   {
    "duration": 22,
    "start_time": "2022-12-08T12:43:25.433Z"
   },
   {
    "duration": 31,
    "start_time": "2022-12-08T12:43:25.457Z"
   },
   {
    "duration": 4,
    "start_time": "2022-12-08T12:43:25.489Z"
   },
   {
    "duration": 24,
    "start_time": "2022-12-08T12:43:25.494Z"
   },
   {
    "duration": 9,
    "start_time": "2022-12-08T12:43:25.520Z"
   },
   {
    "duration": 4,
    "start_time": "2022-12-08T12:43:25.530Z"
   },
   {
    "duration": 10,
    "start_time": "2022-12-08T12:43:25.536Z"
   },
   {
    "duration": 31,
    "start_time": "2022-12-08T12:43:25.548Z"
   },
   {
    "duration": 13,
    "start_time": "2022-12-08T12:43:25.580Z"
   },
   {
    "duration": 1663,
    "start_time": "2022-12-08T12:43:25.595Z"
   },
   {
    "duration": 1958,
    "start_time": "2022-12-08T12:43:27.565Z"
   },
   {
    "duration": 114,
    "start_time": "2022-12-08T12:43:37.436Z"
   },
   {
    "duration": 13,
    "start_time": "2022-12-08T12:43:44.480Z"
   },
   {
    "duration": 13,
    "start_time": "2022-12-08T12:50:10.533Z"
   },
   {
    "duration": 13,
    "start_time": "2022-12-08T12:50:14.229Z"
   },
   {
    "duration": 12,
    "start_time": "2022-12-08T12:51:54.869Z"
   },
   {
    "duration": 16,
    "start_time": "2022-12-08T12:51:59.590Z"
   },
   {
    "duration": 23,
    "start_time": "2022-12-08T12:54:28.203Z"
   },
   {
    "duration": 22,
    "start_time": "2022-12-08T12:55:29.466Z"
   },
   {
    "duration": 102,
    "start_time": "2022-12-08T12:55:37.487Z"
   },
   {
    "duration": 105,
    "start_time": "2022-12-08T12:55:47.963Z"
   },
   {
    "duration": 25,
    "start_time": "2022-12-08T12:55:50.797Z"
   },
   {
    "duration": 23,
    "start_time": "2022-12-08T12:56:02.430Z"
   },
   {
    "duration": 23,
    "start_time": "2022-12-08T12:56:18.321Z"
   },
   {
    "duration": 21,
    "start_time": "2022-12-08T13:55:43.048Z"
   },
   {
    "duration": 21,
    "start_time": "2022-12-08T13:55:53.449Z"
   },
   {
    "duration": 12,
    "start_time": "2022-12-08T13:56:11.690Z"
   },
   {
    "duration": 21,
    "start_time": "2022-12-08T13:57:10.594Z"
   },
   {
    "duration": 16,
    "start_time": "2022-12-08T13:57:16.096Z"
   },
   {
    "duration": 18,
    "start_time": "2022-12-08T13:57:16.931Z"
   },
   {
    "duration": 15,
    "start_time": "2022-12-08T13:57:25.939Z"
   },
   {
    "duration": 15,
    "start_time": "2022-12-08T13:57:34.472Z"
   },
   {
    "duration": 14,
    "start_time": "2022-12-08T13:57:52.700Z"
   },
   {
    "duration": 14,
    "start_time": "2022-12-08T13:58:10.834Z"
   },
   {
    "duration": 16,
    "start_time": "2022-12-08T13:58:44.126Z"
   },
   {
    "duration": 14,
    "start_time": "2022-12-08T14:00:02.304Z"
   },
   {
    "duration": 16,
    "start_time": "2022-12-08T14:00:06.981Z"
   },
   {
    "duration": 19,
    "start_time": "2022-12-08T14:04:02.148Z"
   },
   {
    "duration": 16,
    "start_time": "2022-12-08T14:05:00.396Z"
   },
   {
    "duration": 17,
    "start_time": "2022-12-08T14:05:07.495Z"
   },
   {
    "duration": 14,
    "start_time": "2022-12-08T14:05:09.609Z"
   },
   {
    "duration": 72,
    "start_time": "2022-12-08T14:05:47.960Z"
   },
   {
    "duration": 17,
    "start_time": "2022-12-08T14:05:51.037Z"
   },
   {
    "duration": 14,
    "start_time": "2022-12-08T14:07:38.606Z"
   },
   {
    "duration": 20,
    "start_time": "2022-12-08T14:12:18.223Z"
   },
   {
    "duration": 17,
    "start_time": "2022-12-08T14:12:37.983Z"
   },
   {
    "duration": 16,
    "start_time": "2022-12-08T14:13:09.559Z"
   },
   {
    "duration": 96,
    "start_time": "2022-12-08T14:14:23.821Z"
   },
   {
    "duration": 79,
    "start_time": "2022-12-08T14:14:25.991Z"
   },
   {
    "duration": 4,
    "start_time": "2022-12-08T14:16:10.129Z"
   },
   {
    "duration": 18,
    "start_time": "2022-12-08T14:17:10.223Z"
   },
   {
    "duration": 17,
    "start_time": "2022-12-08T14:17:18.129Z"
   },
   {
    "duration": 21,
    "start_time": "2022-12-08T14:17:23.270Z"
   },
   {
    "duration": 13,
    "start_time": "2022-12-08T14:18:01.394Z"
   },
   {
    "duration": 13,
    "start_time": "2022-12-08T14:18:07.187Z"
   },
   {
    "duration": 14,
    "start_time": "2022-12-08T14:18:16.108Z"
   },
   {
    "duration": 13,
    "start_time": "2022-12-08T14:18:17.555Z"
   },
   {
    "duration": 15,
    "start_time": "2022-12-08T14:18:29.868Z"
   },
   {
    "duration": 15,
    "start_time": "2022-12-08T14:18:34.297Z"
   },
   {
    "duration": 17,
    "start_time": "2022-12-08T14:18:40.336Z"
   },
   {
    "duration": 15,
    "start_time": "2022-12-08T14:18:42.345Z"
   },
   {
    "duration": 17,
    "start_time": "2022-12-08T14:18:45.198Z"
   },
   {
    "duration": 17,
    "start_time": "2022-12-08T14:18:47.750Z"
   },
   {
    "duration": 16,
    "start_time": "2022-12-08T14:19:29.612Z"
   },
   {
    "duration": 15,
    "start_time": "2022-12-08T14:19:38.313Z"
   },
   {
    "duration": 16,
    "start_time": "2022-12-08T14:19:43.854Z"
   },
   {
    "duration": 38,
    "start_time": "2022-12-08T14:20:30.688Z"
   },
   {
    "duration": 20,
    "start_time": "2022-12-08T14:20:37.762Z"
   },
   {
    "duration": 14,
    "start_time": "2022-12-08T14:21:46.149Z"
   },
   {
    "duration": 15,
    "start_time": "2022-12-08T14:21:55.627Z"
   },
   {
    "duration": 14,
    "start_time": "2022-12-08T14:33:25.832Z"
   },
   {
    "duration": 10,
    "start_time": "2022-12-08T14:33:29.897Z"
   },
   {
    "duration": 16,
    "start_time": "2022-12-08T14:33:36.039Z"
   },
   {
    "duration": 14,
    "start_time": "2022-12-08T14:38:24.737Z"
   },
   {
    "duration": 3,
    "start_time": "2022-12-08T14:54:11.095Z"
   },
   {
    "duration": 17,
    "start_time": "2022-12-08T14:54:54.465Z"
   },
   {
    "duration": 10,
    "start_time": "2022-12-08T14:55:33.854Z"
   },
   {
    "duration": 15,
    "start_time": "2022-12-08T14:55:38.896Z"
   },
   {
    "duration": 18,
    "start_time": "2022-12-08T14:59:29.081Z"
   },
   {
    "duration": 15,
    "start_time": "2022-12-08T15:09:25.694Z"
   },
   {
    "duration": 12,
    "start_time": "2022-12-08T15:09:29.341Z"
   },
   {
    "duration": 19,
    "start_time": "2022-12-08T15:14:30.109Z"
   },
   {
    "duration": 18,
    "start_time": "2022-12-08T15:14:58.456Z"
   },
   {
    "duration": 18,
    "start_time": "2022-12-08T15:15:29.843Z"
   },
   {
    "duration": 23,
    "start_time": "2022-12-08T15:15:35.716Z"
   },
   {
    "duration": 14,
    "start_time": "2022-12-08T15:35:58.721Z"
   },
   {
    "duration": 16,
    "start_time": "2022-12-08T15:36:01.777Z"
   },
   {
    "duration": 697,
    "start_time": "2022-12-08T19:59:07.751Z"
   },
   {
    "duration": 25,
    "start_time": "2022-12-08T19:59:08.450Z"
   },
   {
    "duration": 15,
    "start_time": "2022-12-08T19:59:08.476Z"
   },
   {
    "duration": 8,
    "start_time": "2022-12-08T19:59:08.493Z"
   },
   {
    "duration": 54,
    "start_time": "2022-12-08T19:59:08.503Z"
   },
   {
    "duration": 4,
    "start_time": "2022-12-08T19:59:08.559Z"
   },
   {
    "duration": 18,
    "start_time": "2022-12-08T19:59:08.565Z"
   },
   {
    "duration": 11,
    "start_time": "2022-12-08T19:59:08.585Z"
   },
   {
    "duration": 12,
    "start_time": "2022-12-08T19:59:08.617Z"
   },
   {
    "duration": 9,
    "start_time": "2022-12-08T19:59:08.632Z"
   },
   {
    "duration": 34,
    "start_time": "2022-12-08T19:59:08.643Z"
   },
   {
    "duration": 12,
    "start_time": "2022-12-08T19:59:08.678Z"
   },
   {
    "duration": 6,
    "start_time": "2022-12-08T19:59:08.692Z"
   },
   {
    "duration": 31,
    "start_time": "2022-12-08T19:59:08.700Z"
   },
   {
    "duration": 32,
    "start_time": "2022-12-08T19:59:08.733Z"
   },
   {
    "duration": 15,
    "start_time": "2022-12-08T19:59:08.767Z"
   },
   {
    "duration": 3,
    "start_time": "2022-12-08T19:59:08.784Z"
   },
   {
    "duration": 42,
    "start_time": "2022-12-08T19:59:08.789Z"
   },
   {
    "duration": 24,
    "start_time": "2022-12-08T19:59:08.833Z"
   },
   {
    "duration": 7,
    "start_time": "2022-12-08T19:59:08.859Z"
   },
   {
    "duration": 11,
    "start_time": "2022-12-08T19:59:08.868Z"
   },
   {
    "duration": 19,
    "start_time": "2022-12-08T19:59:08.881Z"
   },
   {
    "duration": 19,
    "start_time": "2022-12-08T19:59:08.901Z"
   },
   {
    "duration": 25,
    "start_time": "2022-12-08T19:59:08.921Z"
   },
   {
    "duration": 15,
    "start_time": "2022-12-08T19:59:08.948Z"
   },
   {
    "duration": 520,
    "start_time": "2022-12-08T19:59:09.934Z"
   },
   {
    "duration": 239,
    "start_time": "2022-12-08T19:59:41.692Z"
   },
   {
    "duration": 156,
    "start_time": "2022-12-08T19:59:59.504Z"
   },
   {
    "duration": 165,
    "start_time": "2022-12-08T20:00:10.105Z"
   },
   {
    "duration": 245,
    "start_time": "2022-12-08T20:00:19.504Z"
   },
   {
    "duration": 166,
    "start_time": "2022-12-08T20:01:00.007Z"
   },
   {
    "duration": 163,
    "start_time": "2022-12-08T20:01:04.999Z"
   },
   {
    "duration": 146,
    "start_time": "2022-12-08T20:01:47.244Z"
   },
   {
    "duration": 159,
    "start_time": "2022-12-08T20:02:32.197Z"
   },
   {
    "duration": 145,
    "start_time": "2022-12-08T20:03:14.737Z"
   },
   {
    "duration": 169,
    "start_time": "2022-12-08T20:05:48.444Z"
   },
   {
    "duration": 164,
    "start_time": "2022-12-08T20:06:00.293Z"
   },
   {
    "duration": 161,
    "start_time": "2022-12-08T20:06:10.280Z"
   },
   {
    "duration": 156,
    "start_time": "2022-12-08T20:06:21.357Z"
   },
   {
    "duration": 722,
    "start_time": "2022-12-08T21:02:47.845Z"
   },
   {
    "duration": 20,
    "start_time": "2022-12-08T21:02:48.569Z"
   },
   {
    "duration": 15,
    "start_time": "2022-12-08T21:02:48.590Z"
   },
   {
    "duration": 10,
    "start_time": "2022-12-08T21:02:48.606Z"
   },
   {
    "duration": 51,
    "start_time": "2022-12-08T21:02:48.617Z"
   },
   {
    "duration": 3,
    "start_time": "2022-12-08T21:02:48.670Z"
   },
   {
    "duration": 10,
    "start_time": "2022-12-08T21:02:48.675Z"
   },
   {
    "duration": 4,
    "start_time": "2022-12-08T21:02:48.686Z"
   },
   {
    "duration": 8,
    "start_time": "2022-12-08T21:02:48.692Z"
   },
   {
    "duration": 4,
    "start_time": "2022-12-08T21:02:48.703Z"
   },
   {
    "duration": 47,
    "start_time": "2022-12-08T21:02:48.736Z"
   },
   {
    "duration": 10,
    "start_time": "2022-12-08T21:02:48.784Z"
   },
   {
    "duration": 6,
    "start_time": "2022-12-08T21:02:48.796Z"
   },
   {
    "duration": 20,
    "start_time": "2022-12-08T21:02:48.804Z"
   },
   {
    "duration": 38,
    "start_time": "2022-12-08T21:02:48.825Z"
   },
   {
    "duration": 17,
    "start_time": "2022-12-08T21:02:48.865Z"
   },
   {
    "duration": 4,
    "start_time": "2022-12-08T21:02:48.884Z"
   },
   {
    "duration": 13,
    "start_time": "2022-12-08T21:02:48.890Z"
   },
   {
    "duration": 10,
    "start_time": "2022-12-08T21:02:48.904Z"
   },
   {
    "duration": 30,
    "start_time": "2022-12-08T21:02:48.916Z"
   },
   {
    "duration": 19,
    "start_time": "2022-12-08T21:02:48.947Z"
   },
   {
    "duration": 101,
    "start_time": "2022-12-08T21:02:49.955Z"
   },
   {
    "duration": 29,
    "start_time": "2022-12-08T21:02:57.824Z"
   },
   {
    "duration": 27,
    "start_time": "2022-12-08T21:03:20.460Z"
   },
   {
    "duration": 34,
    "start_time": "2022-12-08T21:03:36.750Z"
   },
   {
    "duration": 3,
    "start_time": "2022-12-08T21:03:51.771Z"
   },
   {
    "duration": 14,
    "start_time": "2022-12-08T21:03:55.698Z"
   },
   {
    "duration": 74,
    "start_time": "2022-12-08T21:04:05.510Z"
   },
   {
    "duration": 16,
    "start_time": "2022-12-08T21:04:05.586Z"
   },
   {
    "duration": 33,
    "start_time": "2022-12-08T21:04:05.604Z"
   },
   {
    "duration": 19,
    "start_time": "2022-12-08T21:04:05.638Z"
   },
   {
    "duration": 44,
    "start_time": "2022-12-08T21:04:05.660Z"
   },
   {
    "duration": 3,
    "start_time": "2022-12-08T21:04:05.706Z"
   },
   {
    "duration": 20,
    "start_time": "2022-12-08T21:04:05.711Z"
   },
   {
    "duration": 11,
    "start_time": "2022-12-08T21:04:05.743Z"
   },
   {
    "duration": 12,
    "start_time": "2022-12-08T21:04:05.755Z"
   },
   {
    "duration": 5,
    "start_time": "2022-12-08T21:04:05.769Z"
   },
   {
    "duration": 40,
    "start_time": "2022-12-08T21:04:05.776Z"
   },
   {
    "duration": 11,
    "start_time": "2022-12-08T21:04:05.818Z"
   },
   {
    "duration": 17,
    "start_time": "2022-12-08T21:04:05.830Z"
   },
   {
    "duration": 13,
    "start_time": "2022-12-08T21:04:05.850Z"
   },
   {
    "duration": 22,
    "start_time": "2022-12-08T21:04:05.865Z"
   },
   {
    "duration": 18,
    "start_time": "2022-12-08T21:04:05.889Z"
   },
   {
    "duration": 4,
    "start_time": "2022-12-08T21:04:05.908Z"
   },
   {
    "duration": 34,
    "start_time": "2022-12-08T21:04:05.914Z"
   },
   {
    "duration": 6,
    "start_time": "2022-12-08T21:04:05.950Z"
   },
   {
    "duration": 15,
    "start_time": "2022-12-08T21:04:05.958Z"
   },
   {
    "duration": 15,
    "start_time": "2022-12-08T21:04:05.974Z"
   },
   {
    "duration": 17,
    "start_time": "2022-12-08T21:04:08.800Z"
   },
   {
    "duration": 16,
    "start_time": "2022-12-08T21:04:19.745Z"
   },
   {
    "duration": 15,
    "start_time": "2022-12-08T21:04:34.194Z"
   },
   {
    "duration": 13,
    "start_time": "2022-12-08T21:04:39.734Z"
   },
   {
    "duration": 18,
    "start_time": "2022-12-08T21:11:22.268Z"
   },
   {
    "duration": 16,
    "start_time": "2022-12-08T21:12:32.010Z"
   },
   {
    "duration": 16,
    "start_time": "2022-12-08T21:12:34.704Z"
   },
   {
    "duration": 17,
    "start_time": "2022-12-08T21:12:40.306Z"
   },
   {
    "duration": 13,
    "start_time": "2022-12-08T21:13:01.079Z"
   },
   {
    "duration": 16,
    "start_time": "2022-12-08T21:13:10.761Z"
   },
   {
    "duration": 22,
    "start_time": "2022-12-08T21:13:29.406Z"
   },
   {
    "duration": 25,
    "start_time": "2022-12-08T21:13:38.295Z"
   },
   {
    "duration": 14,
    "start_time": "2022-12-08T22:35:44.406Z"
   },
   {
    "duration": 702,
    "start_time": "2022-12-08T22:36:31.774Z"
   },
   {
    "duration": 24,
    "start_time": "2022-12-08T22:36:38.782Z"
   },
   {
    "duration": 28,
    "start_time": "2022-12-08T22:37:03.039Z"
   },
   {
    "duration": 26,
    "start_time": "2022-12-08T22:37:14.421Z"
   },
   {
    "duration": 738,
    "start_time": "2022-12-08T22:37:29.328Z"
   },
   {
    "duration": 31,
    "start_time": "2022-12-08T22:37:33.879Z"
   },
   {
    "duration": 17,
    "start_time": "2022-12-08T22:37:53.072Z"
   },
   {
    "duration": 14,
    "start_time": "2022-12-08T22:38:07.671Z"
   },
   {
    "duration": 18,
    "start_time": "2022-12-08T22:38:19.175Z"
   },
   {
    "duration": 13,
    "start_time": "2022-12-08T22:38:28.193Z"
   },
   {
    "duration": 14,
    "start_time": "2022-12-08T22:38:29.583Z"
   },
   {
    "duration": 15,
    "start_time": "2022-12-08T22:38:34.656Z"
   },
   {
    "duration": 18,
    "start_time": "2022-12-08T22:38:37.919Z"
   },
   {
    "duration": 931,
    "start_time": "2022-12-09T11:53:12.913Z"
   },
   {
    "duration": 22,
    "start_time": "2022-12-09T11:53:13.846Z"
   },
   {
    "duration": 18,
    "start_time": "2022-12-09T11:53:13.870Z"
   },
   {
    "duration": 11,
    "start_time": "2022-12-09T11:53:13.890Z"
   },
   {
    "duration": 48,
    "start_time": "2022-12-09T11:53:13.902Z"
   },
   {
    "duration": 3,
    "start_time": "2022-12-09T11:53:13.952Z"
   },
   {
    "duration": 13,
    "start_time": "2022-12-09T11:53:13.957Z"
   },
   {
    "duration": 5,
    "start_time": "2022-12-09T11:53:13.972Z"
   },
   {
    "duration": 9,
    "start_time": "2022-12-09T11:53:13.979Z"
   },
   {
    "duration": 5,
    "start_time": "2022-12-09T11:53:14.014Z"
   },
   {
    "duration": 39,
    "start_time": "2022-12-09T11:53:14.021Z"
   },
   {
    "duration": 10,
    "start_time": "2022-12-09T11:53:14.062Z"
   },
   {
    "duration": 5,
    "start_time": "2022-12-09T11:53:14.074Z"
   },
   {
    "duration": 36,
    "start_time": "2022-12-09T11:53:14.080Z"
   },
   {
    "duration": 23,
    "start_time": "2022-12-09T11:53:14.118Z"
   },
   {
    "duration": 18,
    "start_time": "2022-12-09T11:53:14.143Z"
   },
   {
    "duration": 5,
    "start_time": "2022-12-09T11:53:14.163Z"
   },
   {
    "duration": 17,
    "start_time": "2022-12-09T11:53:14.169Z"
   },
   {
    "duration": 26,
    "start_time": "2022-12-09T11:53:14.188Z"
   },
   {
    "duration": 3,
    "start_time": "2022-12-09T11:53:14.216Z"
   },
   {
    "duration": 14,
    "start_time": "2022-12-09T11:53:14.221Z"
   },
   {
    "duration": 203,
    "start_time": "2022-12-09T11:53:14.435Z"
   },
   {
    "duration": 179,
    "start_time": "2022-12-09T11:53:39.664Z"
   },
   {
    "duration": 229,
    "start_time": "2022-12-09T11:54:00.445Z"
   },
   {
    "duration": 198,
    "start_time": "2022-12-09T11:54:04.008Z"
   },
   {
    "duration": 368,
    "start_time": "2022-12-09T11:54:08.302Z"
   },
   {
    "duration": 150,
    "start_time": "2022-12-09T11:54:12.298Z"
   },
   {
    "duration": 138,
    "start_time": "2022-12-09T11:54:17.974Z"
   },
   {
    "duration": 157,
    "start_time": "2022-12-09T11:54:21.300Z"
   },
   {
    "duration": 203,
    "start_time": "2022-12-09T11:54:25.420Z"
   },
   {
    "duration": 151,
    "start_time": "2022-12-09T11:54:31.133Z"
   },
   {
    "duration": 166,
    "start_time": "2022-12-09T11:54:37.796Z"
   },
   {
    "duration": 202,
    "start_time": "2022-12-09T11:54:49.214Z"
   },
   {
    "duration": 223,
    "start_time": "2022-12-09T11:54:57.585Z"
   },
   {
    "duration": 163,
    "start_time": "2022-12-09T11:55:23.154Z"
   },
   {
    "duration": 271,
    "start_time": "2022-12-09T11:56:00.557Z"
   },
   {
    "duration": 185,
    "start_time": "2022-12-09T11:56:53.479Z"
   },
   {
    "duration": 192,
    "start_time": "2022-12-09T11:57:23.535Z"
   },
   {
    "duration": 84,
    "start_time": "2022-12-09T12:00:52.944Z"
   },
   {
    "duration": 506,
    "start_time": "2022-12-09T12:01:15.641Z"
   },
   {
    "duration": 15,
    "start_time": "2022-12-09T12:01:16.149Z"
   },
   {
    "duration": 19,
    "start_time": "2022-12-09T12:01:16.166Z"
   },
   {
    "duration": 10,
    "start_time": "2022-12-09T12:01:16.187Z"
   },
   {
    "duration": 50,
    "start_time": "2022-12-09T12:01:16.199Z"
   },
   {
    "duration": 3,
    "start_time": "2022-12-09T12:01:16.251Z"
   },
   {
    "duration": 18,
    "start_time": "2022-12-09T12:01:16.256Z"
   },
   {
    "duration": 7,
    "start_time": "2022-12-09T12:01:16.275Z"
   },
   {
    "duration": 16,
    "start_time": "2022-12-09T12:01:16.283Z"
   },
   {
    "duration": 15,
    "start_time": "2022-12-09T12:01:16.301Z"
   },
   {
    "duration": 45,
    "start_time": "2022-12-09T12:01:16.318Z"
   },
   {
    "duration": 10,
    "start_time": "2022-12-09T12:01:16.364Z"
   },
   {
    "duration": 10,
    "start_time": "2022-12-09T12:01:16.376Z"
   },
   {
    "duration": 12,
    "start_time": "2022-12-09T12:01:16.388Z"
   },
   {
    "duration": 20,
    "start_time": "2022-12-09T12:01:16.413Z"
   },
   {
    "duration": 20,
    "start_time": "2022-12-09T12:01:16.435Z"
   },
   {
    "duration": 4,
    "start_time": "2022-12-09T12:01:16.456Z"
   },
   {
    "duration": 14,
    "start_time": "2022-12-09T12:01:16.461Z"
   },
   {
    "duration": 16,
    "start_time": "2022-12-09T12:01:16.477Z"
   },
   {
    "duration": 21,
    "start_time": "2022-12-09T12:01:16.495Z"
   },
   {
    "duration": 13,
    "start_time": "2022-12-09T12:01:16.518Z"
   },
   {
    "duration": 342,
    "start_time": "2022-12-09T12:01:16.740Z"
   },
   {
    "duration": 60,
    "start_time": "2022-12-09T12:01:37.107Z"
   },
   {
    "duration": 22,
    "start_time": "2022-12-09T12:03:22.419Z"
   },
   {
    "duration": 70,
    "start_time": "2022-12-09T12:03:29.356Z"
   },
   {
    "duration": 16,
    "start_time": "2022-12-09T12:03:29.428Z"
   },
   {
    "duration": 16,
    "start_time": "2022-12-09T12:03:29.446Z"
   },
   {
    "duration": 9,
    "start_time": "2022-12-09T12:03:29.464Z"
   },
   {
    "duration": 60,
    "start_time": "2022-12-09T12:03:29.474Z"
   },
   {
    "duration": 3,
    "start_time": "2022-12-09T12:03:29.536Z"
   },
   {
    "duration": 12,
    "start_time": "2022-12-09T12:03:29.541Z"
   },
   {
    "duration": 5,
    "start_time": "2022-12-09T12:03:29.554Z"
   },
   {
    "duration": 9,
    "start_time": "2022-12-09T12:03:29.560Z"
   },
   {
    "duration": 87,
    "start_time": "2022-12-09T12:03:29.571Z"
   },
   {
    "duration": 34,
    "start_time": "2022-12-09T12:03:29.659Z"
   },
   {
    "duration": 21,
    "start_time": "2022-12-09T12:03:29.695Z"
   },
   {
    "duration": 3,
    "start_time": "2022-12-09T12:03:29.718Z"
   },
   {
    "duration": 15,
    "start_time": "2022-12-09T12:03:29.722Z"
   },
   {
    "duration": 18,
    "start_time": "2022-12-09T12:03:29.738Z"
   },
   {
    "duration": 18,
    "start_time": "2022-12-09T12:03:29.758Z"
   },
   {
    "duration": 4,
    "start_time": "2022-12-09T12:03:29.777Z"
   },
   {
    "duration": 34,
    "start_time": "2022-12-09T12:03:29.782Z"
   },
   {
    "duration": 13,
    "start_time": "2022-12-09T12:03:29.817Z"
   },
   {
    "duration": 5,
    "start_time": "2022-12-09T12:03:29.832Z"
   },
   {
    "duration": 13,
    "start_time": "2022-12-09T12:03:29.839Z"
   },
   {
    "duration": 26,
    "start_time": "2022-12-09T12:03:29.854Z"
   },
   {
    "duration": 23,
    "start_time": "2022-12-09T12:03:30.768Z"
   },
   {
    "duration": 143,
    "start_time": "2022-12-09T12:03:38.322Z"
   },
   {
    "duration": 186,
    "start_time": "2022-12-09T12:04:09.279Z"
   },
   {
    "duration": 117,
    "start_time": "2022-12-09T12:07:06.144Z"
   },
   {
    "duration": 118,
    "start_time": "2022-12-09T12:07:18.754Z"
   },
   {
    "duration": 128,
    "start_time": "2022-12-09T12:07:48.947Z"
   },
   {
    "duration": 31,
    "start_time": "2022-12-09T12:10:09.722Z"
   },
   {
    "duration": 28,
    "start_time": "2022-12-09T12:10:25.471Z"
   },
   {
    "duration": 29,
    "start_time": "2022-12-09T12:10:35.913Z"
   },
   {
    "duration": 36,
    "start_time": "2022-12-09T12:10:48.988Z"
   },
   {
    "duration": 28,
    "start_time": "2022-12-09T12:11:00.757Z"
   },
   {
    "duration": 30,
    "start_time": "2022-12-09T12:11:24.298Z"
   },
   {
    "duration": 28,
    "start_time": "2022-12-09T12:11:32.831Z"
   },
   {
    "duration": 35,
    "start_time": "2022-12-09T12:11:49.547Z"
   },
   {
    "duration": 16,
    "start_time": "2022-12-09T12:12:32.641Z"
   },
   {
    "duration": 27,
    "start_time": "2022-12-09T12:14:49.385Z"
   },
   {
    "duration": 23,
    "start_time": "2022-12-09T12:15:40.474Z"
   },
   {
    "duration": 71,
    "start_time": "2022-12-09T12:15:44.743Z"
   },
   {
    "duration": 15,
    "start_time": "2022-12-09T12:15:44.816Z"
   },
   {
    "duration": 22,
    "start_time": "2022-12-09T12:15:44.833Z"
   },
   {
    "duration": 12,
    "start_time": "2022-12-09T12:15:44.857Z"
   },
   {
    "duration": 54,
    "start_time": "2022-12-09T12:15:44.871Z"
   },
   {
    "duration": 4,
    "start_time": "2022-12-09T12:15:44.927Z"
   },
   {
    "duration": 11,
    "start_time": "2022-12-09T12:15:44.932Z"
   },
   {
    "duration": 6,
    "start_time": "2022-12-09T12:15:44.945Z"
   },
   {
    "duration": 9,
    "start_time": "2022-12-09T12:15:44.953Z"
   },
   {
    "duration": 5,
    "start_time": "2022-12-09T12:15:44.965Z"
   },
   {
    "duration": 64,
    "start_time": "2022-12-09T12:15:44.971Z"
   },
   {
    "duration": 10,
    "start_time": "2022-12-09T12:15:45.036Z"
   },
   {
    "duration": 6,
    "start_time": "2022-12-09T12:15:45.048Z"
   },
   {
    "duration": 15,
    "start_time": "2022-12-09T12:15:45.056Z"
   },
   {
    "duration": 35,
    "start_time": "2022-12-09T12:15:45.073Z"
   },
   {
    "duration": 19,
    "start_time": "2022-12-09T12:15:45.114Z"
   },
   {
    "duration": 4,
    "start_time": "2022-12-09T12:15:45.135Z"
   },
   {
    "duration": 18,
    "start_time": "2022-12-09T12:15:45.141Z"
   },
   {
    "duration": 9,
    "start_time": "2022-12-09T12:15:45.161Z"
   },
   {
    "duration": 5,
    "start_time": "2022-12-09T12:15:45.172Z"
   },
   {
    "duration": 39,
    "start_time": "2022-12-09T12:15:45.178Z"
   },
   {
    "duration": 25,
    "start_time": "2022-12-09T12:15:45.220Z"
   },
   {
    "duration": 20,
    "start_time": "2022-12-09T12:15:45.247Z"
   },
   {
    "duration": 16,
    "start_time": "2022-12-09T12:15:46.583Z"
   },
   {
    "duration": 13,
    "start_time": "2022-12-09T12:16:18.416Z"
   },
   {
    "duration": 72,
    "start_time": "2022-12-09T12:17:01.542Z"
   },
   {
    "duration": 26,
    "start_time": "2022-12-09T12:18:40.927Z"
   },
   {
    "duration": 24,
    "start_time": "2022-12-09T12:18:47.143Z"
   },
   {
    "duration": 20,
    "start_time": "2022-12-09T12:21:45.575Z"
   },
   {
    "duration": 73,
    "start_time": "2022-12-09T12:21:55.870Z"
   },
   {
    "duration": 17,
    "start_time": "2022-12-09T12:21:55.945Z"
   },
   {
    "duration": 26,
    "start_time": "2022-12-09T12:21:55.964Z"
   },
   {
    "duration": 26,
    "start_time": "2022-12-09T12:21:55.993Z"
   },
   {
    "duration": 52,
    "start_time": "2022-12-09T12:21:56.021Z"
   },
   {
    "duration": 4,
    "start_time": "2022-12-09T12:21:56.075Z"
   },
   {
    "duration": 32,
    "start_time": "2022-12-09T12:21:56.082Z"
   },
   {
    "duration": 6,
    "start_time": "2022-12-09T12:21:56.116Z"
   },
   {
    "duration": 13,
    "start_time": "2022-12-09T12:21:56.124Z"
   },
   {
    "duration": 11,
    "start_time": "2022-12-09T12:21:56.140Z"
   },
   {
    "duration": 41,
    "start_time": "2022-12-09T12:21:56.152Z"
   },
   {
    "duration": 30,
    "start_time": "2022-12-09T12:21:56.195Z"
   },
   {
    "duration": 5,
    "start_time": "2022-12-09T12:21:56.227Z"
   },
   {
    "duration": 21,
    "start_time": "2022-12-09T12:21:56.234Z"
   },
   {
    "duration": 23,
    "start_time": "2022-12-09T12:21:56.257Z"
   },
   {
    "duration": 37,
    "start_time": "2022-12-09T12:21:56.281Z"
   },
   {
    "duration": 3,
    "start_time": "2022-12-09T12:21:56.321Z"
   },
   {
    "duration": 18,
    "start_time": "2022-12-09T12:21:56.326Z"
   },
   {
    "duration": 7,
    "start_time": "2022-12-09T12:21:56.346Z"
   },
   {
    "duration": 11,
    "start_time": "2022-12-09T12:21:56.355Z"
   },
   {
    "duration": 13,
    "start_time": "2022-12-09T12:21:56.368Z"
   },
   {
    "duration": 42,
    "start_time": "2022-12-09T12:21:56.382Z"
   },
   {
    "duration": 21,
    "start_time": "2022-12-09T12:22:17.197Z"
   },
   {
    "duration": 33,
    "start_time": "2022-12-09T12:22:47.715Z"
   },
   {
    "duration": 22,
    "start_time": "2022-12-09T12:22:55.415Z"
   },
   {
    "duration": 74,
    "start_time": "2022-12-09T12:23:18.428Z"
   },
   {
    "duration": 14,
    "start_time": "2022-12-09T12:23:18.504Z"
   },
   {
    "duration": 16,
    "start_time": "2022-12-09T12:23:18.519Z"
   },
   {
    "duration": 9,
    "start_time": "2022-12-09T12:23:18.537Z"
   },
   {
    "duration": 41,
    "start_time": "2022-12-09T12:23:18.548Z"
   },
   {
    "duration": 3,
    "start_time": "2022-12-09T12:23:18.591Z"
   },
   {
    "duration": 23,
    "start_time": "2022-12-09T12:23:18.596Z"
   },
   {
    "duration": 4,
    "start_time": "2022-12-09T12:23:18.621Z"
   },
   {
    "duration": 8,
    "start_time": "2022-12-09T12:23:18.627Z"
   },
   {
    "duration": 5,
    "start_time": "2022-12-09T12:23:18.637Z"
   },
   {
    "duration": 38,
    "start_time": "2022-12-09T12:23:18.644Z"
   },
   {
    "duration": 35,
    "start_time": "2022-12-09T12:23:18.684Z"
   },
   {
    "duration": 8,
    "start_time": "2022-12-09T12:23:18.721Z"
   },
   {
    "duration": 17,
    "start_time": "2022-12-09T12:23:18.731Z"
   },
   {
    "duration": 22,
    "start_time": "2022-12-09T12:23:18.749Z"
   },
   {
    "duration": 39,
    "start_time": "2022-12-09T12:23:18.774Z"
   },
   {
    "duration": 3,
    "start_time": "2022-12-09T12:23:18.815Z"
   },
   {
    "duration": 18,
    "start_time": "2022-12-09T12:23:18.820Z"
   },
   {
    "duration": 10,
    "start_time": "2022-12-09T12:23:18.839Z"
   },
   {
    "duration": 3,
    "start_time": "2022-12-09T12:23:18.851Z"
   },
   {
    "duration": 12,
    "start_time": "2022-12-09T12:23:18.856Z"
   },
   {
    "duration": 27,
    "start_time": "2022-12-09T12:23:20.552Z"
   },
   {
    "duration": 55,
    "start_time": "2022-12-09T12:23:37.896Z"
   },
   {
    "duration": 28,
    "start_time": "2022-12-09T12:23:43.524Z"
   },
   {
    "duration": 29,
    "start_time": "2022-12-09T12:24:34.935Z"
   },
   {
    "duration": 30,
    "start_time": "2022-12-09T12:24:38.227Z"
   },
   {
    "duration": 24,
    "start_time": "2022-12-09T12:24:43.810Z"
   },
   {
    "duration": 23,
    "start_time": "2022-12-09T12:24:48.775Z"
   },
   {
    "duration": 27,
    "start_time": "2022-12-09T12:25:49.264Z"
   },
   {
    "duration": 22,
    "start_time": "2022-12-09T12:26:10.013Z"
   },
   {
    "duration": 23,
    "start_time": "2022-12-09T12:26:16.641Z"
   },
   {
    "duration": 35,
    "start_time": "2022-12-09T12:26:33.410Z"
   },
   {
    "duration": 23,
    "start_time": "2022-12-09T12:26:39.511Z"
   },
   {
    "duration": 70,
    "start_time": "2022-12-09T12:27:18.004Z"
   },
   {
    "duration": 14,
    "start_time": "2022-12-09T12:27:18.076Z"
   },
   {
    "duration": 22,
    "start_time": "2022-12-09T12:27:18.091Z"
   },
   {
    "duration": 17,
    "start_time": "2022-12-09T12:27:18.114Z"
   },
   {
    "duration": 49,
    "start_time": "2022-12-09T12:27:18.132Z"
   },
   {
    "duration": 4,
    "start_time": "2022-12-09T12:27:18.182Z"
   },
   {
    "duration": 31,
    "start_time": "2022-12-09T12:27:18.187Z"
   },
   {
    "duration": 13,
    "start_time": "2022-12-09T12:27:18.220Z"
   },
   {
    "duration": 32,
    "start_time": "2022-12-09T12:27:18.235Z"
   },
   {
    "duration": 13,
    "start_time": "2022-12-09T12:27:18.270Z"
   },
   {
    "duration": 37,
    "start_time": "2022-12-09T12:27:18.284Z"
   },
   {
    "duration": 10,
    "start_time": "2022-12-09T12:27:18.323Z"
   },
   {
    "duration": 5,
    "start_time": "2022-12-09T12:27:18.335Z"
   },
   {
    "duration": 21,
    "start_time": "2022-12-09T12:27:18.341Z"
   },
   {
    "duration": 31,
    "start_time": "2022-12-09T12:27:18.364Z"
   },
   {
    "duration": 28,
    "start_time": "2022-12-09T12:27:18.397Z"
   },
   {
    "duration": 3,
    "start_time": "2022-12-09T12:27:18.427Z"
   },
   {
    "duration": 14,
    "start_time": "2022-12-09T12:27:18.432Z"
   },
   {
    "duration": 6,
    "start_time": "2022-12-09T12:27:18.448Z"
   },
   {
    "duration": 8,
    "start_time": "2022-12-09T12:27:18.456Z"
   },
   {
    "duration": 14,
    "start_time": "2022-12-09T12:27:18.465Z"
   },
   {
    "duration": 46,
    "start_time": "2022-12-09T12:27:18.481Z"
   },
   {
    "duration": 24,
    "start_time": "2022-12-09T12:27:18.529Z"
   },
   {
    "duration": 16,
    "start_time": "2022-12-09T12:27:18.554Z"
   },
   {
    "duration": 17,
    "start_time": "2022-12-09T12:27:18.572Z"
   },
   {
    "duration": 20,
    "start_time": "2022-12-09T12:27:24.370Z"
   },
   {
    "duration": 90,
    "start_time": "2022-12-09T12:27:30.898Z"
   },
   {
    "duration": 30,
    "start_time": "2022-12-09T12:27:42.828Z"
   },
   {
    "duration": 29,
    "start_time": "2022-12-09T12:27:46.415Z"
   },
   {
    "duration": 76,
    "start_time": "2022-12-09T12:27:50.245Z"
   },
   {
    "duration": 20,
    "start_time": "2022-12-09T12:27:50.324Z"
   },
   {
    "duration": 22,
    "start_time": "2022-12-09T12:27:50.346Z"
   },
   {
    "duration": 25,
    "start_time": "2022-12-09T12:27:50.371Z"
   },
   {
    "duration": 61,
    "start_time": "2022-12-09T12:27:50.398Z"
   },
   {
    "duration": 4,
    "start_time": "2022-12-09T12:27:50.462Z"
   },
   {
    "duration": 32,
    "start_time": "2022-12-09T12:27:50.469Z"
   },
   {
    "duration": 13,
    "start_time": "2022-12-09T12:27:50.502Z"
   },
   {
    "duration": 15,
    "start_time": "2022-12-09T12:27:50.517Z"
   },
   {
    "duration": 20,
    "start_time": "2022-12-09T12:27:50.535Z"
   },
   {
    "duration": 61,
    "start_time": "2022-12-09T12:27:50.557Z"
   },
   {
    "duration": 11,
    "start_time": "2022-12-09T12:27:50.619Z"
   },
   {
    "duration": 27,
    "start_time": "2022-12-09T12:27:50.631Z"
   },
   {
    "duration": 30,
    "start_time": "2022-12-09T12:27:50.660Z"
   },
   {
    "duration": 32,
    "start_time": "2022-12-09T12:27:50.692Z"
   },
   {
    "duration": 23,
    "start_time": "2022-12-09T12:27:50.725Z"
   },
   {
    "duration": 17,
    "start_time": "2022-12-09T12:27:50.749Z"
   },
   {
    "duration": 50,
    "start_time": "2022-12-09T12:27:50.768Z"
   },
   {
    "duration": 19,
    "start_time": "2022-12-09T12:27:50.820Z"
   },
   {
    "duration": 20,
    "start_time": "2022-12-09T12:27:50.840Z"
   },
   {
    "duration": 33,
    "start_time": "2022-12-09T12:27:50.862Z"
   },
   {
    "duration": 39,
    "start_time": "2022-12-09T12:27:50.897Z"
   },
   {
    "duration": 21,
    "start_time": "2022-12-09T12:27:51.649Z"
   },
   {
    "duration": 22,
    "start_time": "2022-12-09T12:27:58.068Z"
   },
   {
    "duration": 27,
    "start_time": "2022-12-09T12:28:00.915Z"
   },
   {
    "duration": 22,
    "start_time": "2022-12-09T12:28:12.194Z"
   },
   {
    "duration": 23,
    "start_time": "2022-12-09T12:28:22.445Z"
   },
   {
    "duration": 22,
    "start_time": "2022-12-09T12:28:32.366Z"
   },
   {
    "duration": 23,
    "start_time": "2022-12-09T12:28:45.506Z"
   },
   {
    "duration": 27,
    "start_time": "2022-12-09T12:28:54.894Z"
   },
   {
    "duration": 113,
    "start_time": "2022-12-09T12:29:04.586Z"
   },
   {
    "duration": 20,
    "start_time": "2022-12-09T12:29:07.541Z"
   },
   {
    "duration": 19,
    "start_time": "2022-12-09T12:29:15.218Z"
   },
   {
    "duration": 18,
    "start_time": "2022-12-09T12:29:28.200Z"
   },
   {
    "duration": 26,
    "start_time": "2022-12-09T12:29:38.568Z"
   },
   {
    "duration": 22,
    "start_time": "2022-12-09T12:29:43.033Z"
   },
   {
    "duration": 19,
    "start_time": "2022-12-09T12:29:47.748Z"
   },
   {
    "duration": 26,
    "start_time": "2022-12-09T12:29:51.469Z"
   },
   {
    "duration": 24,
    "start_time": "2022-12-09T12:30:25.557Z"
   },
   {
    "duration": 28,
    "start_time": "2022-12-09T12:30:41.922Z"
   },
   {
    "duration": 201,
    "start_time": "2022-12-09T12:31:42.889Z"
   },
   {
    "duration": 202,
    "start_time": "2022-12-09T12:31:54.417Z"
   },
   {
    "duration": 195,
    "start_time": "2022-12-09T12:32:09.272Z"
   },
   {
    "duration": 193,
    "start_time": "2022-12-09T12:32:22.984Z"
   },
   {
    "duration": 32,
    "start_time": "2022-12-09T12:32:46.746Z"
   },
   {
    "duration": 22,
    "start_time": "2022-12-09T12:42:44.084Z"
   },
   {
    "duration": 73,
    "start_time": "2022-12-09T12:42:48.400Z"
   },
   {
    "duration": 14,
    "start_time": "2022-12-09T12:42:48.475Z"
   },
   {
    "duration": 25,
    "start_time": "2022-12-09T12:42:48.491Z"
   },
   {
    "duration": 18,
    "start_time": "2022-12-09T12:42:48.519Z"
   },
   {
    "duration": 121,
    "start_time": "2022-12-09T12:42:48.539Z"
   },
   {
    "duration": 3,
    "start_time": "2022-12-09T12:42:48.662Z"
   },
   {
    "duration": 33,
    "start_time": "2022-12-09T12:42:48.667Z"
   },
   {
    "duration": 22,
    "start_time": "2022-12-09T12:42:48.702Z"
   },
   {
    "duration": 21,
    "start_time": "2022-12-09T12:42:48.726Z"
   },
   {
    "duration": 19,
    "start_time": "2022-12-09T12:42:48.750Z"
   },
   {
    "duration": 51,
    "start_time": "2022-12-09T12:42:48.771Z"
   },
   {
    "duration": 10,
    "start_time": "2022-12-09T12:42:48.824Z"
   },
   {
    "duration": 19,
    "start_time": "2022-12-09T12:42:48.835Z"
   },
   {
    "duration": 16,
    "start_time": "2022-12-09T12:42:48.855Z"
   },
   {
    "duration": 24,
    "start_time": "2022-12-09T12:42:48.873Z"
   },
   {
    "duration": 29,
    "start_time": "2022-12-09T12:42:48.899Z"
   },
   {
    "duration": 5,
    "start_time": "2022-12-09T12:42:48.930Z"
   },
   {
    "duration": 17,
    "start_time": "2022-12-09T12:42:48.937Z"
   },
   {
    "duration": 13,
    "start_time": "2022-12-09T12:42:48.956Z"
   },
   {
    "duration": 5,
    "start_time": "2022-12-09T12:42:48.970Z"
   },
   {
    "duration": 12,
    "start_time": "2022-12-09T12:42:48.977Z"
   },
   {
    "duration": 61,
    "start_time": "2022-12-09T12:42:48.991Z"
   },
   {
    "duration": 38,
    "start_time": "2022-12-09T12:42:49.053Z"
   },
   {
    "duration": 27,
    "start_time": "2022-12-09T12:42:50.327Z"
   },
   {
    "duration": 16,
    "start_time": "2022-12-09T12:43:04.084Z"
   },
   {
    "duration": 14,
    "start_time": "2022-12-09T12:43:39.916Z"
   },
   {
    "duration": 15,
    "start_time": "2022-12-09T12:43:47.649Z"
   },
   {
    "duration": 18,
    "start_time": "2022-12-09T12:43:59.511Z"
   },
   {
    "duration": 19,
    "start_time": "2022-12-09T12:44:28.882Z"
   },
   {
    "duration": 19,
    "start_time": "2022-12-09T12:44:36.653Z"
   },
   {
    "duration": 16,
    "start_time": "2022-12-09T12:44:40.666Z"
   },
   {
    "duration": 21,
    "start_time": "2022-12-09T12:44:45.541Z"
   },
   {
    "duration": 14,
    "start_time": "2022-12-09T12:45:22.853Z"
   },
   {
    "duration": 16,
    "start_time": "2022-12-09T12:45:27.608Z"
   },
   {
    "duration": 15,
    "start_time": "2022-12-09T12:45:42.954Z"
   },
   {
    "duration": 55,
    "start_time": "2022-12-09T14:31:23.636Z"
   },
   {
    "duration": 7,
    "start_time": "2022-12-09T14:31:33.500Z"
   },
   {
    "duration": 2122,
    "start_time": "2022-12-09T14:31:37.240Z"
   },
   {
    "duration": 19,
    "start_time": "2022-12-09T14:31:39.364Z"
   },
   {
    "duration": 18,
    "start_time": "2022-12-09T14:31:39.385Z"
   },
   {
    "duration": 27,
    "start_time": "2022-12-09T14:31:39.405Z"
   },
   {
    "duration": 53,
    "start_time": "2022-12-09T14:31:39.434Z"
   },
   {
    "duration": 3,
    "start_time": "2022-12-09T14:31:39.489Z"
   },
   {
    "duration": 41,
    "start_time": "2022-12-09T14:31:39.494Z"
   },
   {
    "duration": 27,
    "start_time": "2022-12-09T14:31:39.537Z"
   },
   {
    "duration": 30,
    "start_time": "2022-12-09T14:31:39.566Z"
   },
   {
    "duration": 20,
    "start_time": "2022-12-09T14:31:39.599Z"
   },
   {
    "duration": 64,
    "start_time": "2022-12-09T14:31:39.620Z"
   },
   {
    "duration": 12,
    "start_time": "2022-12-09T14:31:39.686Z"
   },
   {
    "duration": 24,
    "start_time": "2022-12-09T14:31:39.700Z"
   },
   {
    "duration": 38,
    "start_time": "2022-12-09T14:31:39.726Z"
   },
   {
    "duration": 55,
    "start_time": "2022-12-09T14:31:39.765Z"
   },
   {
    "duration": 19,
    "start_time": "2022-12-09T14:31:39.822Z"
   },
   {
    "duration": 16,
    "start_time": "2022-12-09T14:31:39.843Z"
   },
   {
    "duration": 32,
    "start_time": "2022-12-09T14:31:39.861Z"
   },
   {
    "duration": 10,
    "start_time": "2022-12-09T14:31:39.895Z"
   },
   {
    "duration": 15,
    "start_time": "2022-12-09T14:31:39.907Z"
   },
   {
    "duration": 13,
    "start_time": "2022-12-09T14:31:39.924Z"
   },
   {
    "duration": 83,
    "start_time": "2022-12-09T14:31:39.939Z"
   },
   {
    "duration": 19,
    "start_time": "2022-12-09T14:31:40.024Z"
   },
   {
    "duration": 18,
    "start_time": "2022-12-09T14:31:42.404Z"
   },
   {
    "duration": 43,
    "start_time": "2022-12-09T14:32:51.316Z"
   },
   {
    "duration": 35,
    "start_time": "2022-12-09T14:33:15.532Z"
   },
   {
    "duration": 37,
    "start_time": "2022-12-09T14:34:34.967Z"
   },
   {
    "duration": 77,
    "start_time": "2022-12-09T14:37:19.531Z"
   },
   {
    "duration": 16,
    "start_time": "2022-12-09T14:37:33.212Z"
   },
   {
    "duration": 14,
    "start_time": "2022-12-09T14:37:47.619Z"
   },
   {
    "duration": 19,
    "start_time": "2022-12-09T14:38:06.747Z"
   },
   {
    "duration": 14,
    "start_time": "2022-12-09T14:38:27.443Z"
   },
   {
    "duration": 78,
    "start_time": "2022-12-09T14:38:30.483Z"
   },
   {
    "duration": 15,
    "start_time": "2022-12-09T14:38:30.563Z"
   },
   {
    "duration": 48,
    "start_time": "2022-12-09T14:38:30.580Z"
   },
   {
    "duration": 38,
    "start_time": "2022-12-09T14:38:30.630Z"
   },
   {
    "duration": 69,
    "start_time": "2022-12-09T14:38:30.670Z"
   },
   {
    "duration": 4,
    "start_time": "2022-12-09T14:38:30.741Z"
   },
   {
    "duration": 25,
    "start_time": "2022-12-09T14:38:30.746Z"
   },
   {
    "duration": 13,
    "start_time": "2022-12-09T14:38:30.773Z"
   },
   {
    "duration": 28,
    "start_time": "2022-12-09T14:38:30.788Z"
   },
   {
    "duration": 21,
    "start_time": "2022-12-09T14:38:30.819Z"
   },
   {
    "duration": 54,
    "start_time": "2022-12-09T14:38:30.842Z"
   },
   {
    "duration": 23,
    "start_time": "2022-12-09T14:38:30.897Z"
   },
   {
    "duration": 36,
    "start_time": "2022-12-09T14:38:30.922Z"
   },
   {
    "duration": 25,
    "start_time": "2022-12-09T14:38:30.960Z"
   },
   {
    "duration": 27,
    "start_time": "2022-12-09T14:38:30.988Z"
   },
   {
    "duration": 39,
    "start_time": "2022-12-09T14:38:31.017Z"
   },
   {
    "duration": 13,
    "start_time": "2022-12-09T14:38:31.058Z"
   },
   {
    "duration": 43,
    "start_time": "2022-12-09T14:38:31.073Z"
   },
   {
    "duration": 85,
    "start_time": "2022-12-09T14:38:31.119Z"
   },
   {
    "duration": 17,
    "start_time": "2022-12-09T14:38:31.206Z"
   },
   {
    "duration": 27,
    "start_time": "2022-12-09T14:38:31.225Z"
   },
   {
    "duration": 0,
    "start_time": "2022-12-09T14:38:31.272Z"
   },
   {
    "duration": 22,
    "start_time": "2022-12-09T14:38:32.972Z"
   },
   {
    "duration": 13,
    "start_time": "2022-12-09T14:38:45.100Z"
   },
   {
    "duration": 18,
    "start_time": "2022-12-09T14:39:36.716Z"
   },
   {
    "duration": 14,
    "start_time": "2022-12-09T14:39:43.116Z"
   },
   {
    "duration": 13,
    "start_time": "2022-12-09T14:40:16.963Z"
   },
   {
    "duration": 14,
    "start_time": "2022-12-09T14:41:12.248Z"
   },
   {
    "duration": 12,
    "start_time": "2022-12-09T14:41:15.132Z"
   },
   {
    "duration": 13,
    "start_time": "2022-12-09T14:41:22.830Z"
   },
   {
    "duration": 13,
    "start_time": "2022-12-09T14:41:29.129Z"
   },
   {
    "duration": 17,
    "start_time": "2022-12-09T14:41:55.768Z"
   },
   {
    "duration": 73,
    "start_time": "2022-12-09T14:42:00.324Z"
   },
   {
    "duration": 17,
    "start_time": "2022-12-09T14:42:00.399Z"
   },
   {
    "duration": 35,
    "start_time": "2022-12-09T14:42:00.418Z"
   },
   {
    "duration": 17,
    "start_time": "2022-12-09T14:42:00.455Z"
   },
   {
    "duration": 74,
    "start_time": "2022-12-09T14:42:00.474Z"
   },
   {
    "duration": 3,
    "start_time": "2022-12-09T14:42:00.549Z"
   },
   {
    "duration": 23,
    "start_time": "2022-12-09T14:42:00.554Z"
   },
   {
    "duration": 13,
    "start_time": "2022-12-09T14:42:00.579Z"
   },
   {
    "duration": 21,
    "start_time": "2022-12-09T14:42:00.594Z"
   },
   {
    "duration": 12,
    "start_time": "2022-12-09T14:42:00.617Z"
   },
   {
    "duration": 48,
    "start_time": "2022-12-09T14:42:00.631Z"
   },
   {
    "duration": 10,
    "start_time": "2022-12-09T14:42:00.680Z"
   },
   {
    "duration": 30,
    "start_time": "2022-12-09T14:42:00.693Z"
   },
   {
    "duration": 24,
    "start_time": "2022-12-09T14:42:00.725Z"
   },
   {
    "duration": 32,
    "start_time": "2022-12-09T14:42:00.752Z"
   },
   {
    "duration": 28,
    "start_time": "2022-12-09T14:42:00.786Z"
   },
   {
    "duration": 4,
    "start_time": "2022-12-09T14:42:00.816Z"
   },
   {
    "duration": 32,
    "start_time": "2022-12-09T14:42:00.821Z"
   },
   {
    "duration": 13,
    "start_time": "2022-12-09T14:42:00.855Z"
   },
   {
    "duration": 24,
    "start_time": "2022-12-09T14:42:00.869Z"
   },
   {
    "duration": 31,
    "start_time": "2022-12-09T14:42:00.894Z"
   },
   {
    "duration": 32,
    "start_time": "2022-12-09T14:42:00.927Z"
   },
   {
    "duration": 13,
    "start_time": "2022-12-09T14:42:05.005Z"
   },
   {
    "duration": 14,
    "start_time": "2022-12-09T14:42:12.107Z"
   },
   {
    "duration": 20,
    "start_time": "2022-12-09T14:42:21.374Z"
   },
   {
    "duration": 17,
    "start_time": "2022-12-09T14:42:22.884Z"
   },
   {
    "duration": 38,
    "start_time": "2022-12-09T14:42:29.281Z"
   },
   {
    "duration": 36,
    "start_time": "2022-12-09T14:43:04.067Z"
   },
   {
    "duration": 32,
    "start_time": "2022-12-09T14:43:18.103Z"
   },
   {
    "duration": 34,
    "start_time": "2022-12-09T14:43:26.506Z"
   },
   {
    "duration": 507,
    "start_time": "2022-12-09T14:44:01.380Z"
   },
   {
    "duration": 493,
    "start_time": "2022-12-09T14:44:48.118Z"
   },
   {
    "duration": 470,
    "start_time": "2022-12-09T14:46:09.246Z"
   },
   {
    "duration": 377,
    "start_time": "2022-12-09T14:46:18.442Z"
   },
   {
    "duration": 441,
    "start_time": "2022-12-09T14:46:23.384Z"
   },
   {
    "duration": 506,
    "start_time": "2022-12-09T14:46:28.312Z"
   },
   {
    "duration": 638,
    "start_time": "2022-12-09T14:46:37.450Z"
   },
   {
    "duration": 643,
    "start_time": "2022-12-09T14:46:45.367Z"
   },
   {
    "duration": 540,
    "start_time": "2022-12-09T14:46:49.314Z"
   },
   {
    "duration": 2436,
    "start_time": "2022-12-09T14:47:09.917Z"
   },
   {
    "duration": 618,
    "start_time": "2022-12-09T14:47:25.495Z"
   },
   {
    "duration": 31,
    "start_time": "2022-12-09T14:51:50.217Z"
   },
   {
    "duration": 40,
    "start_time": "2022-12-09T14:52:15.094Z"
   },
   {
    "duration": 38,
    "start_time": "2022-12-09T14:52:47.475Z"
   },
   {
    "duration": 40,
    "start_time": "2022-12-09T14:52:59.683Z"
   },
   {
    "duration": 42,
    "start_time": "2022-12-09T14:53:11.591Z"
   },
   {
    "duration": 39,
    "start_time": "2022-12-09T14:54:19.229Z"
   },
   {
    "duration": 16,
    "start_time": "2022-12-09T15:05:23.762Z"
   },
   {
    "duration": 77,
    "start_time": "2022-12-09T17:44:07.009Z"
   },
   {
    "duration": 51,
    "start_time": "2022-12-10T16:11:07.720Z"
   },
   {
    "duration": 11,
    "start_time": "2022-12-10T16:11:20.504Z"
   },
   {
    "duration": 1477,
    "start_time": "2022-12-10T16:11:23.812Z"
   },
   {
    "duration": 20,
    "start_time": "2022-12-10T16:11:25.291Z"
   },
   {
    "duration": 27,
    "start_time": "2022-12-10T16:11:25.313Z"
   },
   {
    "duration": 12,
    "start_time": "2022-12-10T16:11:25.342Z"
   },
   {
    "duration": 55,
    "start_time": "2022-12-10T16:11:25.356Z"
   },
   {
    "duration": 18,
    "start_time": "2022-12-10T16:11:25.414Z"
   },
   {
    "duration": 28,
    "start_time": "2022-12-10T16:11:25.435Z"
   },
   {
    "duration": 5,
    "start_time": "2022-12-10T16:11:25.466Z"
   },
   {
    "duration": 52,
    "start_time": "2022-12-10T16:11:25.473Z"
   },
   {
    "duration": 29,
    "start_time": "2022-12-10T16:11:25.528Z"
   },
   {
    "duration": 106,
    "start_time": "2022-12-10T16:11:25.561Z"
   },
   {
    "duration": 18,
    "start_time": "2022-12-10T16:11:25.670Z"
   },
   {
    "duration": 33,
    "start_time": "2022-12-10T16:11:25.690Z"
   },
   {
    "duration": 38,
    "start_time": "2022-12-10T16:11:25.725Z"
   },
   {
    "duration": 39,
    "start_time": "2022-12-10T16:11:25.766Z"
   },
   {
    "duration": 19,
    "start_time": "2022-12-10T16:11:25.808Z"
   },
   {
    "duration": 68,
    "start_time": "2022-12-10T16:11:25.829Z"
   },
   {
    "duration": 86,
    "start_time": "2022-12-10T16:11:25.899Z"
   },
   {
    "duration": 51,
    "start_time": "2022-12-10T16:11:25.987Z"
   },
   {
    "duration": 33,
    "start_time": "2022-12-10T16:11:26.040Z"
   },
   {
    "duration": 27,
    "start_time": "2022-12-10T16:11:26.075Z"
   },
   {
    "duration": 24,
    "start_time": "2022-12-10T16:11:26.410Z"
   },
   {
    "duration": 35,
    "start_time": "2022-12-10T16:11:38.441Z"
   },
   {
    "duration": 87,
    "start_time": "2022-12-10T16:20:41.946Z"
   },
   {
    "duration": 24,
    "start_time": "2022-12-10T16:21:09.210Z"
   },
   {
    "duration": 18,
    "start_time": "2022-12-10T16:50:55.655Z"
   },
   {
    "duration": 11,
    "start_time": "2022-12-10T16:51:29.487Z"
   },
   {
    "duration": 14,
    "start_time": "2022-12-10T16:51:32.797Z"
   },
   {
    "duration": 17,
    "start_time": "2022-12-10T16:51:53.280Z"
   },
   {
    "duration": 14,
    "start_time": "2022-12-10T16:52:16.409Z"
   },
   {
    "duration": 19,
    "start_time": "2022-12-10T17:14:13.057Z"
   },
   {
    "duration": 18,
    "start_time": "2022-12-10T17:14:28.017Z"
   },
   {
    "duration": 20,
    "start_time": "2022-12-10T17:15:44.444Z"
   },
   {
    "duration": 15,
    "start_time": "2022-12-10T17:29:21.302Z"
   },
   {
    "duration": 15,
    "start_time": "2022-12-10T17:29:28.937Z"
   },
   {
    "duration": 14,
    "start_time": "2022-12-10T17:29:37.535Z"
   },
   {
    "duration": 16,
    "start_time": "2022-12-10T17:29:46.116Z"
   },
   {
    "duration": 1404,
    "start_time": "2022-12-11T09:18:08.459Z"
   },
   {
    "duration": 20,
    "start_time": "2022-12-11T09:18:09.866Z"
   },
   {
    "duration": 14,
    "start_time": "2022-12-11T09:18:09.888Z"
   },
   {
    "duration": 9,
    "start_time": "2022-12-11T09:18:09.904Z"
   },
   {
    "duration": 40,
    "start_time": "2022-12-11T09:18:09.915Z"
   },
   {
    "duration": 4,
    "start_time": "2022-12-11T09:18:09.956Z"
   },
   {
    "duration": 23,
    "start_time": "2022-12-11T09:18:09.961Z"
   },
   {
    "duration": 23,
    "start_time": "2022-12-11T09:18:09.985Z"
   },
   {
    "duration": 23,
    "start_time": "2022-12-11T09:18:10.010Z"
   },
   {
    "duration": 29,
    "start_time": "2022-12-11T09:18:10.035Z"
   },
   {
    "duration": 54,
    "start_time": "2022-12-11T09:18:10.066Z"
   },
   {
    "duration": 9,
    "start_time": "2022-12-11T09:18:10.122Z"
   },
   {
    "duration": 20,
    "start_time": "2022-12-11T09:18:10.132Z"
   },
   {
    "duration": 33,
    "start_time": "2022-12-11T09:18:10.155Z"
   },
   {
    "duration": 33,
    "start_time": "2022-12-11T09:18:10.190Z"
   },
   {
    "duration": 29,
    "start_time": "2022-12-11T09:18:10.225Z"
   },
   {
    "duration": 7,
    "start_time": "2022-12-11T09:18:10.256Z"
   },
   {
    "duration": 32,
    "start_time": "2022-12-11T09:18:10.265Z"
   },
   {
    "duration": 29,
    "start_time": "2022-12-11T09:18:10.298Z"
   },
   {
    "duration": 19,
    "start_time": "2022-12-11T09:18:10.329Z"
   },
   {
    "duration": 37,
    "start_time": "2022-12-11T09:18:10.351Z"
   },
   {
    "duration": 85,
    "start_time": "2022-12-11T09:18:10.390Z"
   },
   {
    "duration": 18,
    "start_time": "2022-12-11T09:18:10.477Z"
   },
   {
    "duration": 39,
    "start_time": "2022-12-11T09:18:10.497Z"
   },
   {
    "duration": 15,
    "start_time": "2022-12-11T09:18:10.538Z"
   },
   {
    "duration": 190,
    "start_time": "2022-12-11T09:18:10.554Z"
   },
   {
    "duration": 14,
    "start_time": "2022-12-11T09:18:10.745Z"
   },
   {
    "duration": 13,
    "start_time": "2022-12-11T09:19:13.548Z"
   },
   {
    "duration": 173,
    "start_time": "2022-12-11T09:21:54.704Z"
   },
   {
    "duration": 117,
    "start_time": "2022-12-11T09:24:23.901Z"
   },
   {
    "duration": 97,
    "start_time": "2022-12-11T09:25:58.907Z"
   },
   {
    "duration": 113,
    "start_time": "2022-12-11T09:26:15.011Z"
   },
   {
    "duration": 113,
    "start_time": "2022-12-11T09:26:47.530Z"
   },
   {
    "duration": 137,
    "start_time": "2022-12-11T09:27:03.622Z"
   },
   {
    "duration": 117,
    "start_time": "2022-12-11T09:27:14.015Z"
   },
   {
    "duration": 48,
    "start_time": "2022-12-11T12:11:21.426Z"
   },
   {
    "duration": 109,
    "start_time": "2022-12-11T12:11:54.892Z"
   },
   {
    "duration": 7,
    "start_time": "2022-12-11T12:11:56.386Z"
   },
   {
    "duration": 7,
    "start_time": "2022-12-11T12:12:28.629Z"
   },
   {
    "duration": 7,
    "start_time": "2022-12-11T12:12:46.805Z"
   },
   {
    "duration": 1456,
    "start_time": "2022-12-11T12:13:07.201Z"
   },
   {
    "duration": 20,
    "start_time": "2022-12-11T12:13:08.659Z"
   },
   {
    "duration": 17,
    "start_time": "2022-12-11T12:13:08.680Z"
   },
   {
    "duration": 9,
    "start_time": "2022-12-11T12:13:08.699Z"
   },
   {
    "duration": 43,
    "start_time": "2022-12-11T12:13:08.710Z"
   },
   {
    "duration": 3,
    "start_time": "2022-12-11T12:13:08.755Z"
   },
   {
    "duration": 23,
    "start_time": "2022-12-11T12:13:08.760Z"
   },
   {
    "duration": 4,
    "start_time": "2022-12-11T12:13:08.785Z"
   },
   {
    "duration": 9,
    "start_time": "2022-12-11T12:13:08.790Z"
   },
   {
    "duration": 4,
    "start_time": "2022-12-11T12:13:08.801Z"
   },
   {
    "duration": 34,
    "start_time": "2022-12-11T12:13:08.822Z"
   },
   {
    "duration": 13,
    "start_time": "2022-12-11T12:13:08.859Z"
   },
   {
    "duration": 4,
    "start_time": "2022-12-11T12:13:08.873Z"
   },
   {
    "duration": 14,
    "start_time": "2022-12-11T12:13:08.879Z"
   },
   {
    "duration": 42,
    "start_time": "2022-12-11T12:13:08.895Z"
   },
   {
    "duration": 16,
    "start_time": "2022-12-11T12:13:08.938Z"
   },
   {
    "duration": 4,
    "start_time": "2022-12-11T12:13:08.956Z"
   },
   {
    "duration": 14,
    "start_time": "2022-12-11T12:13:08.961Z"
   },
   {
    "duration": 6,
    "start_time": "2022-12-11T12:13:08.976Z"
   },
   {
    "duration": 4,
    "start_time": "2022-12-11T12:13:08.983Z"
   },
   {
    "duration": 38,
    "start_time": "2022-12-11T12:13:08.988Z"
   },
   {
    "duration": 62,
    "start_time": "2022-12-11T12:13:09.028Z"
   },
   {
    "duration": 69,
    "start_time": "2022-12-11T12:13:09.545Z"
   },
   {
    "duration": 13,
    "start_time": "2022-12-11T12:13:14.754Z"
   },
   {
    "duration": 254,
    "start_time": "2022-12-11T12:14:37.457Z"
   },
   {
    "duration": 237,
    "start_time": "2022-12-11T12:15:51.399Z"
   },
   {
    "duration": 300,
    "start_time": "2022-12-11T12:16:06.102Z"
   },
   {
    "duration": 243,
    "start_time": "2022-12-11T12:16:10.819Z"
   },
   {
    "duration": 238,
    "start_time": "2022-12-11T12:16:19.242Z"
   },
   {
    "duration": 245,
    "start_time": "2022-12-11T12:17:38.718Z"
   },
   {
    "duration": 226,
    "start_time": "2022-12-11T12:18:05.872Z"
   },
   {
    "duration": 314,
    "start_time": "2022-12-11T12:18:17.640Z"
   },
   {
    "duration": 214,
    "start_time": "2022-12-11T12:19:17.530Z"
   },
   {
    "duration": 214,
    "start_time": "2022-12-11T12:20:33.701Z"
   },
   {
    "duration": 215,
    "start_time": "2022-12-11T12:20:44.552Z"
   },
   {
    "duration": 221,
    "start_time": "2022-12-11T12:20:49.850Z"
   },
   {
    "duration": 237,
    "start_time": "2022-12-11T12:22:21.615Z"
   },
   {
    "duration": 233,
    "start_time": "2022-12-11T12:22:28.515Z"
   },
   {
    "duration": 216,
    "start_time": "2022-12-11T12:22:38.567Z"
   },
   {
    "duration": 239,
    "start_time": "2022-12-11T12:22:40.595Z"
   },
   {
    "duration": 240,
    "start_time": "2022-12-11T12:22:45.660Z"
   },
   {
    "duration": 254,
    "start_time": "2022-12-11T12:25:01.324Z"
   },
   {
    "duration": 332,
    "start_time": "2022-12-11T12:25:17.725Z"
   },
   {
    "duration": 237,
    "start_time": "2022-12-11T12:26:02.366Z"
   },
   {
    "duration": 242,
    "start_time": "2022-12-11T12:26:14.373Z"
   },
   {
    "duration": 24,
    "start_time": "2022-12-11T12:30:01.753Z"
   },
   {
    "duration": 14,
    "start_time": "2022-12-11T12:30:14.692Z"
   },
   {
    "duration": 13,
    "start_time": "2022-12-11T12:31:11.999Z"
   },
   {
    "duration": 15,
    "start_time": "2022-12-11T12:31:29.768Z"
   },
   {
    "duration": 126,
    "start_time": "2022-12-11T12:31:58.083Z"
   },
   {
    "duration": 128,
    "start_time": "2022-12-11T12:32:53.302Z"
   },
   {
    "duration": 10,
    "start_time": "2022-12-11T12:33:07.833Z"
   },
   {
    "duration": 139,
    "start_time": "2022-12-11T12:33:17.273Z"
   },
   {
    "duration": 13,
    "start_time": "2022-12-11T12:33:30.886Z"
   },
   {
    "duration": 120,
    "start_time": "2022-12-11T12:33:40.267Z"
   },
   {
    "duration": 198,
    "start_time": "2022-12-11T12:34:40.437Z"
   },
   {
    "duration": 120,
    "start_time": "2022-12-11T12:34:53.272Z"
   },
   {
    "duration": 142,
    "start_time": "2022-12-11T12:34:59.040Z"
   },
   {
    "duration": 14,
    "start_time": "2022-12-11T12:35:34.818Z"
   },
   {
    "duration": 208,
    "start_time": "2022-12-11T12:35:49.409Z"
   },
   {
    "duration": 323,
    "start_time": "2022-12-11T12:36:02.064Z"
   },
   {
    "duration": 9,
    "start_time": "2022-12-11T12:37:48.629Z"
   },
   {
    "duration": 143,
    "start_time": "2022-12-11T12:38:12.911Z"
   },
   {
    "duration": 115,
    "start_time": "2022-12-11T12:38:18.373Z"
   },
   {
    "duration": 129,
    "start_time": "2022-12-11T12:38:24.807Z"
   },
   {
    "duration": 264,
    "start_time": "2022-12-11T12:41:51.899Z"
   },
   {
    "duration": 14,
    "start_time": "2022-12-11T12:48:46.534Z"
   },
   {
    "duration": 150,
    "start_time": "2022-12-11T12:48:51.232Z"
   },
   {
    "duration": 132,
    "start_time": "2022-12-11T12:50:22.668Z"
   },
   {
    "duration": 131,
    "start_time": "2022-12-11T12:50:35.182Z"
   },
   {
    "duration": 36,
    "start_time": "2022-12-11T12:50:39.137Z"
   },
   {
    "duration": 149,
    "start_time": "2022-12-11T12:51:50.437Z"
   },
   {
    "duration": 163,
    "start_time": "2022-12-11T12:51:57.508Z"
   },
   {
    "duration": 138,
    "start_time": "2022-12-11T12:52:06.693Z"
   },
   {
    "duration": 244,
    "start_time": "2022-12-11T12:52:11.944Z"
   },
   {
    "duration": 144,
    "start_time": "2022-12-11T12:52:19.953Z"
   },
   {
    "duration": 165,
    "start_time": "2022-12-11T12:52:40.686Z"
   },
   {
    "duration": 124,
    "start_time": "2022-12-11T12:54:04.969Z"
   },
   {
    "duration": 124,
    "start_time": "2022-12-11T12:54:13.889Z"
   },
   {
    "duration": 125,
    "start_time": "2022-12-11T12:54:21.958Z"
   },
   {
    "duration": 133,
    "start_time": "2022-12-11T12:55:40.365Z"
   },
   {
    "duration": 129,
    "start_time": "2022-12-11T12:55:48.885Z"
   },
   {
    "duration": 127,
    "start_time": "2022-12-11T12:57:02.080Z"
   },
   {
    "duration": 134,
    "start_time": "2022-12-11T12:57:28.304Z"
   },
   {
    "duration": 155,
    "start_time": "2022-12-11T12:57:50.477Z"
   },
   {
    "duration": 128,
    "start_time": "2022-12-11T12:58:02.295Z"
   },
   {
    "duration": 152,
    "start_time": "2022-12-11T12:59:01.249Z"
   }
  ],
  "colab": {
   "name": "dpp_template_part2.ipynb",
   "provenance": []
  },
  "kernelspec": {
   "display_name": "Python 3 (ipykernel)",
   "language": "python",
   "name": "python3"
  },
  "language_info": {
   "codemirror_mode": {
    "name": "ipython",
    "version": 3
   },
   "file_extension": ".py",
   "mimetype": "text/x-python",
   "name": "python",
   "nbconvert_exporter": "python",
   "pygments_lexer": "ipython3",
   "version": "3.9.5"
  },
  "toc": {
   "base_numbering": 1,
   "nav_menu": {},
   "number_sections": true,
   "sideBar": true,
   "skip_h1_title": true,
   "title_cell": "Table of Contents",
   "title_sidebar": "Contents",
   "toc_cell": false,
   "toc_position": {},
   "toc_section_display": true,
   "toc_window_display": false
  }
 },
 "nbformat": 4,
 "nbformat_minor": 5
}
